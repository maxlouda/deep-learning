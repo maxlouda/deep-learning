{
 "cells": [
  {
   "cell_type": "markdown",
   "id": "045d845c",
   "metadata": {},
   "source": [
    "# Lab 3\n",
    "\n",
    "**Lecture**: Deep Learning (Prof. Dr. David Rügamer, Emanuel Sommer)\n",
    "\n",
    "## Imports"
   ]
  },
  {
   "cell_type": "code",
   "execution_count": 1,
   "id": "2d53d8c2",
   "metadata": {
    "execution": {
     "iopub.execute_input": "2024-04-16T11:02:42.567641Z",
     "iopub.status.busy": "2024-04-16T11:02:42.567340Z",
     "iopub.status.idle": "2024-04-16T11:02:43.326932Z",
     "shell.execute_reply": "2024-04-16T11:02:43.326238Z"
    },
    "pycharm": {
     "name": "#%%\n"
    }
   },
   "outputs": [],
   "source": [
    "from typing import Any\n",
    "\n",
    "import torch\n",
    "from torch.autograd import Function\n",
    "from torch import Tensor\n",
    "\n",
    "import matplotlib.pyplot as plt\n",
    "from  matplotlib_inline.backend_inline import set_matplotlib_formats\n",
    "set_matplotlib_formats('png', 'pdf')"
   ]
  },
  {
   "cell_type": "markdown",
   "id": "2871c182",
   "metadata": {
    "pycharm": {
     "name": "#%% md\n"
    }
   },
   "source": [
    "Welcome to the third lab. The first exercise is an implementation of gradient descent\n",
    "on a bivariate function. The second exercise is about computing derivatives of the\n",
    "weights of a neural network, and the third exercise combines the previous two.\n",
    "\n",
    "## Exercise 1\n",
    "This exercise is about gradient descent. We will use the function\n",
    "$f(x_1, x_2)=(x_1-6)^2+x_2^2-x_1x_2$ as a running example:\n",
    "\n",
    " 1. Use pen and paper to do three iterations of gradient descent:\n",
    "     - Find the gradient of $f$;\n",
    "     - Start from the point $x_1=x_2=6$ and use a step size of $1/2$ for the first step,\n",
    "    $1/3$ for the second step and $1/4$ for the third step;\n",
    "     - What will happen if you keep going?\n",
    " 2. Write a function that performs gradient descent:\n",
    "     - For simplicity, we use a constant learning rate.\n",
    "     - Can you find a way to prematurely stop the optimization when you are close to the\n",
    "    optimum?"
   ]
  },
  {
   "cell_type": "code",
   "execution_count": 2,
   "id": "f938a6a9",
   "metadata": {
    "execution": {
     "iopub.execute_input": "2024-04-16T11:02:43.328849Z",
     "iopub.status.busy": "2024-04-16T11:02:43.328685Z",
     "iopub.status.idle": "2024-04-16T11:02:43.333626Z",
     "shell.execute_reply": "2024-04-16T11:02:43.333148Z"
    },
    "pycharm": {
     "name": "#%%\n"
    }
   },
   "outputs": [],
   "source": [
    "# Note: Defining a custom autograd function is not a necessity for this small task,\n",
    "# but it is a good place to showcase some capabilities of PyTorch.\n",
    "\n",
    "class MyFunction(Function):\n",
    "    @staticmethod\n",
    "    def forward(ctx: Any, x: Tensor) -> Tensor:\n",
    "        # The \"ctx\" object serves to stash information for the backward pass\n",
    "        ctx.save_for_backward(x)\n",
    "        func_value = (x[0] - 6)**2 + x[1]**2 - x[0]*x[1]\n",
    "        return func_value\n",
    "\n",
    "    @staticmethod\n",
    "    def backward(ctx: Any, grad_output: Tensor):\n",
    "        # The \"grad_output\" parameter is the backpropagated gradient from subsequent\n",
    "        # operations w.r.t. to the output of this function.\n",
    "        x = ctx.saved_tensors[0]\n",
    "\n",
    "        grad_x = torch.tensor([2*(x[0] - 6) - x[1], 2*x[1] - x[0]])\n",
    "        return grad_output * grad_x"
   ]
  },
  {
   "cell_type": "code",
   "execution_count": 3,
   "id": "c425224b",
   "metadata": {
    "execution": {
     "iopub.execute_input": "2024-04-16T11:02:43.334969Z",
     "iopub.status.busy": "2024-04-16T11:02:43.334865Z",
     "iopub.status.idle": "2024-04-16T11:02:43.368986Z",
     "shell.execute_reply": "2024-04-16T11:02:43.368169Z"
    },
    "pycharm": {
     "name": "#%%\n"
    }
   },
   "outputs": [
    {
     "name": "stdout",
     "output_type": "stream",
     "text": [
      "Function output: 0.0\n",
      "Gradients: tensor([-6.,  6.])\n"
     ]
    }
   ],
   "source": [
    "\n",
    "func = MyFunction()\n",
    "# The \"required_grad\" argument needs to be True.\n",
    "# Otherwise no gradients will be computed.\n",
    "x = torch.tensor([6., 6.], requires_grad=True)\n",
    "\n",
    "# Custom functions are applied over the \"apply\" method.\n",
    "y = func.apply(x)\n",
    "print('Function output: {}'.format(y))\n",
    "\n",
    "# Gradients for every operation in this chain are computed\n",
    "# by calling the \"backward\" method on the output tensor.\n",
    "y.backward()\n",
    "\n",
    "# The x tensor now has a grad attribute with the gradients.\n",
    "print('Gradients: {}'.format(x.grad))\n",
    "\n",
    "# Note: No usage of auto differentiation was done in this example."
   ]
  },
  {
   "cell_type": "markdown",
   "id": "82b4e43b",
   "metadata": {
    "pycharm": {
     "name": "#%% md\n"
    }
   },
   "source": [
    "Does it match what you computed?\n",
    "\n",
    "In the next step we define a small gradient descent optimizer."
   ]
  },
  {
   "cell_type": "code",
   "execution_count": 4,
   "id": "90224b0c",
   "metadata": {
    "execution": {
     "iopub.execute_input": "2024-04-16T11:02:43.371390Z",
     "iopub.status.busy": "2024-04-16T11:02:43.371198Z",
     "iopub.status.idle": "2024-04-16T11:02:43.376715Z",
     "shell.execute_reply": "2024-04-16T11:02:43.376218Z"
    },
    "pycharm": {
     "name": "#%%\n"
    }
   },
   "outputs": [],
   "source": [
    "\n",
    "class GradientDescentOptimizer:\n",
    "    def __init__(self,\n",
    "                 func: Function,\n",
    "                 max_steps: int,\n",
    "                 alpha: float):\n",
    "        \"\"\"\n",
    "        Init an Optimizer for performing GD.\n",
    "\n",
    "        :param func: Function to apply.\n",
    "        :param max_steps: Maximum number of GD steps.\n",
    "        :param alpha: Learning Rate.\n",
    "        \"\"\"\n",
    "        self.func = func\n",
    "        self.max_steps = max_steps\n",
    "        self.alpha = alpha\n",
    "\n",
    "    def __call__(self, x: Tensor) -> Tensor:\n",
    "        \"\"\"\n",
    "        Apply GD on a tensor.\n",
    "\n",
    "        :param x: Input tensor.\n",
    "        \"\"\"\n",
    "        # Usually you would apply the gradients inplace on the input tensor,\n",
    "        # but for the sake of the example we keep the input tensor consistent and\n",
    "        # work on a copy.\n",
    "        x_cp = x.detach().clone()\n",
    "        x_cp.requires_grad = True\n",
    "\n",
    "        for step in range(self.max_steps):\n",
    "            y = self.func.apply(x_cp)\n",
    "            y.backward()\n",
    "            with torch.no_grad():\n",
    "                x_cp.data -= self.alpha * x_cp.grad\n",
    "                x_cp.grad.zero_()\n",
    "\n",
    "# TODO use a for loop to do gradient descent.\n",
    "# HINT When applying gradients you will need an \"torch.no_grad()\" context\n",
    "# manager. To modify the content of the tensor you will need its \".data\"\n",
    "# attribute. Don't forget to erase the gradients after each iteration or\n",
    "# or they will accumulate.\n",
    "        return x_cp\n",
    "    "
   ]
  },
  {
   "cell_type": "code",
   "execution_count": 5,
   "id": "4453a7af",
   "metadata": {
    "execution": {
     "iopub.execute_input": "2024-04-16T11:02:43.378652Z",
     "iopub.status.busy": "2024-04-16T11:02:43.378446Z",
     "iopub.status.idle": "2024-04-16T11:02:43.383292Z",
     "shell.execute_reply": "2024-04-16T11:02:43.382781Z"
    },
    "pycharm": {
     "name": "#%%\n"
    }
   },
   "outputs": [
    {
     "name": "stdout",
     "output_type": "stream",
     "text": [
      "tensor([8.0000, 4.0000], requires_grad=True)\n"
     ]
    }
   ],
   "source": [
    "x = torch.tensor([6., 6.], requires_grad=True)\n",
    "gd_optimizer = GradientDescentOptimizer(func=MyFunction(), max_steps=100, alpha=0.15)\n",
    "x_new = gd_optimizer(x)\n",
    "print(x_new)"
   ]
  },
  {
   "cell_type": "markdown",
   "id": "36f6de01",
   "metadata": {
    "pycharm": {
     "name": "#%% md\n"
    }
   },
   "source": [
    "Play a bit with the starting point and learning rate to get a feel for its behavior.\n",
    "How close can you get to the minimum?\n",
    "\n",
    "\n",
    "## Exercise 2\n",
    "\n",
    "This exercise is about computing gradients with the chain rule, with pen and paper.\n",
    "We will work with a neural network with a single hidden layer with two neurons and an\n",
    "output layer with one neuron.\n",
    "\n",
    "<!-- #region pycharm={\"name\": \"#%% md\\n\"} -->\n",
    "![Neural network used in Exercise 2](../utils/03-lab-nn.png)"
   ]
  },
  {
   "cell_type": "markdown",
   "id": "a8d77b03",
   "metadata": {
    "pycharm": {
     "name": "#%% md\n"
    }
   },
   "source": [
    "The neurons in the hidden layer use the $\\tanh$ activation, while the output neuron uses\n",
    "the sigmoid. The loss used in binary classification is the _binary cross-entropy_:\n",
    "\n",
    "$$\n",
    "\\mathcal{L}(y, f_{out})=-y\\log f_{out}-(1-y)\\log(1-f_{out})\n",
    "$$\n",
    "\n",
    "where $y\\in\\{0,1\\}$ is the true label and $f_{out}\\in(0,1)$ is the predicted probability that $y=1$.\n",
    "\n",
    " 1. Compute $\\partial\\mathcal{L}(y, f_{out})/\\partial f_{out}$\n",
    " 2. Compute $\\partial f_{out}/\\partial f_{in}$\n",
    " 3. Show that $\\partial\\sigma(x)/\\partial x=\\sigma(x)(1-\\sigma(x))$\n",
    " 4. Show that $\\partial\\tanh(x)/\\partial x=1-\\tanh(x)^2$ (Hint: $\\tanh(x)=(e^x-e^{-x})(e^x+e^{-x})^{-1}$)\n",
    " 5. Compute $\\partial f_{in}/\\partial c$\n",
    " 6. Compute $\\partial f_{in}/\\partial u_1$\n",
    " 7. Compute $\\partial\\mathcal{L}(y,  f_{out})/\\partial c$\n",
    " 8. Compute $\\partial\\mathcal{L}(y,  f_{out})/\\partial u_1$\n",
    " 9. Compute $\\partial f_{in}/\\partial z_{2,out}$\n",
    " 10. Compute $\\partial z_{2,out}/\\partial z_{2,in}$\n",
    " 11. Compute $\\partial z_{2,in}/\\partial b_2$\n",
    " 12. Compute $\\partial z_{2,in}/\\partial w_{12}$\n",
    " 13. Compute $\\partial z_{2,in}/\\partial x_1$\n",
    " 14. Compute $\\partial\\mathcal{L}(y,  f_{out})/\\partial b_2$\n",
    " 15. Compute $\\partial\\mathcal{L}(y,  f_{out})/\\partial w_{12}$\n",
    " 16. Compute $\\partial\\mathcal{L}(y,  f_{out})/\\partial x_1$\n",
    "\n",
    "You will notice that there are lots of redundancies. We will see how to improve these\n",
    "computations in the lecture and in the next lab. Luckily, modern deep learning software\n",
    " computes gradients automatically for you.\n",
    "\n",
    "\n",
    "\n",
    "## Exercise 3\n",
    "\n",
    "Now that we know how to do gradient descent and how to compute the derivatives of the\n",
    "weights of a simple network, we can try to do these steps together and train our first\n",
    "neural network! We will use the small dataset with five points we studied in the first\n",
    "lab.\n",
    "\n",
    "First, let's define the dataset:"
   ]
  },
  {
   "cell_type": "code",
   "execution_count": 6,
   "id": "279e0902",
   "metadata": {
    "execution": {
     "iopub.execute_input": "2024-04-16T11:02:43.385621Z",
     "iopub.status.busy": "2024-04-16T11:02:43.385210Z",
     "iopub.status.idle": "2024-04-16T11:02:43.389632Z",
     "shell.execute_reply": "2024-04-16T11:02:43.388938Z"
    },
    "pycharm": {
     "name": "#%%\n"
    }
   },
   "outputs": [],
   "source": [
    "x = torch.tensor([\n",
    "    [0, 0],\n",
    "    [1, 0],\n",
    "    [0, -1],\n",
    "    [-1, 0],\n",
    "    [0, 1]\n",
    "], dtype=torch.float)\n",
    "y = torch.tensor([1, 0, 0, 0, 0])"
   ]
  },
  {
   "cell_type": "markdown",
   "id": "79588542",
   "metadata": {
    "pycharm": {
     "name": "#%% md\n"
    }
   },
   "source": [
    "Next, a function to compute the output of the network:"
   ]
  },
  {
   "cell_type": "code",
   "execution_count": 27,
   "id": "a53d1095",
   "metadata": {
    "execution": {
     "iopub.execute_input": "2024-04-16T11:02:43.392383Z",
     "iopub.status.busy": "2024-04-16T11:02:43.392156Z",
     "iopub.status.idle": "2024-04-16T11:02:43.397826Z",
     "shell.execute_reply": "2024-04-16T11:02:43.397308Z"
    },
    "pycharm": {
     "name": "#%%\n"
    }
   },
   "outputs": [
    {
     "name": "stdout",
     "output_type": "stream",
     "text": [
      "tensor([0.1888, 0.5278, 0.1719, 0.0887, 0.2052])\n"
     ]
    }
   ],
   "source": [
    "\n",
    "def sigmoid(x: Tensor) -> Tensor:\n",
    "    return 1 / (1 + torch.exp(-x))\n",
    "\n",
    "def predict(x: Tensor, b1: float, b2: float,\n",
    "            w11: float, w12: float, w21: float, w22: float,\n",
    "            c: float, u1: float, u2:float) -> Tensor:\n",
    "    return sigmoid(u1 * torch.tanh(w11*x[:, 0] + w21 * x[:, 1] + b1) + u2 * torch.tanh(w12 * x[:, 0] + w22 * x[:, 1] + b2) + c)\n",
    "\n",
    "# This should return the predictions for the five points in the datasets\n",
    "# We can unpack the param vector for the positional params of the function so that we don't\n",
    "# need to enter every single entry.\n",
    "params = torch.randn(9)\n",
    "predictions = predict(x, *params)\n",
    "print(predictions)"
   ]
  },
  {
   "cell_type": "markdown",
   "id": "1a30ac09",
   "metadata": {
    "pycharm": {
     "name": "#%% md\n"
    }
   },
   "source": [
    "Since gradient descent is done on the loss function, we need a function to compute it:"
   ]
  },
  {
   "cell_type": "code",
   "execution_count": 28,
   "id": "f0e8d511",
   "metadata": {
    "execution": {
     "iopub.execute_input": "2024-04-16T11:02:43.399792Z",
     "iopub.status.busy": "2024-04-16T11:02:43.399652Z",
     "iopub.status.idle": "2024-04-16T11:02:43.404016Z",
     "shell.execute_reply": "2024-04-16T11:02:43.403622Z"
    },
    "pycharm": {
     "name": "#%%\n"
    }
   },
   "outputs": [
    {
     "name": "stdout",
     "output_type": "stream",
     "text": [
      "tensor(0.5857)\n"
     ]
    }
   ],
   "source": [
    "\n",
    "def get_loss(target: Tensor, pred: Tensor) -> Tensor:\n",
    "    return torch.mean(-target * torch.log(pred) - (1-target) * torch.log(1 - pred))\n",
    "loss = get_loss(y, predictions)\n",
    "print(loss)"
   ]
  },
  {
   "cell_type": "markdown",
   "id": "acdc58fb",
   "metadata": {
    "pycharm": {
     "name": "#%% md\n"
    }
   },
   "source": [
    "Now, we need to compute the gradient of each parameter:"
   ]
  },
  {
   "cell_type": "code",
   "execution_count": 29,
   "id": "08782d2a",
   "metadata": {
    "execution": {
     "iopub.execute_input": "2024-04-16T11:02:43.405431Z",
     "iopub.status.busy": "2024-04-16T11:02:43.405320Z",
     "iopub.status.idle": "2024-04-16T11:02:43.409128Z",
     "shell.execute_reply": "2024-04-16T11:02:43.408711Z"
    },
    "pycharm": {
     "name": "#%%\n"
    }
   },
   "outputs": [
    {
     "name": "stdout",
     "output_type": "stream",
     "text": [
      "tensor([-0.1744,  0.1355, -0.0576,  0.0255,  0.0338, -0.0105,  0.1577,  0.0240,\n",
      "         0.0394])\n"
     ]
    }
   ],
   "source": [
    "\n",
    "def get_gradients(\n",
    "        x: Tensor, target: Tensor,\n",
    "        b1: float, b2: float,\n",
    "        w11: float, w12: float, w21: float, w22: float,\n",
    "        c: float, u1: float, u2:float\n",
    "    ) -> Tensor:\n",
    "    # First, we perform the forward pass.\n",
    "    z1in = b1 + x[:, 0] * w11 + x[:, 1] * w21\n",
    "    z1out = torch.tanh(z1in)\n",
    "\n",
    "    z2in = b2 + x[:, 0] * w12 + x[:, 1] * w22\n",
    "    z2out = torch.tanh(z2in)\n",
    "\n",
    "    fin = c + u1 * z1out + u2 * z2out\n",
    "    fout = sigmoid(fin)\n",
    "\n",
    "    dL_du2 = torch.mean(fout*(1-fout)*z2out)\n",
    "    dL_du1 = torch.mean(fout*(1-fout)*z1out)\n",
    "    dL_dc = torch.mean(fout*(1-fout))\n",
    "    dL_dw22 = torch.mean(fout*(1-fout)*u2*(1-z2out**2)*x[:, 1])\n",
    "    dL_dw21 = torch.mean(fout*(1-fout)*u2*(1-z2out**2)*x[:, 0])\n",
    "    dL_dw12 = torch.mean(fout*(1-fout)*u1*(1-z1out**2)*x[:, 1])\n",
    "    dL_dw11 = torch.mean(fout*(1-fout)*u1*(1-z1out**2)*x[:, 0])\n",
    "    dL_db2 = torch.mean(fout*(1-fout)*u2*(1-z2out**2))\n",
    "    dL_db1 = torch.mean(fout*(1-fout)*u1*(1-z1out**2))\n",
    "\n",
    "    # Return the derivatives in the same order as the parameters vector\n",
    "    return torch.stack([\n",
    "        dL_db1, dL_db2, dL_dw11, dL_dw12, dL_dw21, dL_dw22, dL_dc, dL_du1, dL_du2  \n",
    "    ])\n",
    "\n",
    "print(get_gradients(x, y, *params))"
   ]
  },
  {
   "cell_type": "markdown",
   "id": "f1567332",
   "metadata": {
    "pycharm": {
     "name": "#%% md\n"
    }
   },
   "source": [
    "Finite differences are a useful way to check that the gradients are computed correctly:"
   ]
  },
  {
   "cell_type": "code",
   "execution_count": 30,
   "id": "6b7d754e",
   "metadata": {
    "execution": {
     "iopub.execute_input": "2024-04-16T11:02:43.410681Z",
     "iopub.status.busy": "2024-04-16T11:02:43.410479Z",
     "iopub.status.idle": "2024-04-16T11:02:43.414428Z",
     "shell.execute_reply": "2024-04-16T11:02:43.414060Z"
    },
    "pycharm": {
     "name": "#%%\n"
    }
   },
   "outputs": [
    {
     "name": "stdout",
     "output_type": "stream",
     "text": [
      "Gradients are correct!\n"
     ]
    }
   ],
   "source": [
    "\n",
    "# First, compute the analytical gradient of the parameters.\n",
    "gradient = get_gradients(x, y, *params)\n",
    "eps = 1e-9\n",
    "for i in range(9):\n",
    "    # Compute loss when subtracting eps to parameter i.\n",
    "    neg_params = params.clone()\n",
    "    neg_params[i] = neg_params[i] - eps\n",
    "    neg_value = get_loss(y, predict(x, *neg_params))\n",
    "\n",
    "    # Compute loss when adding eps to parameter i.\n",
    "    pos_params = params.clone()\n",
    "    pos_params[i] = pos_params[i] + eps\n",
    "    pos_value = get_loss(y, predict(x, *pos_params))\n",
    "\n",
    "    # Compute the \"empirical\" gradient of parameter i\n",
    "    fdiff_gradient = torch.mean((pos_value - neg_value) / (2 * eps))\n",
    "\n",
    "    # Error if difference is too large\n",
    "    if torch.abs(gradient[i] - fdiff_gradient) < 1e-5:\n",
    "        raise ValueError('Gradients are probably wrong!')\n",
    "\n",
    "print(\"Gradients are correct!\")"
   ]
  },
  {
   "cell_type": "markdown",
   "id": "4422784a",
   "metadata": {
    "pycharm": {
     "name": "#%% md\n"
    }
   },
   "source": [
    "We can finally train our network. Since the network is so small compared to the dataset,\n",
    " the training procedure is very sensitive to the way the weights are initialized and\n",
    " the step size used in gradient descent.\n",
    "\n",
    "Try to play around with the learning rate and the random initialization of the weights\n",
    "and find reliable values that make training successful in most cases."
   ]
  },
  {
   "cell_type": "code",
   "execution_count": 46,
   "id": "0473f582",
   "metadata": {
    "execution": {
     "iopub.execute_input": "2024-04-16T11:02:43.415810Z",
     "iopub.status.busy": "2024-04-16T11:02:43.415675Z",
     "iopub.status.idle": "2024-04-16T11:02:43.419627Z",
     "shell.execute_reply": "2024-04-16T11:02:43.419256Z"
    },
    "pycharm": {
     "name": "#%%\n"
    }
   },
   "outputs": [
    {
     "name": "stdout",
     "output_type": "stream",
     "text": [
      "RUN 1 \t LOSS 0.9993\n",
      "RUN 2 \t LOSS 0.9342\n",
      "RUN 3 \t LOSS 0.9160\n",
      "RUN 4 \t LOSS 0.9711\n",
      "RUN 5 \t LOSS 0.9919\n",
      "RUN 6 \t LOSS 0.9794\n",
      "RUN 7 \t LOSS 0.9376\n",
      "RUN 8 \t LOSS 0.9149\n",
      "RUN 9 \t LOSS 0.9689\n",
      "RUN 10 \t LOSS 1.0704\n"
     ]
    }
   ],
   "source": [
    "\n",
    "min_loss = 10\n",
    "alpha = 0.5\n",
    "steps = 100\n",
    "best_params = None\n",
    "\n",
    "for i in range(10):\n",
    "    params = torch.randn(9) * 0.5\n",
    "\n",
    "    # Do GD\n",
    "    for _ in range(steps):\n",
    "        gradients = get_gradients(x, y, *params)\n",
    "        params -= alpha * gradients\n",
    "\n",
    "    final_loss = get_loss(y, predict(x, *params))\n",
    "    print('RUN {} \\t LOSS {:.4f}'.format(i + 1, float(final_loss)))\n",
    "\n",
    "    if final_loss < min_loss:\n",
    "        best_params = params\n",
    "        min_loss = final_loss"
   ]
  },
  {
   "cell_type": "markdown",
   "id": "945911db",
   "metadata": {
    "pycharm": {
     "name": "#%% md\n"
    }
   },
   "source": [
    "We can use the function in the previous lab to visualize the decision boundary of\n",
    "the best network:"
   ]
  },
  {
   "cell_type": "code",
   "execution_count": 40,
   "id": "33c7ea00",
   "metadata": {
    "execution": {
     "iopub.execute_input": "2024-04-16T11:02:43.421096Z",
     "iopub.status.busy": "2024-04-16T11:02:43.420989Z",
     "iopub.status.idle": "2024-04-16T11:02:43.424772Z",
     "shell.execute_reply": "2024-04-16T11:02:43.424407Z"
    },
    "pycharm": {
     "name": "#%%\n"
    }
   },
   "outputs": [],
   "source": [
    "\n",
    "def plot_decision_boundary(\n",
    "        x: Tensor, y: Tensor, grid_x: Tensor, grid_y, pred: Tensor) -> None:\n",
    "    \"\"\"Plot the estimated decision boundary for a 2D grid with predictions.\"\"\"\n",
    "    plt.contourf(grid_x, grid_y, pred.view(grid_x.shape))\n",
    "    plt.scatter(x[:, 0], x[:, 1], c=y, cmap='jet')\n",
    "    plt.show()"
   ]
  },
  {
   "cell_type": "code",
   "execution_count": 41,
   "id": "041ad48a",
   "metadata": {
    "execution": {
     "iopub.execute_input": "2024-04-16T11:02:43.426408Z",
     "iopub.status.busy": "2024-04-16T11:02:43.426204Z",
     "iopub.status.idle": "2024-04-16T11:02:43.430139Z",
     "shell.execute_reply": "2024-04-16T11:02:43.429792Z"
    },
    "pycharm": {
     "name": "#%%\n"
    }
   },
   "outputs": [
    {
     "data": {
      "application/pdf": "[encoded data removed]",
      "image/png": "[encoded data removed]",
      "text/plain": [
       "<Figure size 640x480 with 1 Axes>"
      ]
     },
     "metadata": {},
     "output_type": "display_data"
    }
   ],
   "source": [
    "grid_range = torch.linspace(-2, 2, 50)\n",
    "grid_x, grid_y = torch.meshgrid(grid_range, grid_range, indexing='ij')\n",
    "grid_data = torch.stack([grid_x.flatten(), grid_y.flatten()]).T\n",
    "pred = predict(grid_data, *best_params)\n",
    "\n",
    "plot_decision_boundary(x, y, grid_x, grid_y, pred)"
   ]
  },
  {
   "cell_type": "markdown",
   "id": "2be7a254",
   "metadata": {
    "pycharm": {
     "name": "#%% md\n"
    }
   },
   "source": [
    "Also try to visualize the decision boundary of network with random parameters:"
   ]
  },
  {
   "cell_type": "code",
   "execution_count": 42,
   "id": "be72c112",
   "metadata": {
    "execution": {
     "iopub.execute_input": "2024-04-16T11:02:43.431815Z",
     "iopub.status.busy": "2024-04-16T11:02:43.431509Z",
     "iopub.status.idle": "2024-04-16T11:02:43.435251Z",
     "shell.execute_reply": "2024-04-16T11:02:43.434939Z"
    },
    "pycharm": {
     "name": "#%%\n"
    }
   },
   "outputs": [
    {
     "data": {
      "application/pdf": "[encoded data removed]",
      "image/png": "[encoded data removed]",
      "text/plain": [
       "<Figure size 640x480 with 1 Axes>"
      ]
     },
     "metadata": {},
     "output_type": "display_data"
    }
   ],
   "source": [
    "pred = predict(grid_data, *torch.randn(9))\n",
    "plot_decision_boundary(x, y, grid_x, grid_y, pred)"
   ]
  }
 ],
 "metadata": {
  "kernelspec": {
   "display_name": "Python 3",
   "language": "python",
   "name": "python3"
  },
  "language_info": {
   "codemirror_mode": {
    "name": "ipython",
    "version": 3
   },
   "file_extension": ".py",
   "mimetype": "text/x-python",
   "name": "python",
   "nbconvert_exporter": "python",
   "pygments_lexer": "ipython3",
   "version": "3.10.12"
  }
 },
 "nbformat": 4,
 "nbformat_minor": 5
}
