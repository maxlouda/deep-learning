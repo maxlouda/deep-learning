{
 "cells": [
  {
   "cell_type": "markdown",
   "id": "80b81453",
   "metadata": {
    "pycharm": {
     "name": "#%% md\n"
    }
   },
   "source": [
    "# Lab 10\n",
    "\n",
    "**Lecture**: Deep Learning (Prof. Dr. David Rügamer, Emanuel Sommer)\n",
    "\n",
    "## Imports"
   ]
  },
  {
   "cell_type": "code",
   "execution_count": 1,
   "id": "52f6f101",
   "metadata": {
    "execution": {
     "iopub.execute_input": "2024-06-11T11:38:12.411586Z",
     "iopub.status.busy": "2024-06-11T11:38:12.411071Z",
     "iopub.status.idle": "2024-06-11T11:38:15.289982Z",
     "shell.execute_reply": "2024-06-11T11:38:15.289200Z"
    },
    "pycharm": {
     "name": "#%%\n"
    }
   },
   "outputs": [
    {
     "name": "stderr",
     "output_type": "stream",
     "text": [
      "2024-06-11 13:38:13.774828: I tensorflow/core/util/port.cc:113] oneDNN custom operations are on. You may see slightly different numerical results due to floating-point round-off errors from different computation orders. To turn them off, set the environment variable `TF_ENABLE_ONEDNN_OPTS=0`.\n",
      "2024-06-11 13:38:13.810738: I tensorflow/core/platform/cpu_feature_guard.cc:210] This TensorFlow binary is optimized to use available CPU instructions in performance-critical operations.\n",
      "To enable the following instructions: AVX2 AVX_VNNI FMA, in other operations, rebuild TensorFlow with the appropriate compiler flags.\n"
     ]
    },
    {
     "name": "stderr",
     "output_type": "stream",
     "text": [
      "2024-06-11 13:38:14.389423: W tensorflow/compiler/tf2tensorrt/utils/py_utils.cc:38] TF-TRT Warning: Could not find TensorRT\n"
     ]
    }
   ],
   "source": [
    "import string\n",
    "from collections import Counter\n",
    "from math import ceil\n",
    "from typing import List, Optional, Tuple, Dict\n",
    "import random\n",
    "\n",
    "import matplotlib.pyplot as plt\n",
    "import torch\n",
    "from matplotlib_inline.backend_inline import set_matplotlib_formats\n",
    "from torch import nn, Tensor\n",
    "from torch.nn.utils.rnn import pad_sequence\n",
    "from torch.optim import Adam, Optimizer\n",
    "from torch.utils.data import DataLoader, Dataset\n",
    "from keras.datasets import imdb\n",
    "from torchvision.datasets import MNIST\n",
    "from torchvision.utils import make_grid\n",
    "\n",
    "set_matplotlib_formats('png', 'pdf')"
   ]
  },
  {
   "cell_type": "markdown",
   "id": "419fb362",
   "metadata": {
    "pycharm": {
     "name": "#%% md\n"
    }
   },
   "source": [
    "## Exercise 1\n",
    "\n",
    "In this exercise, we are going to revise the sentiment classifier for IMDB reviews we\n",
    "developed in a previous lab. Earlier, we encoded each review as a single \"bag-of-words\"\n",
    "vector which had one element for each word in our dictionary set to one if that word was\n",
    "found in the review, zero otherwise. This allowed us to use a simple fully-connected\n",
    "neural network but, on the flip side, we lost all information contained in the ordering\n",
    "and of the words and possible multiple repetitions. Recurrent neural networks, however,\n",
    "are able to process reviews directly. Let's see how!\n",
    "\n",
    "The first step is to load the data and preprocess it like it in exercise 6, so if you\n",
    "still remember what we did there, feel free to skip this part.\n",
    "For brevity, we only use the 10000 most common words\n",
    "and truncate reviews to 250 words, but if you can use a GPU then feel free to\n",
    "use the full length reviews and all words!"
   ]
  },
  {
   "cell_type": "code",
   "execution_count": 2,
   "id": "9b77d181",
   "metadata": {
    "execution": {
     "iopub.execute_input": "2024-06-11T11:38:15.292703Z",
     "iopub.status.busy": "2024-06-11T11:38:15.292139Z",
     "iopub.status.idle": "2024-06-11T11:38:17.257577Z",
     "shell.execute_reply": "2024-06-11T11:38:17.256575Z"
    },
    "pycharm": {
     "name": "#%%\n"
    }
   },
   "outputs": [],
   "source": [
    "(train_x, train_y), (test_x, test_y) = imdb.load_data(num_words=10000)\n",
    "train_x = [train_x[i] for i in range(len(train_x))]\n",
    "train_y = [train_y[i] for i in range(len(train_y))]\n",
    "test_x = [test_x[i] for i in range(len(test_x))]\n",
    "test_y = [test_y[i] for i in range(len(test_y))]\n",
    "\n",
    "word2enc = imdb.get_word_index()\n",
    "enc2word = {v: k for k, v in word2enc.items()}"
   ]
  },
  {
   "cell_type": "code",
   "execution_count": 3,
   "id": "735f6812",
   "metadata": {
    "execution": {
     "iopub.execute_input": "2024-06-11T11:38:17.260023Z",
     "iopub.status.busy": "2024-06-11T11:38:17.259785Z",
     "iopub.status.idle": "2024-06-11T11:38:17.263799Z",
     "shell.execute_reply": "2024-06-11T11:38:17.263281Z"
    }
   },
   "outputs": [
    {
     "name": "stdout",
     "output_type": "stream",
     "text": [
      "Sentiment: Negative\n",
      "Review:\n",
      "of br can didn't but her to question al that but imagination cut that while her grim go to mega all to its it horrors this than elephant to that values lifestyle years party movie that rating victoria party collection br brought touches i to to to that him do to for in otherwise death treat this recommend to say to this song br got making be it amazon didn't this they far context leave then br got film lot this scene on br personal i why not she will winning before upside to it only try not than to in even br only politically going more living her to question that some makes range you had it to to i takes crazy much to than to was was in on this imagination u br to powerful its i at corridors line it's industrial but that it triumph characters imagination sort horrible at recognized two these will an watch horrible br silly an film thoughts actor he br pearl its an director dark this recognized even an watch after she he drug to br can blunt prostitute but that to that br imdb mark filled like movie to\n"
     ]
    }
   ],
   "source": [
    "test_id = random.randint(0, len(train_x) - 1)\n",
    "print(f\"Sentiment: {'Positive' if train_y[test_id] == 1 else 'Negative'}\")\n",
    "print(\"Review:\")\n",
    "print(\" \".join([enc2word[enc+3] for enc in train_x[test_id]]))"
   ]
  },
  {
   "cell_type": "code",
   "execution_count": 4,
   "id": "beb8c8e1",
   "metadata": {
    "execution": {
     "iopub.execute_input": "2024-06-11T11:38:17.265763Z",
     "iopub.status.busy": "2024-06-11T11:38:17.265553Z",
     "iopub.status.idle": "2024-06-11T11:38:17.975652Z",
     "shell.execute_reply": "2024-06-11T11:38:17.974662Z"
    },
    "pycharm": {
     "name": "#%%\n"
    }
   },
   "outputs": [],
   "source": [
    "# Discard words that are not in the top 10000\n",
    "# Truncate sequences to a length of 250\n",
    "# Remove Nones\n",
    "\n",
    "def filter_word_ranks(\n",
    "        word_list: List[Optional[int]],\n",
    "        max_rank: int = 10000,\n",
    "        max_seq_len: int = 250\n",
    ") -> List[int]:\n",
    "    output = []\n",
    "    seq_len = 0\n",
    "    for word_rank in word_list:\n",
    "        if seq_len >= max_seq_len:\n",
    "            return output\n",
    "        elif word_rank is None:\n",
    "            continue\n",
    "        elif word_rank <= max_rank:\n",
    "            output.append(word_rank)\n",
    "            seq_len += 1\n",
    "    return output\n",
    "\n",
    "\n",
    "train_x = [filter_word_ranks(word_list) for word_list in train_x]\n",
    "test_x = [filter_word_ranks(word_list) for word_list in test_x]"
   ]
  },
  {
   "cell_type": "markdown",
   "id": "0d5e16f1",
   "metadata": {
    "pycharm": {
     "name": "#%% md\n"
    }
   },
   "source": [
    "Now, each review is a list of numbers, each corresponding to a different word:"
   ]
  },
  {
   "cell_type": "code",
   "execution_count": 5,
   "id": "fbf8f064",
   "metadata": {
    "execution": {
     "iopub.execute_input": "2024-06-11T11:38:17.977703Z",
     "iopub.status.busy": "2024-06-11T11:38:17.977575Z",
     "iopub.status.idle": "2024-06-11T11:38:17.980040Z",
     "shell.execute_reply": "2024-06-11T11:38:17.979624Z"
    },
    "pycharm": {
     "name": "#%%\n"
    }
   },
   "outputs": [
    {
     "name": "stdout",
     "output_type": "stream",
     "text": [
      "[1, 14, 22, 16, 43, 530, 973, 1622, 1385, 65, 458, 4468, 66, 3941, 4, 173, 36, 256, 5, 25, 100, 43, 838, 112, 50, 670, 2, 9, 35, 480, 284, 5, 150, 4, 172, 112, 167, 2, 336, 385, 39, 4, 172, 4536, 1111, 17, 546, 38, 13, 447, 4, 192, 50, 16, 6, 147, 2025, 19, 14, 22, 4, 1920, 4613, 469, 4, 22, 71, 87, 12, 16, 43, 530, 38, 76, 15, 13, 1247, 4, 22, 17, 515, 17, 12, 16, 626, 18, 2, 5, 62, 386, 12, 8, 316, 8, 106, 5, 4, 2223, 5244, 16, 480, 66, 3785, 33, 4, 130, 12, 16, 38, 619, 5, 25, 124, 51, 36, 135, 48, 25, 1415, 33, 6, 22, 12, 215, 28, 77, 52, 5, 14, 407, 16, 82, 2, 8, 4, 107, 117, 5952, 15, 256, 4, 2, 7, 3766, 5, 723, 36, 71, 43, 530, 476, 26, 400, 317, 46, 7, 4, 2, 1029, 13, 104, 88, 4, 381, 15, 297, 98, 32, 2071, 56, 26, 141, 6, 194, 7486, 18, 4, 226, 22, 21, 134, 476, 26, 480, 5, 144, 30, 5535, 18, 51, 36, 28, 224, 92, 25, 104, 4, 226, 65, 16, 38, 1334, 88, 12, 16, 283, 5, 16, 4472, 113, 103, 32, 15, 16, 5345, 19, 178, 32]\n"
     ]
    }
   ],
   "source": [
    "print(train_x[0])"
   ]
  },
  {
   "cell_type": "markdown",
   "id": "fc69e5bf",
   "metadata": {
    "pycharm": {
     "name": "#%% md\n"
    }
   },
   "source": [
    "Even though RNNs can process sequences of arbitrary length, all sequences in the same\n",
    "batch must be of the same length, while sequences in different batches can have different\n",
    "length. In this case, however, we pad all sequences to the same length as this makes for\n",
    "much simpler code.\n",
    "PyTorch provides a function to do so for you called `pad_sequence` (read the documentation!).\n",
    "Hint: It might be good to set the argument `batch_first` to `True.\n",
    "Beforehand, we need to convert the data to tensors. Let's also define our device and push\n",
    "the newly created padded tensor to it."
   ]
  },
  {
   "cell_type": "code",
   "execution_count": 6,
   "id": "0d16896b",
   "metadata": {
    "execution": {
     "iopub.execute_input": "2024-06-11T11:38:17.982059Z",
     "iopub.status.busy": "2024-06-11T11:38:17.981870Z",
     "iopub.status.idle": "2024-06-11T11:38:18.617122Z",
     "shell.execute_reply": "2024-06-11T11:38:18.616347Z"
    },
    "pycharm": {
     "name": "#%%\n"
    }
   },
   "outputs": [],
   "source": [
    "device = (\n",
    "    torch.device('cuda' if torch.cuda.is_available() else 'cpu')\n",
    ")\n",
    "\n",
    "train_x = [torch.tensor(word_list, dtype=torch.int) for word_list in train_x]\n",
    "test_x = [torch.tensor(word_list, dtype=torch.int) for word_list in test_x]\n",
    "\n",
    "train_x = (\n",
    "    pad_sequence(train_x, batch_first=True).to(device)\n",
    ")\n",
    "\n",
    "test_x = (\n",
    "    pad_sequence(test_x, batch_first=True).to(device)\n",
    ")\n",
    "\n",
    "train_y = torch.tensor(train_y, dtype=torch.float, device=device)\n",
    "test_y = torch.tensor(test_y, dtype=torch.float, device=device)"
   ]
  },
  {
   "cell_type": "code",
   "execution_count": 7,
   "id": "3f25931c",
   "metadata": {
    "execution": {
     "iopub.execute_input": "2024-06-11T11:38:18.619168Z",
     "iopub.status.busy": "2024-06-11T11:38:18.618986Z",
     "iopub.status.idle": "2024-06-11T11:38:18.621666Z",
     "shell.execute_reply": "2024-06-11T11:38:18.621208Z"
    },
    "pycharm": {
     "name": "#%%\n"
    }
   },
   "outputs": [
    {
     "name": "stdout",
     "output_type": "stream",
     "text": [
      "torch.Size([25000, 250])\n"
     ]
    }
   ],
   "source": [
    "print(train_x.shape)"
   ]
  },
  {
   "cell_type": "markdown",
   "id": "90287882",
   "metadata": {
    "pycharm": {
     "name": "#%% md\n"
    }
   },
   "source": [
    "The data is now an array of shape `(num_samples x seq_len)`.\n",
    "A PyTorch RNN with `batch_first=True` option expects the input to be of shape\n",
    "`(num_samples x seq_len x features)`. Although we have a univariate timeseries, we still\n",
    "need to add this additional last dimension."
   ]
  },
  {
   "cell_type": "code",
   "execution_count": 8,
   "id": "cfb226af",
   "metadata": {
    "execution": {
     "iopub.execute_input": "2024-06-11T11:38:18.623601Z",
     "iopub.status.busy": "2024-06-11T11:38:18.623284Z",
     "iopub.status.idle": "2024-06-11T11:38:18.626080Z",
     "shell.execute_reply": "2024-06-11T11:38:18.625641Z"
    },
    "pycharm": {
     "name": "#%%\n"
    }
   },
   "outputs": [],
   "source": [
    "train_x = (\n",
    "    train_x.unsqueeze(-1)\n",
    ")\n",
    "\n",
    "test_x = (\n",
    "    test_x.unsqueeze(-1)\n",
    ")"
   ]
  },
  {
   "cell_type": "markdown",
   "id": "0e1fc77c",
   "metadata": {
    "pycharm": {
     "name": "#%% md\n"
    }
   },
   "source": [
    "Finally let's create our `IMDBDataset` object:"
   ]
  },
  {
   "cell_type": "code",
   "execution_count": 9,
   "id": "7fc3a17c",
   "metadata": {
    "execution": {
     "iopub.execute_input": "2024-06-11T11:38:18.628535Z",
     "iopub.status.busy": "2024-06-11T11:38:18.628093Z",
     "iopub.status.idle": "2024-06-11T11:38:18.631941Z",
     "shell.execute_reply": "2024-06-11T11:38:18.631505Z"
    },
    "pycharm": {
     "name": "#%%\n"
    }
   },
   "outputs": [],
   "source": [
    "\n",
    "class IMDBDataset(Dataset):\n",
    "    def __init__(self, data: Tensor, labels: Tensor):\n",
    "        self.data = data\n",
    "        self.labels = labels\n",
    "\n",
    "    @property\n",
    "    def shape(self) -> Tuple:\n",
    "        return self.data.shape\n",
    "\n",
    "    def __len__(self) -> int:\n",
    "        return len(self.labels)\n",
    "\n",
    "    def __getitem__(self, idx: int) -> Tuple[Tensor, Tensor]:\n",
    "        return self.data[idx], self.labels[idx]"
   ]
  },
  {
   "cell_type": "markdown",
   "id": "896d72f3",
   "metadata": {
    "pycharm": {
     "name": "#%% md\n"
    }
   },
   "source": [
    "Next, we define our sequential model. The first layer is an _Embedding_ layer that\n",
    "associates a vector of numbers to each word in the vocabulary. These numbers are updated\n",
    "during training just like all other weights in the network. Crucially, thanks to this\n",
    "embedding layer we do not have to one-hot-encode the reviews but we can use the word\n",
    "indices directly, making the process much more efficient.\n",
    "\n",
    "Note the parameter `padding_idx`: this indicates that zeros in the input sequences are\n",
    "used for padding (verify that this is the case!). Internally, this is used by the RNN to\n",
    "ignore padding tokens, preventing them from contributing to the gradients (read more in\n",
    "the user guide, [link](https://pytorch.org/docs/stable/generated/torch.nn.Embedding.html/)!)\n",
    "\n",
    "We also make use of a `nn.Module` container, where we will define our model. This\n",
    "gives us more flexibility in the flow of the network. Here we add the model blocks\n",
    "as class attributes and define a forward pass, which is enough for the autograd engine.\n",
    "\n",
    "The shapes and dimensions of tensors can now be a bit tricky. It helps if you print\n",
    "the resulting shape of each transformation to console and investigate what happened!"
   ]
  },
  {
   "cell_type": "code",
   "execution_count": 10,
   "id": "3fb6b833",
   "metadata": {
    "execution": {
     "iopub.execute_input": "2024-06-11T11:38:18.634077Z",
     "iopub.status.busy": "2024-06-11T11:38:18.633715Z",
     "iopub.status.idle": "2024-06-11T11:38:18.638412Z",
     "shell.execute_reply": "2024-06-11T11:38:18.637959Z"
    },
    "pycharm": {
     "name": "#%%\n"
    }
   },
   "outputs": [],
   "source": [
    "class LSTMModel(nn.Module):\n",
    "    def __init__(self):\n",
    "        # A class that inherits from nn.Module needs to call the constructor from the\n",
    "        # parent class\n",
    "        super().__init__()\n",
    "\n",
    "        self.embedding = nn.Embedding(\n",
    "            num_embeddings=10001,\n",
    "            embedding_dim=64,\n",
    "            padding_idx=0\n",
    "        )\n",
    "        self.lstm = nn.LSTM(\n",
    "            input_size=64,\n",
    "            hidden_size=32,\n",
    "            num_layers=2,\n",
    "            batch_first=True\n",
    "        )\n",
    "\n",
    "        self.fc = nn.Linear(in_features=32, out_features=1)\n",
    "        self.sigmoid = nn.Sigmoid()\n",
    "\n",
    "    def forward(self, x: Tensor) -> Tensor:\n",
    "        # The output needs to be reshaped or otherwise we have a dimension too much.\n",
    "        x = self.embedding(x).squeeze(2)\n",
    "\n",
    "        # The LSTM module gives a variety of outputs. Please refer to the official\n",
    "        # docs for a detailed description. Here `hidden` contains the final hidden states\n",
    "        # from the last layer for every sample in the batch.\n",
    "        _, (hidden, _) = self.lstm(x)\n",
    "\n",
    "        # We need to extract the last hidden state\n",
    "        y_score = self.fc(hidden[-1])\n",
    "        y_hat = self.sigmoid(y_score).squeeze(-1)\n",
    "        return y_hat"
   ]
  },
  {
   "cell_type": "markdown",
   "id": "43c417dc",
   "metadata": {
    "pycharm": {
     "name": "#%% md\n"
    }
   },
   "source": [
    "In the next step, we once again need our beloved training loop."
   ]
  },
  {
   "cell_type": "code",
   "execution_count": 11,
   "id": "4dd3b953",
   "metadata": {
    "execution": {
     "iopub.execute_input": "2024-06-11T11:38:18.640474Z",
     "iopub.status.busy": "2024-06-11T11:38:18.640206Z",
     "iopub.status.idle": "2024-06-11T11:38:18.647554Z",
     "shell.execute_reply": "2024-06-11T11:38:18.646903Z"
    },
    "pycharm": {
     "name": "#%%\n"
    }
   },
   "outputs": [],
   "source": [
    "\n",
    "def train(\n",
    "        model: nn.Module,\n",
    "        loss: nn.Module,\n",
    "        optimizer: Optimizer,\n",
    "        train_dataset: Dataset,\n",
    "        test_dataset: Dataset,\n",
    "        epochs: int,\n",
    "        batch_size: int\n",
    ") -> Dict:\n",
    "    metrics: Dict = {\n",
    "        'train_loss': [],\n",
    "        'train_acc': [],\n",
    "        'test_loss': [],\n",
    "        'test_acc': [],\n",
    "    }\n",
    "\n",
    "    num_train_batches = ceil(len(train_dataset) / batch_size)\n",
    "    num_test_batches = ceil(len(test_dataset) / batch_size)\n",
    "\n",
    "    train_loader = DataLoader(train_dataset, batch_size, shuffle=True)\n",
    "    test_loader = DataLoader(test_dataset, batch_size)\n",
    "\n",
    "    for ep in range(1, epochs + 1):\n",
    "        total_loss = 0\n",
    "        num_correct = 0\n",
    "\n",
    "        ################################################################################\n",
    "        # TRAINING LOOP\n",
    "        ################################################################################\n",
    "\n",
    "        for batch_idx, (x, y) in enumerate(train_loader):\n",
    "\n",
    "            y_hat = model(x)\n",
    "            batch_loss = loss(y_hat, y)\n",
    "\n",
    "            optimizer.zero_grad()\n",
    "            batch_loss.backward()\n",
    "            optimizer.step()\n",
    "\n",
    "            if batch_idx % 10 == 0:\n",
    "                print('TRAINING BATCH:\\t({:5} / {:5})\\tLOSS:\\t{:.3f}'\n",
    "                      .format(batch_idx, num_train_batches, float(batch_loss)),\n",
    "                      end='\\r')\n",
    "\n",
    "            total_loss += float(batch_loss)\n",
    "            num_correct += int(torch.sum(torch.where(y_hat > 0.5, 1, 0) == y))\n",
    "\n",
    "        ep_train_loss = total_loss / len(train_dataset)\n",
    "        ep_train_acc = num_correct / len(train_dataset)\n",
    "\n",
    "        total_loss = 0\n",
    "        num_correct = 0\n",
    "\n",
    "        ################################################################################\n",
    "        # TEST LOOP\n",
    "        ################################################################################\n",
    "\n",
    "        for batch_idx, (x, y) in enumerate(test_loader):\n",
    "            with torch.no_grad(): \n",
    "                y_hat = model(x)\n",
    "                batch_loss = loss(y_hat, y)\n",
    "\n",
    "            if batch_idx % 50 == 0:\n",
    "                print('TEST BATCH:\\t({:5} / {:5})\\tLOSS:\\t{:.3f}'\n",
    "                      .format(batch_idx, num_test_batches, float(batch_loss)), end='\\r')\n",
    "\n",
    "            total_loss += float(batch_loss)\n",
    "            num_correct += int(torch.sum(torch.where(y_hat > 0.5, 1, 0) == y))\n",
    "\n",
    "        ep_test_loss = total_loss / len(test_dataset)\n",
    "        ep_test_acc = num_correct / len(test_dataset)\n",
    "\n",
    "        metrics['train_loss'].append(ep_train_loss)\n",
    "        metrics['train_acc'].append(ep_train_acc)\n",
    "        metrics['test_loss'].append(ep_test_loss)\n",
    "        metrics['test_acc'].append(ep_test_acc)\n",
    "\n",
    "        print('EPOCH:\\t{:5}\\tTRAIN LOSS:\\t{:.3f}\\tTRAIN ACCURACY:\\t{:.3f}\\tTEST LOSS:\\t'\n",
    "              '{:.3f}\\tTEST ACCURACY:\\t{:.3f}'\n",
    "              .format(ep, ep_train_loss, ep_train_acc, ep_test_loss, ep_test_acc))\n",
    "    return metrics"
   ]
  },
  {
   "cell_type": "markdown",
   "id": "2c915e2c",
   "metadata": {
    "pycharm": {
     "name": "#%% md\n"
    }
   },
   "source": [
    "We declare model, optimizer, datasets, loss, epochs, batch size and then start training!"
   ]
  },
  {
   "cell_type": "code",
   "execution_count": 12,
   "id": "23120c10",
   "metadata": {
    "execution": {
     "iopub.execute_input": "2024-06-11T11:38:18.649189Z",
     "iopub.status.busy": "2024-06-11T11:38:18.649074Z",
     "iopub.status.idle": "2024-06-11T11:51:36.412933Z",
     "shell.execute_reply": "2024-06-11T11:51:36.412146Z"
    },
    "pycharm": {
     "name": "#%%\n"
    }
   },
   "outputs": [
    {
     "name": "stdout",
     "output_type": "stream",
     "text": [
      "TRAINING BATCH:\t(    0 /   782)\tLOSS:\t0.690\r"
     ]
    },
    {
     "name": "stdout",
     "output_type": "stream",
     "text": [
      "TRAINING BATCH:\t(   10 /   782)\tLOSS:\t0.684\r"
     ]
    },
    {
     "name": "stdout",
     "output_type": "stream",
     "text": [
      "TRAINING BATCH:\t(   20 /   782)\tLOSS:\t0.687\r"
     ]
    },
    {
     "name": "stdout",
     "output_type": "stream",
     "text": [
      "TRAINING BATCH:\t(   30 /   782)\tLOSS:\t0.693\r"
     ]
    },
    {
     "name": "stdout",
     "output_type": "stream",
     "text": [
      "TRAINING BATCH:\t(   40 /   782)\tLOSS:\t0.691\r"
     ]
    },
    {
     "name": "stdout",
     "output_type": "stream",
     "text": [
      "TRAINING BATCH:\t(   50 /   782)\tLOSS:\t0.695\r"
     ]
    },
    {
     "name": "stdout",
     "output_type": "stream",
     "text": [
      "TRAINING BATCH:\t(   60 /   782)\tLOSS:\t0.704\r"
     ]
    },
    {
     "name": "stdout",
     "output_type": "stream",
     "text": [
      "TRAINING BATCH:\t(   70 /   782)\tLOSS:\t0.694\r"
     ]
    },
    {
     "name": "stdout",
     "output_type": "stream",
     "text": [
      "TRAINING BATCH:\t(   80 /   782)\tLOSS:\t0.702\r"
     ]
    },
    {
     "name": "stdout",
     "output_type": "stream",
     "text": [
      "TRAINING BATCH:\t(   90 /   782)\tLOSS:\t0.690\r"
     ]
    },
    {
     "name": "stdout",
     "output_type": "stream",
     "text": [
      "TRAINING BATCH:\t(  100 /   782)\tLOSS:\t0.690\r"
     ]
    },
    {
     "name": "stdout",
     "output_type": "stream",
     "text": [
      "TRAINING BATCH:\t(  110 /   782)\tLOSS:\t0.695\r"
     ]
    },
    {
     "name": "stdout",
     "output_type": "stream",
     "text": [
      "TRAINING BATCH:\t(  120 /   782)\tLOSS:\t0.693\r"
     ]
    },
    {
     "name": "stdout",
     "output_type": "stream",
     "text": [
      "TRAINING BATCH:\t(  130 /   782)\tLOSS:\t0.694\r"
     ]
    },
    {
     "name": "stdout",
     "output_type": "stream",
     "text": [
      "TRAINING BATCH:\t(  140 /   782)\tLOSS:\t0.691\r"
     ]
    },
    {
     "name": "stdout",
     "output_type": "stream",
     "text": [
      "TRAINING BATCH:\t(  150 /   782)\tLOSS:\t0.693\r"
     ]
    },
    {
     "name": "stdout",
     "output_type": "stream",
     "text": [
      "TRAINING BATCH:\t(  160 /   782)\tLOSS:\t0.698\r"
     ]
    },
    {
     "name": "stdout",
     "output_type": "stream",
     "text": [
      "TRAINING BATCH:\t(  170 /   782)\tLOSS:\t0.695\r"
     ]
    },
    {
     "name": "stdout",
     "output_type": "stream",
     "text": [
      "TRAINING BATCH:\t(  180 /   782)\tLOSS:\t0.692\r"
     ]
    },
    {
     "name": "stdout",
     "output_type": "stream",
     "text": [
      "TRAINING BATCH:\t(  190 /   782)\tLOSS:\t0.695\r"
     ]
    },
    {
     "name": "stdout",
     "output_type": "stream",
     "text": [
      "TRAINING BATCH:\t(  200 /   782)\tLOSS:\t0.694\r"
     ]
    },
    {
     "name": "stdout",
     "output_type": "stream",
     "text": [
      "TRAINING BATCH:\t(  210 /   782)\tLOSS:\t0.692\r"
     ]
    },
    {
     "name": "stdout",
     "output_type": "stream",
     "text": [
      "TRAINING BATCH:\t(  220 /   782)\tLOSS:\t0.692\r"
     ]
    },
    {
     "name": "stdout",
     "output_type": "stream",
     "text": [
      "TRAINING BATCH:\t(  230 /   782)\tLOSS:\t0.698\r"
     ]
    },
    {
     "name": "stdout",
     "output_type": "stream",
     "text": [
      "TRAINING BATCH:\t(  240 /   782)\tLOSS:\t0.697\r"
     ]
    },
    {
     "name": "stdout",
     "output_type": "stream",
     "text": [
      "TRAINING BATCH:\t(  250 /   782)\tLOSS:\t0.694\r"
     ]
    },
    {
     "name": "stdout",
     "output_type": "stream",
     "text": [
      "TRAINING BATCH:\t(  260 /   782)\tLOSS:\t0.694\r"
     ]
    },
    {
     "name": "stdout",
     "output_type": "stream",
     "text": [
      "TRAINING BATCH:\t(  270 /   782)\tLOSS:\t0.706\r"
     ]
    },
    {
     "name": "stdout",
     "output_type": "stream",
     "text": [
      "TRAINING BATCH:\t(  280 /   782)\tLOSS:\t0.693\r"
     ]
    },
    {
     "name": "stdout",
     "output_type": "stream",
     "text": [
      "TRAINING BATCH:\t(  290 /   782)\tLOSS:\t0.700\r"
     ]
    },
    {
     "name": "stdout",
     "output_type": "stream",
     "text": [
      "TRAINING BATCH:\t(  300 /   782)\tLOSS:\t0.692\r"
     ]
    },
    {
     "name": "stdout",
     "output_type": "stream",
     "text": [
      "TRAINING BATCH:\t(  310 /   782)\tLOSS:\t0.690\r"
     ]
    },
    {
     "name": "stdout",
     "output_type": "stream",
     "text": [
      "TRAINING BATCH:\t(  320 /   782)\tLOSS:\t0.683\r"
     ]
    },
    {
     "name": "stdout",
     "output_type": "stream",
     "text": [
      "TRAINING BATCH:\t(  330 /   782)\tLOSS:\t0.694\r"
     ]
    },
    {
     "name": "stdout",
     "output_type": "stream",
     "text": [
      "TRAINING BATCH:\t(  340 /   782)\tLOSS:\t0.694\r"
     ]
    },
    {
     "name": "stdout",
     "output_type": "stream",
     "text": [
      "TRAINING BATCH:\t(  350 /   782)\tLOSS:\t0.693\r"
     ]
    },
    {
     "name": "stdout",
     "output_type": "stream",
     "text": [
      "TRAINING BATCH:\t(  360 /   782)\tLOSS:\t0.688\r"
     ]
    },
    {
     "name": "stdout",
     "output_type": "stream",
     "text": [
      "TRAINING BATCH:\t(  370 /   782)\tLOSS:\t0.695\r"
     ]
    },
    {
     "name": "stdout",
     "output_type": "stream",
     "text": [
      "TRAINING BATCH:\t(  380 /   782)\tLOSS:\t0.683\r"
     ]
    },
    {
     "name": "stdout",
     "output_type": "stream",
     "text": [
      "TRAINING BATCH:\t(  390 /   782)\tLOSS:\t0.687\r"
     ]
    },
    {
     "name": "stdout",
     "output_type": "stream",
     "text": [
      "TRAINING BATCH:\t(  400 /   782)\tLOSS:\t0.682\r"
     ]
    },
    {
     "name": "stdout",
     "output_type": "stream",
     "text": [
      "TRAINING BATCH:\t(  410 /   782)\tLOSS:\t0.695\r"
     ]
    },
    {
     "name": "stdout",
     "output_type": "stream",
     "text": [
      "TRAINING BATCH:\t(  420 /   782)\tLOSS:\t0.694\r"
     ]
    },
    {
     "name": "stdout",
     "output_type": "stream",
     "text": [
      "TRAINING BATCH:\t(  430 /   782)\tLOSS:\t0.707\r"
     ]
    },
    {
     "name": "stdout",
     "output_type": "stream",
     "text": [
      "TRAINING BATCH:\t(  440 /   782)\tLOSS:\t0.692\r"
     ]
    },
    {
     "name": "stdout",
     "output_type": "stream",
     "text": [
      "TRAINING BATCH:\t(  450 /   782)\tLOSS:\t0.685\r"
     ]
    },
    {
     "name": "stdout",
     "output_type": "stream",
     "text": [
      "TRAINING BATCH:\t(  460 /   782)\tLOSS:\t0.691\r"
     ]
    },
    {
     "name": "stdout",
     "output_type": "stream",
     "text": [
      "TRAINING BATCH:\t(  470 /   782)\tLOSS:\t0.687\r"
     ]
    },
    {
     "name": "stdout",
     "output_type": "stream",
     "text": [
      "TRAINING BATCH:\t(  480 /   782)\tLOSS:\t0.683\r"
     ]
    },
    {
     "name": "stdout",
     "output_type": "stream",
     "text": [
      "TRAINING BATCH:\t(  490 /   782)\tLOSS:\t0.697\r"
     ]
    },
    {
     "name": "stdout",
     "output_type": "stream",
     "text": [
      "TRAINING BATCH:\t(  500 /   782)\tLOSS:\t0.699\r"
     ]
    },
    {
     "name": "stdout",
     "output_type": "stream",
     "text": [
      "TRAINING BATCH:\t(  510 /   782)\tLOSS:\t0.689\r"
     ]
    },
    {
     "name": "stdout",
     "output_type": "stream",
     "text": [
      "TRAINING BATCH:\t(  520 /   782)\tLOSS:\t0.693\r"
     ]
    },
    {
     "name": "stdout",
     "output_type": "stream",
     "text": [
      "TRAINING BATCH:\t(  530 /   782)\tLOSS:\t0.694\r"
     ]
    },
    {
     "name": "stdout",
     "output_type": "stream",
     "text": [
      "TRAINING BATCH:\t(  540 /   782)\tLOSS:\t0.691\r"
     ]
    },
    {
     "name": "stdout",
     "output_type": "stream",
     "text": [
      "TRAINING BATCH:\t(  550 /   782)\tLOSS:\t0.693\r"
     ]
    },
    {
     "name": "stdout",
     "output_type": "stream",
     "text": [
      "TRAINING BATCH:\t(  560 /   782)\tLOSS:\t0.695\r"
     ]
    },
    {
     "name": "stdout",
     "output_type": "stream",
     "text": [
      "TRAINING BATCH:\t(  570 /   782)\tLOSS:\t0.688\r"
     ]
    },
    {
     "name": "stdout",
     "output_type": "stream",
     "text": [
      "TRAINING BATCH:\t(  580 /   782)\tLOSS:\t0.691\r"
     ]
    },
    {
     "name": "stdout",
     "output_type": "stream",
     "text": [
      "TRAINING BATCH:\t(  590 /   782)\tLOSS:\t0.693\r"
     ]
    },
    {
     "name": "stdout",
     "output_type": "stream",
     "text": [
      "TRAINING BATCH:\t(  600 /   782)\tLOSS:\t0.686\r"
     ]
    },
    {
     "name": "stdout",
     "output_type": "stream",
     "text": [
      "TRAINING BATCH:\t(  610 /   782)\tLOSS:\t0.697\r"
     ]
    },
    {
     "name": "stdout",
     "output_type": "stream",
     "text": [
      "TRAINING BATCH:\t(  620 /   782)\tLOSS:\t0.686\r"
     ]
    },
    {
     "name": "stdout",
     "output_type": "stream",
     "text": [
      "TRAINING BATCH:\t(  630 /   782)\tLOSS:\t0.688\r"
     ]
    },
    {
     "name": "stdout",
     "output_type": "stream",
     "text": [
      "TRAINING BATCH:\t(  640 /   782)\tLOSS:\t0.683\r"
     ]
    },
    {
     "name": "stdout",
     "output_type": "stream",
     "text": [
      "TRAINING BATCH:\t(  650 /   782)\tLOSS:\t0.717\r"
     ]
    },
    {
     "name": "stdout",
     "output_type": "stream",
     "text": [
      "TRAINING BATCH:\t(  660 /   782)\tLOSS:\t0.692\r"
     ]
    },
    {
     "name": "stdout",
     "output_type": "stream",
     "text": [
      "TRAINING BATCH:\t(  670 /   782)\tLOSS:\t0.712\r"
     ]
    },
    {
     "name": "stdout",
     "output_type": "stream",
     "text": [
      "TRAINING BATCH:\t(  680 /   782)\tLOSS:\t0.716\r"
     ]
    },
    {
     "name": "stdout",
     "output_type": "stream",
     "text": [
      "TRAINING BATCH:\t(  690 /   782)\tLOSS:\t0.679\r"
     ]
    },
    {
     "name": "stdout",
     "output_type": "stream",
     "text": [
      "TRAINING BATCH:\t(  700 /   782)\tLOSS:\t0.688\r"
     ]
    },
    {
     "name": "stdout",
     "output_type": "stream",
     "text": [
      "TRAINING BATCH:\t(  710 /   782)\tLOSS:\t0.689\r"
     ]
    },
    {
     "name": "stdout",
     "output_type": "stream",
     "text": [
      "TRAINING BATCH:\t(  720 /   782)\tLOSS:\t0.640\r"
     ]
    },
    {
     "name": "stdout",
     "output_type": "stream",
     "text": [
      "TRAINING BATCH:\t(  730 /   782)\tLOSS:\t0.684\r"
     ]
    },
    {
     "name": "stdout",
     "output_type": "stream",
     "text": [
      "TRAINING BATCH:\t(  740 /   782)\tLOSS:\t0.702\r"
     ]
    },
    {
     "name": "stdout",
     "output_type": "stream",
     "text": [
      "TRAINING BATCH:\t(  750 /   782)\tLOSS:\t0.693\r"
     ]
    },
    {
     "name": "stdout",
     "output_type": "stream",
     "text": [
      "TRAINING BATCH:\t(  760 /   782)\tLOSS:\t0.717\r"
     ]
    },
    {
     "name": "stdout",
     "output_type": "stream",
     "text": [
      "TRAINING BATCH:\t(  770 /   782)\tLOSS:\t0.680\r"
     ]
    },
    {
     "name": "stdout",
     "output_type": "stream",
     "text": [
      "TRAINING BATCH:\t(  780 /   782)\tLOSS:\t0.682\r",
      "TEST BATCH:\t(    0 /   782)\tLOSS:\t0.683\r"
     ]
    },
    {
     "name": "stdout",
     "output_type": "stream",
     "text": [
      "TEST BATCH:\t(   50 /   782)\tLOSS:\t0.724\r"
     ]
    },
    {
     "name": "stdout",
     "output_type": "stream",
     "text": [
      "TEST BATCH:\t(  100 /   782)\tLOSS:\t0.705\r"
     ]
    },
    {
     "name": "stdout",
     "output_type": "stream",
     "text": [
      "TEST BATCH:\t(  150 /   782)\tLOSS:\t0.703\r"
     ]
    },
    {
     "name": "stdout",
     "output_type": "stream",
     "text": [
      "TEST BATCH:\t(  200 /   782)\tLOSS:\t0.671\r"
     ]
    },
    {
     "name": "stdout",
     "output_type": "stream",
     "text": [
      "TEST BATCH:\t(  250 /   782)\tLOSS:\t0.670\r"
     ]
    },
    {
     "name": "stdout",
     "output_type": "stream",
     "text": [
      "TEST BATCH:\t(  300 /   782)\tLOSS:\t0.688\r"
     ]
    },
    {
     "name": "stdout",
     "output_type": "stream",
     "text": [
      "TEST BATCH:\t(  350 /   782)\tLOSS:\t0.687\r"
     ]
    },
    {
     "name": "stdout",
     "output_type": "stream",
     "text": [
      "TEST BATCH:\t(  400 /   782)\tLOSS:\t0.690\r"
     ]
    },
    {
     "name": "stdout",
     "output_type": "stream",
     "text": [
      "TEST BATCH:\t(  450 /   782)\tLOSS:\t0.681\r"
     ]
    },
    {
     "name": "stdout",
     "output_type": "stream",
     "text": [
      "TEST BATCH:\t(  500 /   782)\tLOSS:\t0.706\r"
     ]
    },
    {
     "name": "stdout",
     "output_type": "stream",
     "text": [
      "TEST BATCH:\t(  550 /   782)\tLOSS:\t0.708\r"
     ]
    },
    {
     "name": "stdout",
     "output_type": "stream",
     "text": [
      "TEST BATCH:\t(  600 /   782)\tLOSS:\t0.694\r"
     ]
    },
    {
     "name": "stdout",
     "output_type": "stream",
     "text": [
      "TEST BATCH:\t(  650 /   782)\tLOSS:\t0.694\r"
     ]
    },
    {
     "name": "stdout",
     "output_type": "stream",
     "text": [
      "TEST BATCH:\t(  700 /   782)\tLOSS:\t0.693\r"
     ]
    },
    {
     "name": "stdout",
     "output_type": "stream",
     "text": [
      "TEST BATCH:\t(  750 /   782)\tLOSS:\t0.670\r"
     ]
    },
    {
     "name": "stdout",
     "output_type": "stream",
     "text": [
      "EPOCH:\t    1\tTRAIN LOSS:\t0.022\tTRAIN ACCURACY:\t0.505\tTEST LOSS:\t0.022\tTEST ACCURACY:\t0.500\n",
      "TRAINING BATCH:\t(    0 /   782)\tLOSS:\t0.704\r"
     ]
    },
    {
     "name": "stdout",
     "output_type": "stream",
     "text": [
      "TRAINING BATCH:\t(   10 /   782)\tLOSS:\t0.685\r"
     ]
    },
    {
     "name": "stdout",
     "output_type": "stream",
     "text": [
      "TRAINING BATCH:\t(   20 /   782)\tLOSS:\t0.684\r"
     ]
    },
    {
     "name": "stdout",
     "output_type": "stream",
     "text": [
      "TRAINING BATCH:\t(   30 /   782)\tLOSS:\t0.670\r"
     ]
    },
    {
     "name": "stdout",
     "output_type": "stream",
     "text": [
      "TRAINING BATCH:\t(   40 /   782)\tLOSS:\t0.670\r"
     ]
    },
    {
     "name": "stdout",
     "output_type": "stream",
     "text": [
      "TRAINING BATCH:\t(   50 /   782)\tLOSS:\t0.674\r"
     ]
    },
    {
     "name": "stdout",
     "output_type": "stream",
     "text": [
      "TRAINING BATCH:\t(   60 /   782)\tLOSS:\t0.695\r"
     ]
    },
    {
     "name": "stdout",
     "output_type": "stream",
     "text": [
      "TRAINING BATCH:\t(   70 /   782)\tLOSS:\t0.691\r"
     ]
    },
    {
     "name": "stdout",
     "output_type": "stream",
     "text": [
      "TRAINING BATCH:\t(   80 /   782)\tLOSS:\t0.706\r"
     ]
    },
    {
     "name": "stdout",
     "output_type": "stream",
     "text": [
      "TRAINING BATCH:\t(   90 /   782)\tLOSS:\t0.709\r"
     ]
    },
    {
     "name": "stdout",
     "output_type": "stream",
     "text": [
      "TRAINING BATCH:\t(  100 /   782)\tLOSS:\t0.690\r"
     ]
    },
    {
     "name": "stdout",
     "output_type": "stream",
     "text": [
      "TRAINING BATCH:\t(  110 /   782)\tLOSS:\t0.693\r"
     ]
    },
    {
     "name": "stdout",
     "output_type": "stream",
     "text": [
      "TRAINING BATCH:\t(  120 /   782)\tLOSS:\t0.693\r"
     ]
    },
    {
     "name": "stdout",
     "output_type": "stream",
     "text": [
      "TRAINING BATCH:\t(  130 /   782)\tLOSS:\t0.691\r"
     ]
    },
    {
     "name": "stdout",
     "output_type": "stream",
     "text": [
      "TRAINING BATCH:\t(  140 /   782)\tLOSS:\t0.696\r"
     ]
    },
    {
     "name": "stdout",
     "output_type": "stream",
     "text": [
      "TRAINING BATCH:\t(  150 /   782)\tLOSS:\t0.696\r"
     ]
    },
    {
     "name": "stdout",
     "output_type": "stream",
     "text": [
      "TRAINING BATCH:\t(  160 /   782)\tLOSS:\t0.694\r"
     ]
    },
    {
     "name": "stdout",
     "output_type": "stream",
     "text": [
      "TRAINING BATCH:\t(  170 /   782)\tLOSS:\t0.704\r"
     ]
    },
    {
     "name": "stdout",
     "output_type": "stream",
     "text": [
      "TRAINING BATCH:\t(  180 /   782)\tLOSS:\t0.698\r"
     ]
    },
    {
     "name": "stdout",
     "output_type": "stream",
     "text": [
      "TRAINING BATCH:\t(  190 /   782)\tLOSS:\t0.696\r"
     ]
    },
    {
     "name": "stdout",
     "output_type": "stream",
     "text": [
      "TRAINING BATCH:\t(  200 /   782)\tLOSS:\t0.697\r"
     ]
    },
    {
     "name": "stdout",
     "output_type": "stream",
     "text": [
      "TRAINING BATCH:\t(  210 /   782)\tLOSS:\t0.692\r"
     ]
    },
    {
     "name": "stdout",
     "output_type": "stream",
     "text": [
      "TRAINING BATCH:\t(  220 /   782)\tLOSS:\t0.691\r"
     ]
    },
    {
     "name": "stdout",
     "output_type": "stream",
     "text": [
      "TRAINING BATCH:\t(  230 /   782)\tLOSS:\t0.690\r"
     ]
    },
    {
     "name": "stdout",
     "output_type": "stream",
     "text": [
      "TRAINING BATCH:\t(  240 /   782)\tLOSS:\t0.706\r"
     ]
    },
    {
     "name": "stdout",
     "output_type": "stream",
     "text": [
      "TRAINING BATCH:\t(  250 /   782)\tLOSS:\t0.701\r"
     ]
    },
    {
     "name": "stdout",
     "output_type": "stream",
     "text": [
      "TRAINING BATCH:\t(  260 /   782)\tLOSS:\t0.685\r"
     ]
    },
    {
     "name": "stdout",
     "output_type": "stream",
     "text": [
      "TRAINING BATCH:\t(  270 /   782)\tLOSS:\t0.699\r"
     ]
    },
    {
     "name": "stdout",
     "output_type": "stream",
     "text": [
      "TRAINING BATCH:\t(  280 /   782)\tLOSS:\t0.690\r"
     ]
    },
    {
     "name": "stdout",
     "output_type": "stream",
     "text": [
      "TRAINING BATCH:\t(  290 /   782)\tLOSS:\t0.676\r"
     ]
    },
    {
     "name": "stdout",
     "output_type": "stream",
     "text": [
      "TRAINING BATCH:\t(  300 /   782)\tLOSS:\t0.704\r"
     ]
    },
    {
     "name": "stdout",
     "output_type": "stream",
     "text": [
      "TRAINING BATCH:\t(  310 /   782)\tLOSS:\t0.669\r"
     ]
    },
    {
     "name": "stdout",
     "output_type": "stream",
     "text": [
      "TRAINING BATCH:\t(  320 /   782)\tLOSS:\t0.699\r"
     ]
    },
    {
     "name": "stdout",
     "output_type": "stream",
     "text": [
      "TRAINING BATCH:\t(  330 /   782)\tLOSS:\t0.703\r"
     ]
    },
    {
     "name": "stdout",
     "output_type": "stream",
     "text": [
      "TRAINING BATCH:\t(  340 /   782)\tLOSS:\t0.694\r"
     ]
    },
    {
     "name": "stdout",
     "output_type": "stream",
     "text": [
      "TRAINING BATCH:\t(  350 /   782)\tLOSS:\t0.713\r"
     ]
    },
    {
     "name": "stdout",
     "output_type": "stream",
     "text": [
      "TRAINING BATCH:\t(  360 /   782)\tLOSS:\t0.680\r"
     ]
    },
    {
     "name": "stdout",
     "output_type": "stream",
     "text": [
      "TRAINING BATCH:\t(  370 /   782)\tLOSS:\t0.681\r"
     ]
    },
    {
     "name": "stdout",
     "output_type": "stream",
     "text": [
      "TRAINING BATCH:\t(  380 /   782)\tLOSS:\t0.731\r"
     ]
    },
    {
     "name": "stdout",
     "output_type": "stream",
     "text": [
      "TRAINING BATCH:\t(  390 /   782)\tLOSS:\t0.693\r"
     ]
    },
    {
     "name": "stdout",
     "output_type": "stream",
     "text": [
      "TRAINING BATCH:\t(  400 /   782)\tLOSS:\t0.690\r"
     ]
    },
    {
     "name": "stdout",
     "output_type": "stream",
     "text": [
      "TRAINING BATCH:\t(  410 /   782)\tLOSS:\t0.705\r"
     ]
    },
    {
     "name": "stdout",
     "output_type": "stream",
     "text": [
      "TRAINING BATCH:\t(  420 /   782)\tLOSS:\t0.691\r"
     ]
    },
    {
     "name": "stdout",
     "output_type": "stream",
     "text": [
      "TRAINING BATCH:\t(  430 /   782)\tLOSS:\t0.683\r"
     ]
    },
    {
     "name": "stdout",
     "output_type": "stream",
     "text": [
      "TRAINING BATCH:\t(  440 /   782)\tLOSS:\t0.673\r"
     ]
    },
    {
     "name": "stdout",
     "output_type": "stream",
     "text": [
      "TRAINING BATCH:\t(  450 /   782)\tLOSS:\t0.672\r"
     ]
    },
    {
     "name": "stdout",
     "output_type": "stream",
     "text": [
      "TRAINING BATCH:\t(  460 /   782)\tLOSS:\t0.688\r"
     ]
    },
    {
     "name": "stdout",
     "output_type": "stream",
     "text": [
      "TRAINING BATCH:\t(  470 /   782)\tLOSS:\t0.680\r"
     ]
    },
    {
     "name": "stdout",
     "output_type": "stream",
     "text": [
      "TRAINING BATCH:\t(  480 /   782)\tLOSS:\t0.688\r"
     ]
    },
    {
     "name": "stdout",
     "output_type": "stream",
     "text": [
      "TRAINING BATCH:\t(  490 /   782)\tLOSS:\t0.687\r"
     ]
    },
    {
     "name": "stdout",
     "output_type": "stream",
     "text": [
      "TRAINING BATCH:\t(  500 /   782)\tLOSS:\t0.715\r"
     ]
    },
    {
     "name": "stdout",
     "output_type": "stream",
     "text": [
      "TRAINING BATCH:\t(  510 /   782)\tLOSS:\t0.610\r"
     ]
    },
    {
     "name": "stdout",
     "output_type": "stream",
     "text": [
      "TRAINING BATCH:\t(  520 /   782)\tLOSS:\t0.604\r"
     ]
    },
    {
     "name": "stdout",
     "output_type": "stream",
     "text": [
      "TRAINING BATCH:\t(  530 /   782)\tLOSS:\t0.726\r"
     ]
    },
    {
     "name": "stdout",
     "output_type": "stream",
     "text": [
      "TRAINING BATCH:\t(  540 /   782)\tLOSS:\t0.722\r"
     ]
    },
    {
     "name": "stdout",
     "output_type": "stream",
     "text": [
      "TRAINING BATCH:\t(  550 /   782)\tLOSS:\t0.724\r"
     ]
    },
    {
     "name": "stdout",
     "output_type": "stream",
     "text": [
      "TRAINING BATCH:\t(  560 /   782)\tLOSS:\t0.692\r"
     ]
    },
    {
     "name": "stdout",
     "output_type": "stream",
     "text": [
      "TRAINING BATCH:\t(  570 /   782)\tLOSS:\t0.706\r"
     ]
    },
    {
     "name": "stdout",
     "output_type": "stream",
     "text": [
      "TRAINING BATCH:\t(  580 /   782)\tLOSS:\t0.678\r"
     ]
    },
    {
     "name": "stdout",
     "output_type": "stream",
     "text": [
      "TRAINING BATCH:\t(  590 /   782)\tLOSS:\t0.704\r"
     ]
    },
    {
     "name": "stdout",
     "output_type": "stream",
     "text": [
      "TRAINING BATCH:\t(  600 /   782)\tLOSS:\t0.699\r"
     ]
    },
    {
     "name": "stdout",
     "output_type": "stream",
     "text": [
      "TRAINING BATCH:\t(  610 /   782)\tLOSS:\t0.689\r"
     ]
    },
    {
     "name": "stdout",
     "output_type": "stream",
     "text": [
      "TRAINING BATCH:\t(  620 /   782)\tLOSS:\t0.698\r"
     ]
    },
    {
     "name": "stdout",
     "output_type": "stream",
     "text": [
      "TRAINING BATCH:\t(  630 /   782)\tLOSS:\t0.680\r"
     ]
    },
    {
     "name": "stdout",
     "output_type": "stream",
     "text": [
      "TRAINING BATCH:\t(  640 /   782)\tLOSS:\t0.685\r"
     ]
    },
    {
     "name": "stdout",
     "output_type": "stream",
     "text": [
      "TRAINING BATCH:\t(  650 /   782)\tLOSS:\t0.689\r"
     ]
    },
    {
     "name": "stdout",
     "output_type": "stream",
     "text": [
      "TRAINING BATCH:\t(  660 /   782)\tLOSS:\t0.690\r"
     ]
    },
    {
     "name": "stdout",
     "output_type": "stream",
     "text": [
      "TRAINING BATCH:\t(  670 /   782)\tLOSS:\t0.674\r"
     ]
    },
    {
     "name": "stdout",
     "output_type": "stream",
     "text": [
      "TRAINING BATCH:\t(  680 /   782)\tLOSS:\t0.697\r"
     ]
    },
    {
     "name": "stdout",
     "output_type": "stream",
     "text": [
      "TRAINING BATCH:\t(  690 /   782)\tLOSS:\t0.674\r"
     ]
    },
    {
     "name": "stdout",
     "output_type": "stream",
     "text": [
      "TRAINING BATCH:\t(  700 /   782)\tLOSS:\t0.662\r"
     ]
    },
    {
     "name": "stdout",
     "output_type": "stream",
     "text": [
      "TRAINING BATCH:\t(  710 /   782)\tLOSS:\t0.665\r"
     ]
    },
    {
     "name": "stdout",
     "output_type": "stream",
     "text": [
      "TRAINING BATCH:\t(  720 /   782)\tLOSS:\t0.645\r"
     ]
    },
    {
     "name": "stdout",
     "output_type": "stream",
     "text": [
      "TRAINING BATCH:\t(  730 /   782)\tLOSS:\t0.664\r"
     ]
    },
    {
     "name": "stdout",
     "output_type": "stream",
     "text": [
      "TRAINING BATCH:\t(  740 /   782)\tLOSS:\t0.658\r"
     ]
    },
    {
     "name": "stdout",
     "output_type": "stream",
     "text": [
      "TRAINING BATCH:\t(  750 /   782)\tLOSS:\t0.662\r"
     ]
    },
    {
     "name": "stdout",
     "output_type": "stream",
     "text": [
      "TRAINING BATCH:\t(  760 /   782)\tLOSS:\t0.704\r"
     ]
    },
    {
     "name": "stdout",
     "output_type": "stream",
     "text": [
      "TRAINING BATCH:\t(  770 /   782)\tLOSS:\t0.713\r"
     ]
    },
    {
     "name": "stdout",
     "output_type": "stream",
     "text": [
      "TRAINING BATCH:\t(  780 /   782)\tLOSS:\t0.657\r",
      "TEST BATCH:\t(    0 /   782)\tLOSS:\t0.648\r"
     ]
    },
    {
     "name": "stdout",
     "output_type": "stream",
     "text": [
      "TEST BATCH:\t(   50 /   782)\tLOSS:\t0.694\r"
     ]
    },
    {
     "name": "stdout",
     "output_type": "stream",
     "text": [
      "TEST BATCH:\t(  100 /   782)\tLOSS:\t0.694\r"
     ]
    },
    {
     "name": "stdout",
     "output_type": "stream",
     "text": [
      "TEST BATCH:\t(  150 /   782)\tLOSS:\t0.702\r"
     ]
    },
    {
     "name": "stdout",
     "output_type": "stream",
     "text": [
      "TEST BATCH:\t(  200 /   782)\tLOSS:\t0.686\r"
     ]
    },
    {
     "name": "stdout",
     "output_type": "stream",
     "text": [
      "TEST BATCH:\t(  250 /   782)\tLOSS:\t0.694\r"
     ]
    },
    {
     "name": "stdout",
     "output_type": "stream",
     "text": [
      "TEST BATCH:\t(  300 /   782)\tLOSS:\t0.685\r"
     ]
    },
    {
     "name": "stdout",
     "output_type": "stream",
     "text": [
      "TEST BATCH:\t(  350 /   782)\tLOSS:\t0.665\r"
     ]
    },
    {
     "name": "stdout",
     "output_type": "stream",
     "text": [
      "TEST BATCH:\t(  400 /   782)\tLOSS:\t0.686\r"
     ]
    },
    {
     "name": "stdout",
     "output_type": "stream",
     "text": [
      "TEST BATCH:\t(  450 /   782)\tLOSS:\t0.679\r"
     ]
    },
    {
     "name": "stdout",
     "output_type": "stream",
     "text": [
      "TEST BATCH:\t(  500 /   782)\tLOSS:\t0.695\r"
     ]
    },
    {
     "name": "stdout",
     "output_type": "stream",
     "text": [
      "TEST BATCH:\t(  550 /   782)\tLOSS:\t0.705\r"
     ]
    },
    {
     "name": "stdout",
     "output_type": "stream",
     "text": [
      "TEST BATCH:\t(  600 /   782)\tLOSS:\t0.686\r"
     ]
    },
    {
     "name": "stdout",
     "output_type": "stream",
     "text": [
      "TEST BATCH:\t(  650 /   782)\tLOSS:\t0.698\r"
     ]
    },
    {
     "name": "stdout",
     "output_type": "stream",
     "text": [
      "TEST BATCH:\t(  700 /   782)\tLOSS:\t0.680\r"
     ]
    },
    {
     "name": "stdout",
     "output_type": "stream",
     "text": [
      "TEST BATCH:\t(  750 /   782)\tLOSS:\t0.668\r"
     ]
    },
    {
     "name": "stdout",
     "output_type": "stream",
     "text": [
      "EPOCH:\t    2\tTRAIN LOSS:\t0.022\tTRAIN ACCURACY:\t0.531\tTEST LOSS:\t0.022\tTEST ACCURACY:\t0.515\n",
      "TRAINING BATCH:\t(    0 /   782)\tLOSS:\t0.654\r"
     ]
    },
    {
     "name": "stdout",
     "output_type": "stream",
     "text": [
      "TRAINING BATCH:\t(   10 /   782)\tLOSS:\t0.761\r"
     ]
    },
    {
     "name": "stdout",
     "output_type": "stream",
     "text": [
      "TRAINING BATCH:\t(   20 /   782)\tLOSS:\t0.679\r"
     ]
    },
    {
     "name": "stdout",
     "output_type": "stream",
     "text": [
      "TRAINING BATCH:\t(   30 /   782)\tLOSS:\t0.709\r"
     ]
    },
    {
     "name": "stdout",
     "output_type": "stream",
     "text": [
      "TRAINING BATCH:\t(   40 /   782)\tLOSS:\t0.667\r"
     ]
    },
    {
     "name": "stdout",
     "output_type": "stream",
     "text": [
      "TRAINING BATCH:\t(   50 /   782)\tLOSS:\t0.706\r"
     ]
    },
    {
     "name": "stdout",
     "output_type": "stream",
     "text": [
      "TRAINING BATCH:\t(   60 /   782)\tLOSS:\t0.678\r"
     ]
    },
    {
     "name": "stdout",
     "output_type": "stream",
     "text": [
      "TRAINING BATCH:\t(   70 /   782)\tLOSS:\t0.697\r"
     ]
    },
    {
     "name": "stdout",
     "output_type": "stream",
     "text": [
      "TRAINING BATCH:\t(   80 /   782)\tLOSS:\t0.657\r"
     ]
    },
    {
     "name": "stdout",
     "output_type": "stream",
     "text": [
      "TRAINING BATCH:\t(   90 /   782)\tLOSS:\t0.667\r"
     ]
    },
    {
     "name": "stdout",
     "output_type": "stream",
     "text": [
      "TRAINING BATCH:\t(  100 /   782)\tLOSS:\t0.668\r"
     ]
    },
    {
     "name": "stdout",
     "output_type": "stream",
     "text": [
      "TRAINING BATCH:\t(  110 /   782)\tLOSS:\t0.650\r"
     ]
    },
    {
     "name": "stdout",
     "output_type": "stream",
     "text": [
      "TRAINING BATCH:\t(  120 /   782)\tLOSS:\t0.633\r"
     ]
    },
    {
     "name": "stdout",
     "output_type": "stream",
     "text": [
      "TRAINING BATCH:\t(  130 /   782)\tLOSS:\t0.693\r"
     ]
    },
    {
     "name": "stdout",
     "output_type": "stream",
     "text": [
      "TRAINING BATCH:\t(  140 /   782)\tLOSS:\t0.654\r"
     ]
    },
    {
     "name": "stdout",
     "output_type": "stream",
     "text": [
      "TRAINING BATCH:\t(  150 /   782)\tLOSS:\t0.734\r"
     ]
    },
    {
     "name": "stdout",
     "output_type": "stream",
     "text": [
      "TRAINING BATCH:\t(  160 /   782)\tLOSS:\t0.708\r"
     ]
    },
    {
     "name": "stdout",
     "output_type": "stream",
     "text": [
      "TRAINING BATCH:\t(  170 /   782)\tLOSS:\t0.702\r"
     ]
    },
    {
     "name": "stdout",
     "output_type": "stream",
     "text": [
      "TRAINING BATCH:\t(  180 /   782)\tLOSS:\t0.703\r"
     ]
    },
    {
     "name": "stdout",
     "output_type": "stream",
     "text": [
      "TRAINING BATCH:\t(  190 /   782)\tLOSS:\t0.692\r"
     ]
    },
    {
     "name": "stdout",
     "output_type": "stream",
     "text": [
      "TRAINING BATCH:\t(  200 /   782)\tLOSS:\t0.661\r"
     ]
    },
    {
     "name": "stdout",
     "output_type": "stream",
     "text": [
      "TRAINING BATCH:\t(  210 /   782)\tLOSS:\t0.699\r"
     ]
    },
    {
     "name": "stdout",
     "output_type": "stream",
     "text": [
      "TRAINING BATCH:\t(  220 /   782)\tLOSS:\t0.623\r"
     ]
    },
    {
     "name": "stdout",
     "output_type": "stream",
     "text": [
      "TRAINING BATCH:\t(  230 /   782)\tLOSS:\t0.637\r"
     ]
    },
    {
     "name": "stdout",
     "output_type": "stream",
     "text": [
      "TRAINING BATCH:\t(  240 /   782)\tLOSS:\t0.678\r"
     ]
    },
    {
     "name": "stdout",
     "output_type": "stream",
     "text": [
      "TRAINING BATCH:\t(  250 /   782)\tLOSS:\t0.717\r"
     ]
    },
    {
     "name": "stdout",
     "output_type": "stream",
     "text": [
      "TRAINING BATCH:\t(  260 /   782)\tLOSS:\t0.702\r"
     ]
    },
    {
     "name": "stdout",
     "output_type": "stream",
     "text": [
      "TRAINING BATCH:\t(  270 /   782)\tLOSS:\t0.677\r"
     ]
    },
    {
     "name": "stdout",
     "output_type": "stream",
     "text": [
      "TRAINING BATCH:\t(  280 /   782)\tLOSS:\t0.639\r"
     ]
    },
    {
     "name": "stdout",
     "output_type": "stream",
     "text": [
      "TRAINING BATCH:\t(  290 /   782)\tLOSS:\t0.716\r"
     ]
    },
    {
     "name": "stdout",
     "output_type": "stream",
     "text": [
      "TRAINING BATCH:\t(  300 /   782)\tLOSS:\t0.584\r"
     ]
    },
    {
     "name": "stdout",
     "output_type": "stream",
     "text": [
      "TRAINING BATCH:\t(  310 /   782)\tLOSS:\t0.661\r"
     ]
    },
    {
     "name": "stdout",
     "output_type": "stream",
     "text": [
      "TRAINING BATCH:\t(  320 /   782)\tLOSS:\t0.557\r"
     ]
    },
    {
     "name": "stdout",
     "output_type": "stream",
     "text": [
      "TRAINING BATCH:\t(  330 /   782)\tLOSS:\t0.764\r"
     ]
    },
    {
     "name": "stdout",
     "output_type": "stream",
     "text": [
      "TRAINING BATCH:\t(  340 /   782)\tLOSS:\t0.655\r"
     ]
    },
    {
     "name": "stdout",
     "output_type": "stream",
     "text": [
      "TRAINING BATCH:\t(  350 /   782)\tLOSS:\t0.607\r"
     ]
    },
    {
     "name": "stdout",
     "output_type": "stream",
     "text": [
      "TRAINING BATCH:\t(  360 /   782)\tLOSS:\t0.684\r"
     ]
    },
    {
     "name": "stdout",
     "output_type": "stream",
     "text": [
      "TRAINING BATCH:\t(  370 /   782)\tLOSS:\t0.637\r"
     ]
    },
    {
     "name": "stdout",
     "output_type": "stream",
     "text": [
      "TRAINING BATCH:\t(  380 /   782)\tLOSS:\t0.671\r"
     ]
    },
    {
     "name": "stdout",
     "output_type": "stream",
     "text": [
      "TRAINING BATCH:\t(  390 /   782)\tLOSS:\t0.455\r"
     ]
    },
    {
     "name": "stdout",
     "output_type": "stream",
     "text": [
      "TRAINING BATCH:\t(  400 /   782)\tLOSS:\t0.845\r"
     ]
    },
    {
     "name": "stdout",
     "output_type": "stream",
     "text": [
      "TRAINING BATCH:\t(  410 /   782)\tLOSS:\t0.501\r"
     ]
    },
    {
     "name": "stdout",
     "output_type": "stream",
     "text": [
      "TRAINING BATCH:\t(  420 /   782)\tLOSS:\t0.844\r"
     ]
    },
    {
     "name": "stdout",
     "output_type": "stream",
     "text": [
      "TRAINING BATCH:\t(  430 /   782)\tLOSS:\t0.792\r"
     ]
    },
    {
     "name": "stdout",
     "output_type": "stream",
     "text": [
      "TRAINING BATCH:\t(  440 /   782)\tLOSS:\t0.689\r"
     ]
    },
    {
     "name": "stdout",
     "output_type": "stream",
     "text": [
      "TRAINING BATCH:\t(  450 /   782)\tLOSS:\t0.665\r"
     ]
    },
    {
     "name": "stdout",
     "output_type": "stream",
     "text": [
      "TRAINING BATCH:\t(  460 /   782)\tLOSS:\t0.665\r"
     ]
    },
    {
     "name": "stdout",
     "output_type": "stream",
     "text": [
      "TRAINING BATCH:\t(  470 /   782)\tLOSS:\t0.645\r"
     ]
    },
    {
     "name": "stdout",
     "output_type": "stream",
     "text": [
      "TRAINING BATCH:\t(  480 /   782)\tLOSS:\t0.667\r"
     ]
    },
    {
     "name": "stdout",
     "output_type": "stream",
     "text": [
      "TRAINING BATCH:\t(  490 /   782)\tLOSS:\t0.560\r"
     ]
    },
    {
     "name": "stdout",
     "output_type": "stream",
     "text": [
      "TRAINING BATCH:\t(  500 /   782)\tLOSS:\t0.537\r"
     ]
    },
    {
     "name": "stdout",
     "output_type": "stream",
     "text": [
      "TRAINING BATCH:\t(  510 /   782)\tLOSS:\t0.555\r"
     ]
    },
    {
     "name": "stdout",
     "output_type": "stream",
     "text": [
      "TRAINING BATCH:\t(  520 /   782)\tLOSS:\t0.682\r"
     ]
    },
    {
     "name": "stdout",
     "output_type": "stream",
     "text": [
      "TRAINING BATCH:\t(  530 /   782)\tLOSS:\t0.559\r"
     ]
    },
    {
     "name": "stdout",
     "output_type": "stream",
     "text": [
      "TRAINING BATCH:\t(  540 /   782)\tLOSS:\t0.502\r"
     ]
    },
    {
     "name": "stdout",
     "output_type": "stream",
     "text": [
      "TRAINING BATCH:\t(  550 /   782)\tLOSS:\t0.598\r"
     ]
    },
    {
     "name": "stdout",
     "output_type": "stream",
     "text": [
      "TRAINING BATCH:\t(  560 /   782)\tLOSS:\t0.516\r"
     ]
    },
    {
     "name": "stdout",
     "output_type": "stream",
     "text": [
      "TRAINING BATCH:\t(  570 /   782)\tLOSS:\t0.504\r"
     ]
    },
    {
     "name": "stdout",
     "output_type": "stream",
     "text": [
      "TRAINING BATCH:\t(  580 /   782)\tLOSS:\t0.644\r"
     ]
    },
    {
     "name": "stdout",
     "output_type": "stream",
     "text": [
      "TRAINING BATCH:\t(  590 /   782)\tLOSS:\t0.570\r"
     ]
    },
    {
     "name": "stdout",
     "output_type": "stream",
     "text": [
      "TRAINING BATCH:\t(  600 /   782)\tLOSS:\t0.509\r"
     ]
    },
    {
     "name": "stdout",
     "output_type": "stream",
     "text": [
      "TRAINING BATCH:\t(  610 /   782)\tLOSS:\t0.453\r"
     ]
    },
    {
     "name": "stdout",
     "output_type": "stream",
     "text": [
      "TRAINING BATCH:\t(  620 /   782)\tLOSS:\t0.554\r"
     ]
    },
    {
     "name": "stdout",
     "output_type": "stream",
     "text": [
      "TRAINING BATCH:\t(  630 /   782)\tLOSS:\t0.676\r"
     ]
    },
    {
     "name": "stdout",
     "output_type": "stream",
     "text": [
      "TRAINING BATCH:\t(  640 /   782)\tLOSS:\t0.488\r"
     ]
    },
    {
     "name": "stdout",
     "output_type": "stream",
     "text": [
      "TRAINING BATCH:\t(  650 /   782)\tLOSS:\t0.580\r"
     ]
    },
    {
     "name": "stdout",
     "output_type": "stream",
     "text": [
      "TRAINING BATCH:\t(  660 /   782)\tLOSS:\t0.600\r"
     ]
    },
    {
     "name": "stdout",
     "output_type": "stream",
     "text": [
      "TRAINING BATCH:\t(  670 /   782)\tLOSS:\t0.391\r"
     ]
    },
    {
     "name": "stdout",
     "output_type": "stream",
     "text": [
      "TRAINING BATCH:\t(  680 /   782)\tLOSS:\t0.565\r"
     ]
    },
    {
     "name": "stdout",
     "output_type": "stream",
     "text": [
      "TRAINING BATCH:\t(  690 /   782)\tLOSS:\t0.557\r"
     ]
    },
    {
     "name": "stdout",
     "output_type": "stream",
     "text": [
      "TRAINING BATCH:\t(  700 /   782)\tLOSS:\t0.440\r"
     ]
    },
    {
     "name": "stdout",
     "output_type": "stream",
     "text": [
      "TRAINING BATCH:\t(  710 /   782)\tLOSS:\t0.566\r"
     ]
    },
    {
     "name": "stdout",
     "output_type": "stream",
     "text": [
      "TRAINING BATCH:\t(  720 /   782)\tLOSS:\t0.551\r"
     ]
    },
    {
     "name": "stdout",
     "output_type": "stream",
     "text": [
      "TRAINING BATCH:\t(  730 /   782)\tLOSS:\t0.545\r"
     ]
    },
    {
     "name": "stdout",
     "output_type": "stream",
     "text": [
      "TRAINING BATCH:\t(  740 /   782)\tLOSS:\t0.410\r"
     ]
    },
    {
     "name": "stdout",
     "output_type": "stream",
     "text": [
      "TRAINING BATCH:\t(  750 /   782)\tLOSS:\t0.477\r"
     ]
    },
    {
     "name": "stdout",
     "output_type": "stream",
     "text": [
      "TRAINING BATCH:\t(  760 /   782)\tLOSS:\t0.318\r"
     ]
    },
    {
     "name": "stdout",
     "output_type": "stream",
     "text": [
      "TRAINING BATCH:\t(  770 /   782)\tLOSS:\t0.470\r"
     ]
    },
    {
     "name": "stdout",
     "output_type": "stream",
     "text": [
      "TRAINING BATCH:\t(  780 /   782)\tLOSS:\t0.801\r",
      "TEST BATCH:\t(    0 /   782)\tLOSS:\t0.567\r"
     ]
    },
    {
     "name": "stdout",
     "output_type": "stream",
     "text": [
      "TEST BATCH:\t(   50 /   782)\tLOSS:\t0.631\r"
     ]
    },
    {
     "name": "stdout",
     "output_type": "stream",
     "text": [
      "TEST BATCH:\t(  100 /   782)\tLOSS:\t0.566\r"
     ]
    },
    {
     "name": "stdout",
     "output_type": "stream",
     "text": [
      "TEST BATCH:\t(  150 /   782)\tLOSS:\t0.684\r"
     ]
    },
    {
     "name": "stdout",
     "output_type": "stream",
     "text": [
      "TEST BATCH:\t(  200 /   782)\tLOSS:\t0.712\r"
     ]
    },
    {
     "name": "stdout",
     "output_type": "stream",
     "text": [
      "TEST BATCH:\t(  250 /   782)\tLOSS:\t0.582\r"
     ]
    },
    {
     "name": "stdout",
     "output_type": "stream",
     "text": [
      "TEST BATCH:\t(  300 /   782)\tLOSS:\t0.802\r"
     ]
    },
    {
     "name": "stdout",
     "output_type": "stream",
     "text": [
      "TEST BATCH:\t(  350 /   782)\tLOSS:\t0.590\r"
     ]
    },
    {
     "name": "stdout",
     "output_type": "stream",
     "text": [
      "TEST BATCH:\t(  400 /   782)\tLOSS:\t0.596\r"
     ]
    },
    {
     "name": "stdout",
     "output_type": "stream",
     "text": [
      "TEST BATCH:\t(  450 /   782)\tLOSS:\t0.638\r"
     ]
    },
    {
     "name": "stdout",
     "output_type": "stream",
     "text": [
      "TEST BATCH:\t(  500 /   782)\tLOSS:\t0.397\r"
     ]
    },
    {
     "name": "stdout",
     "output_type": "stream",
     "text": [
      "TEST BATCH:\t(  550 /   782)\tLOSS:\t0.700\r"
     ]
    },
    {
     "name": "stdout",
     "output_type": "stream",
     "text": [
      "TEST BATCH:\t(  600 /   782)\tLOSS:\t0.753\r"
     ]
    },
    {
     "name": "stdout",
     "output_type": "stream",
     "text": [
      "TEST BATCH:\t(  650 /   782)\tLOSS:\t0.764\r"
     ]
    },
    {
     "name": "stdout",
     "output_type": "stream",
     "text": [
      "TEST BATCH:\t(  700 /   782)\tLOSS:\t0.848\r"
     ]
    },
    {
     "name": "stdout",
     "output_type": "stream",
     "text": [
      "TEST BATCH:\t(  750 /   782)\tLOSS:\t0.653\r"
     ]
    },
    {
     "name": "stdout",
     "output_type": "stream",
     "text": [
      "EPOCH:\t    3\tTRAIN LOSS:\t0.019\tTRAIN ACCURACY:\t0.651\tTEST LOSS:\t0.021\tTEST ACCURACY:\t0.660\n",
      "TRAINING BATCH:\t(    0 /   782)\tLOSS:\t0.590\r"
     ]
    },
    {
     "name": "stdout",
     "output_type": "stream",
     "text": [
      "TRAINING BATCH:\t(   10 /   782)\tLOSS:\t0.522\r"
     ]
    },
    {
     "name": "stdout",
     "output_type": "stream",
     "text": [
      "TRAINING BATCH:\t(   20 /   782)\tLOSS:\t0.403\r"
     ]
    },
    {
     "name": "stdout",
     "output_type": "stream",
     "text": [
      "TRAINING BATCH:\t(   30 /   782)\tLOSS:\t0.527\r"
     ]
    },
    {
     "name": "stdout",
     "output_type": "stream",
     "text": [
      "TRAINING BATCH:\t(   40 /   782)\tLOSS:\t0.424\r"
     ]
    },
    {
     "name": "stdout",
     "output_type": "stream",
     "text": [
      "TRAINING BATCH:\t(   50 /   782)\tLOSS:\t0.534\r"
     ]
    },
    {
     "name": "stdout",
     "output_type": "stream",
     "text": [
      "TRAINING BATCH:\t(   60 /   782)\tLOSS:\t0.688\r"
     ]
    },
    {
     "name": "stdout",
     "output_type": "stream",
     "text": [
      "TRAINING BATCH:\t(   70 /   782)\tLOSS:\t0.541\r"
     ]
    },
    {
     "name": "stdout",
     "output_type": "stream",
     "text": [
      "TRAINING BATCH:\t(   80 /   782)\tLOSS:\t0.469\r"
     ]
    },
    {
     "name": "stdout",
     "output_type": "stream",
     "text": [
      "TRAINING BATCH:\t(   90 /   782)\tLOSS:\t0.410\r"
     ]
    },
    {
     "name": "stdout",
     "output_type": "stream",
     "text": [
      "TRAINING BATCH:\t(  100 /   782)\tLOSS:\t0.617\r"
     ]
    },
    {
     "name": "stdout",
     "output_type": "stream",
     "text": [
      "TRAINING BATCH:\t(  110 /   782)\tLOSS:\t0.426\r"
     ]
    },
    {
     "name": "stdout",
     "output_type": "stream",
     "text": [
      "TRAINING BATCH:\t(  120 /   782)\tLOSS:\t0.425\r"
     ]
    },
    {
     "name": "stdout",
     "output_type": "stream",
     "text": [
      "TRAINING BATCH:\t(  130 /   782)\tLOSS:\t0.491\r"
     ]
    },
    {
     "name": "stdout",
     "output_type": "stream",
     "text": [
      "TRAINING BATCH:\t(  140 /   782)\tLOSS:\t0.351\r"
     ]
    },
    {
     "name": "stdout",
     "output_type": "stream",
     "text": [
      "TRAINING BATCH:\t(  150 /   782)\tLOSS:\t0.470\r"
     ]
    },
    {
     "name": "stdout",
     "output_type": "stream",
     "text": [
      "TRAINING BATCH:\t(  160 /   782)\tLOSS:\t0.441\r"
     ]
    },
    {
     "name": "stdout",
     "output_type": "stream",
     "text": [
      "TRAINING BATCH:\t(  170 /   782)\tLOSS:\t0.523\r"
     ]
    },
    {
     "name": "stdout",
     "output_type": "stream",
     "text": [
      "TRAINING BATCH:\t(  180 /   782)\tLOSS:\t0.281\r"
     ]
    },
    {
     "name": "stdout",
     "output_type": "stream",
     "text": [
      "TRAINING BATCH:\t(  190 /   782)\tLOSS:\t0.460\r"
     ]
    },
    {
     "name": "stdout",
     "output_type": "stream",
     "text": [
      "TRAINING BATCH:\t(  200 /   782)\tLOSS:\t0.384\r"
     ]
    },
    {
     "name": "stdout",
     "output_type": "stream",
     "text": [
      "TRAINING BATCH:\t(  210 /   782)\tLOSS:\t0.616\r"
     ]
    },
    {
     "name": "stdout",
     "output_type": "stream",
     "text": [
      "TRAINING BATCH:\t(  220 /   782)\tLOSS:\t0.573\r"
     ]
    },
    {
     "name": "stdout",
     "output_type": "stream",
     "text": [
      "TRAINING BATCH:\t(  230 /   782)\tLOSS:\t0.313\r"
     ]
    },
    {
     "name": "stdout",
     "output_type": "stream",
     "text": [
      "TRAINING BATCH:\t(  240 /   782)\tLOSS:\t0.357\r"
     ]
    },
    {
     "name": "stdout",
     "output_type": "stream",
     "text": [
      "TRAINING BATCH:\t(  250 /   782)\tLOSS:\t0.437\r"
     ]
    },
    {
     "name": "stdout",
     "output_type": "stream",
     "text": [
      "TRAINING BATCH:\t(  260 /   782)\tLOSS:\t0.356\r"
     ]
    },
    {
     "name": "stdout",
     "output_type": "stream",
     "text": [
      "TRAINING BATCH:\t(  270 /   782)\tLOSS:\t0.552\r"
     ]
    },
    {
     "name": "stdout",
     "output_type": "stream",
     "text": [
      "TRAINING BATCH:\t(  280 /   782)\tLOSS:\t0.342\r"
     ]
    },
    {
     "name": "stdout",
     "output_type": "stream",
     "text": [
      "TRAINING BATCH:\t(  290 /   782)\tLOSS:\t0.365\r"
     ]
    },
    {
     "name": "stdout",
     "output_type": "stream",
     "text": [
      "TRAINING BATCH:\t(  300 /   782)\tLOSS:\t0.395\r"
     ]
    },
    {
     "name": "stdout",
     "output_type": "stream",
     "text": [
      "TRAINING BATCH:\t(  310 /   782)\tLOSS:\t0.374\r"
     ]
    },
    {
     "name": "stdout",
     "output_type": "stream",
     "text": [
      "TRAINING BATCH:\t(  320 /   782)\tLOSS:\t0.284\r"
     ]
    },
    {
     "name": "stdout",
     "output_type": "stream",
     "text": [
      "TRAINING BATCH:\t(  330 /   782)\tLOSS:\t0.501\r"
     ]
    },
    {
     "name": "stdout",
     "output_type": "stream",
     "text": [
      "TRAINING BATCH:\t(  340 /   782)\tLOSS:\t0.373\r"
     ]
    },
    {
     "name": "stdout",
     "output_type": "stream",
     "text": [
      "TRAINING BATCH:\t(  350 /   782)\tLOSS:\t0.269\r"
     ]
    },
    {
     "name": "stdout",
     "output_type": "stream",
     "text": [
      "TRAINING BATCH:\t(  360 /   782)\tLOSS:\t0.336\r"
     ]
    },
    {
     "name": "stdout",
     "output_type": "stream",
     "text": [
      "TRAINING BATCH:\t(  370 /   782)\tLOSS:\t0.419\r"
     ]
    },
    {
     "name": "stdout",
     "output_type": "stream",
     "text": [
      "TRAINING BATCH:\t(  380 /   782)\tLOSS:\t0.376\r"
     ]
    },
    {
     "name": "stdout",
     "output_type": "stream",
     "text": [
      "TRAINING BATCH:\t(  390 /   782)\tLOSS:\t0.495\r"
     ]
    },
    {
     "name": "stdout",
     "output_type": "stream",
     "text": [
      "TRAINING BATCH:\t(  400 /   782)\tLOSS:\t0.300\r"
     ]
    },
    {
     "name": "stdout",
     "output_type": "stream",
     "text": [
      "TRAINING BATCH:\t(  410 /   782)\tLOSS:\t0.354\r"
     ]
    },
    {
     "name": "stdout",
     "output_type": "stream",
     "text": [
      "TRAINING BATCH:\t(  420 /   782)\tLOSS:\t0.405\r"
     ]
    },
    {
     "name": "stdout",
     "output_type": "stream",
     "text": [
      "TRAINING BATCH:\t(  430 /   782)\tLOSS:\t0.262\r"
     ]
    },
    {
     "name": "stdout",
     "output_type": "stream",
     "text": [
      "TRAINING BATCH:\t(  440 /   782)\tLOSS:\t0.290\r"
     ]
    },
    {
     "name": "stdout",
     "output_type": "stream",
     "text": [
      "TRAINING BATCH:\t(  450 /   782)\tLOSS:\t0.395\r"
     ]
    },
    {
     "name": "stdout",
     "output_type": "stream",
     "text": [
      "TRAINING BATCH:\t(  460 /   782)\tLOSS:\t0.432\r"
     ]
    },
    {
     "name": "stdout",
     "output_type": "stream",
     "text": [
      "TRAINING BATCH:\t(  470 /   782)\tLOSS:\t0.547\r"
     ]
    },
    {
     "name": "stdout",
     "output_type": "stream",
     "text": [
      "TRAINING BATCH:\t(  480 /   782)\tLOSS:\t0.294\r"
     ]
    },
    {
     "name": "stdout",
     "output_type": "stream",
     "text": [
      "TRAINING BATCH:\t(  490 /   782)\tLOSS:\t0.403\r"
     ]
    },
    {
     "name": "stdout",
     "output_type": "stream",
     "text": [
      "TRAINING BATCH:\t(  500 /   782)\tLOSS:\t0.287\r"
     ]
    },
    {
     "name": "stdout",
     "output_type": "stream",
     "text": [
      "TRAINING BATCH:\t(  510 /   782)\tLOSS:\t0.419\r"
     ]
    },
    {
     "name": "stdout",
     "output_type": "stream",
     "text": [
      "TRAINING BATCH:\t(  520 /   782)\tLOSS:\t0.412\r"
     ]
    },
    {
     "name": "stdout",
     "output_type": "stream",
     "text": [
      "TRAINING BATCH:\t(  530 /   782)\tLOSS:\t0.435\r"
     ]
    },
    {
     "name": "stdout",
     "output_type": "stream",
     "text": [
      "TRAINING BATCH:\t(  540 /   782)\tLOSS:\t0.422\r"
     ]
    },
    {
     "name": "stdout",
     "output_type": "stream",
     "text": [
      "TRAINING BATCH:\t(  550 /   782)\tLOSS:\t0.360\r"
     ]
    },
    {
     "name": "stdout",
     "output_type": "stream",
     "text": [
      "TRAINING BATCH:\t(  560 /   782)\tLOSS:\t0.285\r"
     ]
    },
    {
     "name": "stdout",
     "output_type": "stream",
     "text": [
      "TRAINING BATCH:\t(  570 /   782)\tLOSS:\t0.413\r"
     ]
    },
    {
     "name": "stdout",
     "output_type": "stream",
     "text": [
      "TRAINING BATCH:\t(  580 /   782)\tLOSS:\t0.583\r"
     ]
    },
    {
     "name": "stdout",
     "output_type": "stream",
     "text": [
      "TRAINING BATCH:\t(  590 /   782)\tLOSS:\t0.464\r"
     ]
    },
    {
     "name": "stdout",
     "output_type": "stream",
     "text": [
      "TRAINING BATCH:\t(  600 /   782)\tLOSS:\t0.431\r"
     ]
    },
    {
     "name": "stdout",
     "output_type": "stream",
     "text": [
      "TRAINING BATCH:\t(  610 /   782)\tLOSS:\t0.498\r"
     ]
    },
    {
     "name": "stdout",
     "output_type": "stream",
     "text": [
      "TRAINING BATCH:\t(  620 /   782)\tLOSS:\t0.478\r"
     ]
    },
    {
     "name": "stdout",
     "output_type": "stream",
     "text": [
      "TRAINING BATCH:\t(  630 /   782)\tLOSS:\t0.246\r"
     ]
    },
    {
     "name": "stdout",
     "output_type": "stream",
     "text": [
      "TRAINING BATCH:\t(  640 /   782)\tLOSS:\t0.481\r"
     ]
    },
    {
     "name": "stdout",
     "output_type": "stream",
     "text": [
      "TRAINING BATCH:\t(  650 /   782)\tLOSS:\t0.317\r"
     ]
    },
    {
     "name": "stdout",
     "output_type": "stream",
     "text": [
      "TRAINING BATCH:\t(  660 /   782)\tLOSS:\t0.467\r"
     ]
    },
    {
     "name": "stdout",
     "output_type": "stream",
     "text": [
      "TRAINING BATCH:\t(  670 /   782)\tLOSS:\t0.689\r"
     ]
    },
    {
     "name": "stdout",
     "output_type": "stream",
     "text": [
      "TRAINING BATCH:\t(  680 /   782)\tLOSS:\t0.330\r"
     ]
    },
    {
     "name": "stdout",
     "output_type": "stream",
     "text": [
      "TRAINING BATCH:\t(  690 /   782)\tLOSS:\t0.339\r"
     ]
    },
    {
     "name": "stdout",
     "output_type": "stream",
     "text": [
      "TRAINING BATCH:\t(  700 /   782)\tLOSS:\t0.327\r"
     ]
    },
    {
     "name": "stdout",
     "output_type": "stream",
     "text": [
      "TRAINING BATCH:\t(  710 /   782)\tLOSS:\t0.376\r"
     ]
    },
    {
     "name": "stdout",
     "output_type": "stream",
     "text": [
      "TRAINING BATCH:\t(  720 /   782)\tLOSS:\t0.412\r"
     ]
    },
    {
     "name": "stdout",
     "output_type": "stream",
     "text": [
      "TRAINING BATCH:\t(  730 /   782)\tLOSS:\t0.322\r"
     ]
    },
    {
     "name": "stdout",
     "output_type": "stream",
     "text": [
      "TRAINING BATCH:\t(  740 /   782)\tLOSS:\t0.531\r"
     ]
    },
    {
     "name": "stdout",
     "output_type": "stream",
     "text": [
      "TRAINING BATCH:\t(  750 /   782)\tLOSS:\t0.276\r"
     ]
    },
    {
     "name": "stdout",
     "output_type": "stream",
     "text": [
      "TRAINING BATCH:\t(  760 /   782)\tLOSS:\t0.421\r"
     ]
    },
    {
     "name": "stdout",
     "output_type": "stream",
     "text": [
      "TRAINING BATCH:\t(  770 /   782)\tLOSS:\t0.330\r"
     ]
    },
    {
     "name": "stdout",
     "output_type": "stream",
     "text": [
      "TRAINING BATCH:\t(  780 /   782)\tLOSS:\t0.426\r",
      "TEST BATCH:\t(    0 /   782)\tLOSS:\t0.340\r"
     ]
    },
    {
     "name": "stdout",
     "output_type": "stream",
     "text": [
      "TEST BATCH:\t(   50 /   782)\tLOSS:\t0.318\r"
     ]
    },
    {
     "name": "stdout",
     "output_type": "stream",
     "text": [
      "TEST BATCH:\t(  100 /   782)\tLOSS:\t0.337\r"
     ]
    },
    {
     "name": "stdout",
     "output_type": "stream",
     "text": [
      "TEST BATCH:\t(  150 /   782)\tLOSS:\t0.336\r"
     ]
    },
    {
     "name": "stdout",
     "output_type": "stream",
     "text": [
      "TEST BATCH:\t(  200 /   782)\tLOSS:\t0.265\r"
     ]
    },
    {
     "name": "stdout",
     "output_type": "stream",
     "text": [
      "TEST BATCH:\t(  250 /   782)\tLOSS:\t0.500\r"
     ]
    },
    {
     "name": "stdout",
     "output_type": "stream",
     "text": [
      "TEST BATCH:\t(  300 /   782)\tLOSS:\t0.456\r"
     ]
    },
    {
     "name": "stdout",
     "output_type": "stream",
     "text": [
      "TEST BATCH:\t(  350 /   782)\tLOSS:\t0.497\r"
     ]
    },
    {
     "name": "stdout",
     "output_type": "stream",
     "text": [
      "TEST BATCH:\t(  400 /   782)\tLOSS:\t0.408\r"
     ]
    },
    {
     "name": "stdout",
     "output_type": "stream",
     "text": [
      "TEST BATCH:\t(  450 /   782)\tLOSS:\t0.314\r"
     ]
    },
    {
     "name": "stdout",
     "output_type": "stream",
     "text": [
      "TEST BATCH:\t(  500 /   782)\tLOSS:\t0.492\r"
     ]
    },
    {
     "name": "stdout",
     "output_type": "stream",
     "text": [
      "TEST BATCH:\t(  550 /   782)\tLOSS:\t0.367\r"
     ]
    },
    {
     "name": "stdout",
     "output_type": "stream",
     "text": [
      "TEST BATCH:\t(  600 /   782)\tLOSS:\t0.591\r"
     ]
    },
    {
     "name": "stdout",
     "output_type": "stream",
     "text": [
      "TEST BATCH:\t(  650 /   782)\tLOSS:\t0.464\r"
     ]
    },
    {
     "name": "stdout",
     "output_type": "stream",
     "text": [
      "TEST BATCH:\t(  700 /   782)\tLOSS:\t0.435\r"
     ]
    },
    {
     "name": "stdout",
     "output_type": "stream",
     "text": [
      "TEST BATCH:\t(  750 /   782)\tLOSS:\t0.422\r"
     ]
    },
    {
     "name": "stdout",
     "output_type": "stream",
     "text": [
      "EPOCH:\t    4\tTRAIN LOSS:\t0.013\tTRAIN ACCURACY:\t0.818\tTEST LOSS:\t0.013\tTEST ACCURACY:\t0.821\n",
      "TRAINING BATCH:\t(    0 /   782)\tLOSS:\t0.395\r"
     ]
    },
    {
     "name": "stdout",
     "output_type": "stream",
     "text": [
      "TRAINING BATCH:\t(   10 /   782)\tLOSS:\t0.285\r"
     ]
    },
    {
     "name": "stdout",
     "output_type": "stream",
     "text": [
      "TRAINING BATCH:\t(   20 /   782)\tLOSS:\t0.232\r"
     ]
    },
    {
     "name": "stdout",
     "output_type": "stream",
     "text": [
      "TRAINING BATCH:\t(   30 /   782)\tLOSS:\t0.170\r"
     ]
    },
    {
     "name": "stdout",
     "output_type": "stream",
     "text": [
      "TRAINING BATCH:\t(   40 /   782)\tLOSS:\t0.292\r"
     ]
    },
    {
     "name": "stdout",
     "output_type": "stream",
     "text": [
      "TRAINING BATCH:\t(   50 /   782)\tLOSS:\t0.197\r"
     ]
    },
    {
     "name": "stdout",
     "output_type": "stream",
     "text": [
      "TRAINING BATCH:\t(   60 /   782)\tLOSS:\t0.275\r"
     ]
    },
    {
     "name": "stdout",
     "output_type": "stream",
     "text": [
      "TRAINING BATCH:\t(   70 /   782)\tLOSS:\t0.155\r"
     ]
    },
    {
     "name": "stdout",
     "output_type": "stream",
     "text": [
      "TRAINING BATCH:\t(   80 /   782)\tLOSS:\t0.196\r"
     ]
    },
    {
     "name": "stdout",
     "output_type": "stream",
     "text": [
      "TRAINING BATCH:\t(   90 /   782)\tLOSS:\t0.513\r"
     ]
    },
    {
     "name": "stdout",
     "output_type": "stream",
     "text": [
      "TRAINING BATCH:\t(  100 /   782)\tLOSS:\t0.475\r"
     ]
    },
    {
     "name": "stdout",
     "output_type": "stream",
     "text": [
      "TRAINING BATCH:\t(  110 /   782)\tLOSS:\t0.251\r"
     ]
    },
    {
     "name": "stdout",
     "output_type": "stream",
     "text": [
      "TRAINING BATCH:\t(  120 /   782)\tLOSS:\t0.200\r"
     ]
    },
    {
     "name": "stdout",
     "output_type": "stream",
     "text": [
      "TRAINING BATCH:\t(  130 /   782)\tLOSS:\t0.184\r"
     ]
    },
    {
     "name": "stdout",
     "output_type": "stream",
     "text": [
      "TRAINING BATCH:\t(  140 /   782)\tLOSS:\t0.337\r"
     ]
    },
    {
     "name": "stdout",
     "output_type": "stream",
     "text": [
      "TRAINING BATCH:\t(  150 /   782)\tLOSS:\t0.444\r"
     ]
    },
    {
     "name": "stdout",
     "output_type": "stream",
     "text": [
      "TRAINING BATCH:\t(  160 /   782)\tLOSS:\t0.234\r"
     ]
    },
    {
     "name": "stdout",
     "output_type": "stream",
     "text": [
      "TRAINING BATCH:\t(  170 /   782)\tLOSS:\t0.381\r"
     ]
    },
    {
     "name": "stdout",
     "output_type": "stream",
     "text": [
      "TRAINING BATCH:\t(  180 /   782)\tLOSS:\t0.225\r"
     ]
    },
    {
     "name": "stdout",
     "output_type": "stream",
     "text": [
      "TRAINING BATCH:\t(  190 /   782)\tLOSS:\t0.408\r"
     ]
    },
    {
     "name": "stdout",
     "output_type": "stream",
     "text": [
      "TRAINING BATCH:\t(  200 /   782)\tLOSS:\t0.176\r"
     ]
    },
    {
     "name": "stdout",
     "output_type": "stream",
     "text": [
      "TRAINING BATCH:\t(  210 /   782)\tLOSS:\t0.160\r"
     ]
    },
    {
     "name": "stdout",
     "output_type": "stream",
     "text": [
      "TRAINING BATCH:\t(  220 /   782)\tLOSS:\t0.446\r"
     ]
    },
    {
     "name": "stdout",
     "output_type": "stream",
     "text": [
      "TRAINING BATCH:\t(  230 /   782)\tLOSS:\t0.328\r"
     ]
    },
    {
     "name": "stdout",
     "output_type": "stream",
     "text": [
      "TRAINING BATCH:\t(  240 /   782)\tLOSS:\t0.352\r"
     ]
    },
    {
     "name": "stdout",
     "output_type": "stream",
     "text": [
      "TRAINING BATCH:\t(  250 /   782)\tLOSS:\t0.296\r"
     ]
    },
    {
     "name": "stdout",
     "output_type": "stream",
     "text": [
      "TRAINING BATCH:\t(  260 /   782)\tLOSS:\t0.289\r"
     ]
    },
    {
     "name": "stdout",
     "output_type": "stream",
     "text": [
      "TRAINING BATCH:\t(  270 /   782)\tLOSS:\t0.319\r"
     ]
    },
    {
     "name": "stdout",
     "output_type": "stream",
     "text": [
      "TRAINING BATCH:\t(  280 /   782)\tLOSS:\t0.293\r"
     ]
    },
    {
     "name": "stdout",
     "output_type": "stream",
     "text": [
      "TRAINING BATCH:\t(  290 /   782)\tLOSS:\t0.314\r"
     ]
    },
    {
     "name": "stdout",
     "output_type": "stream",
     "text": [
      "TRAINING BATCH:\t(  300 /   782)\tLOSS:\t0.323\r"
     ]
    },
    {
     "name": "stdout",
     "output_type": "stream",
     "text": [
      "TRAINING BATCH:\t(  310 /   782)\tLOSS:\t0.347\r"
     ]
    },
    {
     "name": "stdout",
     "output_type": "stream",
     "text": [
      "TRAINING BATCH:\t(  320 /   782)\tLOSS:\t0.130\r"
     ]
    },
    {
     "name": "stdout",
     "output_type": "stream",
     "text": [
      "TRAINING BATCH:\t(  330 /   782)\tLOSS:\t0.426\r"
     ]
    },
    {
     "name": "stdout",
     "output_type": "stream",
     "text": [
      "TRAINING BATCH:\t(  340 /   782)\tLOSS:\t0.253\r"
     ]
    },
    {
     "name": "stdout",
     "output_type": "stream",
     "text": [
      "TRAINING BATCH:\t(  350 /   782)\tLOSS:\t0.236\r"
     ]
    },
    {
     "name": "stdout",
     "output_type": "stream",
     "text": [
      "TRAINING BATCH:\t(  360 /   782)\tLOSS:\t0.289\r"
     ]
    },
    {
     "name": "stdout",
     "output_type": "stream",
     "text": [
      "TRAINING BATCH:\t(  370 /   782)\tLOSS:\t0.281\r"
     ]
    },
    {
     "name": "stdout",
     "output_type": "stream",
     "text": [
      "TRAINING BATCH:\t(  380 /   782)\tLOSS:\t0.373\r"
     ]
    },
    {
     "name": "stdout",
     "output_type": "stream",
     "text": [
      "TRAINING BATCH:\t(  390 /   782)\tLOSS:\t0.240\r"
     ]
    },
    {
     "name": "stdout",
     "output_type": "stream",
     "text": [
      "TRAINING BATCH:\t(  400 /   782)\tLOSS:\t0.258\r"
     ]
    },
    {
     "name": "stdout",
     "output_type": "stream",
     "text": [
      "TRAINING BATCH:\t(  410 /   782)\tLOSS:\t0.191\r"
     ]
    },
    {
     "name": "stdout",
     "output_type": "stream",
     "text": [
      "TRAINING BATCH:\t(  420 /   782)\tLOSS:\t0.176\r"
     ]
    },
    {
     "name": "stdout",
     "output_type": "stream",
     "text": [
      "TRAINING BATCH:\t(  430 /   782)\tLOSS:\t0.392\r"
     ]
    },
    {
     "name": "stdout",
     "output_type": "stream",
     "text": [
      "TRAINING BATCH:\t(  440 /   782)\tLOSS:\t0.309\r"
     ]
    },
    {
     "name": "stdout",
     "output_type": "stream",
     "text": [
      "TRAINING BATCH:\t(  450 /   782)\tLOSS:\t0.227\r"
     ]
    },
    {
     "name": "stdout",
     "output_type": "stream",
     "text": [
      "TRAINING BATCH:\t(  460 /   782)\tLOSS:\t0.313\r"
     ]
    },
    {
     "name": "stdout",
     "output_type": "stream",
     "text": [
      "TRAINING BATCH:\t(  470 /   782)\tLOSS:\t0.368\r"
     ]
    },
    {
     "name": "stdout",
     "output_type": "stream",
     "text": [
      "TRAINING BATCH:\t(  480 /   782)\tLOSS:\t0.142\r"
     ]
    },
    {
     "name": "stdout",
     "output_type": "stream",
     "text": [
      "TRAINING BATCH:\t(  490 /   782)\tLOSS:\t0.450\r"
     ]
    },
    {
     "name": "stdout",
     "output_type": "stream",
     "text": [
      "TRAINING BATCH:\t(  500 /   782)\tLOSS:\t0.176\r"
     ]
    },
    {
     "name": "stdout",
     "output_type": "stream",
     "text": [
      "TRAINING BATCH:\t(  510 /   782)\tLOSS:\t0.282\r"
     ]
    },
    {
     "name": "stdout",
     "output_type": "stream",
     "text": [
      "TRAINING BATCH:\t(  520 /   782)\tLOSS:\t0.377\r"
     ]
    },
    {
     "name": "stdout",
     "output_type": "stream",
     "text": [
      "TRAINING BATCH:\t(  530 /   782)\tLOSS:\t0.305\r"
     ]
    },
    {
     "name": "stdout",
     "output_type": "stream",
     "text": [
      "TRAINING BATCH:\t(  540 /   782)\tLOSS:\t0.327\r"
     ]
    },
    {
     "name": "stdout",
     "output_type": "stream",
     "text": [
      "TRAINING BATCH:\t(  550 /   782)\tLOSS:\t0.275\r"
     ]
    },
    {
     "name": "stdout",
     "output_type": "stream",
     "text": [
      "TRAINING BATCH:\t(  560 /   782)\tLOSS:\t0.365\r"
     ]
    },
    {
     "name": "stdout",
     "output_type": "stream",
     "text": [
      "TRAINING BATCH:\t(  570 /   782)\tLOSS:\t0.195\r"
     ]
    },
    {
     "name": "stdout",
     "output_type": "stream",
     "text": [
      "TRAINING BATCH:\t(  580 /   782)\tLOSS:\t0.363\r"
     ]
    },
    {
     "name": "stdout",
     "output_type": "stream",
     "text": [
      "TRAINING BATCH:\t(  590 /   782)\tLOSS:\t0.185\r"
     ]
    },
    {
     "name": "stdout",
     "output_type": "stream",
     "text": [
      "TRAINING BATCH:\t(  600 /   782)\tLOSS:\t0.250\r"
     ]
    },
    {
     "name": "stdout",
     "output_type": "stream",
     "text": [
      "TRAINING BATCH:\t(  610 /   782)\tLOSS:\t0.235\r"
     ]
    },
    {
     "name": "stdout",
     "output_type": "stream",
     "text": [
      "TRAINING BATCH:\t(  620 /   782)\tLOSS:\t0.361\r"
     ]
    },
    {
     "name": "stdout",
     "output_type": "stream",
     "text": [
      "TRAINING BATCH:\t(  630 /   782)\tLOSS:\t0.301\r"
     ]
    },
    {
     "name": "stdout",
     "output_type": "stream",
     "text": [
      "TRAINING BATCH:\t(  640 /   782)\tLOSS:\t0.408\r"
     ]
    },
    {
     "name": "stdout",
     "output_type": "stream",
     "text": [
      "TRAINING BATCH:\t(  650 /   782)\tLOSS:\t0.315\r"
     ]
    },
    {
     "name": "stdout",
     "output_type": "stream",
     "text": [
      "TRAINING BATCH:\t(  660 /   782)\tLOSS:\t0.274\r"
     ]
    },
    {
     "name": "stdout",
     "output_type": "stream",
     "text": [
      "TRAINING BATCH:\t(  670 /   782)\tLOSS:\t0.181\r"
     ]
    },
    {
     "name": "stdout",
     "output_type": "stream",
     "text": [
      "TRAINING BATCH:\t(  680 /   782)\tLOSS:\t0.214\r"
     ]
    },
    {
     "name": "stdout",
     "output_type": "stream",
     "text": [
      "TRAINING BATCH:\t(  690 /   782)\tLOSS:\t0.374\r"
     ]
    },
    {
     "name": "stdout",
     "output_type": "stream",
     "text": [
      "TRAINING BATCH:\t(  700 /   782)\tLOSS:\t0.234\r"
     ]
    },
    {
     "name": "stdout",
     "output_type": "stream",
     "text": [
      "TRAINING BATCH:\t(  710 /   782)\tLOSS:\t0.185\r"
     ]
    },
    {
     "name": "stdout",
     "output_type": "stream",
     "text": [
      "TRAINING BATCH:\t(  720 /   782)\tLOSS:\t0.265\r"
     ]
    },
    {
     "name": "stdout",
     "output_type": "stream",
     "text": [
      "TRAINING BATCH:\t(  730 /   782)\tLOSS:\t0.249\r"
     ]
    },
    {
     "name": "stdout",
     "output_type": "stream",
     "text": [
      "TRAINING BATCH:\t(  740 /   782)\tLOSS:\t0.241\r"
     ]
    },
    {
     "name": "stdout",
     "output_type": "stream",
     "text": [
      "TRAINING BATCH:\t(  750 /   782)\tLOSS:\t0.387\r"
     ]
    },
    {
     "name": "stdout",
     "output_type": "stream",
     "text": [
      "TRAINING BATCH:\t(  760 /   782)\tLOSS:\t0.244\r"
     ]
    },
    {
     "name": "stdout",
     "output_type": "stream",
     "text": [
      "TRAINING BATCH:\t(  770 /   782)\tLOSS:\t0.287\r"
     ]
    },
    {
     "name": "stdout",
     "output_type": "stream",
     "text": [
      "TRAINING BATCH:\t(  780 /   782)\tLOSS:\t0.387\r",
      "TEST BATCH:\t(    0 /   782)\tLOSS:\t0.320\r"
     ]
    },
    {
     "name": "stdout",
     "output_type": "stream",
     "text": [
      "TEST BATCH:\t(   50 /   782)\tLOSS:\t0.343\r"
     ]
    },
    {
     "name": "stdout",
     "output_type": "stream",
     "text": [
      "TEST BATCH:\t(  100 /   782)\tLOSS:\t0.398\r"
     ]
    },
    {
     "name": "stdout",
     "output_type": "stream",
     "text": [
      "TEST BATCH:\t(  150 /   782)\tLOSS:\t0.426\r"
     ]
    },
    {
     "name": "stdout",
     "output_type": "stream",
     "text": [
      "TEST BATCH:\t(  200 /   782)\tLOSS:\t0.280\r"
     ]
    },
    {
     "name": "stdout",
     "output_type": "stream",
     "text": [
      "TEST BATCH:\t(  250 /   782)\tLOSS:\t0.434\r"
     ]
    },
    {
     "name": "stdout",
     "output_type": "stream",
     "text": [
      "TEST BATCH:\t(  300 /   782)\tLOSS:\t0.506\r"
     ]
    },
    {
     "name": "stdout",
     "output_type": "stream",
     "text": [
      "TEST BATCH:\t(  350 /   782)\tLOSS:\t0.700\r"
     ]
    },
    {
     "name": "stdout",
     "output_type": "stream",
     "text": [
      "TEST BATCH:\t(  400 /   782)\tLOSS:\t0.423\r"
     ]
    },
    {
     "name": "stdout",
     "output_type": "stream",
     "text": [
      "TEST BATCH:\t(  450 /   782)\tLOSS:\t0.300\r"
     ]
    },
    {
     "name": "stdout",
     "output_type": "stream",
     "text": [
      "TEST BATCH:\t(  500 /   782)\tLOSS:\t0.419\r"
     ]
    },
    {
     "name": "stdout",
     "output_type": "stream",
     "text": [
      "TEST BATCH:\t(  550 /   782)\tLOSS:\t0.378\r"
     ]
    },
    {
     "name": "stdout",
     "output_type": "stream",
     "text": [
      "TEST BATCH:\t(  600 /   782)\tLOSS:\t0.462\r"
     ]
    },
    {
     "name": "stdout",
     "output_type": "stream",
     "text": [
      "TEST BATCH:\t(  650 /   782)\tLOSS:\t0.653\r"
     ]
    },
    {
     "name": "stdout",
     "output_type": "stream",
     "text": [
      "TEST BATCH:\t(  700 /   782)\tLOSS:\t0.321\r"
     ]
    },
    {
     "name": "stdout",
     "output_type": "stream",
     "text": [
      "TEST BATCH:\t(  750 /   782)\tLOSS:\t0.382\r"
     ]
    },
    {
     "name": "stdout",
     "output_type": "stream",
     "text": [
      "EPOCH:\t    5\tTRAIN LOSS:\t0.010\tTRAIN ACCURACY:\t0.877\tTEST LOSS:\t0.012\tTEST ACCURACY:\t0.839\n",
      "TRAINING BATCH:\t(    0 /   782)\tLOSS:\t0.106\r"
     ]
    },
    {
     "name": "stdout",
     "output_type": "stream",
     "text": [
      "TRAINING BATCH:\t(   10 /   782)\tLOSS:\t0.310\r"
     ]
    },
    {
     "name": "stdout",
     "output_type": "stream",
     "text": [
      "TRAINING BATCH:\t(   20 /   782)\tLOSS:\t0.121\r"
     ]
    },
    {
     "name": "stdout",
     "output_type": "stream",
     "text": [
      "TRAINING BATCH:\t(   30 /   782)\tLOSS:\t0.075\r"
     ]
    },
    {
     "name": "stdout",
     "output_type": "stream",
     "text": [
      "TRAINING BATCH:\t(   40 /   782)\tLOSS:\t0.297\r"
     ]
    },
    {
     "name": "stdout",
     "output_type": "stream",
     "text": [
      "TRAINING BATCH:\t(   50 /   782)\tLOSS:\t0.185\r"
     ]
    },
    {
     "name": "stdout",
     "output_type": "stream",
     "text": [
      "TRAINING BATCH:\t(   60 /   782)\tLOSS:\t0.217\r"
     ]
    },
    {
     "name": "stdout",
     "output_type": "stream",
     "text": [
      "TRAINING BATCH:\t(   70 /   782)\tLOSS:\t0.069\r"
     ]
    },
    {
     "name": "stdout",
     "output_type": "stream",
     "text": [
      "TRAINING BATCH:\t(   80 /   782)\tLOSS:\t0.458\r"
     ]
    },
    {
     "name": "stdout",
     "output_type": "stream",
     "text": [
      "TRAINING BATCH:\t(   90 /   782)\tLOSS:\t0.086\r"
     ]
    },
    {
     "name": "stdout",
     "output_type": "stream",
     "text": [
      "TRAINING BATCH:\t(  100 /   782)\tLOSS:\t0.261\r"
     ]
    },
    {
     "name": "stdout",
     "output_type": "stream",
     "text": [
      "TRAINING BATCH:\t(  110 /   782)\tLOSS:\t0.220\r"
     ]
    },
    {
     "name": "stdout",
     "output_type": "stream",
     "text": [
      "TRAINING BATCH:\t(  120 /   782)\tLOSS:\t0.207\r"
     ]
    },
    {
     "name": "stdout",
     "output_type": "stream",
     "text": [
      "TRAINING BATCH:\t(  130 /   782)\tLOSS:\t0.257\r"
     ]
    },
    {
     "name": "stdout",
     "output_type": "stream",
     "text": [
      "TRAINING BATCH:\t(  140 /   782)\tLOSS:\t0.194\r"
     ]
    },
    {
     "name": "stdout",
     "output_type": "stream",
     "text": [
      "TRAINING BATCH:\t(  150 /   782)\tLOSS:\t0.203\r"
     ]
    },
    {
     "name": "stdout",
     "output_type": "stream",
     "text": [
      "TRAINING BATCH:\t(  160 /   782)\tLOSS:\t0.196\r"
     ]
    },
    {
     "name": "stdout",
     "output_type": "stream",
     "text": [
      "TRAINING BATCH:\t(  170 /   782)\tLOSS:\t0.484\r"
     ]
    },
    {
     "name": "stdout",
     "output_type": "stream",
     "text": [
      "TRAINING BATCH:\t(  180 /   782)\tLOSS:\t0.120\r"
     ]
    },
    {
     "name": "stdout",
     "output_type": "stream",
     "text": [
      "TRAINING BATCH:\t(  190 /   782)\tLOSS:\t0.103\r"
     ]
    },
    {
     "name": "stdout",
     "output_type": "stream",
     "text": [
      "TRAINING BATCH:\t(  200 /   782)\tLOSS:\t0.380\r"
     ]
    },
    {
     "name": "stdout",
     "output_type": "stream",
     "text": [
      "TRAINING BATCH:\t(  210 /   782)\tLOSS:\t0.227\r"
     ]
    },
    {
     "name": "stdout",
     "output_type": "stream",
     "text": [
      "TRAINING BATCH:\t(  220 /   782)\tLOSS:\t0.281\r"
     ]
    },
    {
     "name": "stdout",
     "output_type": "stream",
     "text": [
      "TRAINING BATCH:\t(  230 /   782)\tLOSS:\t0.309\r"
     ]
    },
    {
     "name": "stdout",
     "output_type": "stream",
     "text": [
      "TRAINING BATCH:\t(  240 /   782)\tLOSS:\t0.238\r"
     ]
    },
    {
     "name": "stdout",
     "output_type": "stream",
     "text": [
      "TRAINING BATCH:\t(  250 /   782)\tLOSS:\t0.167\r"
     ]
    },
    {
     "name": "stdout",
     "output_type": "stream",
     "text": [
      "TRAINING BATCH:\t(  260 /   782)\tLOSS:\t0.269\r"
     ]
    },
    {
     "name": "stdout",
     "output_type": "stream",
     "text": [
      "TRAINING BATCH:\t(  270 /   782)\tLOSS:\t0.350\r"
     ]
    },
    {
     "name": "stdout",
     "output_type": "stream",
     "text": [
      "TRAINING BATCH:\t(  280 /   782)\tLOSS:\t0.309\r"
     ]
    },
    {
     "name": "stdout",
     "output_type": "stream",
     "text": [
      "TRAINING BATCH:\t(  290 /   782)\tLOSS:\t0.323\r"
     ]
    },
    {
     "name": "stdout",
     "output_type": "stream",
     "text": [
      "TRAINING BATCH:\t(  300 /   782)\tLOSS:\t0.277\r"
     ]
    },
    {
     "name": "stdout",
     "output_type": "stream",
     "text": [
      "TRAINING BATCH:\t(  310 /   782)\tLOSS:\t0.249\r"
     ]
    },
    {
     "name": "stdout",
     "output_type": "stream",
     "text": [
      "TRAINING BATCH:\t(  320 /   782)\tLOSS:\t0.220\r"
     ]
    },
    {
     "name": "stdout",
     "output_type": "stream",
     "text": [
      "TRAINING BATCH:\t(  330 /   782)\tLOSS:\t0.392\r"
     ]
    },
    {
     "name": "stdout",
     "output_type": "stream",
     "text": [
      "TRAINING BATCH:\t(  340 /   782)\tLOSS:\t0.445\r"
     ]
    },
    {
     "name": "stdout",
     "output_type": "stream",
     "text": [
      "TRAINING BATCH:\t(  350 /   782)\tLOSS:\t0.493\r"
     ]
    },
    {
     "name": "stdout",
     "output_type": "stream",
     "text": [
      "TRAINING BATCH:\t(  360 /   782)\tLOSS:\t0.106\r"
     ]
    },
    {
     "name": "stdout",
     "output_type": "stream",
     "text": [
      "TRAINING BATCH:\t(  370 /   782)\tLOSS:\t0.107\r"
     ]
    },
    {
     "name": "stdout",
     "output_type": "stream",
     "text": [
      "TRAINING BATCH:\t(  380 /   782)\tLOSS:\t0.291\r"
     ]
    },
    {
     "name": "stdout",
     "output_type": "stream",
     "text": [
      "TRAINING BATCH:\t(  390 /   782)\tLOSS:\t0.294\r"
     ]
    },
    {
     "name": "stdout",
     "output_type": "stream",
     "text": [
      "TRAINING BATCH:\t(  400 /   782)\tLOSS:\t0.142\r"
     ]
    },
    {
     "name": "stdout",
     "output_type": "stream",
     "text": [
      "TRAINING BATCH:\t(  410 /   782)\tLOSS:\t0.172\r"
     ]
    },
    {
     "name": "stdout",
     "output_type": "stream",
     "text": [
      "TRAINING BATCH:\t(  420 /   782)\tLOSS:\t0.273\r"
     ]
    },
    {
     "name": "stdout",
     "output_type": "stream",
     "text": [
      "TRAINING BATCH:\t(  430 /   782)\tLOSS:\t0.346\r"
     ]
    },
    {
     "name": "stdout",
     "output_type": "stream",
     "text": [
      "TRAINING BATCH:\t(  440 /   782)\tLOSS:\t0.517\r"
     ]
    },
    {
     "name": "stdout",
     "output_type": "stream",
     "text": [
      "TRAINING BATCH:\t(  450 /   782)\tLOSS:\t0.324\r"
     ]
    },
    {
     "name": "stdout",
     "output_type": "stream",
     "text": [
      "TRAINING BATCH:\t(  460 /   782)\tLOSS:\t0.231\r"
     ]
    },
    {
     "name": "stdout",
     "output_type": "stream",
     "text": [
      "TRAINING BATCH:\t(  470 /   782)\tLOSS:\t0.116\r"
     ]
    },
    {
     "name": "stdout",
     "output_type": "stream",
     "text": [
      "TRAINING BATCH:\t(  480 /   782)\tLOSS:\t0.331\r"
     ]
    },
    {
     "name": "stdout",
     "output_type": "stream",
     "text": [
      "TRAINING BATCH:\t(  490 /   782)\tLOSS:\t0.175\r"
     ]
    },
    {
     "name": "stdout",
     "output_type": "stream",
     "text": [
      "TRAINING BATCH:\t(  500 /   782)\tLOSS:\t0.143\r"
     ]
    },
    {
     "name": "stdout",
     "output_type": "stream",
     "text": [
      "TRAINING BATCH:\t(  510 /   782)\tLOSS:\t0.133\r"
     ]
    },
    {
     "name": "stdout",
     "output_type": "stream",
     "text": [
      "TRAINING BATCH:\t(  520 /   782)\tLOSS:\t0.233\r"
     ]
    },
    {
     "name": "stdout",
     "output_type": "stream",
     "text": [
      "TRAINING BATCH:\t(  530 /   782)\tLOSS:\t0.207\r"
     ]
    },
    {
     "name": "stdout",
     "output_type": "stream",
     "text": [
      "TRAINING BATCH:\t(  540 /   782)\tLOSS:\t0.239\r"
     ]
    },
    {
     "name": "stdout",
     "output_type": "stream",
     "text": [
      "TRAINING BATCH:\t(  550 /   782)\tLOSS:\t0.156\r"
     ]
    },
    {
     "name": "stdout",
     "output_type": "stream",
     "text": [
      "TRAINING BATCH:\t(  560 /   782)\tLOSS:\t0.183\r"
     ]
    },
    {
     "name": "stdout",
     "output_type": "stream",
     "text": [
      "TRAINING BATCH:\t(  570 /   782)\tLOSS:\t0.217\r"
     ]
    },
    {
     "name": "stdout",
     "output_type": "stream",
     "text": [
      "TRAINING BATCH:\t(  580 /   782)\tLOSS:\t0.308\r"
     ]
    },
    {
     "name": "stdout",
     "output_type": "stream",
     "text": [
      "TRAINING BATCH:\t(  590 /   782)\tLOSS:\t0.375\r"
     ]
    },
    {
     "name": "stdout",
     "output_type": "stream",
     "text": [
      "TRAINING BATCH:\t(  600 /   782)\tLOSS:\t0.273\r"
     ]
    },
    {
     "name": "stdout",
     "output_type": "stream",
     "text": [
      "TRAINING BATCH:\t(  610 /   782)\tLOSS:\t0.132\r"
     ]
    },
    {
     "name": "stdout",
     "output_type": "stream",
     "text": [
      "TRAINING BATCH:\t(  620 /   782)\tLOSS:\t0.212\r"
     ]
    },
    {
     "name": "stdout",
     "output_type": "stream",
     "text": [
      "TRAINING BATCH:\t(  630 /   782)\tLOSS:\t0.117\r"
     ]
    },
    {
     "name": "stdout",
     "output_type": "stream",
     "text": [
      "TRAINING BATCH:\t(  640 /   782)\tLOSS:\t0.521\r"
     ]
    },
    {
     "name": "stdout",
     "output_type": "stream",
     "text": [
      "TRAINING BATCH:\t(  650 /   782)\tLOSS:\t0.245\r"
     ]
    },
    {
     "name": "stdout",
     "output_type": "stream",
     "text": [
      "TRAINING BATCH:\t(  660 /   782)\tLOSS:\t0.222\r"
     ]
    },
    {
     "name": "stdout",
     "output_type": "stream",
     "text": [
      "TRAINING BATCH:\t(  670 /   782)\tLOSS:\t0.199\r"
     ]
    },
    {
     "name": "stdout",
     "output_type": "stream",
     "text": [
      "TRAINING BATCH:\t(  680 /   782)\tLOSS:\t0.292\r"
     ]
    },
    {
     "name": "stdout",
     "output_type": "stream",
     "text": [
      "TRAINING BATCH:\t(  690 /   782)\tLOSS:\t0.376\r"
     ]
    },
    {
     "name": "stdout",
     "output_type": "stream",
     "text": [
      "TRAINING BATCH:\t(  700 /   782)\tLOSS:\t0.259\r"
     ]
    },
    {
     "name": "stdout",
     "output_type": "stream",
     "text": [
      "TRAINING BATCH:\t(  710 /   782)\tLOSS:\t0.251\r"
     ]
    },
    {
     "name": "stdout",
     "output_type": "stream",
     "text": [
      "TRAINING BATCH:\t(  720 /   782)\tLOSS:\t0.167\r"
     ]
    },
    {
     "name": "stdout",
     "output_type": "stream",
     "text": [
      "TRAINING BATCH:\t(  730 /   782)\tLOSS:\t0.296\r"
     ]
    },
    {
     "name": "stdout",
     "output_type": "stream",
     "text": [
      "TRAINING BATCH:\t(  740 /   782)\tLOSS:\t0.287\r"
     ]
    },
    {
     "name": "stdout",
     "output_type": "stream",
     "text": [
      "TRAINING BATCH:\t(  750 /   782)\tLOSS:\t0.319\r"
     ]
    },
    {
     "name": "stdout",
     "output_type": "stream",
     "text": [
      "TRAINING BATCH:\t(  760 /   782)\tLOSS:\t0.165\r"
     ]
    },
    {
     "name": "stdout",
     "output_type": "stream",
     "text": [
      "TRAINING BATCH:\t(  770 /   782)\tLOSS:\t0.161\r"
     ]
    },
    {
     "name": "stdout",
     "output_type": "stream",
     "text": [
      "TRAINING BATCH:\t(  780 /   782)\tLOSS:\t0.428\r",
      "TEST BATCH:\t(    0 /   782)\tLOSS:\t0.305\r"
     ]
    },
    {
     "name": "stdout",
     "output_type": "stream",
     "text": [
      "TEST BATCH:\t(   50 /   782)\tLOSS:\t0.257\r"
     ]
    },
    {
     "name": "stdout",
     "output_type": "stream",
     "text": [
      "TEST BATCH:\t(  100 /   782)\tLOSS:\t0.378\r"
     ]
    },
    {
     "name": "stdout",
     "output_type": "stream",
     "text": [
      "TEST BATCH:\t(  150 /   782)\tLOSS:\t0.325\r"
     ]
    },
    {
     "name": "stdout",
     "output_type": "stream",
     "text": [
      "TEST BATCH:\t(  200 /   782)\tLOSS:\t0.282\r"
     ]
    },
    {
     "name": "stdout",
     "output_type": "stream",
     "text": [
      "TEST BATCH:\t(  250 /   782)\tLOSS:\t0.336\r"
     ]
    },
    {
     "name": "stdout",
     "output_type": "stream",
     "text": [
      "TEST BATCH:\t(  300 /   782)\tLOSS:\t0.432\r"
     ]
    },
    {
     "name": "stdout",
     "output_type": "stream",
     "text": [
      "TEST BATCH:\t(  350 /   782)\tLOSS:\t0.658\r"
     ]
    },
    {
     "name": "stdout",
     "output_type": "stream",
     "text": [
      "TEST BATCH:\t(  400 /   782)\tLOSS:\t0.381\r"
     ]
    },
    {
     "name": "stdout",
     "output_type": "stream",
     "text": [
      "TEST BATCH:\t(  450 /   782)\tLOSS:\t0.217\r"
     ]
    },
    {
     "name": "stdout",
     "output_type": "stream",
     "text": [
      "TEST BATCH:\t(  500 /   782)\tLOSS:\t0.280\r"
     ]
    },
    {
     "name": "stdout",
     "output_type": "stream",
     "text": [
      "TEST BATCH:\t(  550 /   782)\tLOSS:\t0.282\r"
     ]
    },
    {
     "name": "stdout",
     "output_type": "stream",
     "text": [
      "TEST BATCH:\t(  600 /   782)\tLOSS:\t0.351\r"
     ]
    },
    {
     "name": "stdout",
     "output_type": "stream",
     "text": [
      "TEST BATCH:\t(  650 /   782)\tLOSS:\t0.575\r"
     ]
    },
    {
     "name": "stdout",
     "output_type": "stream",
     "text": [
      "TEST BATCH:\t(  700 /   782)\tLOSS:\t0.278\r"
     ]
    },
    {
     "name": "stdout",
     "output_type": "stream",
     "text": [
      "TEST BATCH:\t(  750 /   782)\tLOSS:\t0.405\r"
     ]
    },
    {
     "name": "stdout",
     "output_type": "stream",
     "text": [
      "EPOCH:\t    6\tTRAIN LOSS:\t0.007\tTRAIN ACCURACY:\t0.907\tTEST LOSS:\t0.012\tTEST ACCURACY:\t0.846\n",
      "TRAINING BATCH:\t(    0 /   782)\tLOSS:\t0.196\r"
     ]
    },
    {
     "name": "stdout",
     "output_type": "stream",
     "text": [
      "TRAINING BATCH:\t(   10 /   782)\tLOSS:\t0.166\r"
     ]
    },
    {
     "name": "stdout",
     "output_type": "stream",
     "text": [
      "TRAINING BATCH:\t(   20 /   782)\tLOSS:\t0.102\r"
     ]
    },
    {
     "name": "stdout",
     "output_type": "stream",
     "text": [
      "TRAINING BATCH:\t(   30 /   782)\tLOSS:\t0.231\r"
     ]
    },
    {
     "name": "stdout",
     "output_type": "stream",
     "text": [
      "TRAINING BATCH:\t(   40 /   782)\tLOSS:\t0.220\r"
     ]
    },
    {
     "name": "stdout",
     "output_type": "stream",
     "text": [
      "TRAINING BATCH:\t(   50 /   782)\tLOSS:\t0.039\r"
     ]
    },
    {
     "name": "stdout",
     "output_type": "stream",
     "text": [
      "TRAINING BATCH:\t(   60 /   782)\tLOSS:\t0.078\r"
     ]
    },
    {
     "name": "stdout",
     "output_type": "stream",
     "text": [
      "TRAINING BATCH:\t(   70 /   782)\tLOSS:\t0.229\r"
     ]
    },
    {
     "name": "stdout",
     "output_type": "stream",
     "text": [
      "TRAINING BATCH:\t(   80 /   782)\tLOSS:\t0.405\r"
     ]
    },
    {
     "name": "stdout",
     "output_type": "stream",
     "text": [
      "TRAINING BATCH:\t(   90 /   782)\tLOSS:\t0.112\r"
     ]
    },
    {
     "name": "stdout",
     "output_type": "stream",
     "text": [
      "TRAINING BATCH:\t(  100 /   782)\tLOSS:\t0.177\r"
     ]
    },
    {
     "name": "stdout",
     "output_type": "stream",
     "text": [
      "TRAINING BATCH:\t(  110 /   782)\tLOSS:\t0.060\r"
     ]
    },
    {
     "name": "stdout",
     "output_type": "stream",
     "text": [
      "TRAINING BATCH:\t(  120 /   782)\tLOSS:\t0.080\r"
     ]
    },
    {
     "name": "stdout",
     "output_type": "stream",
     "text": [
      "TRAINING BATCH:\t(  130 /   782)\tLOSS:\t0.159\r"
     ]
    },
    {
     "name": "stdout",
     "output_type": "stream",
     "text": [
      "TRAINING BATCH:\t(  140 /   782)\tLOSS:\t0.244\r"
     ]
    },
    {
     "name": "stdout",
     "output_type": "stream",
     "text": [
      "TRAINING BATCH:\t(  150 /   782)\tLOSS:\t0.184\r"
     ]
    },
    {
     "name": "stdout",
     "output_type": "stream",
     "text": [
      "TRAINING BATCH:\t(  160 /   782)\tLOSS:\t0.119\r"
     ]
    },
    {
     "name": "stdout",
     "output_type": "stream",
     "text": [
      "TRAINING BATCH:\t(  170 /   782)\tLOSS:\t0.054\r"
     ]
    },
    {
     "name": "stdout",
     "output_type": "stream",
     "text": [
      "TRAINING BATCH:\t(  180 /   782)\tLOSS:\t0.187\r"
     ]
    },
    {
     "name": "stdout",
     "output_type": "stream",
     "text": [
      "TRAINING BATCH:\t(  190 /   782)\tLOSS:\t0.280\r"
     ]
    },
    {
     "name": "stdout",
     "output_type": "stream",
     "text": [
      "TRAINING BATCH:\t(  200 /   782)\tLOSS:\t0.164\r"
     ]
    },
    {
     "name": "stdout",
     "output_type": "stream",
     "text": [
      "TRAINING BATCH:\t(  210 /   782)\tLOSS:\t0.222\r"
     ]
    },
    {
     "name": "stdout",
     "output_type": "stream",
     "text": [
      "TRAINING BATCH:\t(  220 /   782)\tLOSS:\t0.203\r"
     ]
    },
    {
     "name": "stdout",
     "output_type": "stream",
     "text": [
      "TRAINING BATCH:\t(  230 /   782)\tLOSS:\t0.153\r"
     ]
    },
    {
     "name": "stdout",
     "output_type": "stream",
     "text": [
      "TRAINING BATCH:\t(  240 /   782)\tLOSS:\t0.274\r"
     ]
    },
    {
     "name": "stdout",
     "output_type": "stream",
     "text": [
      "TRAINING BATCH:\t(  250 /   782)\tLOSS:\t0.047\r"
     ]
    },
    {
     "name": "stdout",
     "output_type": "stream",
     "text": [
      "TRAINING BATCH:\t(  260 /   782)\tLOSS:\t0.148\r"
     ]
    },
    {
     "name": "stdout",
     "output_type": "stream",
     "text": [
      "TRAINING BATCH:\t(  270 /   782)\tLOSS:\t0.181\r"
     ]
    },
    {
     "name": "stdout",
     "output_type": "stream",
     "text": [
      "TRAINING BATCH:\t(  280 /   782)\tLOSS:\t0.364\r"
     ]
    },
    {
     "name": "stdout",
     "output_type": "stream",
     "text": [
      "TRAINING BATCH:\t(  290 /   782)\tLOSS:\t0.200\r"
     ]
    },
    {
     "name": "stdout",
     "output_type": "stream",
     "text": [
      "TRAINING BATCH:\t(  300 /   782)\tLOSS:\t0.212\r"
     ]
    },
    {
     "name": "stdout",
     "output_type": "stream",
     "text": [
      "TRAINING BATCH:\t(  310 /   782)\tLOSS:\t0.265\r"
     ]
    },
    {
     "name": "stdout",
     "output_type": "stream",
     "text": [
      "TRAINING BATCH:\t(  320 /   782)\tLOSS:\t0.102\r"
     ]
    },
    {
     "name": "stdout",
     "output_type": "stream",
     "text": [
      "TRAINING BATCH:\t(  330 /   782)\tLOSS:\t0.072\r"
     ]
    },
    {
     "name": "stdout",
     "output_type": "stream",
     "text": [
      "TRAINING BATCH:\t(  340 /   782)\tLOSS:\t0.101\r"
     ]
    },
    {
     "name": "stdout",
     "output_type": "stream",
     "text": [
      "TRAINING BATCH:\t(  350 /   782)\tLOSS:\t0.210\r"
     ]
    },
    {
     "name": "stdout",
     "output_type": "stream",
     "text": [
      "TRAINING BATCH:\t(  360 /   782)\tLOSS:\t0.170\r"
     ]
    },
    {
     "name": "stdout",
     "output_type": "stream",
     "text": [
      "TRAINING BATCH:\t(  370 /   782)\tLOSS:\t0.128\r"
     ]
    },
    {
     "name": "stdout",
     "output_type": "stream",
     "text": [
      "TRAINING BATCH:\t(  380 /   782)\tLOSS:\t0.085\r"
     ]
    },
    {
     "name": "stdout",
     "output_type": "stream",
     "text": [
      "TRAINING BATCH:\t(  390 /   782)\tLOSS:\t0.187\r"
     ]
    },
    {
     "name": "stdout",
     "output_type": "stream",
     "text": [
      "TRAINING BATCH:\t(  400 /   782)\tLOSS:\t0.307\r"
     ]
    },
    {
     "name": "stdout",
     "output_type": "stream",
     "text": [
      "TRAINING BATCH:\t(  410 /   782)\tLOSS:\t0.330\r"
     ]
    },
    {
     "name": "stdout",
     "output_type": "stream",
     "text": [
      "TRAINING BATCH:\t(  420 /   782)\tLOSS:\t0.363\r"
     ]
    },
    {
     "name": "stdout",
     "output_type": "stream",
     "text": [
      "TRAINING BATCH:\t(  430 /   782)\tLOSS:\t0.116\r"
     ]
    },
    {
     "name": "stdout",
     "output_type": "stream",
     "text": [
      "TRAINING BATCH:\t(  440 /   782)\tLOSS:\t0.255\r"
     ]
    },
    {
     "name": "stdout",
     "output_type": "stream",
     "text": [
      "TRAINING BATCH:\t(  450 /   782)\tLOSS:\t0.251\r"
     ]
    },
    {
     "name": "stdout",
     "output_type": "stream",
     "text": [
      "TRAINING BATCH:\t(  460 /   782)\tLOSS:\t0.110\r"
     ]
    },
    {
     "name": "stdout",
     "output_type": "stream",
     "text": [
      "TRAINING BATCH:\t(  470 /   782)\tLOSS:\t0.134\r"
     ]
    },
    {
     "name": "stdout",
     "output_type": "stream",
     "text": [
      "TRAINING BATCH:\t(  480 /   782)\tLOSS:\t0.125\r"
     ]
    },
    {
     "name": "stdout",
     "output_type": "stream",
     "text": [
      "TRAINING BATCH:\t(  490 /   782)\tLOSS:\t0.337\r"
     ]
    },
    {
     "name": "stdout",
     "output_type": "stream",
     "text": [
      "TRAINING BATCH:\t(  500 /   782)\tLOSS:\t0.239\r"
     ]
    },
    {
     "name": "stdout",
     "output_type": "stream",
     "text": [
      "TRAINING BATCH:\t(  510 /   782)\tLOSS:\t0.156\r"
     ]
    },
    {
     "name": "stdout",
     "output_type": "stream",
     "text": [
      "TRAINING BATCH:\t(  520 /   782)\tLOSS:\t0.350\r"
     ]
    },
    {
     "name": "stdout",
     "output_type": "stream",
     "text": [
      "TRAINING BATCH:\t(  530 /   782)\tLOSS:\t0.301\r"
     ]
    },
    {
     "name": "stdout",
     "output_type": "stream",
     "text": [
      "TRAINING BATCH:\t(  540 /   782)\tLOSS:\t0.240\r"
     ]
    },
    {
     "name": "stdout",
     "output_type": "stream",
     "text": [
      "TRAINING BATCH:\t(  550 /   782)\tLOSS:\t0.138\r"
     ]
    },
    {
     "name": "stdout",
     "output_type": "stream",
     "text": [
      "TRAINING BATCH:\t(  560 /   782)\tLOSS:\t0.205\r"
     ]
    },
    {
     "name": "stdout",
     "output_type": "stream",
     "text": [
      "TRAINING BATCH:\t(  570 /   782)\tLOSS:\t0.069\r"
     ]
    },
    {
     "name": "stdout",
     "output_type": "stream",
     "text": [
      "TRAINING BATCH:\t(  580 /   782)\tLOSS:\t0.084\r"
     ]
    },
    {
     "name": "stdout",
     "output_type": "stream",
     "text": [
      "TRAINING BATCH:\t(  590 /   782)\tLOSS:\t0.150\r"
     ]
    },
    {
     "name": "stdout",
     "output_type": "stream",
     "text": [
      "TRAINING BATCH:\t(  600 /   782)\tLOSS:\t0.100\r"
     ]
    },
    {
     "name": "stdout",
     "output_type": "stream",
     "text": [
      "TRAINING BATCH:\t(  610 /   782)\tLOSS:\t0.161\r"
     ]
    },
    {
     "name": "stdout",
     "output_type": "stream",
     "text": [
      "TRAINING BATCH:\t(  620 /   782)\tLOSS:\t0.146\r"
     ]
    },
    {
     "name": "stdout",
     "output_type": "stream",
     "text": [
      "TRAINING BATCH:\t(  630 /   782)\tLOSS:\t0.257\r"
     ]
    },
    {
     "name": "stdout",
     "output_type": "stream",
     "text": [
      "TRAINING BATCH:\t(  640 /   782)\tLOSS:\t0.138\r"
     ]
    },
    {
     "name": "stdout",
     "output_type": "stream",
     "text": [
      "TRAINING BATCH:\t(  650 /   782)\tLOSS:\t0.255\r"
     ]
    },
    {
     "name": "stdout",
     "output_type": "stream",
     "text": [
      "TRAINING BATCH:\t(  660 /   782)\tLOSS:\t0.481\r"
     ]
    },
    {
     "name": "stdout",
     "output_type": "stream",
     "text": [
      "TRAINING BATCH:\t(  670 /   782)\tLOSS:\t0.055\r"
     ]
    },
    {
     "name": "stdout",
     "output_type": "stream",
     "text": [
      "TRAINING BATCH:\t(  680 /   782)\tLOSS:\t0.233\r"
     ]
    },
    {
     "name": "stdout",
     "output_type": "stream",
     "text": [
      "TRAINING BATCH:\t(  690 /   782)\tLOSS:\t0.307\r"
     ]
    },
    {
     "name": "stdout",
     "output_type": "stream",
     "text": [
      "TRAINING BATCH:\t(  700 /   782)\tLOSS:\t0.134\r"
     ]
    },
    {
     "name": "stdout",
     "output_type": "stream",
     "text": [
      "TRAINING BATCH:\t(  710 /   782)\tLOSS:\t0.117\r"
     ]
    },
    {
     "name": "stdout",
     "output_type": "stream",
     "text": [
      "TRAINING BATCH:\t(  720 /   782)\tLOSS:\t0.213\r"
     ]
    },
    {
     "name": "stdout",
     "output_type": "stream",
     "text": [
      "TRAINING BATCH:\t(  730 /   782)\tLOSS:\t0.104\r"
     ]
    },
    {
     "name": "stdout",
     "output_type": "stream",
     "text": [
      "TRAINING BATCH:\t(  740 /   782)\tLOSS:\t0.149\r"
     ]
    },
    {
     "name": "stdout",
     "output_type": "stream",
     "text": [
      "TRAINING BATCH:\t(  750 /   782)\tLOSS:\t0.046\r"
     ]
    },
    {
     "name": "stdout",
     "output_type": "stream",
     "text": [
      "TRAINING BATCH:\t(  760 /   782)\tLOSS:\t0.244\r"
     ]
    },
    {
     "name": "stdout",
     "output_type": "stream",
     "text": [
      "TRAINING BATCH:\t(  770 /   782)\tLOSS:\t0.318\r"
     ]
    },
    {
     "name": "stdout",
     "output_type": "stream",
     "text": [
      "TRAINING BATCH:\t(  780 /   782)\tLOSS:\t0.231\r",
      "TEST BATCH:\t(    0 /   782)\tLOSS:\t0.271\r"
     ]
    },
    {
     "name": "stdout",
     "output_type": "stream",
     "text": [
      "TEST BATCH:\t(   50 /   782)\tLOSS:\t0.401\r"
     ]
    },
    {
     "name": "stdout",
     "output_type": "stream",
     "text": [
      "TEST BATCH:\t(  100 /   782)\tLOSS:\t0.521\r"
     ]
    },
    {
     "name": "stdout",
     "output_type": "stream",
     "text": [
      "TEST BATCH:\t(  150 /   782)\tLOSS:\t0.342\r"
     ]
    },
    {
     "name": "stdout",
     "output_type": "stream",
     "text": [
      "TEST BATCH:\t(  200 /   782)\tLOSS:\t0.324\r"
     ]
    },
    {
     "name": "stdout",
     "output_type": "stream",
     "text": [
      "TEST BATCH:\t(  250 /   782)\tLOSS:\t0.369\r"
     ]
    },
    {
     "name": "stdout",
     "output_type": "stream",
     "text": [
      "TEST BATCH:\t(  300 /   782)\tLOSS:\t0.488\r"
     ]
    },
    {
     "name": "stdout",
     "output_type": "stream",
     "text": [
      "TEST BATCH:\t(  350 /   782)\tLOSS:\t0.566\r"
     ]
    },
    {
     "name": "stdout",
     "output_type": "stream",
     "text": [
      "TEST BATCH:\t(  400 /   782)\tLOSS:\t0.310\r"
     ]
    },
    {
     "name": "stdout",
     "output_type": "stream",
     "text": [
      "TEST BATCH:\t(  450 /   782)\tLOSS:\t0.179\r"
     ]
    },
    {
     "name": "stdout",
     "output_type": "stream",
     "text": [
      "TEST BATCH:\t(  500 /   782)\tLOSS:\t0.387\r"
     ]
    },
    {
     "name": "stdout",
     "output_type": "stream",
     "text": [
      "TEST BATCH:\t(  550 /   782)\tLOSS:\t0.307\r"
     ]
    },
    {
     "name": "stdout",
     "output_type": "stream",
     "text": [
      "TEST BATCH:\t(  600 /   782)\tLOSS:\t0.360\r"
     ]
    },
    {
     "name": "stdout",
     "output_type": "stream",
     "text": [
      "TEST BATCH:\t(  650 /   782)\tLOSS:\t0.763\r"
     ]
    },
    {
     "name": "stdout",
     "output_type": "stream",
     "text": [
      "TEST BATCH:\t(  700 /   782)\tLOSS:\t0.183\r"
     ]
    },
    {
     "name": "stdout",
     "output_type": "stream",
     "text": [
      "TEST BATCH:\t(  750 /   782)\tLOSS:\t0.405\r"
     ]
    },
    {
     "name": "stdout",
     "output_type": "stream",
     "text": [
      "EPOCH:\t    7\tTRAIN LOSS:\t0.006\tTRAIN ACCURACY:\t0.935\tTEST LOSS:\t0.012\tTEST ACCURACY:\t0.851\n",
      "TRAINING BATCH:\t(    0 /   782)\tLOSS:\t0.058\r"
     ]
    },
    {
     "name": "stdout",
     "output_type": "stream",
     "text": [
      "TRAINING BATCH:\t(   10 /   782)\tLOSS:\t0.078\r"
     ]
    },
    {
     "name": "stdout",
     "output_type": "stream",
     "text": [
      "TRAINING BATCH:\t(   20 /   782)\tLOSS:\t0.138\r"
     ]
    },
    {
     "name": "stdout",
     "output_type": "stream",
     "text": [
      "TRAINING BATCH:\t(   30 /   782)\tLOSS:\t0.394\r"
     ]
    },
    {
     "name": "stdout",
     "output_type": "stream",
     "text": [
      "TRAINING BATCH:\t(   40 /   782)\tLOSS:\t0.047\r"
     ]
    },
    {
     "name": "stdout",
     "output_type": "stream",
     "text": [
      "TRAINING BATCH:\t(   50 /   782)\tLOSS:\t0.055\r"
     ]
    },
    {
     "name": "stdout",
     "output_type": "stream",
     "text": [
      "TRAINING BATCH:\t(   60 /   782)\tLOSS:\t0.026\r"
     ]
    },
    {
     "name": "stdout",
     "output_type": "stream",
     "text": [
      "TRAINING BATCH:\t(   70 /   782)\tLOSS:\t0.053\r"
     ]
    },
    {
     "name": "stdout",
     "output_type": "stream",
     "text": [
      "TRAINING BATCH:\t(   80 /   782)\tLOSS:\t0.099\r"
     ]
    },
    {
     "name": "stdout",
     "output_type": "stream",
     "text": [
      "TRAINING BATCH:\t(   90 /   782)\tLOSS:\t0.128\r"
     ]
    },
    {
     "name": "stdout",
     "output_type": "stream",
     "text": [
      "TRAINING BATCH:\t(  100 /   782)\tLOSS:\t0.042\r"
     ]
    },
    {
     "name": "stdout",
     "output_type": "stream",
     "text": [
      "TRAINING BATCH:\t(  110 /   782)\tLOSS:\t0.130\r"
     ]
    },
    {
     "name": "stdout",
     "output_type": "stream",
     "text": [
      "TRAINING BATCH:\t(  120 /   782)\tLOSS:\t0.246\r"
     ]
    },
    {
     "name": "stdout",
     "output_type": "stream",
     "text": [
      "TRAINING BATCH:\t(  130 /   782)\tLOSS:\t0.015\r"
     ]
    },
    {
     "name": "stdout",
     "output_type": "stream",
     "text": [
      "TRAINING BATCH:\t(  140 /   782)\tLOSS:\t0.177\r"
     ]
    },
    {
     "name": "stdout",
     "output_type": "stream",
     "text": [
      "TRAINING BATCH:\t(  150 /   782)\tLOSS:\t0.058\r"
     ]
    },
    {
     "name": "stdout",
     "output_type": "stream",
     "text": [
      "TRAINING BATCH:\t(  160 /   782)\tLOSS:\t0.150\r"
     ]
    },
    {
     "name": "stdout",
     "output_type": "stream",
     "text": [
      "TRAINING BATCH:\t(  170 /   782)\tLOSS:\t0.157\r"
     ]
    },
    {
     "name": "stdout",
     "output_type": "stream",
     "text": [
      "TRAINING BATCH:\t(  180 /   782)\tLOSS:\t0.069\r"
     ]
    },
    {
     "name": "stdout",
     "output_type": "stream",
     "text": [
      "TRAINING BATCH:\t(  190 /   782)\tLOSS:\t0.168\r"
     ]
    },
    {
     "name": "stdout",
     "output_type": "stream",
     "text": [
      "TRAINING BATCH:\t(  200 /   782)\tLOSS:\t0.048\r"
     ]
    },
    {
     "name": "stdout",
     "output_type": "stream",
     "text": [
      "TRAINING BATCH:\t(  210 /   782)\tLOSS:\t0.266\r"
     ]
    },
    {
     "name": "stdout",
     "output_type": "stream",
     "text": [
      "TRAINING BATCH:\t(  220 /   782)\tLOSS:\t0.111\r"
     ]
    },
    {
     "name": "stdout",
     "output_type": "stream",
     "text": [
      "TRAINING BATCH:\t(  230 /   782)\tLOSS:\t0.281\r"
     ]
    },
    {
     "name": "stdout",
     "output_type": "stream",
     "text": [
      "TRAINING BATCH:\t(  240 /   782)\tLOSS:\t0.038\r"
     ]
    },
    {
     "name": "stdout",
     "output_type": "stream",
     "text": [
      "TRAINING BATCH:\t(  250 /   782)\tLOSS:\t0.155\r"
     ]
    },
    {
     "name": "stdout",
     "output_type": "stream",
     "text": [
      "TRAINING BATCH:\t(  260 /   782)\tLOSS:\t0.059\r"
     ]
    },
    {
     "name": "stdout",
     "output_type": "stream",
     "text": [
      "TRAINING BATCH:\t(  270 /   782)\tLOSS:\t0.178\r"
     ]
    },
    {
     "name": "stdout",
     "output_type": "stream",
     "text": [
      "TRAINING BATCH:\t(  280 /   782)\tLOSS:\t0.069\r"
     ]
    },
    {
     "name": "stdout",
     "output_type": "stream",
     "text": [
      "TRAINING BATCH:\t(  290 /   782)\tLOSS:\t0.034\r"
     ]
    },
    {
     "name": "stdout",
     "output_type": "stream",
     "text": [
      "TRAINING BATCH:\t(  300 /   782)\tLOSS:\t0.132\r"
     ]
    },
    {
     "name": "stdout",
     "output_type": "stream",
     "text": [
      "TRAINING BATCH:\t(  310 /   782)\tLOSS:\t0.143\r"
     ]
    },
    {
     "name": "stdout",
     "output_type": "stream",
     "text": [
      "TRAINING BATCH:\t(  320 /   782)\tLOSS:\t0.157\r"
     ]
    },
    {
     "name": "stdout",
     "output_type": "stream",
     "text": [
      "TRAINING BATCH:\t(  330 /   782)\tLOSS:\t0.079\r"
     ]
    },
    {
     "name": "stdout",
     "output_type": "stream",
     "text": [
      "TRAINING BATCH:\t(  340 /   782)\tLOSS:\t0.313\r"
     ]
    },
    {
     "name": "stdout",
     "output_type": "stream",
     "text": [
      "TRAINING BATCH:\t(  350 /   782)\tLOSS:\t0.066\r"
     ]
    },
    {
     "name": "stdout",
     "output_type": "stream",
     "text": [
      "TRAINING BATCH:\t(  360 /   782)\tLOSS:\t0.040\r"
     ]
    },
    {
     "name": "stdout",
     "output_type": "stream",
     "text": [
      "TRAINING BATCH:\t(  370 /   782)\tLOSS:\t0.033\r"
     ]
    },
    {
     "name": "stdout",
     "output_type": "stream",
     "text": [
      "TRAINING BATCH:\t(  380 /   782)\tLOSS:\t0.291\r"
     ]
    },
    {
     "name": "stdout",
     "output_type": "stream",
     "text": [
      "TRAINING BATCH:\t(  390 /   782)\tLOSS:\t0.291\r"
     ]
    },
    {
     "name": "stdout",
     "output_type": "stream",
     "text": [
      "TRAINING BATCH:\t(  400 /   782)\tLOSS:\t0.099\r"
     ]
    },
    {
     "name": "stdout",
     "output_type": "stream",
     "text": [
      "TRAINING BATCH:\t(  410 /   782)\tLOSS:\t0.071\r"
     ]
    },
    {
     "name": "stdout",
     "output_type": "stream",
     "text": [
      "TRAINING BATCH:\t(  420 /   782)\tLOSS:\t0.073\r"
     ]
    },
    {
     "name": "stdout",
     "output_type": "stream",
     "text": [
      "TRAINING BATCH:\t(  430 /   782)\tLOSS:\t0.095\r"
     ]
    },
    {
     "name": "stdout",
     "output_type": "stream",
     "text": [
      "TRAINING BATCH:\t(  440 /   782)\tLOSS:\t0.114\r"
     ]
    },
    {
     "name": "stdout",
     "output_type": "stream",
     "text": [
      "TRAINING BATCH:\t(  450 /   782)\tLOSS:\t0.420\r"
     ]
    },
    {
     "name": "stdout",
     "output_type": "stream",
     "text": [
      "TRAINING BATCH:\t(  460 /   782)\tLOSS:\t0.171\r"
     ]
    },
    {
     "name": "stdout",
     "output_type": "stream",
     "text": [
      "TRAINING BATCH:\t(  470 /   782)\tLOSS:\t0.178\r"
     ]
    },
    {
     "name": "stdout",
     "output_type": "stream",
     "text": [
      "TRAINING BATCH:\t(  480 /   782)\tLOSS:\t0.098\r"
     ]
    },
    {
     "name": "stdout",
     "output_type": "stream",
     "text": [
      "TRAINING BATCH:\t(  490 /   782)\tLOSS:\t0.045\r"
     ]
    },
    {
     "name": "stdout",
     "output_type": "stream",
     "text": [
      "TRAINING BATCH:\t(  500 /   782)\tLOSS:\t0.054\r"
     ]
    },
    {
     "name": "stdout",
     "output_type": "stream",
     "text": [
      "TRAINING BATCH:\t(  510 /   782)\tLOSS:\t0.127\r"
     ]
    },
    {
     "name": "stdout",
     "output_type": "stream",
     "text": [
      "TRAINING BATCH:\t(  520 /   782)\tLOSS:\t0.049\r"
     ]
    },
    {
     "name": "stdout",
     "output_type": "stream",
     "text": [
      "TRAINING BATCH:\t(  530 /   782)\tLOSS:\t0.219\r"
     ]
    },
    {
     "name": "stdout",
     "output_type": "stream",
     "text": [
      "TRAINING BATCH:\t(  540 /   782)\tLOSS:\t0.065\r"
     ]
    },
    {
     "name": "stdout",
     "output_type": "stream",
     "text": [
      "TRAINING BATCH:\t(  550 /   782)\tLOSS:\t0.036\r"
     ]
    },
    {
     "name": "stdout",
     "output_type": "stream",
     "text": [
      "TRAINING BATCH:\t(  560 /   782)\tLOSS:\t0.067\r"
     ]
    },
    {
     "name": "stdout",
     "output_type": "stream",
     "text": [
      "TRAINING BATCH:\t(  570 /   782)\tLOSS:\t0.076\r"
     ]
    },
    {
     "name": "stdout",
     "output_type": "stream",
     "text": [
      "TRAINING BATCH:\t(  580 /   782)\tLOSS:\t0.084\r"
     ]
    },
    {
     "name": "stdout",
     "output_type": "stream",
     "text": [
      "TRAINING BATCH:\t(  590 /   782)\tLOSS:\t0.059\r"
     ]
    },
    {
     "name": "stdout",
     "output_type": "stream",
     "text": [
      "TRAINING BATCH:\t(  600 /   782)\tLOSS:\t0.149\r"
     ]
    },
    {
     "name": "stdout",
     "output_type": "stream",
     "text": [
      "TRAINING BATCH:\t(  610 /   782)\tLOSS:\t0.027\r"
     ]
    },
    {
     "name": "stdout",
     "output_type": "stream",
     "text": [
      "TRAINING BATCH:\t(  620 /   782)\tLOSS:\t0.216\r"
     ]
    },
    {
     "name": "stdout",
     "output_type": "stream",
     "text": [
      "TRAINING BATCH:\t(  630 /   782)\tLOSS:\t0.217\r"
     ]
    },
    {
     "name": "stdout",
     "output_type": "stream",
     "text": [
      "TRAINING BATCH:\t(  640 /   782)\tLOSS:\t0.169\r"
     ]
    },
    {
     "name": "stdout",
     "output_type": "stream",
     "text": [
      "TRAINING BATCH:\t(  650 /   782)\tLOSS:\t0.118\r"
     ]
    },
    {
     "name": "stdout",
     "output_type": "stream",
     "text": [
      "TRAINING BATCH:\t(  660 /   782)\tLOSS:\t0.072\r"
     ]
    },
    {
     "name": "stdout",
     "output_type": "stream",
     "text": [
      "TRAINING BATCH:\t(  670 /   782)\tLOSS:\t0.106\r"
     ]
    },
    {
     "name": "stdout",
     "output_type": "stream",
     "text": [
      "TRAINING BATCH:\t(  680 /   782)\tLOSS:\t0.285\r"
     ]
    },
    {
     "name": "stdout",
     "output_type": "stream",
     "text": [
      "TRAINING BATCH:\t(  690 /   782)\tLOSS:\t0.165\r"
     ]
    },
    {
     "name": "stdout",
     "output_type": "stream",
     "text": [
      "TRAINING BATCH:\t(  700 /   782)\tLOSS:\t0.092\r"
     ]
    },
    {
     "name": "stdout",
     "output_type": "stream",
     "text": [
      "TRAINING BATCH:\t(  710 /   782)\tLOSS:\t0.318\r"
     ]
    },
    {
     "name": "stdout",
     "output_type": "stream",
     "text": [
      "TRAINING BATCH:\t(  720 /   782)\tLOSS:\t0.057\r"
     ]
    },
    {
     "name": "stdout",
     "output_type": "stream",
     "text": [
      "TRAINING BATCH:\t(  730 /   782)\tLOSS:\t0.049\r"
     ]
    },
    {
     "name": "stdout",
     "output_type": "stream",
     "text": [
      "TRAINING BATCH:\t(  740 /   782)\tLOSS:\t0.100\r"
     ]
    },
    {
     "name": "stdout",
     "output_type": "stream",
     "text": [
      "TRAINING BATCH:\t(  750 /   782)\tLOSS:\t0.038\r"
     ]
    },
    {
     "name": "stdout",
     "output_type": "stream",
     "text": [
      "TRAINING BATCH:\t(  760 /   782)\tLOSS:\t0.200\r"
     ]
    },
    {
     "name": "stdout",
     "output_type": "stream",
     "text": [
      "TRAINING BATCH:\t(  770 /   782)\tLOSS:\t0.058\r"
     ]
    },
    {
     "name": "stdout",
     "output_type": "stream",
     "text": [
      "TRAINING BATCH:\t(  780 /   782)\tLOSS:\t0.240\r",
      "TEST BATCH:\t(    0 /   782)\tLOSS:\t0.278\r"
     ]
    },
    {
     "name": "stdout",
     "output_type": "stream",
     "text": [
      "TEST BATCH:\t(   50 /   782)\tLOSS:\t0.238\r"
     ]
    },
    {
     "name": "stdout",
     "output_type": "stream",
     "text": [
      "TEST BATCH:\t(  100 /   782)\tLOSS:\t0.577\r"
     ]
    },
    {
     "name": "stdout",
     "output_type": "stream",
     "text": [
      "TEST BATCH:\t(  150 /   782)\tLOSS:\t0.368\r"
     ]
    },
    {
     "name": "stdout",
     "output_type": "stream",
     "text": [
      "TEST BATCH:\t(  200 /   782)\tLOSS:\t0.410\r"
     ]
    },
    {
     "name": "stdout",
     "output_type": "stream",
     "text": [
      "TEST BATCH:\t(  250 /   782)\tLOSS:\t0.368\r"
     ]
    },
    {
     "name": "stdout",
     "output_type": "stream",
     "text": [
      "TEST BATCH:\t(  300 /   782)\tLOSS:\t0.637\r"
     ]
    },
    {
     "name": "stdout",
     "output_type": "stream",
     "text": [
      "TEST BATCH:\t(  350 /   782)\tLOSS:\t0.597\r"
     ]
    },
    {
     "name": "stdout",
     "output_type": "stream",
     "text": [
      "TEST BATCH:\t(  400 /   782)\tLOSS:\t0.342\r"
     ]
    },
    {
     "name": "stdout",
     "output_type": "stream",
     "text": [
      "TEST BATCH:\t(  450 /   782)\tLOSS:\t0.236\r"
     ]
    },
    {
     "name": "stdout",
     "output_type": "stream",
     "text": [
      "TEST BATCH:\t(  500 /   782)\tLOSS:\t0.395\r"
     ]
    },
    {
     "name": "stdout",
     "output_type": "stream",
     "text": [
      "TEST BATCH:\t(  550 /   782)\tLOSS:\t0.408\r"
     ]
    },
    {
     "name": "stdout",
     "output_type": "stream",
     "text": [
      "TEST BATCH:\t(  600 /   782)\tLOSS:\t0.480\r"
     ]
    },
    {
     "name": "stdout",
     "output_type": "stream",
     "text": [
      "TEST BATCH:\t(  650 /   782)\tLOSS:\t0.692\r"
     ]
    },
    {
     "name": "stdout",
     "output_type": "stream",
     "text": [
      "TEST BATCH:\t(  700 /   782)\tLOSS:\t0.172\r"
     ]
    },
    {
     "name": "stdout",
     "output_type": "stream",
     "text": [
      "TEST BATCH:\t(  750 /   782)\tLOSS:\t0.319\r"
     ]
    },
    {
     "name": "stdout",
     "output_type": "stream",
     "text": [
      "EPOCH:\t    8\tTRAIN LOSS:\t0.004\tTRAIN ACCURACY:\t0.956\tTEST LOSS:\t0.013\tTEST ACCURACY:\t0.849\n",
      "TRAINING BATCH:\t(    0 /   782)\tLOSS:\t0.030\r"
     ]
    },
    {
     "name": "stdout",
     "output_type": "stream",
     "text": [
      "TRAINING BATCH:\t(   10 /   782)\tLOSS:\t0.029\r"
     ]
    },
    {
     "name": "stdout",
     "output_type": "stream",
     "text": [
      "TRAINING BATCH:\t(   20 /   782)\tLOSS:\t0.082\r"
     ]
    },
    {
     "name": "stdout",
     "output_type": "stream",
     "text": [
      "TRAINING BATCH:\t(   30 /   782)\tLOSS:\t0.075\r"
     ]
    },
    {
     "name": "stdout",
     "output_type": "stream",
     "text": [
      "TRAINING BATCH:\t(   40 /   782)\tLOSS:\t0.110\r"
     ]
    },
    {
     "name": "stdout",
     "output_type": "stream",
     "text": [
      "TRAINING BATCH:\t(   50 /   782)\tLOSS:\t0.037\r"
     ]
    },
    {
     "name": "stdout",
     "output_type": "stream",
     "text": [
      "TRAINING BATCH:\t(   60 /   782)\tLOSS:\t0.049\r"
     ]
    },
    {
     "name": "stdout",
     "output_type": "stream",
     "text": [
      "TRAINING BATCH:\t(   70 /   782)\tLOSS:\t0.101\r"
     ]
    },
    {
     "name": "stdout",
     "output_type": "stream",
     "text": [
      "TRAINING BATCH:\t(   80 /   782)\tLOSS:\t0.024\r"
     ]
    },
    {
     "name": "stdout",
     "output_type": "stream",
     "text": [
      "TRAINING BATCH:\t(   90 /   782)\tLOSS:\t0.140\r"
     ]
    },
    {
     "name": "stdout",
     "output_type": "stream",
     "text": [
      "TRAINING BATCH:\t(  100 /   782)\tLOSS:\t0.014\r"
     ]
    },
    {
     "name": "stdout",
     "output_type": "stream",
     "text": [
      "TRAINING BATCH:\t(  110 /   782)\tLOSS:\t0.045\r"
     ]
    },
    {
     "name": "stdout",
     "output_type": "stream",
     "text": [
      "TRAINING BATCH:\t(  120 /   782)\tLOSS:\t0.032\r"
     ]
    },
    {
     "name": "stdout",
     "output_type": "stream",
     "text": [
      "TRAINING BATCH:\t(  130 /   782)\tLOSS:\t0.062\r"
     ]
    },
    {
     "name": "stdout",
     "output_type": "stream",
     "text": [
      "TRAINING BATCH:\t(  140 /   782)\tLOSS:\t0.099\r"
     ]
    },
    {
     "name": "stdout",
     "output_type": "stream",
     "text": [
      "TRAINING BATCH:\t(  150 /   782)\tLOSS:\t0.282\r"
     ]
    },
    {
     "name": "stdout",
     "output_type": "stream",
     "text": [
      "TRAINING BATCH:\t(  160 /   782)\tLOSS:\t0.113\r"
     ]
    },
    {
     "name": "stdout",
     "output_type": "stream",
     "text": [
      "TRAINING BATCH:\t(  170 /   782)\tLOSS:\t0.180\r"
     ]
    },
    {
     "name": "stdout",
     "output_type": "stream",
     "text": [
      "TRAINING BATCH:\t(  180 /   782)\tLOSS:\t0.102\r"
     ]
    },
    {
     "name": "stdout",
     "output_type": "stream",
     "text": [
      "TRAINING BATCH:\t(  190 /   782)\tLOSS:\t0.112\r"
     ]
    },
    {
     "name": "stdout",
     "output_type": "stream",
     "text": [
      "TRAINING BATCH:\t(  200 /   782)\tLOSS:\t0.121\r"
     ]
    },
    {
     "name": "stdout",
     "output_type": "stream",
     "text": [
      "TRAINING BATCH:\t(  210 /   782)\tLOSS:\t0.035\r"
     ]
    },
    {
     "name": "stdout",
     "output_type": "stream",
     "text": [
      "TRAINING BATCH:\t(  220 /   782)\tLOSS:\t0.036\r"
     ]
    },
    {
     "name": "stdout",
     "output_type": "stream",
     "text": [
      "TRAINING BATCH:\t(  230 /   782)\tLOSS:\t0.240\r"
     ]
    },
    {
     "name": "stdout",
     "output_type": "stream",
     "text": [
      "TRAINING BATCH:\t(  240 /   782)\tLOSS:\t0.051\r"
     ]
    },
    {
     "name": "stdout",
     "output_type": "stream",
     "text": [
      "TRAINING BATCH:\t(  250 /   782)\tLOSS:\t0.383\r"
     ]
    },
    {
     "name": "stdout",
     "output_type": "stream",
     "text": [
      "TRAINING BATCH:\t(  260 /   782)\tLOSS:\t0.071\r"
     ]
    },
    {
     "name": "stdout",
     "output_type": "stream",
     "text": [
      "TRAINING BATCH:\t(  270 /   782)\tLOSS:\t0.296\r"
     ]
    },
    {
     "name": "stdout",
     "output_type": "stream",
     "text": [
      "TRAINING BATCH:\t(  280 /   782)\tLOSS:\t0.019\r"
     ]
    },
    {
     "name": "stdout",
     "output_type": "stream",
     "text": [
      "TRAINING BATCH:\t(  290 /   782)\tLOSS:\t0.076\r"
     ]
    },
    {
     "name": "stdout",
     "output_type": "stream",
     "text": [
      "TRAINING BATCH:\t(  300 /   782)\tLOSS:\t0.185\r"
     ]
    },
    {
     "name": "stdout",
     "output_type": "stream",
     "text": [
      "TRAINING BATCH:\t(  310 /   782)\tLOSS:\t0.170\r"
     ]
    },
    {
     "name": "stdout",
     "output_type": "stream",
     "text": [
      "TRAINING BATCH:\t(  320 /   782)\tLOSS:\t0.400\r"
     ]
    },
    {
     "name": "stdout",
     "output_type": "stream",
     "text": [
      "TRAINING BATCH:\t(  330 /   782)\tLOSS:\t0.163\r"
     ]
    },
    {
     "name": "stdout",
     "output_type": "stream",
     "text": [
      "TRAINING BATCH:\t(  340 /   782)\tLOSS:\t0.026\r"
     ]
    },
    {
     "name": "stdout",
     "output_type": "stream",
     "text": [
      "TRAINING BATCH:\t(  350 /   782)\tLOSS:\t0.078\r"
     ]
    },
    {
     "name": "stdout",
     "output_type": "stream",
     "text": [
      "TRAINING BATCH:\t(  360 /   782)\tLOSS:\t0.315\r"
     ]
    },
    {
     "name": "stdout",
     "output_type": "stream",
     "text": [
      "TRAINING BATCH:\t(  370 /   782)\tLOSS:\t0.056\r"
     ]
    },
    {
     "name": "stdout",
     "output_type": "stream",
     "text": [
      "TRAINING BATCH:\t(  380 /   782)\tLOSS:\t0.048\r"
     ]
    },
    {
     "name": "stdout",
     "output_type": "stream",
     "text": [
      "TRAINING BATCH:\t(  390 /   782)\tLOSS:\t0.079\r"
     ]
    },
    {
     "name": "stdout",
     "output_type": "stream",
     "text": [
      "TRAINING BATCH:\t(  400 /   782)\tLOSS:\t0.356\r"
     ]
    },
    {
     "name": "stdout",
     "output_type": "stream",
     "text": [
      "TRAINING BATCH:\t(  410 /   782)\tLOSS:\t0.027\r"
     ]
    },
    {
     "name": "stdout",
     "output_type": "stream",
     "text": [
      "TRAINING BATCH:\t(  420 /   782)\tLOSS:\t0.015\r"
     ]
    },
    {
     "name": "stdout",
     "output_type": "stream",
     "text": [
      "TRAINING BATCH:\t(  430 /   782)\tLOSS:\t0.017\r"
     ]
    },
    {
     "name": "stdout",
     "output_type": "stream",
     "text": [
      "TRAINING BATCH:\t(  440 /   782)\tLOSS:\t0.130\r"
     ]
    },
    {
     "name": "stdout",
     "output_type": "stream",
     "text": [
      "TRAINING BATCH:\t(  450 /   782)\tLOSS:\t0.244\r"
     ]
    },
    {
     "name": "stdout",
     "output_type": "stream",
     "text": [
      "TRAINING BATCH:\t(  460 /   782)\tLOSS:\t0.370\r"
     ]
    },
    {
     "name": "stdout",
     "output_type": "stream",
     "text": [
      "TRAINING BATCH:\t(  470 /   782)\tLOSS:\t0.219\r"
     ]
    },
    {
     "name": "stdout",
     "output_type": "stream",
     "text": [
      "TRAINING BATCH:\t(  480 /   782)\tLOSS:\t0.056\r"
     ]
    },
    {
     "name": "stdout",
     "output_type": "stream",
     "text": [
      "TRAINING BATCH:\t(  490 /   782)\tLOSS:\t0.119\r"
     ]
    },
    {
     "name": "stdout",
     "output_type": "stream",
     "text": [
      "TRAINING BATCH:\t(  500 /   782)\tLOSS:\t0.189\r"
     ]
    },
    {
     "name": "stdout",
     "output_type": "stream",
     "text": [
      "TRAINING BATCH:\t(  510 /   782)\tLOSS:\t0.034\r"
     ]
    },
    {
     "name": "stdout",
     "output_type": "stream",
     "text": [
      "TRAINING BATCH:\t(  520 /   782)\tLOSS:\t0.091\r"
     ]
    },
    {
     "name": "stdout",
     "output_type": "stream",
     "text": [
      "TRAINING BATCH:\t(  530 /   782)\tLOSS:\t0.193\r"
     ]
    },
    {
     "name": "stdout",
     "output_type": "stream",
     "text": [
      "TRAINING BATCH:\t(  540 /   782)\tLOSS:\t0.125\r"
     ]
    },
    {
     "name": "stdout",
     "output_type": "stream",
     "text": [
      "TRAINING BATCH:\t(  550 /   782)\tLOSS:\t0.277\r"
     ]
    },
    {
     "name": "stdout",
     "output_type": "stream",
     "text": [
      "TRAINING BATCH:\t(  560 /   782)\tLOSS:\t0.068\r"
     ]
    },
    {
     "name": "stdout",
     "output_type": "stream",
     "text": [
      "TRAINING BATCH:\t(  570 /   782)\tLOSS:\t0.089\r"
     ]
    },
    {
     "name": "stdout",
     "output_type": "stream",
     "text": [
      "TRAINING BATCH:\t(  580 /   782)\tLOSS:\t0.039\r"
     ]
    },
    {
     "name": "stdout",
     "output_type": "stream",
     "text": [
      "TRAINING BATCH:\t(  590 /   782)\tLOSS:\t0.031\r"
     ]
    },
    {
     "name": "stdout",
     "output_type": "stream",
     "text": [
      "TRAINING BATCH:\t(  600 /   782)\tLOSS:\t0.167\r"
     ]
    },
    {
     "name": "stdout",
     "output_type": "stream",
     "text": [
      "TRAINING BATCH:\t(  610 /   782)\tLOSS:\t0.225\r"
     ]
    },
    {
     "name": "stdout",
     "output_type": "stream",
     "text": [
      "TRAINING BATCH:\t(  620 /   782)\tLOSS:\t0.043\r"
     ]
    },
    {
     "name": "stdout",
     "output_type": "stream",
     "text": [
      "TRAINING BATCH:\t(  630 /   782)\tLOSS:\t0.154\r"
     ]
    },
    {
     "name": "stdout",
     "output_type": "stream",
     "text": [
      "TRAINING BATCH:\t(  640 /   782)\tLOSS:\t0.052\r"
     ]
    },
    {
     "name": "stdout",
     "output_type": "stream",
     "text": [
      "TRAINING BATCH:\t(  650 /   782)\tLOSS:\t0.088\r"
     ]
    },
    {
     "name": "stdout",
     "output_type": "stream",
     "text": [
      "TRAINING BATCH:\t(  660 /   782)\tLOSS:\t0.166\r"
     ]
    },
    {
     "name": "stdout",
     "output_type": "stream",
     "text": [
      "TRAINING BATCH:\t(  670 /   782)\tLOSS:\t0.174\r"
     ]
    },
    {
     "name": "stdout",
     "output_type": "stream",
     "text": [
      "TRAINING BATCH:\t(  680 /   782)\tLOSS:\t0.150\r"
     ]
    },
    {
     "name": "stdout",
     "output_type": "stream",
     "text": [
      "TRAINING BATCH:\t(  690 /   782)\tLOSS:\t0.096\r"
     ]
    },
    {
     "name": "stdout",
     "output_type": "stream",
     "text": [
      "TRAINING BATCH:\t(  700 /   782)\tLOSS:\t0.047\r"
     ]
    },
    {
     "name": "stdout",
     "output_type": "stream",
     "text": [
      "TRAINING BATCH:\t(  710 /   782)\tLOSS:\t0.198\r"
     ]
    },
    {
     "name": "stdout",
     "output_type": "stream",
     "text": [
      "TRAINING BATCH:\t(  720 /   782)\tLOSS:\t0.072\r"
     ]
    },
    {
     "name": "stdout",
     "output_type": "stream",
     "text": [
      "TRAINING BATCH:\t(  730 /   782)\tLOSS:\t0.236\r"
     ]
    },
    {
     "name": "stdout",
     "output_type": "stream",
     "text": [
      "TRAINING BATCH:\t(  740 /   782)\tLOSS:\t0.044\r"
     ]
    },
    {
     "name": "stdout",
     "output_type": "stream",
     "text": [
      "TRAINING BATCH:\t(  750 /   782)\tLOSS:\t0.048\r"
     ]
    },
    {
     "name": "stdout",
     "output_type": "stream",
     "text": [
      "TRAINING BATCH:\t(  760 /   782)\tLOSS:\t0.035\r"
     ]
    },
    {
     "name": "stdout",
     "output_type": "stream",
     "text": [
      "TRAINING BATCH:\t(  770 /   782)\tLOSS:\t0.073\r"
     ]
    },
    {
     "name": "stdout",
     "output_type": "stream",
     "text": [
      "TRAINING BATCH:\t(  780 /   782)\tLOSS:\t0.013\r",
      "TEST BATCH:\t(    0 /   782)\tLOSS:\t0.439\r"
     ]
    },
    {
     "name": "stdout",
     "output_type": "stream",
     "text": [
      "TEST BATCH:\t(   50 /   782)\tLOSS:\t0.336\r"
     ]
    },
    {
     "name": "stdout",
     "output_type": "stream",
     "text": [
      "TEST BATCH:\t(  100 /   782)\tLOSS:\t0.624\r"
     ]
    },
    {
     "name": "stdout",
     "output_type": "stream",
     "text": [
      "TEST BATCH:\t(  150 /   782)\tLOSS:\t0.312\r"
     ]
    },
    {
     "name": "stdout",
     "output_type": "stream",
     "text": [
      "TEST BATCH:\t(  200 /   782)\tLOSS:\t0.452\r"
     ]
    },
    {
     "name": "stdout",
     "output_type": "stream",
     "text": [
      "TEST BATCH:\t(  250 /   782)\tLOSS:\t0.432\r"
     ]
    },
    {
     "name": "stdout",
     "output_type": "stream",
     "text": [
      "TEST BATCH:\t(  300 /   782)\tLOSS:\t0.814\r"
     ]
    },
    {
     "name": "stdout",
     "output_type": "stream",
     "text": [
      "TEST BATCH:\t(  350 /   782)\tLOSS:\t0.744\r"
     ]
    },
    {
     "name": "stdout",
     "output_type": "stream",
     "text": [
      "TEST BATCH:\t(  400 /   782)\tLOSS:\t0.427\r"
     ]
    },
    {
     "name": "stdout",
     "output_type": "stream",
     "text": [
      "TEST BATCH:\t(  450 /   782)\tLOSS:\t0.343\r"
     ]
    },
    {
     "name": "stdout",
     "output_type": "stream",
     "text": [
      "TEST BATCH:\t(  500 /   782)\tLOSS:\t0.381\r"
     ]
    },
    {
     "name": "stdout",
     "output_type": "stream",
     "text": [
      "TEST BATCH:\t(  550 /   782)\tLOSS:\t0.378\r"
     ]
    },
    {
     "name": "stdout",
     "output_type": "stream",
     "text": [
      "TEST BATCH:\t(  600 /   782)\tLOSS:\t0.514\r"
     ]
    },
    {
     "name": "stdout",
     "output_type": "stream",
     "text": [
      "TEST BATCH:\t(  650 /   782)\tLOSS:\t0.897\r"
     ]
    },
    {
     "name": "stdout",
     "output_type": "stream",
     "text": [
      "TEST BATCH:\t(  700 /   782)\tLOSS:\t0.158\r"
     ]
    },
    {
     "name": "stdout",
     "output_type": "stream",
     "text": [
      "TEST BATCH:\t(  750 /   782)\tLOSS:\t0.626\r"
     ]
    },
    {
     "name": "stdout",
     "output_type": "stream",
     "text": [
      "EPOCH:\t    9\tTRAIN LOSS:\t0.003\tTRAIN ACCURACY:\t0.970\tTEST LOSS:\t0.015\tTEST ACCURACY:\t0.844\n",
      "TRAINING BATCH:\t(    0 /   782)\tLOSS:\t0.153\r"
     ]
    },
    {
     "name": "stdout",
     "output_type": "stream",
     "text": [
      "TRAINING BATCH:\t(   10 /   782)\tLOSS:\t0.039\r"
     ]
    },
    {
     "name": "stdout",
     "output_type": "stream",
     "text": [
      "TRAINING BATCH:\t(   20 /   782)\tLOSS:\t0.030\r"
     ]
    },
    {
     "name": "stdout",
     "output_type": "stream",
     "text": [
      "TRAINING BATCH:\t(   30 /   782)\tLOSS:\t0.018\r"
     ]
    },
    {
     "name": "stdout",
     "output_type": "stream",
     "text": [
      "TRAINING BATCH:\t(   40 /   782)\tLOSS:\t0.016\r"
     ]
    },
    {
     "name": "stdout",
     "output_type": "stream",
     "text": [
      "TRAINING BATCH:\t(   50 /   782)\tLOSS:\t0.017\r"
     ]
    },
    {
     "name": "stdout",
     "output_type": "stream",
     "text": [
      "TRAINING BATCH:\t(   60 /   782)\tLOSS:\t0.025\r"
     ]
    },
    {
     "name": "stdout",
     "output_type": "stream",
     "text": [
      "TRAINING BATCH:\t(   70 /   782)\tLOSS:\t0.023\r"
     ]
    },
    {
     "name": "stdout",
     "output_type": "stream",
     "text": [
      "TRAINING BATCH:\t(   80 /   782)\tLOSS:\t0.013\r"
     ]
    },
    {
     "name": "stdout",
     "output_type": "stream",
     "text": [
      "TRAINING BATCH:\t(   90 /   782)\tLOSS:\t0.012\r"
     ]
    },
    {
     "name": "stdout",
     "output_type": "stream",
     "text": [
      "TRAINING BATCH:\t(  100 /   782)\tLOSS:\t0.023\r"
     ]
    },
    {
     "name": "stdout",
     "output_type": "stream",
     "text": [
      "TRAINING BATCH:\t(  110 /   782)\tLOSS:\t0.033\r"
     ]
    },
    {
     "name": "stdout",
     "output_type": "stream",
     "text": [
      "TRAINING BATCH:\t(  120 /   782)\tLOSS:\t0.005\r"
     ]
    },
    {
     "name": "stdout",
     "output_type": "stream",
     "text": [
      "TRAINING BATCH:\t(  130 /   782)\tLOSS:\t0.013\r"
     ]
    },
    {
     "name": "stdout",
     "output_type": "stream",
     "text": [
      "TRAINING BATCH:\t(  140 /   782)\tLOSS:\t0.086\r"
     ]
    },
    {
     "name": "stdout",
     "output_type": "stream",
     "text": [
      "TRAINING BATCH:\t(  150 /   782)\tLOSS:\t0.014\r"
     ]
    },
    {
     "name": "stdout",
     "output_type": "stream",
     "text": [
      "TRAINING BATCH:\t(  160 /   782)\tLOSS:\t0.031\r"
     ]
    },
    {
     "name": "stdout",
     "output_type": "stream",
     "text": [
      "TRAINING BATCH:\t(  170 /   782)\tLOSS:\t0.076\r"
     ]
    },
    {
     "name": "stdout",
     "output_type": "stream",
     "text": [
      "TRAINING BATCH:\t(  180 /   782)\tLOSS:\t0.145\r"
     ]
    },
    {
     "name": "stdout",
     "output_type": "stream",
     "text": [
      "TRAINING BATCH:\t(  190 /   782)\tLOSS:\t0.072\r"
     ]
    },
    {
     "name": "stdout",
     "output_type": "stream",
     "text": [
      "TRAINING BATCH:\t(  200 /   782)\tLOSS:\t0.130\r"
     ]
    },
    {
     "name": "stdout",
     "output_type": "stream",
     "text": [
      "TRAINING BATCH:\t(  210 /   782)\tLOSS:\t0.115\r"
     ]
    },
    {
     "name": "stdout",
     "output_type": "stream",
     "text": [
      "TRAINING BATCH:\t(  220 /   782)\tLOSS:\t0.021\r"
     ]
    },
    {
     "name": "stdout",
     "output_type": "stream",
     "text": [
      "TRAINING BATCH:\t(  230 /   782)\tLOSS:\t0.119\r"
     ]
    },
    {
     "name": "stdout",
     "output_type": "stream",
     "text": [
      "TRAINING BATCH:\t(  240 /   782)\tLOSS:\t0.016\r"
     ]
    },
    {
     "name": "stdout",
     "output_type": "stream",
     "text": [
      "TRAINING BATCH:\t(  250 /   782)\tLOSS:\t0.113\r"
     ]
    },
    {
     "name": "stdout",
     "output_type": "stream",
     "text": [
      "TRAINING BATCH:\t(  260 /   782)\tLOSS:\t0.012\r"
     ]
    },
    {
     "name": "stdout",
     "output_type": "stream",
     "text": [
      "TRAINING BATCH:\t(  270 /   782)\tLOSS:\t0.113\r"
     ]
    },
    {
     "name": "stdout",
     "output_type": "stream",
     "text": [
      "TRAINING BATCH:\t(  280 /   782)\tLOSS:\t0.076\r"
     ]
    },
    {
     "name": "stdout",
     "output_type": "stream",
     "text": [
      "TRAINING BATCH:\t(  290 /   782)\tLOSS:\t0.043\r"
     ]
    },
    {
     "name": "stdout",
     "output_type": "stream",
     "text": [
      "TRAINING BATCH:\t(  300 /   782)\tLOSS:\t0.011\r"
     ]
    },
    {
     "name": "stdout",
     "output_type": "stream",
     "text": [
      "TRAINING BATCH:\t(  310 /   782)\tLOSS:\t0.056\r"
     ]
    },
    {
     "name": "stdout",
     "output_type": "stream",
     "text": [
      "TRAINING BATCH:\t(  320 /   782)\tLOSS:\t0.012\r"
     ]
    },
    {
     "name": "stdout",
     "output_type": "stream",
     "text": [
      "TRAINING BATCH:\t(  330 /   782)\tLOSS:\t0.022\r"
     ]
    },
    {
     "name": "stdout",
     "output_type": "stream",
     "text": [
      "TRAINING BATCH:\t(  340 /   782)\tLOSS:\t0.031\r"
     ]
    },
    {
     "name": "stdout",
     "output_type": "stream",
     "text": [
      "TRAINING BATCH:\t(  350 /   782)\tLOSS:\t0.026\r"
     ]
    },
    {
     "name": "stdout",
     "output_type": "stream",
     "text": [
      "TRAINING BATCH:\t(  360 /   782)\tLOSS:\t0.033\r"
     ]
    },
    {
     "name": "stdout",
     "output_type": "stream",
     "text": [
      "TRAINING BATCH:\t(  370 /   782)\tLOSS:\t0.336\r"
     ]
    },
    {
     "name": "stdout",
     "output_type": "stream",
     "text": [
      "TRAINING BATCH:\t(  380 /   782)\tLOSS:\t0.023\r"
     ]
    },
    {
     "name": "stdout",
     "output_type": "stream",
     "text": [
      "TRAINING BATCH:\t(  390 /   782)\tLOSS:\t0.179\r"
     ]
    },
    {
     "name": "stdout",
     "output_type": "stream",
     "text": [
      "TRAINING BATCH:\t(  400 /   782)\tLOSS:\t0.146\r"
     ]
    },
    {
     "name": "stdout",
     "output_type": "stream",
     "text": [
      "TRAINING BATCH:\t(  410 /   782)\tLOSS:\t0.241\r"
     ]
    },
    {
     "name": "stdout",
     "output_type": "stream",
     "text": [
      "TRAINING BATCH:\t(  420 /   782)\tLOSS:\t0.174\r"
     ]
    },
    {
     "name": "stdout",
     "output_type": "stream",
     "text": [
      "TRAINING BATCH:\t(  430 /   782)\tLOSS:\t0.190\r"
     ]
    },
    {
     "name": "stdout",
     "output_type": "stream",
     "text": [
      "TRAINING BATCH:\t(  440 /   782)\tLOSS:\t0.076\r"
     ]
    },
    {
     "name": "stdout",
     "output_type": "stream",
     "text": [
      "TRAINING BATCH:\t(  450 /   782)\tLOSS:\t0.018\r"
     ]
    },
    {
     "name": "stdout",
     "output_type": "stream",
     "text": [
      "TRAINING BATCH:\t(  460 /   782)\tLOSS:\t0.022\r"
     ]
    },
    {
     "name": "stdout",
     "output_type": "stream",
     "text": [
      "TRAINING BATCH:\t(  470 /   782)\tLOSS:\t0.115\r"
     ]
    },
    {
     "name": "stdout",
     "output_type": "stream",
     "text": [
      "TRAINING BATCH:\t(  480 /   782)\tLOSS:\t0.008\r"
     ]
    },
    {
     "name": "stdout",
     "output_type": "stream",
     "text": [
      "TRAINING BATCH:\t(  490 /   782)\tLOSS:\t0.057\r"
     ]
    },
    {
     "name": "stdout",
     "output_type": "stream",
     "text": [
      "TRAINING BATCH:\t(  500 /   782)\tLOSS:\t0.204\r"
     ]
    },
    {
     "name": "stdout",
     "output_type": "stream",
     "text": [
      "TRAINING BATCH:\t(  510 /   782)\tLOSS:\t0.054\r"
     ]
    },
    {
     "name": "stdout",
     "output_type": "stream",
     "text": [
      "TRAINING BATCH:\t(  520 /   782)\tLOSS:\t0.223\r"
     ]
    },
    {
     "name": "stdout",
     "output_type": "stream",
     "text": [
      "TRAINING BATCH:\t(  530 /   782)\tLOSS:\t0.029\r"
     ]
    },
    {
     "name": "stdout",
     "output_type": "stream",
     "text": [
      "TRAINING BATCH:\t(  540 /   782)\tLOSS:\t0.086\r"
     ]
    },
    {
     "name": "stdout",
     "output_type": "stream",
     "text": [
      "TRAINING BATCH:\t(  550 /   782)\tLOSS:\t0.035\r"
     ]
    },
    {
     "name": "stdout",
     "output_type": "stream",
     "text": [
      "TRAINING BATCH:\t(  560 /   782)\tLOSS:\t0.068\r"
     ]
    },
    {
     "name": "stdout",
     "output_type": "stream",
     "text": [
      "TRAINING BATCH:\t(  570 /   782)\tLOSS:\t0.248\r"
     ]
    },
    {
     "name": "stdout",
     "output_type": "stream",
     "text": [
      "TRAINING BATCH:\t(  580 /   782)\tLOSS:\t0.083\r"
     ]
    },
    {
     "name": "stdout",
     "output_type": "stream",
     "text": [
      "TRAINING BATCH:\t(  590 /   782)\tLOSS:\t0.092\r"
     ]
    },
    {
     "name": "stdout",
     "output_type": "stream",
     "text": [
      "TRAINING BATCH:\t(  600 /   782)\tLOSS:\t0.015\r"
     ]
    },
    {
     "name": "stdout",
     "output_type": "stream",
     "text": [
      "TRAINING BATCH:\t(  610 /   782)\tLOSS:\t0.038\r"
     ]
    },
    {
     "name": "stdout",
     "output_type": "stream",
     "text": [
      "TRAINING BATCH:\t(  620 /   782)\tLOSS:\t0.007\r"
     ]
    },
    {
     "name": "stdout",
     "output_type": "stream",
     "text": [
      "TRAINING BATCH:\t(  630 /   782)\tLOSS:\t0.130\r"
     ]
    },
    {
     "name": "stdout",
     "output_type": "stream",
     "text": [
      "TRAINING BATCH:\t(  640 /   782)\tLOSS:\t0.403\r"
     ]
    },
    {
     "name": "stdout",
     "output_type": "stream",
     "text": [
      "TRAINING BATCH:\t(  650 /   782)\tLOSS:\t0.022\r"
     ]
    },
    {
     "name": "stdout",
     "output_type": "stream",
     "text": [
      "TRAINING BATCH:\t(  660 /   782)\tLOSS:\t0.039\r"
     ]
    },
    {
     "name": "stdout",
     "output_type": "stream",
     "text": [
      "TRAINING BATCH:\t(  670 /   782)\tLOSS:\t0.007\r"
     ]
    },
    {
     "name": "stdout",
     "output_type": "stream",
     "text": [
      "TRAINING BATCH:\t(  680 /   782)\tLOSS:\t0.062\r"
     ]
    },
    {
     "name": "stdout",
     "output_type": "stream",
     "text": [
      "TRAINING BATCH:\t(  690 /   782)\tLOSS:\t0.034\r"
     ]
    },
    {
     "name": "stdout",
     "output_type": "stream",
     "text": [
      "TRAINING BATCH:\t(  700 /   782)\tLOSS:\t0.028\r"
     ]
    },
    {
     "name": "stdout",
     "output_type": "stream",
     "text": [
      "TRAINING BATCH:\t(  710 /   782)\tLOSS:\t0.018\r"
     ]
    },
    {
     "name": "stdout",
     "output_type": "stream",
     "text": [
      "TRAINING BATCH:\t(  720 /   782)\tLOSS:\t0.022\r"
     ]
    },
    {
     "name": "stdout",
     "output_type": "stream",
     "text": [
      "TRAINING BATCH:\t(  730 /   782)\tLOSS:\t0.061\r"
     ]
    },
    {
     "name": "stdout",
     "output_type": "stream",
     "text": [
      "TRAINING BATCH:\t(  740 /   782)\tLOSS:\t0.014\r"
     ]
    },
    {
     "name": "stdout",
     "output_type": "stream",
     "text": [
      "TRAINING BATCH:\t(  750 /   782)\tLOSS:\t0.118\r"
     ]
    },
    {
     "name": "stdout",
     "output_type": "stream",
     "text": [
      "TRAINING BATCH:\t(  760 /   782)\tLOSS:\t0.305\r"
     ]
    },
    {
     "name": "stdout",
     "output_type": "stream",
     "text": [
      "TRAINING BATCH:\t(  770 /   782)\tLOSS:\t0.133\r"
     ]
    },
    {
     "name": "stdout",
     "output_type": "stream",
     "text": [
      "TRAINING BATCH:\t(  780 /   782)\tLOSS:\t0.168\r",
      "TEST BATCH:\t(    0 /   782)\tLOSS:\t0.408\r"
     ]
    },
    {
     "name": "stdout",
     "output_type": "stream",
     "text": [
      "TEST BATCH:\t(   50 /   782)\tLOSS:\t0.497\r"
     ]
    },
    {
     "name": "stdout",
     "output_type": "stream",
     "text": [
      "TEST BATCH:\t(  100 /   782)\tLOSS:\t0.627\r"
     ]
    },
    {
     "name": "stdout",
     "output_type": "stream",
     "text": [
      "TEST BATCH:\t(  150 /   782)\tLOSS:\t0.514\r"
     ]
    },
    {
     "name": "stdout",
     "output_type": "stream",
     "text": [
      "TEST BATCH:\t(  200 /   782)\tLOSS:\t0.341\r"
     ]
    },
    {
     "name": "stdout",
     "output_type": "stream",
     "text": [
      "TEST BATCH:\t(  250 /   782)\tLOSS:\t0.461\r"
     ]
    },
    {
     "name": "stdout",
     "output_type": "stream",
     "text": [
      "TEST BATCH:\t(  300 /   782)\tLOSS:\t0.696\r"
     ]
    },
    {
     "name": "stdout",
     "output_type": "stream",
     "text": [
      "TEST BATCH:\t(  350 /   782)\tLOSS:\t0.668\r"
     ]
    },
    {
     "name": "stdout",
     "output_type": "stream",
     "text": [
      "TEST BATCH:\t(  400 /   782)\tLOSS:\t0.358\r"
     ]
    },
    {
     "name": "stdout",
     "output_type": "stream",
     "text": [
      "TEST BATCH:\t(  450 /   782)\tLOSS:\t0.289\r"
     ]
    },
    {
     "name": "stdout",
     "output_type": "stream",
     "text": [
      "TEST BATCH:\t(  500 /   782)\tLOSS:\t0.464\r"
     ]
    },
    {
     "name": "stdout",
     "output_type": "stream",
     "text": [
      "TEST BATCH:\t(  550 /   782)\tLOSS:\t0.428\r"
     ]
    },
    {
     "name": "stdout",
     "output_type": "stream",
     "text": [
      "TEST BATCH:\t(  600 /   782)\tLOSS:\t0.330\r"
     ]
    },
    {
     "name": "stdout",
     "output_type": "stream",
     "text": [
      "TEST BATCH:\t(  650 /   782)\tLOSS:\t0.852\r"
     ]
    },
    {
     "name": "stdout",
     "output_type": "stream",
     "text": [
      "TEST BATCH:\t(  700 /   782)\tLOSS:\t0.215\r"
     ]
    },
    {
     "name": "stdout",
     "output_type": "stream",
     "text": [
      "TEST BATCH:\t(  750 /   782)\tLOSS:\t0.478\r"
     ]
    },
    {
     "name": "stdout",
     "output_type": "stream",
     "text": [
      "EPOCH:\t   10\tTRAIN LOSS:\t0.003\tTRAIN ACCURACY:\t0.974\tTEST LOSS:\t0.016\tTEST ACCURACY:\t0.846\n"
     ]
    }
   ],
   "source": [
    "epochs = 10\n",
    "batch_size = 32\n",
    "\n",
    "model = (\n",
    "    LSTMModel().to(device)\n",
    ")\n",
    "\n",
    "optimizer = (\n",
    "    Adam(model.parameters(), lr=5e-3)\n",
    ")\n",
    "\n",
    "loss = (\n",
    "    nn.BCELoss()\n",
    ")\n",
    "\n",
    "train_dataset = (\n",
    "    IMDBDataset(train_x, train_y)\n",
    ")\n",
    "\n",
    "test_dataset = (\n",
    "    IMDBDataset(test_x, test_y)\n",
    ")\n",
    "\n",
    "metrics = train(model, loss, optimizer, train_dataset, test_dataset, epochs, batch_size)"
   ]
  },
  {
   "cell_type": "code",
   "execution_count": 13,
   "id": "471fa941",
   "metadata": {
    "execution": {
     "iopub.execute_input": "2024-06-11T11:51:36.418905Z",
     "iopub.status.busy": "2024-06-11T11:51:36.417420Z",
     "iopub.status.idle": "2024-06-11T11:51:36.845068Z",
     "shell.execute_reply": "2024-06-11T11:51:36.844469Z"
    },
    "pycharm": {
     "name": "#%%\n"
    }
   },
   "outputs": [
    {
     "data": {
      "application/pdf": "[encoded data removed]",
      "image/png": "[encoded data removed]",
      "text/plain": [
       "<Figure size 700x200 with 2 Axes>"
      ]
     },
     "metadata": {},
     "output_type": "display_data"
    }
   ],
   "source": [
    "\n",
    "def get_training_progress_plot(\n",
    "        train_losses: List[float],\n",
    "        train_accs: List[float],\n",
    "        val_losses: List[float],\n",
    "        val_accs: List[float],\n",
    ") -> None:\n",
    "    fig, (ax1, ax2) = plt.subplots(1, 2, figsize=(7, 2))\n",
    "\n",
    "    ax1.set_title('Loss')\n",
    "    ax1.plot(train_losses, label='Train Loss')\n",
    "    ax1.plot(val_losses, label='Test Loss')\n",
    "    ax1.legend()\n",
    "\n",
    "    ax2.set_title('Accuracy')\n",
    "    ax2.plot(train_accs, label='Train Accuracy')\n",
    "    ax2.plot(val_accs, label='Test Accuracy')\n",
    "    ax2.set_ylim(0, 1)\n",
    "    ax2.legend()\n",
    "\n",
    "\n",
    "get_training_progress_plot(\n",
    "    metrics['train_loss'],\n",
    "    metrics['train_acc'],\n",
    "    metrics['test_loss'],\n",
    "    metrics['test_acc'],\n",
    ")"
   ]
  },
  {
   "cell_type": "markdown",
   "id": "90ca4a4f",
   "metadata": {},
   "source": [
    "The model seems to be learning more easily than the simple baseline we created time ago,\n",
    "which had an accuracy of 85-88% on the test data.\n",
    "Let it train for longer and tune the\n",
    "architecture above to reach as high accuracy as possible! (note that evaluating on the\n",
    "same data that you used for early stopping is cheating). Can you detect other problems we discussed in the previous labs?\n",
    "\n",
    "\n",
    "## Exercise 2\n",
    "\n",
    "In this exercise, we are going to build a model that is able to sum two numbers, each given as a sequence\n",
    "of images of handwritten digits. The network will first use a convolutional encoder to transform each\n",
    "digit into a feature vector. These feature vectors will then be processed by a LSTM that will produce as\n",
    "output each digit of the sum.\n",
    "\n",
    "### Dataset\n",
    "We are now going to create a synthetic dataset using images from MNIST.\n",
    "\n",
    "First, we define some auxiliary functions.\n",
    "We need a function that converts an integer to a padded tensor."
   ]
  },
  {
   "cell_type": "code",
   "execution_count": 14,
   "id": "ef3f40f4",
   "metadata": {
    "execution": {
     "iopub.execute_input": "2024-06-11T11:51:36.847683Z",
     "iopub.status.busy": "2024-06-11T11:51:36.847521Z",
     "iopub.status.idle": "2024-06-11T11:51:36.850964Z",
     "shell.execute_reply": "2024-06-11T11:51:36.850419Z"
    },
    "pycharm": {
     "name": "#%%\n"
    }
   },
   "outputs": [],
   "source": [
    "\n",
    "def convert_int_to_vector(num: int, length: int) -> Tensor:\n",
    "    \"\"\"\n",
    "    Take an integer and convert it to a vector.\n",
    "\n",
    "    Example: 123 with a length of 3 returns a tensor with [1, 2, 3].\n",
    "    5 with a length of 3 returns [0, 0, 5]\n",
    "    \"\"\"\n",
    "    num_str = str(num).zfill(length)\n",
    "    return torch.tensor([int(n) for n in num_str])"
   ]
  },
  {
   "cell_type": "markdown",
   "id": "303d1b49",
   "metadata": {
    "pycharm": {
     "name": "#%% md\n"
    }
   },
   "source": [
    "Then, we need a function that generates our training labels.\n",
    "The result of the function should be a dictionary that contains 3 tensors (first numbers, second numbers, sum of first + second) of shape `(num_samples, max_length)`.\n",
    "We need the summands for drawing matching images later, while the latter is our actual label."
   ]
  },
  {
   "cell_type": "code",
   "execution_count": 15,
   "id": "7b318e82",
   "metadata": {
    "execution": {
     "iopub.execute_input": "2024-06-11T11:51:36.853243Z",
     "iopub.status.busy": "2024-06-11T11:51:36.853095Z",
     "iopub.status.idle": "2024-06-11T11:51:36.858102Z",
     "shell.execute_reply": "2024-06-11T11:51:36.857607Z"
    },
    "pycharm": {
     "name": "#%%\n"
    }
   },
   "outputs": [],
   "source": [
    "\n",
    "def generate_labels(num_samples: int, max_length: int) -> Dict:\n",
    "    \"\"\"\n",
    "    Generate random numbers, whose sum does not exceed maximum length.\n",
    "\n",
    "    We will pad numbers that are less than max_length with zeros.\n",
    "    \"\"\"\n",
    "\n",
    "    num_1s = []\n",
    "    num_2s = []\n",
    "    sums = []\n",
    "\n",
    "    for _ in range(num_samples):\n",
    "\n",
    "        # Ensure the sum always has at most max_len digits\n",
    "        num_1 = torch.randint(10**max_length // 2 - 1, (1,))\n",
    "        num_2 = torch.randint(10**max_length // 2 - 1, (1,))\n",
    "\n",
    "        num_1s.append(convert_int_to_vector(int(num_1), max_length))\n",
    "        num_2s.append(convert_int_to_vector(int(num_2), max_length))\n",
    "\n",
    "        sums.append(convert_int_to_vector(int(num_1 + num_2), max_length))\n",
    "\n",
    "    return {\n",
    "        'num_1': torch.stack(num_1s),\n",
    "        'num_2': torch.stack(num_2s),\n",
    "        'sum': torch.stack(sums)\n",
    "    }"
   ]
  },
  {
   "cell_type": "markdown",
   "id": "50ea0997",
   "metadata": {
    "pycharm": {
     "name": "#%% md\n"
    }
   },
   "source": [
    "For our training, we need our `Dataset` object. Here, we will also draw the images to create our input tensors. One image is of shape `(1 x 28 x 28)`.\n",
    "Thus, a constructed input tensor is of shape `(max_length x 1 x 28 x 28)`"
   ]
  },
  {
   "cell_type": "code",
   "execution_count": 16,
   "id": "7f93d0ff",
   "metadata": {
    "execution": {
     "iopub.execute_input": "2024-06-11T11:51:36.860599Z",
     "iopub.status.busy": "2024-06-11T11:51:36.860449Z",
     "iopub.status.idle": "2024-06-11T11:51:36.867255Z",
     "shell.execute_reply": "2024-06-11T11:51:36.866636Z"
    },
    "pycharm": {
     "name": "#%%\n"
    }
   },
   "outputs": [],
   "source": [
    "\n",
    "class NumberMNIST(Dataset):\n",
    "    def __init__(\n",
    "            self,\n",
    "            max_length: int = 3,\n",
    "            train: bool = True\n",
    "    ) -> None:\n",
    "        mnist_base = MNIST('.data', train=train, download=True)\n",
    "        mnist_base.data = mnist_base.data.float() / 255\n",
    "\n",
    "        self.max_length = max_length\n",
    "        # We choose 20k samples for training and 5k for testing.\n",
    "        self.num_samples = 20000 if train else 5000\n",
    "        self.digit_idxs = NumberMNIST._generate_digit_groups(mnist_base.targets)\n",
    "\n",
    "        self.labels = generate_labels(self.num_samples, self.max_length)\n",
    "\n",
    "        self.num_1s = torch.zeros(self.num_samples, self.max_length, 1, 28, 28)\n",
    "        self.num_2s = torch.zeros(self.num_samples, self.max_length, 1, 28, 28)\n",
    "\n",
    "        for i in range(self.num_samples):\n",
    "\n",
    "            imgs = []\n",
    "            for num_1_digit in self.labels['num_1'][i]:\n",
    "                # Get corresponding index group\n",
    "                digit_idxs = self.digit_idxs[int(num_1_digit)]\n",
    "                # Sample a random index from the digit class\n",
    "                rand_idx = digit_idxs[torch.randint(len(digit_idxs), (1, ))]\n",
    "                # Obtain image for the sampled index\n",
    "                imgs.append(mnist_base.data[rand_idx])\n",
    "            # Add images to main tensor.\n",
    "            self.num_1s[i] = torch.stack(imgs)\n",
    "\n",
    "            imgs = []\n",
    "            for num_2_digit in self.labels['num_2'][i]:\n",
    "                digit_idxs = self.digit_idxs[int(num_2_digit)]\n",
    "                rand_idx = digit_idxs[torch.randint(len(digit_idxs), (1, ))]\n",
    "                imgs.append(mnist_base.data[rand_idx])\n",
    "            self.num_2s[i] = torch.stack(imgs)\n",
    "\n",
    "\n",
    "\n",
    "    @staticmethod\n",
    "    def _generate_digit_groups(targets: Tensor) -> Dict:\n",
    "        \"\"\"Separates the dataset in groups based on the label. Returns a Dict with indices.\"\"\"\n",
    "        res = {}\n",
    "        for i in range(10):\n",
    "            idxs = (targets == i).nonzero().squeeze(-1)\n",
    "            res.update({i: idxs})\n",
    "        return res\n",
    "\n",
    "    @property\n",
    "    def shape(self) -> Tuple:\n",
    "        return self.data.shape\n",
    "\n",
    "    def __len__(self) -> int:\n",
    "        return len(self.num_1s)\n",
    "\n",
    "    def __getitem__(self, idx: int) -> Dict:\n",
    "        return {\n",
    "            'num_1': self.num_1s[idx],\n",
    "            'num_2': self.num_2s[idx],\n",
    "            'label': self.labels['sum'][idx],\n",
    "        }"
   ]
  },
  {
   "cell_type": "markdown",
   "id": "f7562608",
   "metadata": {
    "pycharm": {
     "name": "#%% md\n"
    }
   },
   "source": [
    "Let's initialize our datasets and see if everything works as expected."
   ]
  },
  {
   "cell_type": "code",
   "execution_count": 17,
   "id": "a9720fd9",
   "metadata": {
    "execution": {
     "iopub.execute_input": "2024-06-11T11:51:36.869612Z",
     "iopub.status.busy": "2024-06-11T11:51:36.869456Z",
     "iopub.status.idle": "2024-06-11T11:51:39.162331Z",
     "shell.execute_reply": "2024-06-11T11:51:39.161658Z"
    },
    "pycharm": {
     "name": "#%%\n"
    }
   },
   "outputs": [],
   "source": [
    "train_dataset = NumberMNIST(train=True, max_length=3)\n",
    "test_dataset = NumberMNIST(train=False, max_length=3)"
   ]
  },
  {
   "cell_type": "code",
   "execution_count": 18,
   "id": "3a166ceb",
   "metadata": {
    "execution": {
     "iopub.execute_input": "2024-06-11T11:51:39.164893Z",
     "iopub.status.busy": "2024-06-11T11:51:39.164751Z",
     "iopub.status.idle": "2024-06-11T11:51:39.276260Z",
     "shell.execute_reply": "2024-06-11T11:51:39.275636Z"
    },
    "pycharm": {
     "name": "#%%\n"
    }
   },
   "outputs": [
    {
     "name": "stdout",
     "output_type": "stream",
     "text": [
      "Sum: [5, 1, 5]\n"
     ]
    },
    {
     "data": {
      "application/pdf": "[encoded data removed]",
      "image/png": "[encoded data removed]",
      "text/plain": [
       "<Figure size 640x480 with 1 Axes>"
      ]
     },
     "metadata": {},
     "output_type": "display_data"
    }
   ],
   "source": [
    "def plot_digits(num_1: Tensor, num_2: Tensor) -> None:\n",
    "    grid_img = make_grid(torch.cat([num_1, num_2]), nrow=3)\n",
    "    plt.imshow(grid_img.permute(1, 2, 0))\n",
    "    plt.show()\n",
    "\n",
    "idx = int(torch.randint(len(test_dataset), (1,)))\n",
    "sample = test_dataset[idx]\n",
    "\n",
    "print('Sum:', [int(i) for i in sample['label']])\n",
    "plot_digits(sample['num_1'], sample['num_2'])"
   ]
  },
  {
   "cell_type": "markdown",
   "id": "dbe50098",
   "metadata": {
    "pycharm": {
     "name": "#%% md\n"
    }
   },
   "source": [
    "### The model\n",
    "\n",
    "Let's now see how to create the model.\n",
    "\n",
    "This network will have two inputs, one for each number. The numbers have three digits, each of which is an image of size 1 x 28 x 28."
   ]
  },
  {
   "cell_type": "code",
   "execution_count": 19,
   "id": "04d5e4dc",
   "metadata": {
    "execution": {
     "iopub.execute_input": "2024-06-11T11:51:39.278295Z",
     "iopub.status.busy": "2024-06-11T11:51:39.278160Z",
     "iopub.status.idle": "2024-06-11T11:51:39.283940Z",
     "shell.execute_reply": "2024-06-11T11:51:39.283412Z"
    },
    "pycharm": {
     "name": "#%%\n"
    }
   },
   "outputs": [],
   "source": [
    "class AdditionModel(nn.Module):\n",
    "    def __init__(self):\n",
    "        super().__init__()\n",
    "        self.latent_dim = 128\n",
    "\n",
    "        # The network will use the same convolutional encoder for all digits in both numbers.\n",
    "        # Let us first define this encoder as its own submodule, a normal CNN:\n",
    "\n",
    "        self.digit_encoder = nn.Sequential(\n",
    "            nn.Conv2d(1, 32, (3, 3)),\n",
    "            nn.ReLU(),\n",
    "            nn.MaxPool2d((2, 2)),\n",
    "            nn.Conv2d(32, 64, (3, 3)),\n",
    "            nn.ReLU(),\n",
    "            nn.MaxPool2d((2, 2)),\n",
    "            nn.Conv2d(64, self.latent_dim, (3, 3)),\n",
    "            nn.ReLU(),\n",
    "            nn.MaxPool2d((2, 2)),\n",
    "            nn.AdaptiveAvgPool2d((1, 1))\n",
    "        )\n",
    "\n",
    "        # Our second model in this szenario will be a bidrectional LSTM.\n",
    "        # The input for this model are the concatenated latent vectors that we obtained from\n",
    "        # the digit encoder.\n",
    "        # For flexibility, we do not use a sequential but have the final layers as single attributes in this module class.\n",
    "\n",
    "        # Let's also apply a bit of dropout to prevent overfitting too much.\n",
    "        self.dropout = (\n",
    "            nn.Dropout(0.3)\n",
    "        )\n",
    "\n",
    "        self.lstm = (\n",
    "            nn.LSTM(\n",
    "                input_size=self.latent_dim * 2,\n",
    "                hidden_size=64,\n",
    "                batch_first=True,\n",
    "                bidirectional=True\n",
    "            )\n",
    "        )\n",
    "\n",
    "        # Finally, we add a fully connected layer as output.\n",
    "        # Note that the input size of the linear layer should be twice the hidden size\n",
    "        # of the LSTM (bidirectional).\n",
    "        self.fc = (\n",
    "            nn.Linear(128, 10)\n",
    "        )\n",
    "\n",
    "\n",
    "    def forward(self, num_1: Tensor, num_2: Tensor) -> Tensor:\n",
    "        # Note: num_1 and num_2 are of shape (batch_size x max_length x 1 x 28 x 28)\n",
    "        batch_size = num_1.shape[0]\n",
    "        max_length = num_1.shape[1]\n",
    "\n",
    "        enc_1 = torch.zeros(batch_size, max_length, self.latent_dim, device=num_1.device)\n",
    "        enc_2 = torch.zeros(batch_size, max_length, self.latent_dim, device=num_1.device)\n",
    "        for i in range(max_length):\n",
    "            enc_1[:, i] = self.digit_encoder(num_1[:, i]).view(batch_size, -1)\n",
    "            enc_2[:, i] = self.digit_encoder(num_2[:, i]).view(batch_size, -1)\n",
    "\n",
    "        # After we apply the CNN to both numbers, we need to \"merge\" the two sequence of vectors.\n",
    "        # There are several options here, here we choose to concatenate the two tensor in each time-step\n",
    "        # to produce a single tensor of shape (batch_size, max_len, latent_dim * 2).\n",
    "        enc_total = (\n",
    "            torch.cat([enc_1, enc_2], dim=2)\n",
    "        )\n",
    "\n",
    "        # Now, we pass the total encoded tensor through the dropout, lstm and output layer.\n",
    "        enc_total = self.dropout(enc_total)\n",
    "\n",
    "        # We obtain all hidden states from each timestep resulting in a tensor of shape (batch_size, max_length, lstm_hidden_dim)\n",
    "        out, _ = self.lstm(enc_total)\n",
    "        # Due to broadcasting, we can feed this tensor directly to the fully connected layer.\n",
    "        out = self.fc(out)\n",
    "        # Our loss function does accept a tensor of shape (batch_size, num_classes, max_length)\n",
    "        # So we reshape before returning the network output.\n",
    "        return out.permute(0, 2, 1)"
   ]
  },
  {
   "cell_type": "markdown",
   "id": "35f33410",
   "metadata": {
    "pycharm": {
     "name": "#%% md\n"
    }
   },
   "source": [
    "We can mainly reuse the training loop from the exercise before, but we need to change the computation of the accuracy and dataloading.\n",
    "Let's initialize our modules and start training!"
   ]
  },
  {
   "cell_type": "code",
   "execution_count": 20,
   "id": "5c7a8fa4",
   "metadata": {
    "execution": {
     "iopub.execute_input": "2024-06-11T11:51:39.285853Z",
     "iopub.status.busy": "2024-06-11T11:51:39.285726Z",
     "iopub.status.idle": "2024-06-11T11:51:39.292721Z",
     "shell.execute_reply": "2024-06-11T11:51:39.292241Z"
    },
    "pycharm": {
     "name": "#%%\n"
    }
   },
   "outputs": [],
   "source": [
    "device = (\n",
    "    torch.device('cuda' if torch.cuda.is_available() else 'cpu')\n",
    ")\n",
    "\n",
    "def train(\n",
    "        model: AdditionModel,\n",
    "        loss: nn.Module,\n",
    "        optimizer: Optimizer,\n",
    "        train_dataset: Dataset,\n",
    "        test_dataset: Dataset,\n",
    "        epochs: int,\n",
    "        batch_size: int\n",
    ") -> Dict:\n",
    "    metrics: Dict = {\n",
    "        'train_loss': [],\n",
    "        'train_acc': [],\n",
    "        'test_loss': [],\n",
    "        'test_acc': [],\n",
    "    }\n",
    "\n",
    "    num_train_batches = ceil(len(train_dataset) / batch_size)\n",
    "    num_test_batches = ceil(len(test_dataset) / batch_size)\n",
    "\n",
    "    train_loader = DataLoader(train_dataset, batch_size, shuffle=True)\n",
    "    test_loader = DataLoader(test_dataset, batch_size)\n",
    "\n",
    "    for ep in range(1, epochs + 1):\n",
    "        total_loss = 0\n",
    "        num_correct = 0\n",
    "\n",
    "        ################################################################################\n",
    "        # TRAINING LOOP\n",
    "        ################################################################################\n",
    "\n",
    "        for batch_idx, sample in enumerate(train_loader):\n",
    "\n",
    "            num_1 = sample['num_1'].to(device)\n",
    "            num_2 = sample['num_2'].to(device)\n",
    "            y = sample['label'].to(device)\n",
    "\n",
    "\n",
    "            y_hat = model(num_1, num_2)\n",
    "            batch_loss = loss(y_hat, y)\n",
    "\n",
    "            optimizer.zero_grad()\n",
    "            batch_loss.backward()\n",
    "            optimizer.step()\n",
    "\n",
    "            if batch_idx % 10 == 0:\n",
    "                print('TRAINING BATCH:\\t({:5} / {:5})\\tLOSS:\\t{:.3f}'\n",
    "                      .format(batch_idx, num_train_batches, float(batch_loss)),\n",
    "                      end='\\r')\n",
    "\n",
    "            total_loss += float(batch_loss)\n",
    "\n",
    "            num_correct += int(torch.sum(torch.all(torch.eq(torch.argmax(y_hat, dim=1), y), dim=1)))\n",
    "\n",
    "        ep_train_loss = total_loss / len(train_dataset)\n",
    "        ep_train_acc = num_correct / len(train_dataset)\n",
    "\n",
    "        total_loss = 0\n",
    "        num_correct = 0\n",
    "\n",
    "        ################################################################################\n",
    "        # TEST LOOP\n",
    "        ################################################################################\n",
    "\n",
    "        for batch_idx, sample in enumerate(test_loader):\n",
    "            num_1 = sample['num_1'].to(device)\n",
    "            num_2 = sample['num_2'].to(device)\n",
    "            y = sample['label'].to(device)\n",
    "\n",
    "            with torch.no_grad():\n",
    "                y_hat = model(num_1, num_2)\n",
    "                batch_loss = loss(y_hat, y)\n",
    "\n",
    "            if batch_idx % 50 == 0:\n",
    "                print('TEST BATCH:\\t({:5} / {:5})\\tLOSS:\\t{:.3f}'\n",
    "                      .format(batch_idx, num_test_batches, float(batch_loss)), end='\\r')\n",
    "\n",
    "            total_loss += float(batch_loss)\n",
    "\n",
    "            num_correct += int(torch.sum(torch.all(torch.eq(torch.argmax(y_hat, dim=1), y), dim=1)))\n",
    "\n",
    "        ep_test_loss = total_loss / len(test_dataset)\n",
    "        ep_test_acc = num_correct / len(test_dataset)\n",
    "\n",
    "        metrics['train_loss'].append(ep_train_loss)\n",
    "        metrics['train_acc'].append(ep_train_acc)\n",
    "        metrics['test_loss'].append(ep_test_loss)\n",
    "        metrics['test_acc'].append(ep_test_acc)\n",
    "\n",
    "        print('EPOCH:\\t{:5}\\tTRAIN LOSS:\\t{:.3f}\\tTRAIN ACCURACY:\\t{:.3f}\\tTEST LOSS:\\t'\n",
    "              '{:.3f}\\tTEST ACCURACY:\\t{:.3f}'\n",
    "              .format(ep, ep_train_loss, ep_train_acc, ep_test_loss, ep_test_acc))\n",
    "    return metrics"
   ]
  },
  {
   "cell_type": "markdown",
   "id": "303bab76",
   "metadata": {
    "pycharm": {
     "name": "#%% md\n"
    }
   },
   "source": [
    "Let's initialize our modules and start training!\n"
   ]
  },
  {
   "cell_type": "code",
   "execution_count": 21,
   "id": "105c7d55",
   "metadata": {
    "execution": {
     "iopub.execute_input": "2024-06-11T11:51:39.294607Z",
     "iopub.status.busy": "2024-06-11T11:51:39.294475Z",
     "iopub.status.idle": "2024-06-11T12:15:41.001453Z",
     "shell.execute_reply": "2024-06-11T12:15:41.000734Z"
    },
    "pycharm": {
     "name": "#%%\n"
    }
   },
   "outputs": [
    {
     "name": "stdout",
     "output_type": "stream",
     "text": [
      "TRAINING BATCH:\t(    0 /   625)\tLOSS:\t2.305\r"
     ]
    },
    {
     "name": "stdout",
     "output_type": "stream",
     "text": [
      "TRAINING BATCH:\t(   10 /   625)\tLOSS:\t2.287\r"
     ]
    },
    {
     "name": "stdout",
     "output_type": "stream",
     "text": [
      "TRAINING BATCH:\t(   20 /   625)\tLOSS:\t2.300\r"
     ]
    },
    {
     "name": "stdout",
     "output_type": "stream",
     "text": [
      "TRAINING BATCH:\t(   30 /   625)\tLOSS:\t2.252\r"
     ]
    },
    {
     "name": "stdout",
     "output_type": "stream",
     "text": [
      "TRAINING BATCH:\t(   40 /   625)\tLOSS:\t2.281\r"
     ]
    },
    {
     "name": "stdout",
     "output_type": "stream",
     "text": [
      "TRAINING BATCH:\t(   50 /   625)\tLOSS:\t2.276\r"
     ]
    },
    {
     "name": "stdout",
     "output_type": "stream",
     "text": [
      "TRAINING BATCH:\t(   60 /   625)\tLOSS:\t2.272\r"
     ]
    },
    {
     "name": "stdout",
     "output_type": "stream",
     "text": [
      "TRAINING BATCH:\t(   70 /   625)\tLOSS:\t2.240\r"
     ]
    },
    {
     "name": "stdout",
     "output_type": "stream",
     "text": [
      "TRAINING BATCH:\t(   80 /   625)\tLOSS:\t2.250\r"
     ]
    },
    {
     "name": "stdout",
     "output_type": "stream",
     "text": [
      "TRAINING BATCH:\t(   90 /   625)\tLOSS:\t2.269\r"
     ]
    },
    {
     "name": "stdout",
     "output_type": "stream",
     "text": [
      "TRAINING BATCH:\t(  100 /   625)\tLOSS:\t2.233\r"
     ]
    },
    {
     "name": "stdout",
     "output_type": "stream",
     "text": [
      "TRAINING BATCH:\t(  110 /   625)\tLOSS:\t2.254\r"
     ]
    },
    {
     "name": "stdout",
     "output_type": "stream",
     "text": [
      "TRAINING BATCH:\t(  120 /   625)\tLOSS:\t2.229\r"
     ]
    },
    {
     "name": "stdout",
     "output_type": "stream",
     "text": [
      "TRAINING BATCH:\t(  130 /   625)\tLOSS:\t2.248\r"
     ]
    },
    {
     "name": "stdout",
     "output_type": "stream",
     "text": [
      "TRAINING BATCH:\t(  140 /   625)\tLOSS:\t2.269\r"
     ]
    },
    {
     "name": "stdout",
     "output_type": "stream",
     "text": [
      "TRAINING BATCH:\t(  150 /   625)\tLOSS:\t2.286\r"
     ]
    },
    {
     "name": "stdout",
     "output_type": "stream",
     "text": [
      "TRAINING BATCH:\t(  160 /   625)\tLOSS:\t2.299\r"
     ]
    },
    {
     "name": "stdout",
     "output_type": "stream",
     "text": [
      "TRAINING BATCH:\t(  170 /   625)\tLOSS:\t2.275\r"
     ]
    },
    {
     "name": "stdout",
     "output_type": "stream",
     "text": [
      "TRAINING BATCH:\t(  180 /   625)\tLOSS:\t2.279\r"
     ]
    },
    {
     "name": "stdout",
     "output_type": "stream",
     "text": [
      "TRAINING BATCH:\t(  190 /   625)\tLOSS:\t2.213\r"
     ]
    },
    {
     "name": "stdout",
     "output_type": "stream",
     "text": [
      "TRAINING BATCH:\t(  200 /   625)\tLOSS:\t2.232\r"
     ]
    },
    {
     "name": "stdout",
     "output_type": "stream",
     "text": [
      "TRAINING BATCH:\t(  210 /   625)\tLOSS:\t2.156\r"
     ]
    },
    {
     "name": "stdout",
     "output_type": "stream",
     "text": [
      "TRAINING BATCH:\t(  220 /   625)\tLOSS:\t2.257\r"
     ]
    },
    {
     "name": "stdout",
     "output_type": "stream",
     "text": [
      "TRAINING BATCH:\t(  230 /   625)\tLOSS:\t2.205\r"
     ]
    },
    {
     "name": "stdout",
     "output_type": "stream",
     "text": [
      "TRAINING BATCH:\t(  240 /   625)\tLOSS:\t2.101\r"
     ]
    },
    {
     "name": "stdout",
     "output_type": "stream",
     "text": [
      "TRAINING BATCH:\t(  250 /   625)\tLOSS:\t2.144\r"
     ]
    },
    {
     "name": "stdout",
     "output_type": "stream",
     "text": [
      "TRAINING BATCH:\t(  260 /   625)\tLOSS:\t2.117\r"
     ]
    },
    {
     "name": "stdout",
     "output_type": "stream",
     "text": [
      "TRAINING BATCH:\t(  270 /   625)\tLOSS:\t2.117\r"
     ]
    },
    {
     "name": "stdout",
     "output_type": "stream",
     "text": [
      "TRAINING BATCH:\t(  280 /   625)\tLOSS:\t2.050\r"
     ]
    },
    {
     "name": "stdout",
     "output_type": "stream",
     "text": [
      "TRAINING BATCH:\t(  290 /   625)\tLOSS:\t2.082\r"
     ]
    },
    {
     "name": "stdout",
     "output_type": "stream",
     "text": [
      "TRAINING BATCH:\t(  300 /   625)\tLOSS:\t1.999\r"
     ]
    },
    {
     "name": "stdout",
     "output_type": "stream",
     "text": [
      "TRAINING BATCH:\t(  310 /   625)\tLOSS:\t1.986\r"
     ]
    },
    {
     "name": "stdout",
     "output_type": "stream",
     "text": [
      "TRAINING BATCH:\t(  320 /   625)\tLOSS:\t2.087\r"
     ]
    },
    {
     "name": "stdout",
     "output_type": "stream",
     "text": [
      "TRAINING BATCH:\t(  330 /   625)\tLOSS:\t1.992\r"
     ]
    },
    {
     "name": "stdout",
     "output_type": "stream",
     "text": [
      "TRAINING BATCH:\t(  340 /   625)\tLOSS:\t1.943\r"
     ]
    },
    {
     "name": "stdout",
     "output_type": "stream",
     "text": [
      "TRAINING BATCH:\t(  350 /   625)\tLOSS:\t1.923\r"
     ]
    },
    {
     "name": "stdout",
     "output_type": "stream",
     "text": [
      "TRAINING BATCH:\t(  360 /   625)\tLOSS:\t1.980\r"
     ]
    },
    {
     "name": "stdout",
     "output_type": "stream",
     "text": [
      "TRAINING BATCH:\t(  370 /   625)\tLOSS:\t1.941\r"
     ]
    },
    {
     "name": "stdout",
     "output_type": "stream",
     "text": [
      "TRAINING BATCH:\t(  380 /   625)\tLOSS:\t1.875\r"
     ]
    },
    {
     "name": "stdout",
     "output_type": "stream",
     "text": [
      "TRAINING BATCH:\t(  390 /   625)\tLOSS:\t1.929\r"
     ]
    },
    {
     "name": "stdout",
     "output_type": "stream",
     "text": [
      "TRAINING BATCH:\t(  400 /   625)\tLOSS:\t1.746\r"
     ]
    },
    {
     "name": "stdout",
     "output_type": "stream",
     "text": [
      "TRAINING BATCH:\t(  410 /   625)\tLOSS:\t1.742\r"
     ]
    },
    {
     "name": "stdout",
     "output_type": "stream",
     "text": [
      "TRAINING BATCH:\t(  420 /   625)\tLOSS:\t1.864\r"
     ]
    },
    {
     "name": "stdout",
     "output_type": "stream",
     "text": [
      "TRAINING BATCH:\t(  430 /   625)\tLOSS:\t1.850\r"
     ]
    },
    {
     "name": "stdout",
     "output_type": "stream",
     "text": [
      "TRAINING BATCH:\t(  440 /   625)\tLOSS:\t1.762\r"
     ]
    },
    {
     "name": "stdout",
     "output_type": "stream",
     "text": [
      "TRAINING BATCH:\t(  450 /   625)\tLOSS:\t1.729\r"
     ]
    },
    {
     "name": "stdout",
     "output_type": "stream",
     "text": [
      "TRAINING BATCH:\t(  460 /   625)\tLOSS:\t1.753\r"
     ]
    },
    {
     "name": "stdout",
     "output_type": "stream",
     "text": [
      "TRAINING BATCH:\t(  470 /   625)\tLOSS:\t1.715\r"
     ]
    },
    {
     "name": "stdout",
     "output_type": "stream",
     "text": [
      "TRAINING BATCH:\t(  480 /   625)\tLOSS:\t1.677\r"
     ]
    },
    {
     "name": "stdout",
     "output_type": "stream",
     "text": [
      "TRAINING BATCH:\t(  490 /   625)\tLOSS:\t1.696\r"
     ]
    },
    {
     "name": "stdout",
     "output_type": "stream",
     "text": [
      "TRAINING BATCH:\t(  500 /   625)\tLOSS:\t1.611\r"
     ]
    },
    {
     "name": "stdout",
     "output_type": "stream",
     "text": [
      "TRAINING BATCH:\t(  510 /   625)\tLOSS:\t1.633\r"
     ]
    },
    {
     "name": "stdout",
     "output_type": "stream",
     "text": [
      "TRAINING BATCH:\t(  520 /   625)\tLOSS:\t1.715\r"
     ]
    },
    {
     "name": "stdout",
     "output_type": "stream",
     "text": [
      "TRAINING BATCH:\t(  530 /   625)\tLOSS:\t1.679\r"
     ]
    },
    {
     "name": "stdout",
     "output_type": "stream",
     "text": [
      "TRAINING BATCH:\t(  540 /   625)\tLOSS:\t1.713\r"
     ]
    },
    {
     "name": "stdout",
     "output_type": "stream",
     "text": [
      "TRAINING BATCH:\t(  550 /   625)\tLOSS:\t1.842\r"
     ]
    },
    {
     "name": "stdout",
     "output_type": "stream",
     "text": [
      "TRAINING BATCH:\t(  560 /   625)\tLOSS:\t1.512\r"
     ]
    },
    {
     "name": "stdout",
     "output_type": "stream",
     "text": [
      "TRAINING BATCH:\t(  570 /   625)\tLOSS:\t1.695\r"
     ]
    },
    {
     "name": "stdout",
     "output_type": "stream",
     "text": [
      "TRAINING BATCH:\t(  580 /   625)\tLOSS:\t1.609\r"
     ]
    },
    {
     "name": "stdout",
     "output_type": "stream",
     "text": [
      "TRAINING BATCH:\t(  590 /   625)\tLOSS:\t1.571\r"
     ]
    },
    {
     "name": "stdout",
     "output_type": "stream",
     "text": [
      "TRAINING BATCH:\t(  600 /   625)\tLOSS:\t1.515\r"
     ]
    },
    {
     "name": "stdout",
     "output_type": "stream",
     "text": [
      "TRAINING BATCH:\t(  610 /   625)\tLOSS:\t1.464\r"
     ]
    },
    {
     "name": "stdout",
     "output_type": "stream",
     "text": [
      "TRAINING BATCH:\t(  620 /   625)\tLOSS:\t1.458\r"
     ]
    },
    {
     "name": "stdout",
     "output_type": "stream",
     "text": [
      "TEST BATCH:\t(    0 /   157)\tLOSS:\t1.533\r"
     ]
    },
    {
     "name": "stdout",
     "output_type": "stream",
     "text": [
      "TEST BATCH:\t(   50 /   157)\tLOSS:\t1.384\r"
     ]
    },
    {
     "name": "stdout",
     "output_type": "stream",
     "text": [
      "TEST BATCH:\t(  100 /   157)\tLOSS:\t1.395\r"
     ]
    },
    {
     "name": "stdout",
     "output_type": "stream",
     "text": [
      "TEST BATCH:\t(  150 /   157)\tLOSS:\t1.528\r",
      "EPOCH:\t    1\tTRAIN LOSS:\t0.062\tTRAIN ACCURACY:\t0.019\tTEST LOSS:\t0.048\tTEST ACCURACY:\t0.071\n"
     ]
    },
    {
     "name": "stdout",
     "output_type": "stream",
     "text": [
      "TRAINING BATCH:\t(    0 /   625)\tLOSS:\t1.468\r"
     ]
    },
    {
     "name": "stdout",
     "output_type": "stream",
     "text": [
      "TRAINING BATCH:\t(   10 /   625)\tLOSS:\t1.382\r"
     ]
    },
    {
     "name": "stdout",
     "output_type": "stream",
     "text": [
      "TRAINING BATCH:\t(   20 /   625)\tLOSS:\t1.475\r"
     ]
    },
    {
     "name": "stdout",
     "output_type": "stream",
     "text": [
      "TRAINING BATCH:\t(   30 /   625)\tLOSS:\t1.596\r"
     ]
    },
    {
     "name": "stdout",
     "output_type": "stream",
     "text": [
      "TRAINING BATCH:\t(   40 /   625)\tLOSS:\t1.561\r"
     ]
    },
    {
     "name": "stdout",
     "output_type": "stream",
     "text": [
      "TRAINING BATCH:\t(   50 /   625)\tLOSS:\t1.470\r"
     ]
    },
    {
     "name": "stdout",
     "output_type": "stream",
     "text": [
      "TRAINING BATCH:\t(   60 /   625)\tLOSS:\t1.491\r"
     ]
    },
    {
     "name": "stdout",
     "output_type": "stream",
     "text": [
      "TRAINING BATCH:\t(   70 /   625)\tLOSS:\t1.582\r"
     ]
    },
    {
     "name": "stdout",
     "output_type": "stream",
     "text": [
      "TRAINING BATCH:\t(   80 /   625)\tLOSS:\t1.501\r"
     ]
    },
    {
     "name": "stdout",
     "output_type": "stream",
     "text": [
      "TRAINING BATCH:\t(   90 /   625)\tLOSS:\t1.424\r"
     ]
    },
    {
     "name": "stdout",
     "output_type": "stream",
     "text": [
      "TRAINING BATCH:\t(  100 /   625)\tLOSS:\t1.336\r"
     ]
    },
    {
     "name": "stdout",
     "output_type": "stream",
     "text": [
      "TRAINING BATCH:\t(  110 /   625)\tLOSS:\t1.380\r"
     ]
    },
    {
     "name": "stdout",
     "output_type": "stream",
     "text": [
      "TRAINING BATCH:\t(  120 /   625)\tLOSS:\t1.434\r"
     ]
    },
    {
     "name": "stdout",
     "output_type": "stream",
     "text": [
      "TRAINING BATCH:\t(  130 /   625)\tLOSS:\t1.433\r"
     ]
    },
    {
     "name": "stdout",
     "output_type": "stream",
     "text": [
      "TRAINING BATCH:\t(  140 /   625)\tLOSS:\t1.384\r"
     ]
    },
    {
     "name": "stdout",
     "output_type": "stream",
     "text": [
      "TRAINING BATCH:\t(  150 /   625)\tLOSS:\t1.332\r"
     ]
    },
    {
     "name": "stdout",
     "output_type": "stream",
     "text": [
      "TRAINING BATCH:\t(  160 /   625)\tLOSS:\t1.357\r"
     ]
    },
    {
     "name": "stdout",
     "output_type": "stream",
     "text": [
      "TRAINING BATCH:\t(  170 /   625)\tLOSS:\t1.391\r"
     ]
    },
    {
     "name": "stdout",
     "output_type": "stream",
     "text": [
      "TRAINING BATCH:\t(  180 /   625)\tLOSS:\t1.375\r"
     ]
    },
    {
     "name": "stdout",
     "output_type": "stream",
     "text": [
      "TRAINING BATCH:\t(  190 /   625)\tLOSS:\t1.186\r"
     ]
    },
    {
     "name": "stdout",
     "output_type": "stream",
     "text": [
      "TRAINING BATCH:\t(  200 /   625)\tLOSS:\t1.116\r"
     ]
    },
    {
     "name": "stdout",
     "output_type": "stream",
     "text": [
      "TRAINING BATCH:\t(  210 /   625)\tLOSS:\t1.342\r"
     ]
    },
    {
     "name": "stdout",
     "output_type": "stream",
     "text": [
      "TRAINING BATCH:\t(  220 /   625)\tLOSS:\t1.205\r"
     ]
    },
    {
     "name": "stdout",
     "output_type": "stream",
     "text": [
      "TRAINING BATCH:\t(  230 /   625)\tLOSS:\t1.237\r"
     ]
    },
    {
     "name": "stdout",
     "output_type": "stream",
     "text": [
      "TRAINING BATCH:\t(  240 /   625)\tLOSS:\t1.315\r"
     ]
    },
    {
     "name": "stdout",
     "output_type": "stream",
     "text": [
      "TRAINING BATCH:\t(  250 /   625)\tLOSS:\t1.141\r"
     ]
    },
    {
     "name": "stdout",
     "output_type": "stream",
     "text": [
      "TRAINING BATCH:\t(  260 /   625)\tLOSS:\t1.287\r"
     ]
    },
    {
     "name": "stdout",
     "output_type": "stream",
     "text": [
      "TRAINING BATCH:\t(  270 /   625)\tLOSS:\t1.164\r"
     ]
    },
    {
     "name": "stdout",
     "output_type": "stream",
     "text": [
      "TRAINING BATCH:\t(  280 /   625)\tLOSS:\t1.376\r"
     ]
    },
    {
     "name": "stdout",
     "output_type": "stream",
     "text": [
      "TRAINING BATCH:\t(  290 /   625)\tLOSS:\t1.254\r"
     ]
    },
    {
     "name": "stdout",
     "output_type": "stream",
     "text": [
      "TRAINING BATCH:\t(  300 /   625)\tLOSS:\t1.049\r"
     ]
    },
    {
     "name": "stdout",
     "output_type": "stream",
     "text": [
      "TRAINING BATCH:\t(  310 /   625)\tLOSS:\t1.116\r"
     ]
    },
    {
     "name": "stdout",
     "output_type": "stream",
     "text": [
      "TRAINING BATCH:\t(  320 /   625)\tLOSS:\t1.149\r"
     ]
    },
    {
     "name": "stdout",
     "output_type": "stream",
     "text": [
      "TRAINING BATCH:\t(  330 /   625)\tLOSS:\t1.107\r"
     ]
    },
    {
     "name": "stdout",
     "output_type": "stream",
     "text": [
      "TRAINING BATCH:\t(  340 /   625)\tLOSS:\t1.180\r"
     ]
    },
    {
     "name": "stdout",
     "output_type": "stream",
     "text": [
      "TRAINING BATCH:\t(  350 /   625)\tLOSS:\t1.136\r"
     ]
    },
    {
     "name": "stdout",
     "output_type": "stream",
     "text": [
      "TRAINING BATCH:\t(  360 /   625)\tLOSS:\t1.136\r"
     ]
    },
    {
     "name": "stdout",
     "output_type": "stream",
     "text": [
      "TRAINING BATCH:\t(  370 /   625)\tLOSS:\t1.074\r"
     ]
    },
    {
     "name": "stdout",
     "output_type": "stream",
     "text": [
      "TRAINING BATCH:\t(  380 /   625)\tLOSS:\t1.035\r"
     ]
    },
    {
     "name": "stdout",
     "output_type": "stream",
     "text": [
      "TRAINING BATCH:\t(  390 /   625)\tLOSS:\t1.113\r"
     ]
    },
    {
     "name": "stdout",
     "output_type": "stream",
     "text": [
      "TRAINING BATCH:\t(  400 /   625)\tLOSS:\t1.231\r"
     ]
    },
    {
     "name": "stdout",
     "output_type": "stream",
     "text": [
      "TRAINING BATCH:\t(  410 /   625)\tLOSS:\t1.066\r"
     ]
    },
    {
     "name": "stdout",
     "output_type": "stream",
     "text": [
      "TRAINING BATCH:\t(  420 /   625)\tLOSS:\t1.045\r"
     ]
    },
    {
     "name": "stdout",
     "output_type": "stream",
     "text": [
      "TRAINING BATCH:\t(  430 /   625)\tLOSS:\t0.949\r"
     ]
    },
    {
     "name": "stdout",
     "output_type": "stream",
     "text": [
      "TRAINING BATCH:\t(  440 /   625)\tLOSS:\t0.967\r"
     ]
    },
    {
     "name": "stdout",
     "output_type": "stream",
     "text": [
      "TRAINING BATCH:\t(  450 /   625)\tLOSS:\t1.079\r"
     ]
    },
    {
     "name": "stdout",
     "output_type": "stream",
     "text": [
      "TRAINING BATCH:\t(  460 /   625)\tLOSS:\t1.059\r"
     ]
    },
    {
     "name": "stdout",
     "output_type": "stream",
     "text": [
      "TRAINING BATCH:\t(  470 /   625)\tLOSS:\t0.859\r"
     ]
    },
    {
     "name": "stdout",
     "output_type": "stream",
     "text": [
      "TRAINING BATCH:\t(  480 /   625)\tLOSS:\t0.994\r"
     ]
    },
    {
     "name": "stdout",
     "output_type": "stream",
     "text": [
      "TRAINING BATCH:\t(  490 /   625)\tLOSS:\t1.008\r"
     ]
    },
    {
     "name": "stdout",
     "output_type": "stream",
     "text": [
      "TRAINING BATCH:\t(  500 /   625)\tLOSS:\t0.870\r"
     ]
    },
    {
     "name": "stdout",
     "output_type": "stream",
     "text": [
      "TRAINING BATCH:\t(  510 /   625)\tLOSS:\t0.841\r"
     ]
    },
    {
     "name": "stdout",
     "output_type": "stream",
     "text": [
      "TRAINING BATCH:\t(  520 /   625)\tLOSS:\t0.966\r"
     ]
    },
    {
     "name": "stdout",
     "output_type": "stream",
     "text": [
      "TRAINING BATCH:\t(  530 /   625)\tLOSS:\t0.937\r"
     ]
    },
    {
     "name": "stdout",
     "output_type": "stream",
     "text": [
      "TRAINING BATCH:\t(  540 /   625)\tLOSS:\t0.849\r"
     ]
    },
    {
     "name": "stdout",
     "output_type": "stream",
     "text": [
      "TRAINING BATCH:\t(  550 /   625)\tLOSS:\t0.909\r"
     ]
    },
    {
     "name": "stdout",
     "output_type": "stream",
     "text": [
      "TRAINING BATCH:\t(  560 /   625)\tLOSS:\t1.034\r"
     ]
    },
    {
     "name": "stdout",
     "output_type": "stream",
     "text": [
      "TRAINING BATCH:\t(  570 /   625)\tLOSS:\t0.913\r"
     ]
    },
    {
     "name": "stdout",
     "output_type": "stream",
     "text": [
      "TRAINING BATCH:\t(  580 /   625)\tLOSS:\t1.004\r"
     ]
    },
    {
     "name": "stdout",
     "output_type": "stream",
     "text": [
      "TRAINING BATCH:\t(  590 /   625)\tLOSS:\t1.016\r"
     ]
    },
    {
     "name": "stdout",
     "output_type": "stream",
     "text": [
      "TRAINING BATCH:\t(  600 /   625)\tLOSS:\t0.911\r"
     ]
    },
    {
     "name": "stdout",
     "output_type": "stream",
     "text": [
      "TRAINING BATCH:\t(  610 /   625)\tLOSS:\t0.921\r"
     ]
    },
    {
     "name": "stdout",
     "output_type": "stream",
     "text": [
      "TRAINING BATCH:\t(  620 /   625)\tLOSS:\t0.739\r"
     ]
    },
    {
     "name": "stdout",
     "output_type": "stream",
     "text": [
      "TEST BATCH:\t(    0 /   157)\tLOSS:\t0.864\r"
     ]
    },
    {
     "name": "stdout",
     "output_type": "stream",
     "text": [
      "TEST BATCH:\t(   50 /   157)\tLOSS:\t0.773\r"
     ]
    },
    {
     "name": "stdout",
     "output_type": "stream",
     "text": [
      "TEST BATCH:\t(  100 /   157)\tLOSS:\t0.723\r"
     ]
    },
    {
     "name": "stdout",
     "output_type": "stream",
     "text": [
      "TEST BATCH:\t(  150 /   157)\tLOSS:\t0.856\r",
      "EPOCH:\t    2\tTRAIN LOSS:\t0.037\tTRAIN ACCURACY:\t0.188\tTEST LOSS:\t0.028\tTEST ACCURACY:\t0.334\n"
     ]
    },
    {
     "name": "stdout",
     "output_type": "stream",
     "text": [
      "TRAINING BATCH:\t(    0 /   625)\tLOSS:\t0.800\r"
     ]
    },
    {
     "name": "stdout",
     "output_type": "stream",
     "text": [
      "TRAINING BATCH:\t(   10 /   625)\tLOSS:\t0.852\r"
     ]
    },
    {
     "name": "stdout",
     "output_type": "stream",
     "text": [
      "TRAINING BATCH:\t(   20 /   625)\tLOSS:\t0.690\r"
     ]
    },
    {
     "name": "stdout",
     "output_type": "stream",
     "text": [
      "TRAINING BATCH:\t(   30 /   625)\tLOSS:\t0.948\r"
     ]
    },
    {
     "name": "stdout",
     "output_type": "stream",
     "text": [
      "TRAINING BATCH:\t(   40 /   625)\tLOSS:\t0.843\r"
     ]
    },
    {
     "name": "stdout",
     "output_type": "stream",
     "text": [
      "TRAINING BATCH:\t(   50 /   625)\tLOSS:\t0.782\r"
     ]
    },
    {
     "name": "stdout",
     "output_type": "stream",
     "text": [
      "TRAINING BATCH:\t(   60 /   625)\tLOSS:\t0.909\r"
     ]
    },
    {
     "name": "stdout",
     "output_type": "stream",
     "text": [
      "TRAINING BATCH:\t(   70 /   625)\tLOSS:\t0.901\r"
     ]
    },
    {
     "name": "stdout",
     "output_type": "stream",
     "text": [
      "TRAINING BATCH:\t(   80 /   625)\tLOSS:\t0.793\r"
     ]
    },
    {
     "name": "stdout",
     "output_type": "stream",
     "text": [
      "TRAINING BATCH:\t(   90 /   625)\tLOSS:\t0.789\r"
     ]
    },
    {
     "name": "stdout",
     "output_type": "stream",
     "text": [
      "TRAINING BATCH:\t(  100 /   625)\tLOSS:\t0.888\r"
     ]
    },
    {
     "name": "stdout",
     "output_type": "stream",
     "text": [
      "TRAINING BATCH:\t(  110 /   625)\tLOSS:\t0.892\r"
     ]
    },
    {
     "name": "stdout",
     "output_type": "stream",
     "text": [
      "TRAINING BATCH:\t(  120 /   625)\tLOSS:\t0.772\r"
     ]
    },
    {
     "name": "stdout",
     "output_type": "stream",
     "text": [
      "TRAINING BATCH:\t(  130 /   625)\tLOSS:\t0.948\r"
     ]
    },
    {
     "name": "stdout",
     "output_type": "stream",
     "text": [
      "TRAINING BATCH:\t(  140 /   625)\tLOSS:\t0.706\r"
     ]
    },
    {
     "name": "stdout",
     "output_type": "stream",
     "text": [
      "TRAINING BATCH:\t(  150 /   625)\tLOSS:\t0.767\r"
     ]
    },
    {
     "name": "stdout",
     "output_type": "stream",
     "text": [
      "TRAINING BATCH:\t(  160 /   625)\tLOSS:\t0.762\r"
     ]
    },
    {
     "name": "stdout",
     "output_type": "stream",
     "text": [
      "TRAINING BATCH:\t(  170 /   625)\tLOSS:\t0.692\r"
     ]
    },
    {
     "name": "stdout",
     "output_type": "stream",
     "text": [
      "TRAINING BATCH:\t(  180 /   625)\tLOSS:\t0.806\r"
     ]
    },
    {
     "name": "stdout",
     "output_type": "stream",
     "text": [
      "TRAINING BATCH:\t(  190 /   625)\tLOSS:\t0.703\r"
     ]
    },
    {
     "name": "stdout",
     "output_type": "stream",
     "text": [
      "TRAINING BATCH:\t(  200 /   625)\tLOSS:\t0.728\r"
     ]
    },
    {
     "name": "stdout",
     "output_type": "stream",
     "text": [
      "TRAINING BATCH:\t(  210 /   625)\tLOSS:\t0.700\r"
     ]
    },
    {
     "name": "stdout",
     "output_type": "stream",
     "text": [
      "TRAINING BATCH:\t(  220 /   625)\tLOSS:\t0.767\r"
     ]
    },
    {
     "name": "stdout",
     "output_type": "stream",
     "text": [
      "TRAINING BATCH:\t(  230 /   625)\tLOSS:\t0.818\r"
     ]
    },
    {
     "name": "stdout",
     "output_type": "stream",
     "text": [
      "TRAINING BATCH:\t(  240 /   625)\tLOSS:\t0.623\r"
     ]
    },
    {
     "name": "stdout",
     "output_type": "stream",
     "text": [
      "TRAINING BATCH:\t(  250 /   625)\tLOSS:\t0.751\r"
     ]
    },
    {
     "name": "stdout",
     "output_type": "stream",
     "text": [
      "TRAINING BATCH:\t(  260 /   625)\tLOSS:\t0.884\r"
     ]
    },
    {
     "name": "stdout",
     "output_type": "stream",
     "text": [
      "TRAINING BATCH:\t(  270 /   625)\tLOSS:\t0.612\r"
     ]
    },
    {
     "name": "stdout",
     "output_type": "stream",
     "text": [
      "TRAINING BATCH:\t(  280 /   625)\tLOSS:\t0.711\r"
     ]
    },
    {
     "name": "stdout",
     "output_type": "stream",
     "text": [
      "TRAINING BATCH:\t(  290 /   625)\tLOSS:\t0.634\r"
     ]
    },
    {
     "name": "stdout",
     "output_type": "stream",
     "text": [
      "TRAINING BATCH:\t(  300 /   625)\tLOSS:\t0.717\r"
     ]
    },
    {
     "name": "stdout",
     "output_type": "stream",
     "text": [
      "TRAINING BATCH:\t(  310 /   625)\tLOSS:\t0.651\r"
     ]
    },
    {
     "name": "stdout",
     "output_type": "stream",
     "text": [
      "TRAINING BATCH:\t(  320 /   625)\tLOSS:\t0.637\r"
     ]
    },
    {
     "name": "stdout",
     "output_type": "stream",
     "text": [
      "TRAINING BATCH:\t(  330 /   625)\tLOSS:\t0.869\r"
     ]
    },
    {
     "name": "stdout",
     "output_type": "stream",
     "text": [
      "TRAINING BATCH:\t(  340 /   625)\tLOSS:\t0.734\r"
     ]
    },
    {
     "name": "stdout",
     "output_type": "stream",
     "text": [
      "TRAINING BATCH:\t(  350 /   625)\tLOSS:\t0.676\r"
     ]
    },
    {
     "name": "stdout",
     "output_type": "stream",
     "text": [
      "TRAINING BATCH:\t(  360 /   625)\tLOSS:\t0.708\r"
     ]
    },
    {
     "name": "stdout",
     "output_type": "stream",
     "text": [
      "TRAINING BATCH:\t(  370 /   625)\tLOSS:\t0.715\r"
     ]
    },
    {
     "name": "stdout",
     "output_type": "stream",
     "text": [
      "TRAINING BATCH:\t(  380 /   625)\tLOSS:\t0.811\r"
     ]
    },
    {
     "name": "stdout",
     "output_type": "stream",
     "text": [
      "TRAINING BATCH:\t(  390 /   625)\tLOSS:\t0.784\r"
     ]
    },
    {
     "name": "stdout",
     "output_type": "stream",
     "text": [
      "TRAINING BATCH:\t(  400 /   625)\tLOSS:\t0.544\r"
     ]
    },
    {
     "name": "stdout",
     "output_type": "stream",
     "text": [
      "TRAINING BATCH:\t(  410 /   625)\tLOSS:\t0.687\r"
     ]
    },
    {
     "name": "stdout",
     "output_type": "stream",
     "text": [
      "TRAINING BATCH:\t(  420 /   625)\tLOSS:\t0.586\r"
     ]
    },
    {
     "name": "stdout",
     "output_type": "stream",
     "text": [
      "TRAINING BATCH:\t(  430 /   625)\tLOSS:\t0.609\r"
     ]
    },
    {
     "name": "stdout",
     "output_type": "stream",
     "text": [
      "TRAINING BATCH:\t(  440 /   625)\tLOSS:\t0.694\r"
     ]
    },
    {
     "name": "stdout",
     "output_type": "stream",
     "text": [
      "TRAINING BATCH:\t(  450 /   625)\tLOSS:\t0.727\r"
     ]
    },
    {
     "name": "stdout",
     "output_type": "stream",
     "text": [
      "TRAINING BATCH:\t(  460 /   625)\tLOSS:\t0.763\r"
     ]
    },
    {
     "name": "stdout",
     "output_type": "stream",
     "text": [
      "TRAINING BATCH:\t(  470 /   625)\tLOSS:\t0.784\r"
     ]
    },
    {
     "name": "stdout",
     "output_type": "stream",
     "text": [
      "TRAINING BATCH:\t(  480 /   625)\tLOSS:\t0.651\r"
     ]
    },
    {
     "name": "stdout",
     "output_type": "stream",
     "text": [
      "TRAINING BATCH:\t(  490 /   625)\tLOSS:\t0.553\r"
     ]
    },
    {
     "name": "stdout",
     "output_type": "stream",
     "text": [
      "TRAINING BATCH:\t(  500 /   625)\tLOSS:\t0.553\r"
     ]
    },
    {
     "name": "stdout",
     "output_type": "stream",
     "text": [
      "TRAINING BATCH:\t(  510 /   625)\tLOSS:\t0.659\r"
     ]
    },
    {
     "name": "stdout",
     "output_type": "stream",
     "text": [
      "TRAINING BATCH:\t(  520 /   625)\tLOSS:\t0.587\r"
     ]
    },
    {
     "name": "stdout",
     "output_type": "stream",
     "text": [
      "TRAINING BATCH:\t(  530 /   625)\tLOSS:\t0.495\r"
     ]
    },
    {
     "name": "stdout",
     "output_type": "stream",
     "text": [
      "TRAINING BATCH:\t(  540 /   625)\tLOSS:\t0.580\r"
     ]
    },
    {
     "name": "stdout",
     "output_type": "stream",
     "text": [
      "TRAINING BATCH:\t(  550 /   625)\tLOSS:\t0.576\r"
     ]
    },
    {
     "name": "stdout",
     "output_type": "stream",
     "text": [
      "TRAINING BATCH:\t(  560 /   625)\tLOSS:\t0.563\r"
     ]
    },
    {
     "name": "stdout",
     "output_type": "stream",
     "text": [
      "TRAINING BATCH:\t(  570 /   625)\tLOSS:\t0.675\r"
     ]
    },
    {
     "name": "stdout",
     "output_type": "stream",
     "text": [
      "TRAINING BATCH:\t(  580 /   625)\tLOSS:\t0.592\r"
     ]
    },
    {
     "name": "stdout",
     "output_type": "stream",
     "text": [
      "TRAINING BATCH:\t(  590 /   625)\tLOSS:\t0.554\r"
     ]
    },
    {
     "name": "stdout",
     "output_type": "stream",
     "text": [
      "TRAINING BATCH:\t(  600 /   625)\tLOSS:\t0.549\r"
     ]
    },
    {
     "name": "stdout",
     "output_type": "stream",
     "text": [
      "TRAINING BATCH:\t(  610 /   625)\tLOSS:\t0.600\r"
     ]
    },
    {
     "name": "stdout",
     "output_type": "stream",
     "text": [
      "TRAINING BATCH:\t(  620 /   625)\tLOSS:\t0.539\r"
     ]
    },
    {
     "name": "stdout",
     "output_type": "stream",
     "text": [
      "TEST BATCH:\t(    0 /   157)\tLOSS:\t0.641\r"
     ]
    },
    {
     "name": "stdout",
     "output_type": "stream",
     "text": [
      "TEST BATCH:\t(   50 /   157)\tLOSS:\t0.440\r"
     ]
    },
    {
     "name": "stdout",
     "output_type": "stream",
     "text": [
      "TEST BATCH:\t(  100 /   157)\tLOSS:\t0.641\r"
     ]
    },
    {
     "name": "stdout",
     "output_type": "stream",
     "text": [
      "TEST BATCH:\t(  150 /   157)\tLOSS:\t0.562\r",
      "EPOCH:\t    3\tTRAIN LOSS:\t0.022\tTRAIN ACCURACY:\t0.464\tTEST LOSS:\t0.018\tTEST ACCURACY:\t0.564\n"
     ]
    },
    {
     "name": "stdout",
     "output_type": "stream",
     "text": [
      "TRAINING BATCH:\t(    0 /   625)\tLOSS:\t0.545\r"
     ]
    },
    {
     "name": "stdout",
     "output_type": "stream",
     "text": [
      "TRAINING BATCH:\t(   10 /   625)\tLOSS:\t0.475\r"
     ]
    },
    {
     "name": "stdout",
     "output_type": "stream",
     "text": [
      "TRAINING BATCH:\t(   20 /   625)\tLOSS:\t0.655\r"
     ]
    },
    {
     "name": "stdout",
     "output_type": "stream",
     "text": [
      "TRAINING BATCH:\t(   30 /   625)\tLOSS:\t0.475\r"
     ]
    },
    {
     "name": "stdout",
     "output_type": "stream",
     "text": [
      "TRAINING BATCH:\t(   40 /   625)\tLOSS:\t0.523\r"
     ]
    },
    {
     "name": "stdout",
     "output_type": "stream",
     "text": [
      "TRAINING BATCH:\t(   50 /   625)\tLOSS:\t0.624\r"
     ]
    },
    {
     "name": "stdout",
     "output_type": "stream",
     "text": [
      "TRAINING BATCH:\t(   60 /   625)\tLOSS:\t0.454\r"
     ]
    },
    {
     "name": "stdout",
     "output_type": "stream",
     "text": [
      "TRAINING BATCH:\t(   70 /   625)\tLOSS:\t0.578\r"
     ]
    },
    {
     "name": "stdout",
     "output_type": "stream",
     "text": [
      "TRAINING BATCH:\t(   80 /   625)\tLOSS:\t0.525\r"
     ]
    },
    {
     "name": "stdout",
     "output_type": "stream",
     "text": [
      "TRAINING BATCH:\t(   90 /   625)\tLOSS:\t0.623\r"
     ]
    },
    {
     "name": "stdout",
     "output_type": "stream",
     "text": [
      "TRAINING BATCH:\t(  100 /   625)\tLOSS:\t0.554\r"
     ]
    },
    {
     "name": "stdout",
     "output_type": "stream",
     "text": [
      "TRAINING BATCH:\t(  110 /   625)\tLOSS:\t0.632\r"
     ]
    },
    {
     "name": "stdout",
     "output_type": "stream",
     "text": [
      "TRAINING BATCH:\t(  120 /   625)\tLOSS:\t0.503\r"
     ]
    },
    {
     "name": "stdout",
     "output_type": "stream",
     "text": [
      "TRAINING BATCH:\t(  130 /   625)\tLOSS:\t0.519\r"
     ]
    },
    {
     "name": "stdout",
     "output_type": "stream",
     "text": [
      "TRAINING BATCH:\t(  140 /   625)\tLOSS:\t0.540\r"
     ]
    },
    {
     "name": "stdout",
     "output_type": "stream",
     "text": [
      "TRAINING BATCH:\t(  150 /   625)\tLOSS:\t0.482\r"
     ]
    },
    {
     "name": "stdout",
     "output_type": "stream",
     "text": [
      "TRAINING BATCH:\t(  160 /   625)\tLOSS:\t0.568\r"
     ]
    },
    {
     "name": "stdout",
     "output_type": "stream",
     "text": [
      "TRAINING BATCH:\t(  170 /   625)\tLOSS:\t0.499\r"
     ]
    },
    {
     "name": "stdout",
     "output_type": "stream",
     "text": [
      "TRAINING BATCH:\t(  180 /   625)\tLOSS:\t0.528\r"
     ]
    },
    {
     "name": "stdout",
     "output_type": "stream",
     "text": [
      "TRAINING BATCH:\t(  190 /   625)\tLOSS:\t0.545\r"
     ]
    },
    {
     "name": "stdout",
     "output_type": "stream",
     "text": [
      "TRAINING BATCH:\t(  200 /   625)\tLOSS:\t0.512\r"
     ]
    },
    {
     "name": "stdout",
     "output_type": "stream",
     "text": [
      "TRAINING BATCH:\t(  210 /   625)\tLOSS:\t0.471\r"
     ]
    },
    {
     "name": "stdout",
     "output_type": "stream",
     "text": [
      "TRAINING BATCH:\t(  220 /   625)\tLOSS:\t0.475\r"
     ]
    },
    {
     "name": "stdout",
     "output_type": "stream",
     "text": [
      "TRAINING BATCH:\t(  230 /   625)\tLOSS:\t0.433\r"
     ]
    },
    {
     "name": "stdout",
     "output_type": "stream",
     "text": [
      "TRAINING BATCH:\t(  240 /   625)\tLOSS:\t0.590\r"
     ]
    },
    {
     "name": "stdout",
     "output_type": "stream",
     "text": [
      "TRAINING BATCH:\t(  250 /   625)\tLOSS:\t0.559\r"
     ]
    },
    {
     "name": "stdout",
     "output_type": "stream",
     "text": [
      "TRAINING BATCH:\t(  260 /   625)\tLOSS:\t0.417\r"
     ]
    },
    {
     "name": "stdout",
     "output_type": "stream",
     "text": [
      "TRAINING BATCH:\t(  270 /   625)\tLOSS:\t0.464\r"
     ]
    },
    {
     "name": "stdout",
     "output_type": "stream",
     "text": [
      "TRAINING BATCH:\t(  280 /   625)\tLOSS:\t0.376\r"
     ]
    },
    {
     "name": "stdout",
     "output_type": "stream",
     "text": [
      "TRAINING BATCH:\t(  290 /   625)\tLOSS:\t0.477\r"
     ]
    },
    {
     "name": "stdout",
     "output_type": "stream",
     "text": [
      "TRAINING BATCH:\t(  300 /   625)\tLOSS:\t0.634\r"
     ]
    },
    {
     "name": "stdout",
     "output_type": "stream",
     "text": [
      "TRAINING BATCH:\t(  310 /   625)\tLOSS:\t0.610\r"
     ]
    },
    {
     "name": "stdout",
     "output_type": "stream",
     "text": [
      "TRAINING BATCH:\t(  320 /   625)\tLOSS:\t0.502\r"
     ]
    },
    {
     "name": "stdout",
     "output_type": "stream",
     "text": [
      "TRAINING BATCH:\t(  330 /   625)\tLOSS:\t0.532\r"
     ]
    },
    {
     "name": "stdout",
     "output_type": "stream",
     "text": [
      "TRAINING BATCH:\t(  340 /   625)\tLOSS:\t0.390\r"
     ]
    },
    {
     "name": "stdout",
     "output_type": "stream",
     "text": [
      "TRAINING BATCH:\t(  350 /   625)\tLOSS:\t0.486\r"
     ]
    },
    {
     "name": "stdout",
     "output_type": "stream",
     "text": [
      "TRAINING BATCH:\t(  360 /   625)\tLOSS:\t0.641\r"
     ]
    },
    {
     "name": "stdout",
     "output_type": "stream",
     "text": [
      "TRAINING BATCH:\t(  370 /   625)\tLOSS:\t0.513\r"
     ]
    },
    {
     "name": "stdout",
     "output_type": "stream",
     "text": [
      "TRAINING BATCH:\t(  380 /   625)\tLOSS:\t0.610\r"
     ]
    },
    {
     "name": "stdout",
     "output_type": "stream",
     "text": [
      "TRAINING BATCH:\t(  390 /   625)\tLOSS:\t0.630\r"
     ]
    },
    {
     "name": "stdout",
     "output_type": "stream",
     "text": [
      "TRAINING BATCH:\t(  400 /   625)\tLOSS:\t0.471\r"
     ]
    },
    {
     "name": "stdout",
     "output_type": "stream",
     "text": [
      "TRAINING BATCH:\t(  410 /   625)\tLOSS:\t0.486\r"
     ]
    },
    {
     "name": "stdout",
     "output_type": "stream",
     "text": [
      "TRAINING BATCH:\t(  420 /   625)\tLOSS:\t0.580\r"
     ]
    },
    {
     "name": "stdout",
     "output_type": "stream",
     "text": [
      "TRAINING BATCH:\t(  430 /   625)\tLOSS:\t0.347\r"
     ]
    },
    {
     "name": "stdout",
     "output_type": "stream",
     "text": [
      "TRAINING BATCH:\t(  440 /   625)\tLOSS:\t0.469\r"
     ]
    },
    {
     "name": "stdout",
     "output_type": "stream",
     "text": [
      "TRAINING BATCH:\t(  450 /   625)\tLOSS:\t0.703\r"
     ]
    },
    {
     "name": "stdout",
     "output_type": "stream",
     "text": [
      "TRAINING BATCH:\t(  460 /   625)\tLOSS:\t0.342\r"
     ]
    },
    {
     "name": "stdout",
     "output_type": "stream",
     "text": [
      "TRAINING BATCH:\t(  470 /   625)\tLOSS:\t0.423\r"
     ]
    },
    {
     "name": "stdout",
     "output_type": "stream",
     "text": [
      "TRAINING BATCH:\t(  480 /   625)\tLOSS:\t0.426\r"
     ]
    },
    {
     "name": "stdout",
     "output_type": "stream",
     "text": [
      "TRAINING BATCH:\t(  490 /   625)\tLOSS:\t0.498\r"
     ]
    },
    {
     "name": "stdout",
     "output_type": "stream",
     "text": [
      "TRAINING BATCH:\t(  500 /   625)\tLOSS:\t0.442\r"
     ]
    },
    {
     "name": "stdout",
     "output_type": "stream",
     "text": [
      "TRAINING BATCH:\t(  510 /   625)\tLOSS:\t0.519\r"
     ]
    },
    {
     "name": "stdout",
     "output_type": "stream",
     "text": [
      "TRAINING BATCH:\t(  520 /   625)\tLOSS:\t0.523\r"
     ]
    },
    {
     "name": "stdout",
     "output_type": "stream",
     "text": [
      "TRAINING BATCH:\t(  530 /   625)\tLOSS:\t0.452\r"
     ]
    },
    {
     "name": "stdout",
     "output_type": "stream",
     "text": [
      "TRAINING BATCH:\t(  540 /   625)\tLOSS:\t0.416\r"
     ]
    },
    {
     "name": "stdout",
     "output_type": "stream",
     "text": [
      "TRAINING BATCH:\t(  550 /   625)\tLOSS:\t0.276\r"
     ]
    },
    {
     "name": "stdout",
     "output_type": "stream",
     "text": [
      "TRAINING BATCH:\t(  560 /   625)\tLOSS:\t0.354\r"
     ]
    },
    {
     "name": "stdout",
     "output_type": "stream",
     "text": [
      "TRAINING BATCH:\t(  570 /   625)\tLOSS:\t0.402\r"
     ]
    },
    {
     "name": "stdout",
     "output_type": "stream",
     "text": [
      "TRAINING BATCH:\t(  580 /   625)\tLOSS:\t0.417\r"
     ]
    },
    {
     "name": "stdout",
     "output_type": "stream",
     "text": [
      "TRAINING BATCH:\t(  590 /   625)\tLOSS:\t0.480\r"
     ]
    },
    {
     "name": "stdout",
     "output_type": "stream",
     "text": [
      "TRAINING BATCH:\t(  600 /   625)\tLOSS:\t0.369\r"
     ]
    },
    {
     "name": "stdout",
     "output_type": "stream",
     "text": [
      "TRAINING BATCH:\t(  610 /   625)\tLOSS:\t0.472\r"
     ]
    },
    {
     "name": "stdout",
     "output_type": "stream",
     "text": [
      "TRAINING BATCH:\t(  620 /   625)\tLOSS:\t0.637\r"
     ]
    },
    {
     "name": "stdout",
     "output_type": "stream",
     "text": [
      "TEST BATCH:\t(    0 /   157)\tLOSS:\t0.556\r"
     ]
    },
    {
     "name": "stdout",
     "output_type": "stream",
     "text": [
      "TEST BATCH:\t(   50 /   157)\tLOSS:\t0.361\r"
     ]
    },
    {
     "name": "stdout",
     "output_type": "stream",
     "text": [
      "TEST BATCH:\t(  100 /   157)\tLOSS:\t0.443\r"
     ]
    },
    {
     "name": "stdout",
     "output_type": "stream",
     "text": [
      "TEST BATCH:\t(  150 /   157)\tLOSS:\t0.276\r",
      "EPOCH:\t    4\tTRAIN LOSS:\t0.015\tTRAIN ACCURACY:\t0.633\tTEST LOSS:\t0.014\tTEST ACCURACY:\t0.673\n",
      "TRAINING BATCH:\t(    0 /   625)\tLOSS:\t0.265\r"
     ]
    },
    {
     "name": "stdout",
     "output_type": "stream",
     "text": [
      "TRAINING BATCH:\t(   10 /   625)\tLOSS:\t0.530\r"
     ]
    },
    {
     "name": "stdout",
     "output_type": "stream",
     "text": [
      "TRAINING BATCH:\t(   20 /   625)\tLOSS:\t0.322\r"
     ]
    },
    {
     "name": "stdout",
     "output_type": "stream",
     "text": [
      "TRAINING BATCH:\t(   30 /   625)\tLOSS:\t0.316\r"
     ]
    },
    {
     "name": "stdout",
     "output_type": "stream",
     "text": [
      "TRAINING BATCH:\t(   40 /   625)\tLOSS:\t0.484\r"
     ]
    },
    {
     "name": "stdout",
     "output_type": "stream",
     "text": [
      "TRAINING BATCH:\t(   50 /   625)\tLOSS:\t0.457\r"
     ]
    },
    {
     "name": "stdout",
     "output_type": "stream",
     "text": [
      "TRAINING BATCH:\t(   60 /   625)\tLOSS:\t0.308\r"
     ]
    },
    {
     "name": "stdout",
     "output_type": "stream",
     "text": [
      "TRAINING BATCH:\t(   70 /   625)\tLOSS:\t0.353\r"
     ]
    },
    {
     "name": "stdout",
     "output_type": "stream",
     "text": [
      "TRAINING BATCH:\t(   80 /   625)\tLOSS:\t0.428\r"
     ]
    },
    {
     "name": "stdout",
     "output_type": "stream",
     "text": [
      "TRAINING BATCH:\t(   90 /   625)\tLOSS:\t0.533\r"
     ]
    },
    {
     "name": "stdout",
     "output_type": "stream",
     "text": [
      "TRAINING BATCH:\t(  100 /   625)\tLOSS:\t0.362\r"
     ]
    },
    {
     "name": "stdout",
     "output_type": "stream",
     "text": [
      "TRAINING BATCH:\t(  110 /   625)\tLOSS:\t0.398\r"
     ]
    },
    {
     "name": "stdout",
     "output_type": "stream",
     "text": [
      "TRAINING BATCH:\t(  120 /   625)\tLOSS:\t0.300\r"
     ]
    },
    {
     "name": "stdout",
     "output_type": "stream",
     "text": [
      "TRAINING BATCH:\t(  130 /   625)\tLOSS:\t0.455\r"
     ]
    },
    {
     "name": "stdout",
     "output_type": "stream",
     "text": [
      "TRAINING BATCH:\t(  140 /   625)\tLOSS:\t0.489\r"
     ]
    },
    {
     "name": "stdout",
     "output_type": "stream",
     "text": [
      "TRAINING BATCH:\t(  150 /   625)\tLOSS:\t0.306\r"
     ]
    },
    {
     "name": "stdout",
     "output_type": "stream",
     "text": [
      "TRAINING BATCH:\t(  160 /   625)\tLOSS:\t0.394\r"
     ]
    },
    {
     "name": "stdout",
     "output_type": "stream",
     "text": [
      "TRAINING BATCH:\t(  170 /   625)\tLOSS:\t0.400\r"
     ]
    },
    {
     "name": "stdout",
     "output_type": "stream",
     "text": [
      "TRAINING BATCH:\t(  180 /   625)\tLOSS:\t0.289\r"
     ]
    },
    {
     "name": "stdout",
     "output_type": "stream",
     "text": [
      "TRAINING BATCH:\t(  190 /   625)\tLOSS:\t0.558\r"
     ]
    },
    {
     "name": "stdout",
     "output_type": "stream",
     "text": [
      "TRAINING BATCH:\t(  200 /   625)\tLOSS:\t0.369\r"
     ]
    },
    {
     "name": "stdout",
     "output_type": "stream",
     "text": [
      "TRAINING BATCH:\t(  210 /   625)\tLOSS:\t0.282\r"
     ]
    },
    {
     "name": "stdout",
     "output_type": "stream",
     "text": [
      "TRAINING BATCH:\t(  220 /   625)\tLOSS:\t0.381\r"
     ]
    },
    {
     "name": "stdout",
     "output_type": "stream",
     "text": [
      "TRAINING BATCH:\t(  230 /   625)\tLOSS:\t0.395\r"
     ]
    },
    {
     "name": "stdout",
     "output_type": "stream",
     "text": [
      "TRAINING BATCH:\t(  240 /   625)\tLOSS:\t0.262\r"
     ]
    },
    {
     "name": "stdout",
     "output_type": "stream",
     "text": [
      "TRAINING BATCH:\t(  250 /   625)\tLOSS:\t0.465\r"
     ]
    },
    {
     "name": "stdout",
     "output_type": "stream",
     "text": [
      "TRAINING BATCH:\t(  260 /   625)\tLOSS:\t0.438\r"
     ]
    },
    {
     "name": "stdout",
     "output_type": "stream",
     "text": [
      "TRAINING BATCH:\t(  270 /   625)\tLOSS:\t0.610\r"
     ]
    },
    {
     "name": "stdout",
     "output_type": "stream",
     "text": [
      "TRAINING BATCH:\t(  280 /   625)\tLOSS:\t0.439\r"
     ]
    },
    {
     "name": "stdout",
     "output_type": "stream",
     "text": [
      "TRAINING BATCH:\t(  290 /   625)\tLOSS:\t0.382\r"
     ]
    },
    {
     "name": "stdout",
     "output_type": "stream",
     "text": [
      "TRAINING BATCH:\t(  300 /   625)\tLOSS:\t0.337\r"
     ]
    },
    {
     "name": "stdout",
     "output_type": "stream",
     "text": [
      "TRAINING BATCH:\t(  310 /   625)\tLOSS:\t0.323\r"
     ]
    },
    {
     "name": "stdout",
     "output_type": "stream",
     "text": [
      "TRAINING BATCH:\t(  320 /   625)\tLOSS:\t0.582\r"
     ]
    },
    {
     "name": "stdout",
     "output_type": "stream",
     "text": [
      "TRAINING BATCH:\t(  330 /   625)\tLOSS:\t0.434\r"
     ]
    },
    {
     "name": "stdout",
     "output_type": "stream",
     "text": [
      "TRAINING BATCH:\t(  340 /   625)\tLOSS:\t0.400\r"
     ]
    },
    {
     "name": "stdout",
     "output_type": "stream",
     "text": [
      "TRAINING BATCH:\t(  350 /   625)\tLOSS:\t0.410\r"
     ]
    },
    {
     "name": "stdout",
     "output_type": "stream",
     "text": [
      "TRAINING BATCH:\t(  360 /   625)\tLOSS:\t0.507\r"
     ]
    },
    {
     "name": "stdout",
     "output_type": "stream",
     "text": [
      "TRAINING BATCH:\t(  370 /   625)\tLOSS:\t0.304\r"
     ]
    },
    {
     "name": "stdout",
     "output_type": "stream",
     "text": [
      "TRAINING BATCH:\t(  380 /   625)\tLOSS:\t0.343\r"
     ]
    },
    {
     "name": "stdout",
     "output_type": "stream",
     "text": [
      "TRAINING BATCH:\t(  390 /   625)\tLOSS:\t0.253\r"
     ]
    },
    {
     "name": "stdout",
     "output_type": "stream",
     "text": [
      "TRAINING BATCH:\t(  400 /   625)\tLOSS:\t0.354\r"
     ]
    },
    {
     "name": "stdout",
     "output_type": "stream",
     "text": [
      "TRAINING BATCH:\t(  410 /   625)\tLOSS:\t0.379\r"
     ]
    },
    {
     "name": "stdout",
     "output_type": "stream",
     "text": [
      "TRAINING BATCH:\t(  420 /   625)\tLOSS:\t0.274\r"
     ]
    },
    {
     "name": "stdout",
     "output_type": "stream",
     "text": [
      "TRAINING BATCH:\t(  430 /   625)\tLOSS:\t0.332\r"
     ]
    },
    {
     "name": "stdout",
     "output_type": "stream",
     "text": [
      "TRAINING BATCH:\t(  440 /   625)\tLOSS:\t0.373\r"
     ]
    },
    {
     "name": "stdout",
     "output_type": "stream",
     "text": [
      "TRAINING BATCH:\t(  450 /   625)\tLOSS:\t0.400\r"
     ]
    },
    {
     "name": "stdout",
     "output_type": "stream",
     "text": [
      "TRAINING BATCH:\t(  460 /   625)\tLOSS:\t0.285\r"
     ]
    },
    {
     "name": "stdout",
     "output_type": "stream",
     "text": [
      "TRAINING BATCH:\t(  470 /   625)\tLOSS:\t0.291\r"
     ]
    },
    {
     "name": "stdout",
     "output_type": "stream",
     "text": [
      "TRAINING BATCH:\t(  480 /   625)\tLOSS:\t0.349\r"
     ]
    },
    {
     "name": "stdout",
     "output_type": "stream",
     "text": [
      "TRAINING BATCH:\t(  490 /   625)\tLOSS:\t0.403\r"
     ]
    },
    {
     "name": "stdout",
     "output_type": "stream",
     "text": [
      "TRAINING BATCH:\t(  500 /   625)\tLOSS:\t0.305\r"
     ]
    },
    {
     "name": "stdout",
     "output_type": "stream",
     "text": [
      "TRAINING BATCH:\t(  510 /   625)\tLOSS:\t0.239\r"
     ]
    },
    {
     "name": "stdout",
     "output_type": "stream",
     "text": [
      "TRAINING BATCH:\t(  520 /   625)\tLOSS:\t0.216\r"
     ]
    },
    {
     "name": "stdout",
     "output_type": "stream",
     "text": [
      "TRAINING BATCH:\t(  530 /   625)\tLOSS:\t0.198\r"
     ]
    },
    {
     "name": "stdout",
     "output_type": "stream",
     "text": [
      "TRAINING BATCH:\t(  540 /   625)\tLOSS:\t0.291\r"
     ]
    },
    {
     "name": "stdout",
     "output_type": "stream",
     "text": [
      "TRAINING BATCH:\t(  550 /   625)\tLOSS:\t0.448\r"
     ]
    },
    {
     "name": "stdout",
     "output_type": "stream",
     "text": [
      "TRAINING BATCH:\t(  560 /   625)\tLOSS:\t0.290\r"
     ]
    },
    {
     "name": "stdout",
     "output_type": "stream",
     "text": [
      "TRAINING BATCH:\t(  570 /   625)\tLOSS:\t0.395\r"
     ]
    },
    {
     "name": "stdout",
     "output_type": "stream",
     "text": [
      "TRAINING BATCH:\t(  580 /   625)\tLOSS:\t0.342\r"
     ]
    },
    {
     "name": "stdout",
     "output_type": "stream",
     "text": [
      "TRAINING BATCH:\t(  590 /   625)\tLOSS:\t0.429\r"
     ]
    },
    {
     "name": "stdout",
     "output_type": "stream",
     "text": [
      "TRAINING BATCH:\t(  600 /   625)\tLOSS:\t0.522\r"
     ]
    },
    {
     "name": "stdout",
     "output_type": "stream",
     "text": [
      "TRAINING BATCH:\t(  610 /   625)\tLOSS:\t0.245\r"
     ]
    },
    {
     "name": "stdout",
     "output_type": "stream",
     "text": [
      "TRAINING BATCH:\t(  620 /   625)\tLOSS:\t0.297\r"
     ]
    },
    {
     "name": "stdout",
     "output_type": "stream",
     "text": [
      "TEST BATCH:\t(    0 /   157)\tLOSS:\t0.511\r"
     ]
    },
    {
     "name": "stdout",
     "output_type": "stream",
     "text": [
      "TEST BATCH:\t(   50 /   157)\tLOSS:\t0.308\r"
     ]
    },
    {
     "name": "stdout",
     "output_type": "stream",
     "text": [
      "TEST BATCH:\t(  100 /   157)\tLOSS:\t0.367\r"
     ]
    },
    {
     "name": "stdout",
     "output_type": "stream",
     "text": [
      "TEST BATCH:\t(  150 /   157)\tLOSS:\t0.291\r",
      "EPOCH:\t    5\tTRAIN LOSS:\t0.012\tTRAIN ACCURACY:\t0.728\tTEST LOSS:\t0.012\tTEST ACCURACY:\t0.733\n"
     ]
    },
    {
     "name": "stdout",
     "output_type": "stream",
     "text": [
      "TRAINING BATCH:\t(    0 /   625)\tLOSS:\t0.373\r"
     ]
    },
    {
     "name": "stdout",
     "output_type": "stream",
     "text": [
      "TRAINING BATCH:\t(   10 /   625)\tLOSS:\t0.280\r"
     ]
    },
    {
     "name": "stdout",
     "output_type": "stream",
     "text": [
      "TRAINING BATCH:\t(   20 /   625)\tLOSS:\t0.251\r"
     ]
    },
    {
     "name": "stdout",
     "output_type": "stream",
     "text": [
      "TRAINING BATCH:\t(   30 /   625)\tLOSS:\t0.393\r"
     ]
    },
    {
     "name": "stdout",
     "output_type": "stream",
     "text": [
      "TRAINING BATCH:\t(   40 /   625)\tLOSS:\t0.299\r"
     ]
    },
    {
     "name": "stdout",
     "output_type": "stream",
     "text": [
      "TRAINING BATCH:\t(   50 /   625)\tLOSS:\t0.439\r"
     ]
    },
    {
     "name": "stdout",
     "output_type": "stream",
     "text": [
      "TRAINING BATCH:\t(   60 /   625)\tLOSS:\t0.338\r"
     ]
    },
    {
     "name": "stdout",
     "output_type": "stream",
     "text": [
      "TRAINING BATCH:\t(   70 /   625)\tLOSS:\t0.304\r"
     ]
    },
    {
     "name": "stdout",
     "output_type": "stream",
     "text": [
      "TRAINING BATCH:\t(   80 /   625)\tLOSS:\t0.415\r"
     ]
    },
    {
     "name": "stdout",
     "output_type": "stream",
     "text": [
      "TRAINING BATCH:\t(   90 /   625)\tLOSS:\t0.300\r"
     ]
    },
    {
     "name": "stdout",
     "output_type": "stream",
     "text": [
      "TRAINING BATCH:\t(  100 /   625)\tLOSS:\t0.403\r"
     ]
    },
    {
     "name": "stdout",
     "output_type": "stream",
     "text": [
      "TRAINING BATCH:\t(  110 /   625)\tLOSS:\t0.262\r"
     ]
    },
    {
     "name": "stdout",
     "output_type": "stream",
     "text": [
      "TRAINING BATCH:\t(  120 /   625)\tLOSS:\t0.403\r"
     ]
    },
    {
     "name": "stdout",
     "output_type": "stream",
     "text": [
      "TRAINING BATCH:\t(  130 /   625)\tLOSS:\t0.276\r"
     ]
    },
    {
     "name": "stdout",
     "output_type": "stream",
     "text": [
      "TRAINING BATCH:\t(  140 /   625)\tLOSS:\t0.232\r"
     ]
    },
    {
     "name": "stdout",
     "output_type": "stream",
     "text": [
      "TRAINING BATCH:\t(  150 /   625)\tLOSS:\t0.192\r"
     ]
    },
    {
     "name": "stdout",
     "output_type": "stream",
     "text": [
      "TRAINING BATCH:\t(  160 /   625)\tLOSS:\t0.431\r"
     ]
    },
    {
     "name": "stdout",
     "output_type": "stream",
     "text": [
      "TRAINING BATCH:\t(  170 /   625)\tLOSS:\t0.294\r"
     ]
    },
    {
     "name": "stdout",
     "output_type": "stream",
     "text": [
      "TRAINING BATCH:\t(  180 /   625)\tLOSS:\t0.276\r"
     ]
    },
    {
     "name": "stdout",
     "output_type": "stream",
     "text": [
      "TRAINING BATCH:\t(  190 /   625)\tLOSS:\t0.282\r"
     ]
    },
    {
     "name": "stdout",
     "output_type": "stream",
     "text": [
      "TRAINING BATCH:\t(  200 /   625)\tLOSS:\t0.383\r"
     ]
    },
    {
     "name": "stdout",
     "output_type": "stream",
     "text": [
      "TRAINING BATCH:\t(  210 /   625)\tLOSS:\t0.227\r"
     ]
    },
    {
     "name": "stdout",
     "output_type": "stream",
     "text": [
      "TRAINING BATCH:\t(  220 /   625)\tLOSS:\t0.487\r"
     ]
    },
    {
     "name": "stdout",
     "output_type": "stream",
     "text": [
      "TRAINING BATCH:\t(  230 /   625)\tLOSS:\t0.345\r"
     ]
    },
    {
     "name": "stdout",
     "output_type": "stream",
     "text": [
      "TRAINING BATCH:\t(  240 /   625)\tLOSS:\t0.383\r"
     ]
    },
    {
     "name": "stdout",
     "output_type": "stream",
     "text": [
      "TRAINING BATCH:\t(  250 /   625)\tLOSS:\t0.366\r"
     ]
    },
    {
     "name": "stdout",
     "output_type": "stream",
     "text": [
      "TRAINING BATCH:\t(  260 /   625)\tLOSS:\t0.222\r"
     ]
    },
    {
     "name": "stdout",
     "output_type": "stream",
     "text": [
      "TRAINING BATCH:\t(  270 /   625)\tLOSS:\t0.304\r"
     ]
    },
    {
     "name": "stdout",
     "output_type": "stream",
     "text": [
      "TRAINING BATCH:\t(  280 /   625)\tLOSS:\t0.269\r"
     ]
    },
    {
     "name": "stdout",
     "output_type": "stream",
     "text": [
      "TRAINING BATCH:\t(  290 /   625)\tLOSS:\t0.459\r"
     ]
    },
    {
     "name": "stdout",
     "output_type": "stream",
     "text": [
      "TRAINING BATCH:\t(  300 /   625)\tLOSS:\t0.269\r"
     ]
    },
    {
     "name": "stdout",
     "output_type": "stream",
     "text": [
      "TRAINING BATCH:\t(  310 /   625)\tLOSS:\t0.219\r"
     ]
    },
    {
     "name": "stdout",
     "output_type": "stream",
     "text": [
      "TRAINING BATCH:\t(  320 /   625)\tLOSS:\t0.271\r"
     ]
    },
    {
     "name": "stdout",
     "output_type": "stream",
     "text": [
      "TRAINING BATCH:\t(  330 /   625)\tLOSS:\t0.207\r"
     ]
    },
    {
     "name": "stdout",
     "output_type": "stream",
     "text": [
      "TRAINING BATCH:\t(  340 /   625)\tLOSS:\t0.298\r"
     ]
    },
    {
     "name": "stdout",
     "output_type": "stream",
     "text": [
      "TRAINING BATCH:\t(  350 /   625)\tLOSS:\t0.467\r"
     ]
    },
    {
     "name": "stdout",
     "output_type": "stream",
     "text": [
      "TRAINING BATCH:\t(  360 /   625)\tLOSS:\t0.388\r"
     ]
    },
    {
     "name": "stdout",
     "output_type": "stream",
     "text": [
      "TRAINING BATCH:\t(  370 /   625)\tLOSS:\t0.326\r"
     ]
    },
    {
     "name": "stdout",
     "output_type": "stream",
     "text": [
      "TRAINING BATCH:\t(  380 /   625)\tLOSS:\t0.301\r"
     ]
    },
    {
     "name": "stdout",
     "output_type": "stream",
     "text": [
      "TRAINING BATCH:\t(  390 /   625)\tLOSS:\t0.311\r"
     ]
    },
    {
     "name": "stdout",
     "output_type": "stream",
     "text": [
      "TRAINING BATCH:\t(  400 /   625)\tLOSS:\t0.169\r"
     ]
    },
    {
     "name": "stdout",
     "output_type": "stream",
     "text": [
      "TRAINING BATCH:\t(  410 /   625)\tLOSS:\t0.350\r"
     ]
    },
    {
     "name": "stdout",
     "output_type": "stream",
     "text": [
      "TRAINING BATCH:\t(  420 /   625)\tLOSS:\t0.435\r"
     ]
    },
    {
     "name": "stdout",
     "output_type": "stream",
     "text": [
      "TRAINING BATCH:\t(  430 /   625)\tLOSS:\t0.370\r"
     ]
    },
    {
     "name": "stdout",
     "output_type": "stream",
     "text": [
      "TRAINING BATCH:\t(  440 /   625)\tLOSS:\t0.232\r"
     ]
    },
    {
     "name": "stdout",
     "output_type": "stream",
     "text": [
      "TRAINING BATCH:\t(  450 /   625)\tLOSS:\t0.314\r"
     ]
    },
    {
     "name": "stdout",
     "output_type": "stream",
     "text": [
      "TRAINING BATCH:\t(  460 /   625)\tLOSS:\t0.301\r"
     ]
    },
    {
     "name": "stdout",
     "output_type": "stream",
     "text": [
      "TRAINING BATCH:\t(  470 /   625)\tLOSS:\t0.353\r"
     ]
    },
    {
     "name": "stdout",
     "output_type": "stream",
     "text": [
      "TRAINING BATCH:\t(  480 /   625)\tLOSS:\t0.284\r"
     ]
    },
    {
     "name": "stdout",
     "output_type": "stream",
     "text": [
      "TRAINING BATCH:\t(  490 /   625)\tLOSS:\t0.301\r"
     ]
    },
    {
     "name": "stdout",
     "output_type": "stream",
     "text": [
      "TRAINING BATCH:\t(  500 /   625)\tLOSS:\t0.220\r"
     ]
    },
    {
     "name": "stdout",
     "output_type": "stream",
     "text": [
      "TRAINING BATCH:\t(  510 /   625)\tLOSS:\t0.321\r"
     ]
    },
    {
     "name": "stdout",
     "output_type": "stream",
     "text": [
      "TRAINING BATCH:\t(  520 /   625)\tLOSS:\t0.265\r"
     ]
    },
    {
     "name": "stdout",
     "output_type": "stream",
     "text": [
      "TRAINING BATCH:\t(  530 /   625)\tLOSS:\t0.283\r"
     ]
    },
    {
     "name": "stdout",
     "output_type": "stream",
     "text": [
      "TRAINING BATCH:\t(  540 /   625)\tLOSS:\t0.478\r"
     ]
    },
    {
     "name": "stdout",
     "output_type": "stream",
     "text": [
      "TRAINING BATCH:\t(  550 /   625)\tLOSS:\t0.386\r"
     ]
    },
    {
     "name": "stdout",
     "output_type": "stream",
     "text": [
      "TRAINING BATCH:\t(  560 /   625)\tLOSS:\t0.274\r"
     ]
    },
    {
     "name": "stdout",
     "output_type": "stream",
     "text": [
      "TRAINING BATCH:\t(  570 /   625)\tLOSS:\t0.285\r"
     ]
    },
    {
     "name": "stdout",
     "output_type": "stream",
     "text": [
      "TRAINING BATCH:\t(  580 /   625)\tLOSS:\t0.334\r"
     ]
    },
    {
     "name": "stdout",
     "output_type": "stream",
     "text": [
      "TRAINING BATCH:\t(  590 /   625)\tLOSS:\t0.337\r"
     ]
    },
    {
     "name": "stdout",
     "output_type": "stream",
     "text": [
      "TRAINING BATCH:\t(  600 /   625)\tLOSS:\t0.202\r"
     ]
    },
    {
     "name": "stdout",
     "output_type": "stream",
     "text": [
      "TRAINING BATCH:\t(  610 /   625)\tLOSS:\t0.156\r"
     ]
    },
    {
     "name": "stdout",
     "output_type": "stream",
     "text": [
      "TRAINING BATCH:\t(  620 /   625)\tLOSS:\t0.263\r"
     ]
    },
    {
     "name": "stdout",
     "output_type": "stream",
     "text": [
      "TEST BATCH:\t(    0 /   157)\tLOSS:\t0.578\r"
     ]
    },
    {
     "name": "stdout",
     "output_type": "stream",
     "text": [
      "TEST BATCH:\t(   50 /   157)\tLOSS:\t0.249\r"
     ]
    },
    {
     "name": "stdout",
     "output_type": "stream",
     "text": [
      "TEST BATCH:\t(  100 /   157)\tLOSS:\t0.317\r"
     ]
    },
    {
     "name": "stdout",
     "output_type": "stream",
     "text": [
      "TEST BATCH:\t(  150 /   157)\tLOSS:\t0.340\r",
      "EPOCH:\t    6\tTRAIN LOSS:\t0.010\tTRAIN ACCURACY:\t0.770\tTEST LOSS:\t0.011\tTEST ACCURACY:\t0.752\n",
      "TRAINING BATCH:\t(    0 /   625)\tLOSS:\t0.262\r"
     ]
    },
    {
     "name": "stdout",
     "output_type": "stream",
     "text": [
      "TRAINING BATCH:\t(   10 /   625)\tLOSS:\t0.221\r"
     ]
    },
    {
     "name": "stdout",
     "output_type": "stream",
     "text": [
      "TRAINING BATCH:\t(   20 /   625)\tLOSS:\t0.131\r"
     ]
    },
    {
     "name": "stdout",
     "output_type": "stream",
     "text": [
      "TRAINING BATCH:\t(   30 /   625)\tLOSS:\t0.322\r"
     ]
    },
    {
     "name": "stdout",
     "output_type": "stream",
     "text": [
      "TRAINING BATCH:\t(   40 /   625)\tLOSS:\t0.298\r"
     ]
    },
    {
     "name": "stdout",
     "output_type": "stream",
     "text": [
      "TRAINING BATCH:\t(   50 /   625)\tLOSS:\t0.302\r"
     ]
    },
    {
     "name": "stdout",
     "output_type": "stream",
     "text": [
      "TRAINING BATCH:\t(   60 /   625)\tLOSS:\t0.213\r"
     ]
    },
    {
     "name": "stdout",
     "output_type": "stream",
     "text": [
      "TRAINING BATCH:\t(   70 /   625)\tLOSS:\t0.569\r"
     ]
    },
    {
     "name": "stdout",
     "output_type": "stream",
     "text": [
      "TRAINING BATCH:\t(   80 /   625)\tLOSS:\t0.315\r"
     ]
    },
    {
     "name": "stdout",
     "output_type": "stream",
     "text": [
      "TRAINING BATCH:\t(   90 /   625)\tLOSS:\t0.208\r"
     ]
    },
    {
     "name": "stdout",
     "output_type": "stream",
     "text": [
      "TRAINING BATCH:\t(  100 /   625)\tLOSS:\t0.323\r"
     ]
    },
    {
     "name": "stdout",
     "output_type": "stream",
     "text": [
      "TRAINING BATCH:\t(  110 /   625)\tLOSS:\t0.205\r"
     ]
    },
    {
     "name": "stdout",
     "output_type": "stream",
     "text": [
      "TRAINING BATCH:\t(  120 /   625)\tLOSS:\t0.364\r"
     ]
    },
    {
     "name": "stdout",
     "output_type": "stream",
     "text": [
      "TRAINING BATCH:\t(  130 /   625)\tLOSS:\t0.330\r"
     ]
    },
    {
     "name": "stdout",
     "output_type": "stream",
     "text": [
      "TRAINING BATCH:\t(  140 /   625)\tLOSS:\t0.300\r"
     ]
    },
    {
     "name": "stdout",
     "output_type": "stream",
     "text": [
      "TRAINING BATCH:\t(  150 /   625)\tLOSS:\t0.423\r"
     ]
    },
    {
     "name": "stdout",
     "output_type": "stream",
     "text": [
      "TRAINING BATCH:\t(  160 /   625)\tLOSS:\t0.341\r"
     ]
    },
    {
     "name": "stdout",
     "output_type": "stream",
     "text": [
      "TRAINING BATCH:\t(  170 /   625)\tLOSS:\t0.295\r"
     ]
    },
    {
     "name": "stdout",
     "output_type": "stream",
     "text": [
      "TRAINING BATCH:\t(  180 /   625)\tLOSS:\t0.107\r"
     ]
    },
    {
     "name": "stdout",
     "output_type": "stream",
     "text": [
      "TRAINING BATCH:\t(  190 /   625)\tLOSS:\t0.284\r"
     ]
    },
    {
     "name": "stdout",
     "output_type": "stream",
     "text": [
      "TRAINING BATCH:\t(  200 /   625)\tLOSS:\t0.236\r"
     ]
    },
    {
     "name": "stdout",
     "output_type": "stream",
     "text": [
      "TRAINING BATCH:\t(  210 /   625)\tLOSS:\t0.260\r"
     ]
    },
    {
     "name": "stdout",
     "output_type": "stream",
     "text": [
      "TRAINING BATCH:\t(  220 /   625)\tLOSS:\t0.201\r"
     ]
    },
    {
     "name": "stdout",
     "output_type": "stream",
     "text": [
      "TRAINING BATCH:\t(  230 /   625)\tLOSS:\t0.309\r"
     ]
    },
    {
     "name": "stdout",
     "output_type": "stream",
     "text": [
      "TRAINING BATCH:\t(  240 /   625)\tLOSS:\t0.266\r"
     ]
    },
    {
     "name": "stdout",
     "output_type": "stream",
     "text": [
      "TRAINING BATCH:\t(  250 /   625)\tLOSS:\t0.351\r"
     ]
    },
    {
     "name": "stdout",
     "output_type": "stream",
     "text": [
      "TRAINING BATCH:\t(  260 /   625)\tLOSS:\t0.228\r"
     ]
    },
    {
     "name": "stdout",
     "output_type": "stream",
     "text": [
      "TRAINING BATCH:\t(  270 /   625)\tLOSS:\t0.244\r"
     ]
    },
    {
     "name": "stdout",
     "output_type": "stream",
     "text": [
      "TRAINING BATCH:\t(  280 /   625)\tLOSS:\t0.400\r"
     ]
    },
    {
     "name": "stdout",
     "output_type": "stream",
     "text": [
      "TRAINING BATCH:\t(  290 /   625)\tLOSS:\t0.195\r"
     ]
    },
    {
     "name": "stdout",
     "output_type": "stream",
     "text": [
      "TRAINING BATCH:\t(  300 /   625)\tLOSS:\t0.391\r"
     ]
    },
    {
     "name": "stdout",
     "output_type": "stream",
     "text": [
      "TRAINING BATCH:\t(  310 /   625)\tLOSS:\t0.169\r"
     ]
    },
    {
     "name": "stdout",
     "output_type": "stream",
     "text": [
      "TRAINING BATCH:\t(  320 /   625)\tLOSS:\t0.396\r"
     ]
    },
    {
     "name": "stdout",
     "output_type": "stream",
     "text": [
      "TRAINING BATCH:\t(  330 /   625)\tLOSS:\t0.246\r"
     ]
    },
    {
     "name": "stdout",
     "output_type": "stream",
     "text": [
      "TRAINING BATCH:\t(  340 /   625)\tLOSS:\t0.290\r"
     ]
    },
    {
     "name": "stdout",
     "output_type": "stream",
     "text": [
      "TRAINING BATCH:\t(  350 /   625)\tLOSS:\t0.225\r"
     ]
    },
    {
     "name": "stdout",
     "output_type": "stream",
     "text": [
      "TRAINING BATCH:\t(  360 /   625)\tLOSS:\t0.296\r"
     ]
    },
    {
     "name": "stdout",
     "output_type": "stream",
     "text": [
      "TRAINING BATCH:\t(  370 /   625)\tLOSS:\t0.237\r"
     ]
    },
    {
     "name": "stdout",
     "output_type": "stream",
     "text": [
      "TRAINING BATCH:\t(  380 /   625)\tLOSS:\t0.391\r"
     ]
    },
    {
     "name": "stdout",
     "output_type": "stream",
     "text": [
      "TRAINING BATCH:\t(  390 /   625)\tLOSS:\t0.217\r"
     ]
    },
    {
     "name": "stdout",
     "output_type": "stream",
     "text": [
      "TRAINING BATCH:\t(  400 /   625)\tLOSS:\t0.211\r"
     ]
    },
    {
     "name": "stdout",
     "output_type": "stream",
     "text": [
      "TRAINING BATCH:\t(  410 /   625)\tLOSS:\t0.201\r"
     ]
    },
    {
     "name": "stdout",
     "output_type": "stream",
     "text": [
      "TRAINING BATCH:\t(  420 /   625)\tLOSS:\t0.267\r"
     ]
    },
    {
     "name": "stdout",
     "output_type": "stream",
     "text": [
      "TRAINING BATCH:\t(  430 /   625)\tLOSS:\t0.344\r"
     ]
    },
    {
     "name": "stdout",
     "output_type": "stream",
     "text": [
      "TRAINING BATCH:\t(  440 /   625)\tLOSS:\t0.257\r"
     ]
    },
    {
     "name": "stdout",
     "output_type": "stream",
     "text": [
      "TRAINING BATCH:\t(  450 /   625)\tLOSS:\t0.181\r"
     ]
    },
    {
     "name": "stdout",
     "output_type": "stream",
     "text": [
      "TRAINING BATCH:\t(  460 /   625)\tLOSS:\t0.247\r"
     ]
    },
    {
     "name": "stdout",
     "output_type": "stream",
     "text": [
      "TRAINING BATCH:\t(  470 /   625)\tLOSS:\t0.172\r"
     ]
    },
    {
     "name": "stdout",
     "output_type": "stream",
     "text": [
      "TRAINING BATCH:\t(  480 /   625)\tLOSS:\t0.473\r"
     ]
    },
    {
     "name": "stdout",
     "output_type": "stream",
     "text": [
      "TRAINING BATCH:\t(  490 /   625)\tLOSS:\t0.194\r"
     ]
    },
    {
     "name": "stdout",
     "output_type": "stream",
     "text": [
      "TRAINING BATCH:\t(  500 /   625)\tLOSS:\t0.257\r"
     ]
    },
    {
     "name": "stdout",
     "output_type": "stream",
     "text": [
      "TRAINING BATCH:\t(  510 /   625)\tLOSS:\t0.244\r"
     ]
    },
    {
     "name": "stdout",
     "output_type": "stream",
     "text": [
      "TRAINING BATCH:\t(  520 /   625)\tLOSS:\t0.161\r"
     ]
    },
    {
     "name": "stdout",
     "output_type": "stream",
     "text": [
      "TRAINING BATCH:\t(  530 /   625)\tLOSS:\t0.368\r"
     ]
    },
    {
     "name": "stdout",
     "output_type": "stream",
     "text": [
      "TRAINING BATCH:\t(  540 /   625)\tLOSS:\t0.274\r"
     ]
    },
    {
     "name": "stdout",
     "output_type": "stream",
     "text": [
      "TRAINING BATCH:\t(  550 /   625)\tLOSS:\t0.345\r"
     ]
    },
    {
     "name": "stdout",
     "output_type": "stream",
     "text": [
      "TRAINING BATCH:\t(  560 /   625)\tLOSS:\t0.205\r"
     ]
    },
    {
     "name": "stdout",
     "output_type": "stream",
     "text": [
      "TRAINING BATCH:\t(  570 /   625)\tLOSS:\t0.142\r"
     ]
    },
    {
     "name": "stdout",
     "output_type": "stream",
     "text": [
      "TRAINING BATCH:\t(  580 /   625)\tLOSS:\t0.213\r"
     ]
    },
    {
     "name": "stdout",
     "output_type": "stream",
     "text": [
      "TRAINING BATCH:\t(  590 /   625)\tLOSS:\t0.196\r"
     ]
    },
    {
     "name": "stdout",
     "output_type": "stream",
     "text": [
      "TRAINING BATCH:\t(  600 /   625)\tLOSS:\t0.276\r"
     ]
    },
    {
     "name": "stdout",
     "output_type": "stream",
     "text": [
      "TRAINING BATCH:\t(  610 /   625)\tLOSS:\t0.166\r"
     ]
    },
    {
     "name": "stdout",
     "output_type": "stream",
     "text": [
      "TRAINING BATCH:\t(  620 /   625)\tLOSS:\t0.191\r"
     ]
    },
    {
     "name": "stdout",
     "output_type": "stream",
     "text": [
      "TEST BATCH:\t(    0 /   157)\tLOSS:\t0.390\r"
     ]
    },
    {
     "name": "stdout",
     "output_type": "stream",
     "text": [
      "TEST BATCH:\t(   50 /   157)\tLOSS:\t0.246\r"
     ]
    },
    {
     "name": "stdout",
     "output_type": "stream",
     "text": [
      "TEST BATCH:\t(  100 /   157)\tLOSS:\t0.377\r"
     ]
    },
    {
     "name": "stdout",
     "output_type": "stream",
     "text": [
      "TEST BATCH:\t(  150 /   157)\tLOSS:\t0.200\r",
      "EPOCH:\t    7\tTRAIN LOSS:\t0.008\tTRAIN ACCURACY:\t0.813\tTEST LOSS:\t0.010\tTEST ACCURACY:\t0.776\n",
      "TRAINING BATCH:\t(    0 /   625)\tLOSS:\t0.223\r"
     ]
    },
    {
     "name": "stdout",
     "output_type": "stream",
     "text": [
      "TRAINING BATCH:\t(   10 /   625)\tLOSS:\t0.356\r"
     ]
    },
    {
     "name": "stdout",
     "output_type": "stream",
     "text": [
      "TRAINING BATCH:\t(   20 /   625)\tLOSS:\t0.268\r"
     ]
    },
    {
     "name": "stdout",
     "output_type": "stream",
     "text": [
      "TRAINING BATCH:\t(   30 /   625)\tLOSS:\t0.192\r"
     ]
    },
    {
     "name": "stdout",
     "output_type": "stream",
     "text": [
      "TRAINING BATCH:\t(   40 /   625)\tLOSS:\t0.268\r"
     ]
    },
    {
     "name": "stdout",
     "output_type": "stream",
     "text": [
      "TRAINING BATCH:\t(   50 /   625)\tLOSS:\t0.205\r"
     ]
    },
    {
     "name": "stdout",
     "output_type": "stream",
     "text": [
      "TRAINING BATCH:\t(   60 /   625)\tLOSS:\t0.241\r"
     ]
    },
    {
     "name": "stdout",
     "output_type": "stream",
     "text": [
      "TRAINING BATCH:\t(   70 /   625)\tLOSS:\t0.192\r"
     ]
    },
    {
     "name": "stdout",
     "output_type": "stream",
     "text": [
      "TRAINING BATCH:\t(   80 /   625)\tLOSS:\t0.385\r"
     ]
    },
    {
     "name": "stdout",
     "output_type": "stream",
     "text": [
      "TRAINING BATCH:\t(   90 /   625)\tLOSS:\t0.283\r"
     ]
    },
    {
     "name": "stdout",
     "output_type": "stream",
     "text": [
      "TRAINING BATCH:\t(  100 /   625)\tLOSS:\t0.208\r"
     ]
    },
    {
     "name": "stdout",
     "output_type": "stream",
     "text": [
      "TRAINING BATCH:\t(  110 /   625)\tLOSS:\t0.228\r"
     ]
    },
    {
     "name": "stdout",
     "output_type": "stream",
     "text": [
      "TRAINING BATCH:\t(  120 /   625)\tLOSS:\t0.125\r"
     ]
    },
    {
     "name": "stdout",
     "output_type": "stream",
     "text": [
      "TRAINING BATCH:\t(  130 /   625)\tLOSS:\t0.216\r"
     ]
    },
    {
     "name": "stdout",
     "output_type": "stream",
     "text": [
      "TRAINING BATCH:\t(  140 /   625)\tLOSS:\t0.265\r"
     ]
    },
    {
     "name": "stdout",
     "output_type": "stream",
     "text": [
      "TRAINING BATCH:\t(  150 /   625)\tLOSS:\t0.202\r"
     ]
    },
    {
     "name": "stdout",
     "output_type": "stream",
     "text": [
      "TRAINING BATCH:\t(  160 /   625)\tLOSS:\t0.234\r"
     ]
    },
    {
     "name": "stdout",
     "output_type": "stream",
     "text": [
      "TRAINING BATCH:\t(  170 /   625)\tLOSS:\t0.294\r"
     ]
    },
    {
     "name": "stdout",
     "output_type": "stream",
     "text": [
      "TRAINING BATCH:\t(  180 /   625)\tLOSS:\t0.250\r"
     ]
    },
    {
     "name": "stdout",
     "output_type": "stream",
     "text": [
      "TRAINING BATCH:\t(  190 /   625)\tLOSS:\t0.276\r"
     ]
    },
    {
     "name": "stdout",
     "output_type": "stream",
     "text": [
      "TRAINING BATCH:\t(  200 /   625)\tLOSS:\t0.160\r"
     ]
    },
    {
     "name": "stdout",
     "output_type": "stream",
     "text": [
      "TRAINING BATCH:\t(  210 /   625)\tLOSS:\t0.200\r"
     ]
    },
    {
     "name": "stdout",
     "output_type": "stream",
     "text": [
      "TRAINING BATCH:\t(  220 /   625)\tLOSS:\t0.144\r"
     ]
    },
    {
     "name": "stdout",
     "output_type": "stream",
     "text": [
      "TRAINING BATCH:\t(  230 /   625)\tLOSS:\t0.221\r"
     ]
    },
    {
     "name": "stdout",
     "output_type": "stream",
     "text": [
      "TRAINING BATCH:\t(  240 /   625)\tLOSS:\t0.307\r"
     ]
    },
    {
     "name": "stdout",
     "output_type": "stream",
     "text": [
      "TRAINING BATCH:\t(  250 /   625)\tLOSS:\t0.204\r"
     ]
    },
    {
     "name": "stdout",
     "output_type": "stream",
     "text": [
      "TRAINING BATCH:\t(  260 /   625)\tLOSS:\t0.164\r"
     ]
    },
    {
     "name": "stdout",
     "output_type": "stream",
     "text": [
      "TRAINING BATCH:\t(  270 /   625)\tLOSS:\t0.173\r"
     ]
    },
    {
     "name": "stdout",
     "output_type": "stream",
     "text": [
      "TRAINING BATCH:\t(  280 /   625)\tLOSS:\t0.255\r"
     ]
    },
    {
     "name": "stdout",
     "output_type": "stream",
     "text": [
      "TRAINING BATCH:\t(  290 /   625)\tLOSS:\t0.168\r"
     ]
    },
    {
     "name": "stdout",
     "output_type": "stream",
     "text": [
      "TRAINING BATCH:\t(  300 /   625)\tLOSS:\t0.349\r"
     ]
    },
    {
     "name": "stdout",
     "output_type": "stream",
     "text": [
      "TRAINING BATCH:\t(  310 /   625)\tLOSS:\t0.267\r"
     ]
    },
    {
     "name": "stdout",
     "output_type": "stream",
     "text": [
      "TRAINING BATCH:\t(  320 /   625)\tLOSS:\t0.128\r"
     ]
    },
    {
     "name": "stdout",
     "output_type": "stream",
     "text": [
      "TRAINING BATCH:\t(  330 /   625)\tLOSS:\t0.234\r"
     ]
    },
    {
     "name": "stdout",
     "output_type": "stream",
     "text": [
      "TRAINING BATCH:\t(  340 /   625)\tLOSS:\t0.220\r"
     ]
    },
    {
     "name": "stdout",
     "output_type": "stream",
     "text": [
      "TRAINING BATCH:\t(  350 /   625)\tLOSS:\t0.142\r"
     ]
    },
    {
     "name": "stdout",
     "output_type": "stream",
     "text": [
      "TRAINING BATCH:\t(  360 /   625)\tLOSS:\t0.301\r"
     ]
    },
    {
     "name": "stdout",
     "output_type": "stream",
     "text": [
      "TRAINING BATCH:\t(  370 /   625)\tLOSS:\t0.280\r"
     ]
    },
    {
     "name": "stdout",
     "output_type": "stream",
     "text": [
      "TRAINING BATCH:\t(  380 /   625)\tLOSS:\t0.230\r"
     ]
    },
    {
     "name": "stdout",
     "output_type": "stream",
     "text": [
      "TRAINING BATCH:\t(  390 /   625)\tLOSS:\t0.135\r"
     ]
    },
    {
     "name": "stdout",
     "output_type": "stream",
     "text": [
      "TRAINING BATCH:\t(  400 /   625)\tLOSS:\t0.342\r"
     ]
    },
    {
     "name": "stdout",
     "output_type": "stream",
     "text": [
      "TRAINING BATCH:\t(  410 /   625)\tLOSS:\t0.230\r"
     ]
    },
    {
     "name": "stdout",
     "output_type": "stream",
     "text": [
      "TRAINING BATCH:\t(  420 /   625)\tLOSS:\t0.299\r"
     ]
    },
    {
     "name": "stdout",
     "output_type": "stream",
     "text": [
      "TRAINING BATCH:\t(  430 /   625)\tLOSS:\t0.258\r"
     ]
    },
    {
     "name": "stdout",
     "output_type": "stream",
     "text": [
      "TRAINING BATCH:\t(  440 /   625)\tLOSS:\t0.243\r"
     ]
    },
    {
     "name": "stdout",
     "output_type": "stream",
     "text": [
      "TRAINING BATCH:\t(  450 /   625)\tLOSS:\t0.255\r"
     ]
    },
    {
     "name": "stdout",
     "output_type": "stream",
     "text": [
      "TRAINING BATCH:\t(  460 /   625)\tLOSS:\t0.290\r"
     ]
    },
    {
     "name": "stdout",
     "output_type": "stream",
     "text": [
      "TRAINING BATCH:\t(  470 /   625)\tLOSS:\t0.267\r"
     ]
    },
    {
     "name": "stdout",
     "output_type": "stream",
     "text": [
      "TRAINING BATCH:\t(  480 /   625)\tLOSS:\t0.440\r"
     ]
    },
    {
     "name": "stdout",
     "output_type": "stream",
     "text": [
      "TRAINING BATCH:\t(  490 /   625)\tLOSS:\t0.168\r"
     ]
    },
    {
     "name": "stdout",
     "output_type": "stream",
     "text": [
      "TRAINING BATCH:\t(  500 /   625)\tLOSS:\t0.101\r"
     ]
    },
    {
     "name": "stdout",
     "output_type": "stream",
     "text": [
      "TRAINING BATCH:\t(  510 /   625)\tLOSS:\t0.171\r"
     ]
    },
    {
     "name": "stdout",
     "output_type": "stream",
     "text": [
      "TRAINING BATCH:\t(  520 /   625)\tLOSS:\t0.268\r"
     ]
    },
    {
     "name": "stdout",
     "output_type": "stream",
     "text": [
      "TRAINING BATCH:\t(  530 /   625)\tLOSS:\t0.207\r"
     ]
    },
    {
     "name": "stdout",
     "output_type": "stream",
     "text": [
      "TRAINING BATCH:\t(  540 /   625)\tLOSS:\t0.192\r"
     ]
    },
    {
     "name": "stdout",
     "output_type": "stream",
     "text": [
      "TRAINING BATCH:\t(  550 /   625)\tLOSS:\t0.253\r"
     ]
    },
    {
     "name": "stdout",
     "output_type": "stream",
     "text": [
      "TRAINING BATCH:\t(  560 /   625)\tLOSS:\t0.176\r"
     ]
    },
    {
     "name": "stdout",
     "output_type": "stream",
     "text": [
      "TRAINING BATCH:\t(  570 /   625)\tLOSS:\t0.257\r"
     ]
    },
    {
     "name": "stdout",
     "output_type": "stream",
     "text": [
      "TRAINING BATCH:\t(  580 /   625)\tLOSS:\t0.219\r"
     ]
    },
    {
     "name": "stdout",
     "output_type": "stream",
     "text": [
      "TRAINING BATCH:\t(  590 /   625)\tLOSS:\t0.155\r"
     ]
    },
    {
     "name": "stdout",
     "output_type": "stream",
     "text": [
      "TRAINING BATCH:\t(  600 /   625)\tLOSS:\t0.196\r"
     ]
    },
    {
     "name": "stdout",
     "output_type": "stream",
     "text": [
      "TRAINING BATCH:\t(  610 /   625)\tLOSS:\t0.302\r"
     ]
    },
    {
     "name": "stdout",
     "output_type": "stream",
     "text": [
      "TRAINING BATCH:\t(  620 /   625)\tLOSS:\t0.187\r"
     ]
    },
    {
     "name": "stdout",
     "output_type": "stream",
     "text": [
      "TEST BATCH:\t(    0 /   157)\tLOSS:\t0.412\r"
     ]
    },
    {
     "name": "stdout",
     "output_type": "stream",
     "text": [
      "TEST BATCH:\t(   50 /   157)\tLOSS:\t0.141\r"
     ]
    },
    {
     "name": "stdout",
     "output_type": "stream",
     "text": [
      "TEST BATCH:\t(  100 /   157)\tLOSS:\t0.294\r"
     ]
    },
    {
     "name": "stdout",
     "output_type": "stream",
     "text": [
      "TEST BATCH:\t(  150 /   157)\tLOSS:\t0.261\r",
      "EPOCH:\t    8\tTRAIN LOSS:\t0.008\tTRAIN ACCURACY:\t0.828\tTEST LOSS:\t0.009\tTEST ACCURACY:\t0.793\n",
      "TRAINING BATCH:\t(    0 /   625)\tLOSS:\t0.185\r"
     ]
    },
    {
     "name": "stdout",
     "output_type": "stream",
     "text": [
      "TRAINING BATCH:\t(   10 /   625)\tLOSS:\t0.229\r"
     ]
    },
    {
     "name": "stdout",
     "output_type": "stream",
     "text": [
      "TRAINING BATCH:\t(   20 /   625)\tLOSS:\t0.170\r"
     ]
    },
    {
     "name": "stdout",
     "output_type": "stream",
     "text": [
      "TRAINING BATCH:\t(   30 /   625)\tLOSS:\t0.257\r"
     ]
    },
    {
     "name": "stdout",
     "output_type": "stream",
     "text": [
      "TRAINING BATCH:\t(   40 /   625)\tLOSS:\t0.099\r"
     ]
    },
    {
     "name": "stdout",
     "output_type": "stream",
     "text": [
      "TRAINING BATCH:\t(   50 /   625)\tLOSS:\t0.146\r"
     ]
    },
    {
     "name": "stdout",
     "output_type": "stream",
     "text": [
      "TRAINING BATCH:\t(   60 /   625)\tLOSS:\t0.074\r"
     ]
    },
    {
     "name": "stdout",
     "output_type": "stream",
     "text": [
      "TRAINING BATCH:\t(   70 /   625)\tLOSS:\t0.147\r"
     ]
    },
    {
     "name": "stdout",
     "output_type": "stream",
     "text": [
      "TRAINING BATCH:\t(   80 /   625)\tLOSS:\t0.106\r"
     ]
    },
    {
     "name": "stdout",
     "output_type": "stream",
     "text": [
      "TRAINING BATCH:\t(   90 /   625)\tLOSS:\t0.222\r"
     ]
    },
    {
     "name": "stdout",
     "output_type": "stream",
     "text": [
      "TRAINING BATCH:\t(  100 /   625)\tLOSS:\t0.230\r"
     ]
    },
    {
     "name": "stdout",
     "output_type": "stream",
     "text": [
      "TRAINING BATCH:\t(  110 /   625)\tLOSS:\t0.202\r"
     ]
    },
    {
     "name": "stdout",
     "output_type": "stream",
     "text": [
      "TRAINING BATCH:\t(  120 /   625)\tLOSS:\t0.109\r"
     ]
    },
    {
     "name": "stdout",
     "output_type": "stream",
     "text": [
      "TRAINING BATCH:\t(  130 /   625)\tLOSS:\t0.386\r"
     ]
    },
    {
     "name": "stdout",
     "output_type": "stream",
     "text": [
      "TRAINING BATCH:\t(  140 /   625)\tLOSS:\t0.177\r"
     ]
    },
    {
     "name": "stdout",
     "output_type": "stream",
     "text": [
      "TRAINING BATCH:\t(  150 /   625)\tLOSS:\t0.344\r"
     ]
    },
    {
     "name": "stdout",
     "output_type": "stream",
     "text": [
      "TRAINING BATCH:\t(  160 /   625)\tLOSS:\t0.167\r"
     ]
    },
    {
     "name": "stdout",
     "output_type": "stream",
     "text": [
      "TRAINING BATCH:\t(  170 /   625)\tLOSS:\t0.223\r"
     ]
    },
    {
     "name": "stdout",
     "output_type": "stream",
     "text": [
      "TRAINING BATCH:\t(  180 /   625)\tLOSS:\t0.130\r"
     ]
    },
    {
     "name": "stdout",
     "output_type": "stream",
     "text": [
      "TRAINING BATCH:\t(  190 /   625)\tLOSS:\t0.320\r"
     ]
    },
    {
     "name": "stdout",
     "output_type": "stream",
     "text": [
      "TRAINING BATCH:\t(  200 /   625)\tLOSS:\t0.270\r"
     ]
    },
    {
     "name": "stdout",
     "output_type": "stream",
     "text": [
      "TRAINING BATCH:\t(  210 /   625)\tLOSS:\t0.142\r"
     ]
    },
    {
     "name": "stdout",
     "output_type": "stream",
     "text": [
      "TRAINING BATCH:\t(  220 /   625)\tLOSS:\t0.165\r"
     ]
    },
    {
     "name": "stdout",
     "output_type": "stream",
     "text": [
      "TRAINING BATCH:\t(  230 /   625)\tLOSS:\t0.325\r"
     ]
    },
    {
     "name": "stdout",
     "output_type": "stream",
     "text": [
      "TRAINING BATCH:\t(  240 /   625)\tLOSS:\t0.337\r"
     ]
    },
    {
     "name": "stdout",
     "output_type": "stream",
     "text": [
      "TRAINING BATCH:\t(  250 /   625)\tLOSS:\t0.176\r"
     ]
    },
    {
     "name": "stdout",
     "output_type": "stream",
     "text": [
      "TRAINING BATCH:\t(  260 /   625)\tLOSS:\t0.171\r"
     ]
    },
    {
     "name": "stdout",
     "output_type": "stream",
     "text": [
      "TRAINING BATCH:\t(  270 /   625)\tLOSS:\t0.128\r"
     ]
    },
    {
     "name": "stdout",
     "output_type": "stream",
     "text": [
      "TRAINING BATCH:\t(  280 /   625)\tLOSS:\t0.192\r"
     ]
    },
    {
     "name": "stdout",
     "output_type": "stream",
     "text": [
      "TRAINING BATCH:\t(  290 /   625)\tLOSS:\t0.270\r"
     ]
    },
    {
     "name": "stdout",
     "output_type": "stream",
     "text": [
      "TRAINING BATCH:\t(  300 /   625)\tLOSS:\t0.247\r"
     ]
    },
    {
     "name": "stdout",
     "output_type": "stream",
     "text": [
      "TRAINING BATCH:\t(  310 /   625)\tLOSS:\t0.166\r"
     ]
    },
    {
     "name": "stdout",
     "output_type": "stream",
     "text": [
      "TRAINING BATCH:\t(  320 /   625)\tLOSS:\t0.152\r"
     ]
    },
    {
     "name": "stdout",
     "output_type": "stream",
     "text": [
      "TRAINING BATCH:\t(  330 /   625)\tLOSS:\t0.123\r"
     ]
    },
    {
     "name": "stdout",
     "output_type": "stream",
     "text": [
      "TRAINING BATCH:\t(  340 /   625)\tLOSS:\t0.198\r"
     ]
    },
    {
     "name": "stdout",
     "output_type": "stream",
     "text": [
      "TRAINING BATCH:\t(  350 /   625)\tLOSS:\t0.218\r"
     ]
    },
    {
     "name": "stdout",
     "output_type": "stream",
     "text": [
      "TRAINING BATCH:\t(  360 /   625)\tLOSS:\t0.223\r"
     ]
    },
    {
     "name": "stdout",
     "output_type": "stream",
     "text": [
      "TRAINING BATCH:\t(  370 /   625)\tLOSS:\t0.235\r"
     ]
    },
    {
     "name": "stdout",
     "output_type": "stream",
     "text": [
      "TRAINING BATCH:\t(  380 /   625)\tLOSS:\t0.153\r"
     ]
    },
    {
     "name": "stdout",
     "output_type": "stream",
     "text": [
      "TRAINING BATCH:\t(  390 /   625)\tLOSS:\t0.181\r"
     ]
    },
    {
     "name": "stdout",
     "output_type": "stream",
     "text": [
      "TRAINING BATCH:\t(  400 /   625)\tLOSS:\t0.176\r"
     ]
    },
    {
     "name": "stdout",
     "output_type": "stream",
     "text": [
      "TRAINING BATCH:\t(  410 /   625)\tLOSS:\t0.308\r"
     ]
    },
    {
     "name": "stdout",
     "output_type": "stream",
     "text": [
      "TRAINING BATCH:\t(  420 /   625)\tLOSS:\t0.315\r"
     ]
    },
    {
     "name": "stdout",
     "output_type": "stream",
     "text": [
      "TRAINING BATCH:\t(  430 /   625)\tLOSS:\t0.194\r"
     ]
    },
    {
     "name": "stdout",
     "output_type": "stream",
     "text": [
      "TRAINING BATCH:\t(  440 /   625)\tLOSS:\t0.170\r"
     ]
    },
    {
     "name": "stdout",
     "output_type": "stream",
     "text": [
      "TRAINING BATCH:\t(  450 /   625)\tLOSS:\t0.247\r"
     ]
    },
    {
     "name": "stdout",
     "output_type": "stream",
     "text": [
      "TRAINING BATCH:\t(  460 /   625)\tLOSS:\t0.299\r"
     ]
    },
    {
     "name": "stdout",
     "output_type": "stream",
     "text": [
      "TRAINING BATCH:\t(  470 /   625)\tLOSS:\t0.294\r"
     ]
    },
    {
     "name": "stdout",
     "output_type": "stream",
     "text": [
      "TRAINING BATCH:\t(  480 /   625)\tLOSS:\t0.228\r"
     ]
    },
    {
     "name": "stdout",
     "output_type": "stream",
     "text": [
      "TRAINING BATCH:\t(  490 /   625)\tLOSS:\t0.252\r"
     ]
    },
    {
     "name": "stdout",
     "output_type": "stream",
     "text": [
      "TRAINING BATCH:\t(  500 /   625)\tLOSS:\t0.150\r"
     ]
    },
    {
     "name": "stdout",
     "output_type": "stream",
     "text": [
      "TRAINING BATCH:\t(  510 /   625)\tLOSS:\t0.135\r"
     ]
    },
    {
     "name": "stdout",
     "output_type": "stream",
     "text": [
      "TRAINING BATCH:\t(  520 /   625)\tLOSS:\t0.123\r"
     ]
    },
    {
     "name": "stdout",
     "output_type": "stream",
     "text": [
      "TRAINING BATCH:\t(  530 /   625)\tLOSS:\t0.232\r"
     ]
    },
    {
     "name": "stdout",
     "output_type": "stream",
     "text": [
      "TRAINING BATCH:\t(  540 /   625)\tLOSS:\t0.233\r"
     ]
    },
    {
     "name": "stdout",
     "output_type": "stream",
     "text": [
      "TRAINING BATCH:\t(  550 /   625)\tLOSS:\t0.318\r"
     ]
    },
    {
     "name": "stdout",
     "output_type": "stream",
     "text": [
      "TRAINING BATCH:\t(  560 /   625)\tLOSS:\t0.195\r"
     ]
    },
    {
     "name": "stdout",
     "output_type": "stream",
     "text": [
      "TRAINING BATCH:\t(  570 /   625)\tLOSS:\t0.192\r"
     ]
    },
    {
     "name": "stdout",
     "output_type": "stream",
     "text": [
      "TRAINING BATCH:\t(  580 /   625)\tLOSS:\t0.200\r"
     ]
    },
    {
     "name": "stdout",
     "output_type": "stream",
     "text": [
      "TRAINING BATCH:\t(  590 /   625)\tLOSS:\t0.117\r"
     ]
    },
    {
     "name": "stdout",
     "output_type": "stream",
     "text": [
      "TRAINING BATCH:\t(  600 /   625)\tLOSS:\t0.174\r"
     ]
    },
    {
     "name": "stdout",
     "output_type": "stream",
     "text": [
      "TRAINING BATCH:\t(  610 /   625)\tLOSS:\t0.101\r"
     ]
    },
    {
     "name": "stdout",
     "output_type": "stream",
     "text": [
      "TRAINING BATCH:\t(  620 /   625)\tLOSS:\t0.111\r"
     ]
    },
    {
     "name": "stdout",
     "output_type": "stream",
     "text": [
      "TEST BATCH:\t(    0 /   157)\tLOSS:\t0.410\r"
     ]
    },
    {
     "name": "stdout",
     "output_type": "stream",
     "text": [
      "TEST BATCH:\t(   50 /   157)\tLOSS:\t0.221\r"
     ]
    },
    {
     "name": "stdout",
     "output_type": "stream",
     "text": [
      "TEST BATCH:\t(  100 /   157)\tLOSS:\t0.297\r"
     ]
    },
    {
     "name": "stdout",
     "output_type": "stream",
     "text": [
      "TEST BATCH:\t(  150 /   157)\tLOSS:\t0.167\r",
      "EPOCH:\t    9\tTRAIN LOSS:\t0.007\tTRAIN ACCURACY:\t0.850\tTEST LOSS:\t0.009\tTEST ACCURACY:\t0.798\n",
      "TRAINING BATCH:\t(    0 /   625)\tLOSS:\t0.184\r"
     ]
    },
    {
     "name": "stdout",
     "output_type": "stream",
     "text": [
      "TRAINING BATCH:\t(   10 /   625)\tLOSS:\t0.147\r"
     ]
    },
    {
     "name": "stdout",
     "output_type": "stream",
     "text": [
      "TRAINING BATCH:\t(   20 /   625)\tLOSS:\t0.129\r"
     ]
    },
    {
     "name": "stdout",
     "output_type": "stream",
     "text": [
      "TRAINING BATCH:\t(   30 /   625)\tLOSS:\t0.155\r"
     ]
    },
    {
     "name": "stdout",
     "output_type": "stream",
     "text": [
      "TRAINING BATCH:\t(   40 /   625)\tLOSS:\t0.159\r"
     ]
    },
    {
     "name": "stdout",
     "output_type": "stream",
     "text": [
      "TRAINING BATCH:\t(   50 /   625)\tLOSS:\t0.174\r"
     ]
    },
    {
     "name": "stdout",
     "output_type": "stream",
     "text": [
      "TRAINING BATCH:\t(   60 /   625)\tLOSS:\t0.185\r"
     ]
    },
    {
     "name": "stdout",
     "output_type": "stream",
     "text": [
      "TRAINING BATCH:\t(   70 /   625)\tLOSS:\t0.205\r"
     ]
    },
    {
     "name": "stdout",
     "output_type": "stream",
     "text": [
      "TRAINING BATCH:\t(   80 /   625)\tLOSS:\t0.221\r"
     ]
    },
    {
     "name": "stdout",
     "output_type": "stream",
     "text": [
      "TRAINING BATCH:\t(   90 /   625)\tLOSS:\t0.082\r"
     ]
    },
    {
     "name": "stdout",
     "output_type": "stream",
     "text": [
      "TRAINING BATCH:\t(  100 /   625)\tLOSS:\t0.245\r"
     ]
    },
    {
     "name": "stdout",
     "output_type": "stream",
     "text": [
      "TRAINING BATCH:\t(  110 /   625)\tLOSS:\t0.189\r"
     ]
    },
    {
     "name": "stdout",
     "output_type": "stream",
     "text": [
      "TRAINING BATCH:\t(  120 /   625)\tLOSS:\t0.143\r"
     ]
    },
    {
     "name": "stdout",
     "output_type": "stream",
     "text": [
      "TRAINING BATCH:\t(  130 /   625)\tLOSS:\t0.146\r"
     ]
    },
    {
     "name": "stdout",
     "output_type": "stream",
     "text": [
      "TRAINING BATCH:\t(  140 /   625)\tLOSS:\t0.141\r"
     ]
    },
    {
     "name": "stdout",
     "output_type": "stream",
     "text": [
      "TRAINING BATCH:\t(  150 /   625)\tLOSS:\t0.177\r"
     ]
    },
    {
     "name": "stdout",
     "output_type": "stream",
     "text": [
      "TRAINING BATCH:\t(  160 /   625)\tLOSS:\t0.112\r"
     ]
    },
    {
     "name": "stdout",
     "output_type": "stream",
     "text": [
      "TRAINING BATCH:\t(  170 /   625)\tLOSS:\t0.138\r"
     ]
    },
    {
     "name": "stdout",
     "output_type": "stream",
     "text": [
      "TRAINING BATCH:\t(  180 /   625)\tLOSS:\t0.156\r"
     ]
    },
    {
     "name": "stdout",
     "output_type": "stream",
     "text": [
      "TRAINING BATCH:\t(  190 /   625)\tLOSS:\t0.189\r"
     ]
    },
    {
     "name": "stdout",
     "output_type": "stream",
     "text": [
      "TRAINING BATCH:\t(  200 /   625)\tLOSS:\t0.133\r"
     ]
    },
    {
     "name": "stdout",
     "output_type": "stream",
     "text": [
      "TRAINING BATCH:\t(  210 /   625)\tLOSS:\t0.187\r"
     ]
    },
    {
     "name": "stdout",
     "output_type": "stream",
     "text": [
      "TRAINING BATCH:\t(  220 /   625)\tLOSS:\t0.165\r"
     ]
    },
    {
     "name": "stdout",
     "output_type": "stream",
     "text": [
      "TRAINING BATCH:\t(  230 /   625)\tLOSS:\t0.180\r"
     ]
    },
    {
     "name": "stdout",
     "output_type": "stream",
     "text": [
      "TRAINING BATCH:\t(  240 /   625)\tLOSS:\t0.201\r"
     ]
    },
    {
     "name": "stdout",
     "output_type": "stream",
     "text": [
      "TRAINING BATCH:\t(  250 /   625)\tLOSS:\t0.113\r"
     ]
    },
    {
     "name": "stdout",
     "output_type": "stream",
     "text": [
      "TRAINING BATCH:\t(  260 /   625)\tLOSS:\t0.292\r"
     ]
    },
    {
     "name": "stdout",
     "output_type": "stream",
     "text": [
      "TRAINING BATCH:\t(  270 /   625)\tLOSS:\t0.103\r"
     ]
    },
    {
     "name": "stdout",
     "output_type": "stream",
     "text": [
      "TRAINING BATCH:\t(  280 /   625)\tLOSS:\t0.197\r"
     ]
    },
    {
     "name": "stdout",
     "output_type": "stream",
     "text": [
      "TRAINING BATCH:\t(  290 /   625)\tLOSS:\t0.275\r"
     ]
    },
    {
     "name": "stdout",
     "output_type": "stream",
     "text": [
      "TRAINING BATCH:\t(  300 /   625)\tLOSS:\t0.186\r"
     ]
    },
    {
     "name": "stdout",
     "output_type": "stream",
     "text": [
      "TRAINING BATCH:\t(  310 /   625)\tLOSS:\t0.194\r"
     ]
    },
    {
     "name": "stdout",
     "output_type": "stream",
     "text": [
      "TRAINING BATCH:\t(  320 /   625)\tLOSS:\t0.165\r"
     ]
    },
    {
     "name": "stdout",
     "output_type": "stream",
     "text": [
      "TRAINING BATCH:\t(  330 /   625)\tLOSS:\t0.260\r"
     ]
    },
    {
     "name": "stdout",
     "output_type": "stream",
     "text": [
      "TRAINING BATCH:\t(  340 /   625)\tLOSS:\t0.106\r"
     ]
    },
    {
     "name": "stdout",
     "output_type": "stream",
     "text": [
      "TRAINING BATCH:\t(  350 /   625)\tLOSS:\t0.325\r"
     ]
    },
    {
     "name": "stdout",
     "output_type": "stream",
     "text": [
      "TRAINING BATCH:\t(  360 /   625)\tLOSS:\t0.183\r"
     ]
    },
    {
     "name": "stdout",
     "output_type": "stream",
     "text": [
      "TRAINING BATCH:\t(  370 /   625)\tLOSS:\t0.209\r"
     ]
    },
    {
     "name": "stdout",
     "output_type": "stream",
     "text": [
      "TRAINING BATCH:\t(  380 /   625)\tLOSS:\t0.196\r"
     ]
    },
    {
     "name": "stdout",
     "output_type": "stream",
     "text": [
      "TRAINING BATCH:\t(  390 /   625)\tLOSS:\t0.285\r"
     ]
    },
    {
     "name": "stdout",
     "output_type": "stream",
     "text": [
      "TRAINING BATCH:\t(  400 /   625)\tLOSS:\t0.162\r"
     ]
    },
    {
     "name": "stdout",
     "output_type": "stream",
     "text": [
      "TRAINING BATCH:\t(  410 /   625)\tLOSS:\t0.222\r"
     ]
    },
    {
     "name": "stdout",
     "output_type": "stream",
     "text": [
      "TRAINING BATCH:\t(  420 /   625)\tLOSS:\t0.157\r"
     ]
    },
    {
     "name": "stdout",
     "output_type": "stream",
     "text": [
      "TRAINING BATCH:\t(  430 /   625)\tLOSS:\t0.144\r"
     ]
    },
    {
     "name": "stdout",
     "output_type": "stream",
     "text": [
      "TRAINING BATCH:\t(  440 /   625)\tLOSS:\t0.274\r"
     ]
    },
    {
     "name": "stdout",
     "output_type": "stream",
     "text": [
      "TRAINING BATCH:\t(  450 /   625)\tLOSS:\t0.222\r"
     ]
    },
    {
     "name": "stdout",
     "output_type": "stream",
     "text": [
      "TRAINING BATCH:\t(  460 /   625)\tLOSS:\t0.198\r"
     ]
    },
    {
     "name": "stdout",
     "output_type": "stream",
     "text": [
      "TRAINING BATCH:\t(  470 /   625)\tLOSS:\t0.173\r"
     ]
    },
    {
     "name": "stdout",
     "output_type": "stream",
     "text": [
      "TRAINING BATCH:\t(  480 /   625)\tLOSS:\t0.305\r"
     ]
    },
    {
     "name": "stdout",
     "output_type": "stream",
     "text": [
      "TRAINING BATCH:\t(  490 /   625)\tLOSS:\t0.202\r"
     ]
    },
    {
     "name": "stdout",
     "output_type": "stream",
     "text": [
      "TRAINING BATCH:\t(  500 /   625)\tLOSS:\t0.422\r"
     ]
    },
    {
     "name": "stdout",
     "output_type": "stream",
     "text": [
      "TRAINING BATCH:\t(  510 /   625)\tLOSS:\t0.149\r"
     ]
    },
    {
     "name": "stdout",
     "output_type": "stream",
     "text": [
      "TRAINING BATCH:\t(  520 /   625)\tLOSS:\t0.253\r"
     ]
    },
    {
     "name": "stdout",
     "output_type": "stream",
     "text": [
      "TRAINING BATCH:\t(  530 /   625)\tLOSS:\t0.108\r"
     ]
    },
    {
     "name": "stdout",
     "output_type": "stream",
     "text": [
      "TRAINING BATCH:\t(  540 /   625)\tLOSS:\t0.148\r"
     ]
    },
    {
     "name": "stdout",
     "output_type": "stream",
     "text": [
      "TRAINING BATCH:\t(  550 /   625)\tLOSS:\t0.236\r"
     ]
    },
    {
     "name": "stdout",
     "output_type": "stream",
     "text": [
      "TRAINING BATCH:\t(  560 /   625)\tLOSS:\t0.522\r"
     ]
    },
    {
     "name": "stdout",
     "output_type": "stream",
     "text": [
      "TRAINING BATCH:\t(  570 /   625)\tLOSS:\t0.136\r"
     ]
    },
    {
     "name": "stdout",
     "output_type": "stream",
     "text": [
      "TRAINING BATCH:\t(  580 /   625)\tLOSS:\t0.181\r"
     ]
    },
    {
     "name": "stdout",
     "output_type": "stream",
     "text": [
      "TRAINING BATCH:\t(  590 /   625)\tLOSS:\t0.167\r"
     ]
    },
    {
     "name": "stdout",
     "output_type": "stream",
     "text": [
      "TRAINING BATCH:\t(  600 /   625)\tLOSS:\t0.174\r"
     ]
    },
    {
     "name": "stdout",
     "output_type": "stream",
     "text": [
      "TRAINING BATCH:\t(  610 /   625)\tLOSS:\t0.170\r"
     ]
    },
    {
     "name": "stdout",
     "output_type": "stream",
     "text": [
      "TRAINING BATCH:\t(  620 /   625)\tLOSS:\t0.146\r"
     ]
    },
    {
     "name": "stdout",
     "output_type": "stream",
     "text": [
      "TEST BATCH:\t(    0 /   157)\tLOSS:\t0.502\r"
     ]
    },
    {
     "name": "stdout",
     "output_type": "stream",
     "text": [
      "TEST BATCH:\t(   50 /   157)\tLOSS:\t0.263\r"
     ]
    },
    {
     "name": "stdout",
     "output_type": "stream",
     "text": [
      "TEST BATCH:\t(  100 /   157)\tLOSS:\t0.179\r"
     ]
    },
    {
     "name": "stdout",
     "output_type": "stream",
     "text": [
      "TEST BATCH:\t(  150 /   157)\tLOSS:\t0.189\r",
      "EPOCH:\t   10\tTRAIN LOSS:\t0.006\tTRAIN ACCURACY:\t0.861\tTEST LOSS:\t0.009\tTEST ACCURACY:\t0.815\n",
      "TRAINING BATCH:\t(    0 /   625)\tLOSS:\t0.192\r"
     ]
    },
    {
     "name": "stdout",
     "output_type": "stream",
     "text": [
      "TRAINING BATCH:\t(   10 /   625)\tLOSS:\t0.098\r"
     ]
    },
    {
     "name": "stdout",
     "output_type": "stream",
     "text": [
      "TRAINING BATCH:\t(   20 /   625)\tLOSS:\t0.130\r"
     ]
    },
    {
     "name": "stdout",
     "output_type": "stream",
     "text": [
      "TRAINING BATCH:\t(   30 /   625)\tLOSS:\t0.158\r"
     ]
    },
    {
     "name": "stdout",
     "output_type": "stream",
     "text": [
      "TRAINING BATCH:\t(   40 /   625)\tLOSS:\t0.200\r"
     ]
    },
    {
     "name": "stdout",
     "output_type": "stream",
     "text": [
      "TRAINING BATCH:\t(   50 /   625)\tLOSS:\t0.149\r"
     ]
    },
    {
     "name": "stdout",
     "output_type": "stream",
     "text": [
      "TRAINING BATCH:\t(   60 /   625)\tLOSS:\t0.256\r"
     ]
    },
    {
     "name": "stdout",
     "output_type": "stream",
     "text": [
      "TRAINING BATCH:\t(   70 /   625)\tLOSS:\t0.124\r"
     ]
    },
    {
     "name": "stdout",
     "output_type": "stream",
     "text": [
      "TRAINING BATCH:\t(   80 /   625)\tLOSS:\t0.345\r"
     ]
    },
    {
     "name": "stdout",
     "output_type": "stream",
     "text": [
      "TRAINING BATCH:\t(   90 /   625)\tLOSS:\t0.206\r"
     ]
    },
    {
     "name": "stdout",
     "output_type": "stream",
     "text": [
      "TRAINING BATCH:\t(  100 /   625)\tLOSS:\t0.198\r"
     ]
    },
    {
     "name": "stdout",
     "output_type": "stream",
     "text": [
      "TRAINING BATCH:\t(  110 /   625)\tLOSS:\t0.143\r"
     ]
    },
    {
     "name": "stdout",
     "output_type": "stream",
     "text": [
      "TRAINING BATCH:\t(  120 /   625)\tLOSS:\t0.121\r"
     ]
    },
    {
     "name": "stdout",
     "output_type": "stream",
     "text": [
      "TRAINING BATCH:\t(  130 /   625)\tLOSS:\t0.086\r"
     ]
    },
    {
     "name": "stdout",
     "output_type": "stream",
     "text": [
      "TRAINING BATCH:\t(  140 /   625)\tLOSS:\t0.119\r"
     ]
    },
    {
     "name": "stdout",
     "output_type": "stream",
     "text": [
      "TRAINING BATCH:\t(  150 /   625)\tLOSS:\t0.136\r"
     ]
    },
    {
     "name": "stdout",
     "output_type": "stream",
     "text": [
      "TRAINING BATCH:\t(  160 /   625)\tLOSS:\t0.115\r"
     ]
    },
    {
     "name": "stdout",
     "output_type": "stream",
     "text": [
      "TRAINING BATCH:\t(  170 /   625)\tLOSS:\t0.119\r"
     ]
    },
    {
     "name": "stdout",
     "output_type": "stream",
     "text": [
      "TRAINING BATCH:\t(  180 /   625)\tLOSS:\t0.180\r"
     ]
    },
    {
     "name": "stdout",
     "output_type": "stream",
     "text": [
      "TRAINING BATCH:\t(  190 /   625)\tLOSS:\t0.159\r"
     ]
    },
    {
     "name": "stdout",
     "output_type": "stream",
     "text": [
      "TRAINING BATCH:\t(  200 /   625)\tLOSS:\t0.073\r"
     ]
    },
    {
     "name": "stdout",
     "output_type": "stream",
     "text": [
      "TRAINING BATCH:\t(  210 /   625)\tLOSS:\t0.184\r"
     ]
    },
    {
     "name": "stdout",
     "output_type": "stream",
     "text": [
      "TRAINING BATCH:\t(  220 /   625)\tLOSS:\t0.228\r"
     ]
    },
    {
     "name": "stdout",
     "output_type": "stream",
     "text": [
      "TRAINING BATCH:\t(  230 /   625)\tLOSS:\t0.153\r"
     ]
    },
    {
     "name": "stdout",
     "output_type": "stream",
     "text": [
      "TRAINING BATCH:\t(  240 /   625)\tLOSS:\t0.147\r"
     ]
    },
    {
     "name": "stdout",
     "output_type": "stream",
     "text": [
      "TRAINING BATCH:\t(  250 /   625)\tLOSS:\t0.117\r"
     ]
    },
    {
     "name": "stdout",
     "output_type": "stream",
     "text": [
      "TRAINING BATCH:\t(  260 /   625)\tLOSS:\t0.196\r"
     ]
    },
    {
     "name": "stdout",
     "output_type": "stream",
     "text": [
      "TRAINING BATCH:\t(  270 /   625)\tLOSS:\t0.161\r"
     ]
    },
    {
     "name": "stdout",
     "output_type": "stream",
     "text": [
      "TRAINING BATCH:\t(  280 /   625)\tLOSS:\t0.209\r"
     ]
    },
    {
     "name": "stdout",
     "output_type": "stream",
     "text": [
      "TRAINING BATCH:\t(  290 /   625)\tLOSS:\t0.189\r"
     ]
    },
    {
     "name": "stdout",
     "output_type": "stream",
     "text": [
      "TRAINING BATCH:\t(  300 /   625)\tLOSS:\t0.241\r"
     ]
    },
    {
     "name": "stdout",
     "output_type": "stream",
     "text": [
      "TRAINING BATCH:\t(  310 /   625)\tLOSS:\t0.200\r"
     ]
    },
    {
     "name": "stdout",
     "output_type": "stream",
     "text": [
      "TRAINING BATCH:\t(  320 /   625)\tLOSS:\t0.262\r"
     ]
    },
    {
     "name": "stdout",
     "output_type": "stream",
     "text": [
      "TRAINING BATCH:\t(  330 /   625)\tLOSS:\t0.156\r"
     ]
    },
    {
     "name": "stdout",
     "output_type": "stream",
     "text": [
      "TRAINING BATCH:\t(  340 /   625)\tLOSS:\t0.234\r"
     ]
    },
    {
     "name": "stdout",
     "output_type": "stream",
     "text": [
      "TRAINING BATCH:\t(  350 /   625)\tLOSS:\t0.102\r"
     ]
    },
    {
     "name": "stdout",
     "output_type": "stream",
     "text": [
      "TRAINING BATCH:\t(  360 /   625)\tLOSS:\t0.223\r"
     ]
    },
    {
     "name": "stdout",
     "output_type": "stream",
     "text": [
      "TRAINING BATCH:\t(  370 /   625)\tLOSS:\t0.100\r"
     ]
    },
    {
     "name": "stdout",
     "output_type": "stream",
     "text": [
      "TRAINING BATCH:\t(  380 /   625)\tLOSS:\t0.124\r"
     ]
    },
    {
     "name": "stdout",
     "output_type": "stream",
     "text": [
      "TRAINING BATCH:\t(  390 /   625)\tLOSS:\t0.140\r"
     ]
    },
    {
     "name": "stdout",
     "output_type": "stream",
     "text": [
      "TRAINING BATCH:\t(  400 /   625)\tLOSS:\t0.087\r"
     ]
    },
    {
     "name": "stdout",
     "output_type": "stream",
     "text": [
      "TRAINING BATCH:\t(  410 /   625)\tLOSS:\t0.116\r"
     ]
    },
    {
     "name": "stdout",
     "output_type": "stream",
     "text": [
      "TRAINING BATCH:\t(  420 /   625)\tLOSS:\t0.213\r"
     ]
    },
    {
     "name": "stdout",
     "output_type": "stream",
     "text": [
      "TRAINING BATCH:\t(  430 /   625)\tLOSS:\t0.078\r"
     ]
    },
    {
     "name": "stdout",
     "output_type": "stream",
     "text": [
      "TRAINING BATCH:\t(  440 /   625)\tLOSS:\t0.239\r"
     ]
    },
    {
     "name": "stdout",
     "output_type": "stream",
     "text": [
      "TRAINING BATCH:\t(  450 /   625)\tLOSS:\t0.344\r"
     ]
    },
    {
     "name": "stdout",
     "output_type": "stream",
     "text": [
      "TRAINING BATCH:\t(  460 /   625)\tLOSS:\t0.139\r"
     ]
    },
    {
     "name": "stdout",
     "output_type": "stream",
     "text": [
      "TRAINING BATCH:\t(  470 /   625)\tLOSS:\t0.177\r"
     ]
    },
    {
     "name": "stdout",
     "output_type": "stream",
     "text": [
      "TRAINING BATCH:\t(  480 /   625)\tLOSS:\t0.130\r"
     ]
    },
    {
     "name": "stdout",
     "output_type": "stream",
     "text": [
      "TRAINING BATCH:\t(  490 /   625)\tLOSS:\t0.207\r"
     ]
    },
    {
     "name": "stdout",
     "output_type": "stream",
     "text": [
      "TRAINING BATCH:\t(  500 /   625)\tLOSS:\t0.118\r"
     ]
    },
    {
     "name": "stdout",
     "output_type": "stream",
     "text": [
      "TRAINING BATCH:\t(  510 /   625)\tLOSS:\t0.090\r"
     ]
    },
    {
     "name": "stdout",
     "output_type": "stream",
     "text": [
      "TRAINING BATCH:\t(  520 /   625)\tLOSS:\t0.101\r"
     ]
    },
    {
     "name": "stdout",
     "output_type": "stream",
     "text": [
      "TRAINING BATCH:\t(  530 /   625)\tLOSS:\t0.204\r"
     ]
    },
    {
     "name": "stdout",
     "output_type": "stream",
     "text": [
      "TRAINING BATCH:\t(  540 /   625)\tLOSS:\t0.248\r"
     ]
    },
    {
     "name": "stdout",
     "output_type": "stream",
     "text": [
      "TRAINING BATCH:\t(  550 /   625)\tLOSS:\t0.216\r"
     ]
    },
    {
     "name": "stdout",
     "output_type": "stream",
     "text": [
      "TRAINING BATCH:\t(  560 /   625)\tLOSS:\t0.190\r"
     ]
    },
    {
     "name": "stdout",
     "output_type": "stream",
     "text": [
      "TRAINING BATCH:\t(  570 /   625)\tLOSS:\t0.221\r"
     ]
    },
    {
     "name": "stdout",
     "output_type": "stream",
     "text": [
      "TRAINING BATCH:\t(  580 /   625)\tLOSS:\t0.161\r"
     ]
    },
    {
     "name": "stdout",
     "output_type": "stream",
     "text": [
      "TRAINING BATCH:\t(  590 /   625)\tLOSS:\t0.212\r"
     ]
    },
    {
     "name": "stdout",
     "output_type": "stream",
     "text": [
      "TRAINING BATCH:\t(  600 /   625)\tLOSS:\t0.174\r"
     ]
    },
    {
     "name": "stdout",
     "output_type": "stream",
     "text": [
      "TRAINING BATCH:\t(  610 /   625)\tLOSS:\t0.251\r"
     ]
    },
    {
     "name": "stdout",
     "output_type": "stream",
     "text": [
      "TRAINING BATCH:\t(  620 /   625)\tLOSS:\t0.181\r"
     ]
    },
    {
     "name": "stdout",
     "output_type": "stream",
     "text": [
      "TEST BATCH:\t(    0 /   157)\tLOSS:\t0.372\r"
     ]
    },
    {
     "name": "stdout",
     "output_type": "stream",
     "text": [
      "TEST BATCH:\t(   50 /   157)\tLOSS:\t0.185\r"
     ]
    },
    {
     "name": "stdout",
     "output_type": "stream",
     "text": [
      "TEST BATCH:\t(  100 /   157)\tLOSS:\t0.303\r"
     ]
    },
    {
     "name": "stdout",
     "output_type": "stream",
     "text": [
      "TEST BATCH:\t(  150 /   157)\tLOSS:\t0.297\r",
      "EPOCH:\t   11\tTRAIN LOSS:\t0.006\tTRAIN ACCURACY:\t0.871\tTEST LOSS:\t0.009\tTEST ACCURACY:\t0.807\n",
      "TRAINING BATCH:\t(    0 /   625)\tLOSS:\t0.132\r"
     ]
    },
    {
     "name": "stdout",
     "output_type": "stream",
     "text": [
      "TRAINING BATCH:\t(   10 /   625)\tLOSS:\t0.109\r"
     ]
    },
    {
     "name": "stdout",
     "output_type": "stream",
     "text": [
      "TRAINING BATCH:\t(   20 /   625)\tLOSS:\t0.169\r"
     ]
    },
    {
     "name": "stdout",
     "output_type": "stream",
     "text": [
      "TRAINING BATCH:\t(   30 /   625)\tLOSS:\t0.144\r"
     ]
    },
    {
     "name": "stdout",
     "output_type": "stream",
     "text": [
      "TRAINING BATCH:\t(   40 /   625)\tLOSS:\t0.247\r"
     ]
    },
    {
     "name": "stdout",
     "output_type": "stream",
     "text": [
      "TRAINING BATCH:\t(   50 /   625)\tLOSS:\t0.178\r"
     ]
    },
    {
     "name": "stdout",
     "output_type": "stream",
     "text": [
      "TRAINING BATCH:\t(   60 /   625)\tLOSS:\t0.117\r"
     ]
    },
    {
     "name": "stdout",
     "output_type": "stream",
     "text": [
      "TRAINING BATCH:\t(   70 /   625)\tLOSS:\t0.119\r"
     ]
    },
    {
     "name": "stdout",
     "output_type": "stream",
     "text": [
      "TRAINING BATCH:\t(   80 /   625)\tLOSS:\t0.348\r"
     ]
    },
    {
     "name": "stdout",
     "output_type": "stream",
     "text": [
      "TRAINING BATCH:\t(   90 /   625)\tLOSS:\t0.201\r"
     ]
    },
    {
     "name": "stdout",
     "output_type": "stream",
     "text": [
      "TRAINING BATCH:\t(  100 /   625)\tLOSS:\t0.193\r"
     ]
    },
    {
     "name": "stdout",
     "output_type": "stream",
     "text": [
      "TRAINING BATCH:\t(  110 /   625)\tLOSS:\t0.225\r"
     ]
    },
    {
     "name": "stdout",
     "output_type": "stream",
     "text": [
      "TRAINING BATCH:\t(  120 /   625)\tLOSS:\t0.260\r"
     ]
    },
    {
     "name": "stdout",
     "output_type": "stream",
     "text": [
      "TRAINING BATCH:\t(  130 /   625)\tLOSS:\t0.211\r"
     ]
    },
    {
     "name": "stdout",
     "output_type": "stream",
     "text": [
      "TRAINING BATCH:\t(  140 /   625)\tLOSS:\t0.099\r"
     ]
    },
    {
     "name": "stdout",
     "output_type": "stream",
     "text": [
      "TRAINING BATCH:\t(  150 /   625)\tLOSS:\t0.275\r"
     ]
    },
    {
     "name": "stdout",
     "output_type": "stream",
     "text": [
      "TRAINING BATCH:\t(  160 /   625)\tLOSS:\t0.201\r"
     ]
    },
    {
     "name": "stdout",
     "output_type": "stream",
     "text": [
      "TRAINING BATCH:\t(  170 /   625)\tLOSS:\t0.140\r"
     ]
    },
    {
     "name": "stdout",
     "output_type": "stream",
     "text": [
      "TRAINING BATCH:\t(  180 /   625)\tLOSS:\t0.105\r"
     ]
    },
    {
     "name": "stdout",
     "output_type": "stream",
     "text": [
      "TRAINING BATCH:\t(  190 /   625)\tLOSS:\t0.252\r"
     ]
    },
    {
     "name": "stdout",
     "output_type": "stream",
     "text": [
      "TRAINING BATCH:\t(  200 /   625)\tLOSS:\t0.184\r"
     ]
    },
    {
     "name": "stdout",
     "output_type": "stream",
     "text": [
      "TRAINING BATCH:\t(  210 /   625)\tLOSS:\t0.112\r"
     ]
    },
    {
     "name": "stdout",
     "output_type": "stream",
     "text": [
      "TRAINING BATCH:\t(  220 /   625)\tLOSS:\t0.161\r"
     ]
    },
    {
     "name": "stdout",
     "output_type": "stream",
     "text": [
      "TRAINING BATCH:\t(  230 /   625)\tLOSS:\t0.134\r"
     ]
    },
    {
     "name": "stdout",
     "output_type": "stream",
     "text": [
      "TRAINING BATCH:\t(  240 /   625)\tLOSS:\t0.148\r"
     ]
    },
    {
     "name": "stdout",
     "output_type": "stream",
     "text": [
      "TRAINING BATCH:\t(  250 /   625)\tLOSS:\t0.196\r"
     ]
    },
    {
     "name": "stdout",
     "output_type": "stream",
     "text": [
      "TRAINING BATCH:\t(  260 /   625)\tLOSS:\t0.160\r"
     ]
    },
    {
     "name": "stdout",
     "output_type": "stream",
     "text": [
      "TRAINING BATCH:\t(  270 /   625)\tLOSS:\t0.138\r"
     ]
    },
    {
     "name": "stdout",
     "output_type": "stream",
     "text": [
      "TRAINING BATCH:\t(  280 /   625)\tLOSS:\t0.175\r"
     ]
    },
    {
     "name": "stdout",
     "output_type": "stream",
     "text": [
      "TRAINING BATCH:\t(  290 /   625)\tLOSS:\t0.193\r"
     ]
    },
    {
     "name": "stdout",
     "output_type": "stream",
     "text": [
      "TRAINING BATCH:\t(  300 /   625)\tLOSS:\t0.334\r"
     ]
    },
    {
     "name": "stdout",
     "output_type": "stream",
     "text": [
      "TRAINING BATCH:\t(  310 /   625)\tLOSS:\t0.186\r"
     ]
    },
    {
     "name": "stdout",
     "output_type": "stream",
     "text": [
      "TRAINING BATCH:\t(  320 /   625)\tLOSS:\t0.164\r"
     ]
    },
    {
     "name": "stdout",
     "output_type": "stream",
     "text": [
      "TRAINING BATCH:\t(  330 /   625)\tLOSS:\t0.182\r"
     ]
    },
    {
     "name": "stdout",
     "output_type": "stream",
     "text": [
      "TRAINING BATCH:\t(  340 /   625)\tLOSS:\t0.086\r"
     ]
    },
    {
     "name": "stdout",
     "output_type": "stream",
     "text": [
      "TRAINING BATCH:\t(  350 /   625)\tLOSS:\t0.150\r"
     ]
    },
    {
     "name": "stdout",
     "output_type": "stream",
     "text": [
      "TRAINING BATCH:\t(  360 /   625)\tLOSS:\t0.106\r"
     ]
    },
    {
     "name": "stdout",
     "output_type": "stream",
     "text": [
      "TRAINING BATCH:\t(  370 /   625)\tLOSS:\t0.160\r"
     ]
    },
    {
     "name": "stdout",
     "output_type": "stream",
     "text": [
      "TRAINING BATCH:\t(  380 /   625)\tLOSS:\t0.293\r"
     ]
    },
    {
     "name": "stdout",
     "output_type": "stream",
     "text": [
      "TRAINING BATCH:\t(  390 /   625)\tLOSS:\t0.181\r"
     ]
    },
    {
     "name": "stdout",
     "output_type": "stream",
     "text": [
      "TRAINING BATCH:\t(  400 /   625)\tLOSS:\t0.215\r"
     ]
    },
    {
     "name": "stdout",
     "output_type": "stream",
     "text": [
      "TRAINING BATCH:\t(  410 /   625)\tLOSS:\t0.217\r"
     ]
    },
    {
     "name": "stdout",
     "output_type": "stream",
     "text": [
      "TRAINING BATCH:\t(  420 /   625)\tLOSS:\t0.102\r"
     ]
    },
    {
     "name": "stdout",
     "output_type": "stream",
     "text": [
      "TRAINING BATCH:\t(  430 /   625)\tLOSS:\t0.192\r"
     ]
    },
    {
     "name": "stdout",
     "output_type": "stream",
     "text": [
      "TRAINING BATCH:\t(  440 /   625)\tLOSS:\t0.113\r"
     ]
    },
    {
     "name": "stdout",
     "output_type": "stream",
     "text": [
      "TRAINING BATCH:\t(  450 /   625)\tLOSS:\t0.074\r"
     ]
    },
    {
     "name": "stdout",
     "output_type": "stream",
     "text": [
      "TRAINING BATCH:\t(  460 /   625)\tLOSS:\t0.084\r"
     ]
    },
    {
     "name": "stdout",
     "output_type": "stream",
     "text": [
      "TRAINING BATCH:\t(  470 /   625)\tLOSS:\t0.293\r"
     ]
    },
    {
     "name": "stdout",
     "output_type": "stream",
     "text": [
      "TRAINING BATCH:\t(  480 /   625)\tLOSS:\t0.159\r"
     ]
    },
    {
     "name": "stdout",
     "output_type": "stream",
     "text": [
      "TRAINING BATCH:\t(  490 /   625)\tLOSS:\t0.218\r"
     ]
    },
    {
     "name": "stdout",
     "output_type": "stream",
     "text": [
      "TRAINING BATCH:\t(  500 /   625)\tLOSS:\t0.148\r"
     ]
    },
    {
     "name": "stdout",
     "output_type": "stream",
     "text": [
      "TRAINING BATCH:\t(  510 /   625)\tLOSS:\t0.112\r"
     ]
    },
    {
     "name": "stdout",
     "output_type": "stream",
     "text": [
      "TRAINING BATCH:\t(  520 /   625)\tLOSS:\t0.139\r"
     ]
    },
    {
     "name": "stdout",
     "output_type": "stream",
     "text": [
      "TRAINING BATCH:\t(  530 /   625)\tLOSS:\t0.102\r"
     ]
    },
    {
     "name": "stdout",
     "output_type": "stream",
     "text": [
      "TRAINING BATCH:\t(  540 /   625)\tLOSS:\t0.172\r"
     ]
    },
    {
     "name": "stdout",
     "output_type": "stream",
     "text": [
      "TRAINING BATCH:\t(  550 /   625)\tLOSS:\t0.101\r"
     ]
    },
    {
     "name": "stdout",
     "output_type": "stream",
     "text": [
      "TRAINING BATCH:\t(  560 /   625)\tLOSS:\t0.302\r"
     ]
    },
    {
     "name": "stdout",
     "output_type": "stream",
     "text": [
      "TRAINING BATCH:\t(  570 /   625)\tLOSS:\t0.206\r"
     ]
    },
    {
     "name": "stdout",
     "output_type": "stream",
     "text": [
      "TRAINING BATCH:\t(  580 /   625)\tLOSS:\t0.039\r"
     ]
    },
    {
     "name": "stdout",
     "output_type": "stream",
     "text": [
      "TRAINING BATCH:\t(  590 /   625)\tLOSS:\t0.219\r"
     ]
    },
    {
     "name": "stdout",
     "output_type": "stream",
     "text": [
      "TRAINING BATCH:\t(  600 /   625)\tLOSS:\t0.180\r"
     ]
    },
    {
     "name": "stdout",
     "output_type": "stream",
     "text": [
      "TRAINING BATCH:\t(  610 /   625)\tLOSS:\t0.222\r"
     ]
    },
    {
     "name": "stdout",
     "output_type": "stream",
     "text": [
      "TRAINING BATCH:\t(  620 /   625)\tLOSS:\t0.108\r"
     ]
    },
    {
     "name": "stdout",
     "output_type": "stream",
     "text": [
      "TEST BATCH:\t(    0 /   157)\tLOSS:\t0.491\r"
     ]
    },
    {
     "name": "stdout",
     "output_type": "stream",
     "text": [
      "TEST BATCH:\t(   50 /   157)\tLOSS:\t0.185\r"
     ]
    },
    {
     "name": "stdout",
     "output_type": "stream",
     "text": [
      "TEST BATCH:\t(  100 /   157)\tLOSS:\t0.336\r"
     ]
    },
    {
     "name": "stdout",
     "output_type": "stream",
     "text": [
      "TEST BATCH:\t(  150 /   157)\tLOSS:\t0.194\r",
      "EPOCH:\t   12\tTRAIN LOSS:\t0.005\tTRAIN ACCURACY:\t0.880\tTEST LOSS:\t0.008\tTEST ACCURACY:\t0.834\n",
      "TRAINING BATCH:\t(    0 /   625)\tLOSS:\t0.083\r"
     ]
    },
    {
     "name": "stdout",
     "output_type": "stream",
     "text": [
      "TRAINING BATCH:\t(   10 /   625)\tLOSS:\t0.239\r"
     ]
    },
    {
     "name": "stdout",
     "output_type": "stream",
     "text": [
      "TRAINING BATCH:\t(   20 /   625)\tLOSS:\t0.106\r"
     ]
    },
    {
     "name": "stdout",
     "output_type": "stream",
     "text": [
      "TRAINING BATCH:\t(   30 /   625)\tLOSS:\t0.210\r"
     ]
    },
    {
     "name": "stdout",
     "output_type": "stream",
     "text": [
      "TRAINING BATCH:\t(   40 /   625)\tLOSS:\t0.111\r"
     ]
    },
    {
     "name": "stdout",
     "output_type": "stream",
     "text": [
      "TRAINING BATCH:\t(   50 /   625)\tLOSS:\t0.222\r"
     ]
    },
    {
     "name": "stdout",
     "output_type": "stream",
     "text": [
      "TRAINING BATCH:\t(   60 /   625)\tLOSS:\t0.163\r"
     ]
    },
    {
     "name": "stdout",
     "output_type": "stream",
     "text": [
      "TRAINING BATCH:\t(   70 /   625)\tLOSS:\t0.171\r"
     ]
    },
    {
     "name": "stdout",
     "output_type": "stream",
     "text": [
      "TRAINING BATCH:\t(   80 /   625)\tLOSS:\t0.194\r"
     ]
    },
    {
     "name": "stdout",
     "output_type": "stream",
     "text": [
      "TRAINING BATCH:\t(   90 /   625)\tLOSS:\t0.169\r"
     ]
    },
    {
     "name": "stdout",
     "output_type": "stream",
     "text": [
      "TRAINING BATCH:\t(  100 /   625)\tLOSS:\t0.115\r"
     ]
    },
    {
     "name": "stdout",
     "output_type": "stream",
     "text": [
      "TRAINING BATCH:\t(  110 /   625)\tLOSS:\t0.234\r"
     ]
    },
    {
     "name": "stdout",
     "output_type": "stream",
     "text": [
      "TRAINING BATCH:\t(  120 /   625)\tLOSS:\t0.153\r"
     ]
    },
    {
     "name": "stdout",
     "output_type": "stream",
     "text": [
      "TRAINING BATCH:\t(  130 /   625)\tLOSS:\t0.079\r"
     ]
    },
    {
     "name": "stdout",
     "output_type": "stream",
     "text": [
      "TRAINING BATCH:\t(  140 /   625)\tLOSS:\t0.100\r"
     ]
    },
    {
     "name": "stdout",
     "output_type": "stream",
     "text": [
      "TRAINING BATCH:\t(  150 /   625)\tLOSS:\t0.224\r"
     ]
    },
    {
     "name": "stdout",
     "output_type": "stream",
     "text": [
      "TRAINING BATCH:\t(  160 /   625)\tLOSS:\t0.260\r"
     ]
    },
    {
     "name": "stdout",
     "output_type": "stream",
     "text": [
      "TRAINING BATCH:\t(  170 /   625)\tLOSS:\t0.094\r"
     ]
    },
    {
     "name": "stdout",
     "output_type": "stream",
     "text": [
      "TRAINING BATCH:\t(  180 /   625)\tLOSS:\t0.103\r"
     ]
    },
    {
     "name": "stdout",
     "output_type": "stream",
     "text": [
      "TRAINING BATCH:\t(  190 /   625)\tLOSS:\t0.109\r"
     ]
    },
    {
     "name": "stdout",
     "output_type": "stream",
     "text": [
      "TRAINING BATCH:\t(  200 /   625)\tLOSS:\t0.103\r"
     ]
    },
    {
     "name": "stdout",
     "output_type": "stream",
     "text": [
      "TRAINING BATCH:\t(  210 /   625)\tLOSS:\t0.158\r"
     ]
    },
    {
     "name": "stdout",
     "output_type": "stream",
     "text": [
      "TRAINING BATCH:\t(  220 /   625)\tLOSS:\t0.100\r"
     ]
    },
    {
     "name": "stdout",
     "output_type": "stream",
     "text": [
      "TRAINING BATCH:\t(  230 /   625)\tLOSS:\t0.059\r"
     ]
    },
    {
     "name": "stdout",
     "output_type": "stream",
     "text": [
      "TRAINING BATCH:\t(  240 /   625)\tLOSS:\t0.267\r"
     ]
    },
    {
     "name": "stdout",
     "output_type": "stream",
     "text": [
      "TRAINING BATCH:\t(  250 /   625)\tLOSS:\t0.207\r"
     ]
    },
    {
     "name": "stdout",
     "output_type": "stream",
     "text": [
      "TRAINING BATCH:\t(  260 /   625)\tLOSS:\t0.242\r"
     ]
    },
    {
     "name": "stdout",
     "output_type": "stream",
     "text": [
      "TRAINING BATCH:\t(  270 /   625)\tLOSS:\t0.203\r"
     ]
    },
    {
     "name": "stdout",
     "output_type": "stream",
     "text": [
      "TRAINING BATCH:\t(  280 /   625)\tLOSS:\t0.127\r"
     ]
    },
    {
     "name": "stdout",
     "output_type": "stream",
     "text": [
      "TRAINING BATCH:\t(  290 /   625)\tLOSS:\t0.128\r"
     ]
    },
    {
     "name": "stdout",
     "output_type": "stream",
     "text": [
      "TRAINING BATCH:\t(  300 /   625)\tLOSS:\t0.131\r"
     ]
    },
    {
     "name": "stdout",
     "output_type": "stream",
     "text": [
      "TRAINING BATCH:\t(  310 /   625)\tLOSS:\t0.151\r"
     ]
    },
    {
     "name": "stdout",
     "output_type": "stream",
     "text": [
      "TRAINING BATCH:\t(  320 /   625)\tLOSS:\t0.081\r"
     ]
    },
    {
     "name": "stdout",
     "output_type": "stream",
     "text": [
      "TRAINING BATCH:\t(  330 /   625)\tLOSS:\t0.081\r"
     ]
    },
    {
     "name": "stdout",
     "output_type": "stream",
     "text": [
      "TRAINING BATCH:\t(  340 /   625)\tLOSS:\t0.206\r"
     ]
    },
    {
     "name": "stdout",
     "output_type": "stream",
     "text": [
      "TRAINING BATCH:\t(  350 /   625)\tLOSS:\t0.088\r"
     ]
    },
    {
     "name": "stdout",
     "output_type": "stream",
     "text": [
      "TRAINING BATCH:\t(  360 /   625)\tLOSS:\t0.126\r"
     ]
    },
    {
     "name": "stdout",
     "output_type": "stream",
     "text": [
      "TRAINING BATCH:\t(  370 /   625)\tLOSS:\t0.101\r"
     ]
    },
    {
     "name": "stdout",
     "output_type": "stream",
     "text": [
      "TRAINING BATCH:\t(  380 /   625)\tLOSS:\t0.183\r"
     ]
    },
    {
     "name": "stdout",
     "output_type": "stream",
     "text": [
      "TRAINING BATCH:\t(  390 /   625)\tLOSS:\t0.352\r"
     ]
    },
    {
     "name": "stdout",
     "output_type": "stream",
     "text": [
      "TRAINING BATCH:\t(  400 /   625)\tLOSS:\t0.064\r"
     ]
    },
    {
     "name": "stdout",
     "output_type": "stream",
     "text": [
      "TRAINING BATCH:\t(  410 /   625)\tLOSS:\t0.154\r"
     ]
    },
    {
     "name": "stdout",
     "output_type": "stream",
     "text": [
      "TRAINING BATCH:\t(  420 /   625)\tLOSS:\t0.148\r"
     ]
    },
    {
     "name": "stdout",
     "output_type": "stream",
     "text": [
      "TRAINING BATCH:\t(  430 /   625)\tLOSS:\t0.133\r"
     ]
    },
    {
     "name": "stdout",
     "output_type": "stream",
     "text": [
      "TRAINING BATCH:\t(  440 /   625)\tLOSS:\t0.153\r"
     ]
    },
    {
     "name": "stdout",
     "output_type": "stream",
     "text": [
      "TRAINING BATCH:\t(  450 /   625)\tLOSS:\t0.108\r"
     ]
    },
    {
     "name": "stdout",
     "output_type": "stream",
     "text": [
      "TRAINING BATCH:\t(  460 /   625)\tLOSS:\t0.282\r"
     ]
    },
    {
     "name": "stdout",
     "output_type": "stream",
     "text": [
      "TRAINING BATCH:\t(  470 /   625)\tLOSS:\t0.282\r"
     ]
    },
    {
     "name": "stdout",
     "output_type": "stream",
     "text": [
      "TRAINING BATCH:\t(  480 /   625)\tLOSS:\t0.195\r"
     ]
    },
    {
     "name": "stdout",
     "output_type": "stream",
     "text": [
      "TRAINING BATCH:\t(  490 /   625)\tLOSS:\t0.167\r"
     ]
    },
    {
     "name": "stdout",
     "output_type": "stream",
     "text": [
      "TRAINING BATCH:\t(  500 /   625)\tLOSS:\t0.139\r"
     ]
    },
    {
     "name": "stdout",
     "output_type": "stream",
     "text": [
      "TRAINING BATCH:\t(  510 /   625)\tLOSS:\t0.186\r"
     ]
    },
    {
     "name": "stdout",
     "output_type": "stream",
     "text": [
      "TRAINING BATCH:\t(  520 /   625)\tLOSS:\t0.071\r"
     ]
    },
    {
     "name": "stdout",
     "output_type": "stream",
     "text": [
      "TRAINING BATCH:\t(  530 /   625)\tLOSS:\t0.198\r"
     ]
    },
    {
     "name": "stdout",
     "output_type": "stream",
     "text": [
      "TRAINING BATCH:\t(  540 /   625)\tLOSS:\t0.066\r"
     ]
    },
    {
     "name": "stdout",
     "output_type": "stream",
     "text": [
      "TRAINING BATCH:\t(  550 /   625)\tLOSS:\t0.213\r"
     ]
    },
    {
     "name": "stdout",
     "output_type": "stream",
     "text": [
      "TRAINING BATCH:\t(  560 /   625)\tLOSS:\t0.264\r"
     ]
    },
    {
     "name": "stdout",
     "output_type": "stream",
     "text": [
      "TRAINING BATCH:\t(  570 /   625)\tLOSS:\t0.231\r"
     ]
    },
    {
     "name": "stdout",
     "output_type": "stream",
     "text": [
      "TRAINING BATCH:\t(  580 /   625)\tLOSS:\t0.116\r"
     ]
    },
    {
     "name": "stdout",
     "output_type": "stream",
     "text": [
      "TRAINING BATCH:\t(  590 /   625)\tLOSS:\t0.120\r"
     ]
    },
    {
     "name": "stdout",
     "output_type": "stream",
     "text": [
      "TRAINING BATCH:\t(  600 /   625)\tLOSS:\t0.093\r"
     ]
    },
    {
     "name": "stdout",
     "output_type": "stream",
     "text": [
      "TRAINING BATCH:\t(  610 /   625)\tLOSS:\t0.151\r"
     ]
    },
    {
     "name": "stdout",
     "output_type": "stream",
     "text": [
      "TRAINING BATCH:\t(  620 /   625)\tLOSS:\t0.168\r"
     ]
    },
    {
     "name": "stdout",
     "output_type": "stream",
     "text": [
      "TEST BATCH:\t(    0 /   157)\tLOSS:\t0.383\r"
     ]
    },
    {
     "name": "stdout",
     "output_type": "stream",
     "text": [
      "TEST BATCH:\t(   50 /   157)\tLOSS:\t0.265\r"
     ]
    },
    {
     "name": "stdout",
     "output_type": "stream",
     "text": [
      "TEST BATCH:\t(  100 /   157)\tLOSS:\t0.294\r"
     ]
    },
    {
     "name": "stdout",
     "output_type": "stream",
     "text": [
      "TEST BATCH:\t(  150 /   157)\tLOSS:\t0.239\r",
      "EPOCH:\t   13\tTRAIN LOSS:\t0.005\tTRAIN ACCURACY:\t0.887\tTEST LOSS:\t0.009\tTEST ACCURACY:\t0.823\n",
      "TRAINING BATCH:\t(    0 /   625)\tLOSS:\t0.051\r"
     ]
    },
    {
     "name": "stdout",
     "output_type": "stream",
     "text": [
      "TRAINING BATCH:\t(   10 /   625)\tLOSS:\t0.168\r"
     ]
    },
    {
     "name": "stdout",
     "output_type": "stream",
     "text": [
      "TRAINING BATCH:\t(   20 /   625)\tLOSS:\t0.083\r"
     ]
    },
    {
     "name": "stdout",
     "output_type": "stream",
     "text": [
      "TRAINING BATCH:\t(   30 /   625)\tLOSS:\t0.113\r"
     ]
    },
    {
     "name": "stdout",
     "output_type": "stream",
     "text": [
      "TRAINING BATCH:\t(   40 /   625)\tLOSS:\t0.081\r"
     ]
    },
    {
     "name": "stdout",
     "output_type": "stream",
     "text": [
      "TRAINING BATCH:\t(   50 /   625)\tLOSS:\t0.109\r"
     ]
    },
    {
     "name": "stdout",
     "output_type": "stream",
     "text": [
      "TRAINING BATCH:\t(   60 /   625)\tLOSS:\t0.075\r"
     ]
    },
    {
     "name": "stdout",
     "output_type": "stream",
     "text": [
      "TRAINING BATCH:\t(   70 /   625)\tLOSS:\t0.053\r"
     ]
    },
    {
     "name": "stdout",
     "output_type": "stream",
     "text": [
      "TRAINING BATCH:\t(   80 /   625)\tLOSS:\t0.133\r"
     ]
    },
    {
     "name": "stdout",
     "output_type": "stream",
     "text": [
      "TRAINING BATCH:\t(   90 /   625)\tLOSS:\t0.129\r"
     ]
    },
    {
     "name": "stdout",
     "output_type": "stream",
     "text": [
      "TRAINING BATCH:\t(  100 /   625)\tLOSS:\t0.122\r"
     ]
    },
    {
     "name": "stdout",
     "output_type": "stream",
     "text": [
      "TRAINING BATCH:\t(  110 /   625)\tLOSS:\t0.278\r"
     ]
    },
    {
     "name": "stdout",
     "output_type": "stream",
     "text": [
      "TRAINING BATCH:\t(  120 /   625)\tLOSS:\t0.105\r"
     ]
    },
    {
     "name": "stdout",
     "output_type": "stream",
     "text": [
      "TRAINING BATCH:\t(  130 /   625)\tLOSS:\t0.193\r"
     ]
    },
    {
     "name": "stdout",
     "output_type": "stream",
     "text": [
      "TRAINING BATCH:\t(  140 /   625)\tLOSS:\t0.189\r"
     ]
    },
    {
     "name": "stdout",
     "output_type": "stream",
     "text": [
      "TRAINING BATCH:\t(  150 /   625)\tLOSS:\t0.149\r"
     ]
    },
    {
     "name": "stdout",
     "output_type": "stream",
     "text": [
      "TRAINING BATCH:\t(  160 /   625)\tLOSS:\t0.179\r"
     ]
    },
    {
     "name": "stdout",
     "output_type": "stream",
     "text": [
      "TRAINING BATCH:\t(  170 /   625)\tLOSS:\t0.111\r"
     ]
    },
    {
     "name": "stdout",
     "output_type": "stream",
     "text": [
      "TRAINING BATCH:\t(  180 /   625)\tLOSS:\t0.085\r"
     ]
    },
    {
     "name": "stdout",
     "output_type": "stream",
     "text": [
      "TRAINING BATCH:\t(  190 /   625)\tLOSS:\t0.091\r"
     ]
    },
    {
     "name": "stdout",
     "output_type": "stream",
     "text": [
      "TRAINING BATCH:\t(  200 /   625)\tLOSS:\t0.181\r"
     ]
    },
    {
     "name": "stdout",
     "output_type": "stream",
     "text": [
      "TRAINING BATCH:\t(  210 /   625)\tLOSS:\t0.104\r"
     ]
    },
    {
     "name": "stdout",
     "output_type": "stream",
     "text": [
      "TRAINING BATCH:\t(  220 /   625)\tLOSS:\t0.205\r"
     ]
    },
    {
     "name": "stdout",
     "output_type": "stream",
     "text": [
      "TRAINING BATCH:\t(  230 /   625)\tLOSS:\t0.124\r"
     ]
    },
    {
     "name": "stdout",
     "output_type": "stream",
     "text": [
      "TRAINING BATCH:\t(  240 /   625)\tLOSS:\t0.094\r"
     ]
    },
    {
     "name": "stdout",
     "output_type": "stream",
     "text": [
      "TRAINING BATCH:\t(  250 /   625)\tLOSS:\t0.184\r"
     ]
    },
    {
     "name": "stdout",
     "output_type": "stream",
     "text": [
      "TRAINING BATCH:\t(  260 /   625)\tLOSS:\t0.096\r"
     ]
    },
    {
     "name": "stdout",
     "output_type": "stream",
     "text": [
      "TRAINING BATCH:\t(  270 /   625)\tLOSS:\t0.081\r"
     ]
    },
    {
     "name": "stdout",
     "output_type": "stream",
     "text": [
      "TRAINING BATCH:\t(  280 /   625)\tLOSS:\t0.151\r"
     ]
    },
    {
     "name": "stdout",
     "output_type": "stream",
     "text": [
      "TRAINING BATCH:\t(  290 /   625)\tLOSS:\t0.165\r"
     ]
    },
    {
     "name": "stdout",
     "output_type": "stream",
     "text": [
      "TRAINING BATCH:\t(  300 /   625)\tLOSS:\t0.054\r"
     ]
    },
    {
     "name": "stdout",
     "output_type": "stream",
     "text": [
      "TRAINING BATCH:\t(  310 /   625)\tLOSS:\t0.237\r"
     ]
    },
    {
     "name": "stdout",
     "output_type": "stream",
     "text": [
      "TRAINING BATCH:\t(  320 /   625)\tLOSS:\t0.168\r"
     ]
    },
    {
     "name": "stdout",
     "output_type": "stream",
     "text": [
      "TRAINING BATCH:\t(  330 /   625)\tLOSS:\t0.171\r"
     ]
    },
    {
     "name": "stdout",
     "output_type": "stream",
     "text": [
      "TRAINING BATCH:\t(  340 /   625)\tLOSS:\t0.067\r"
     ]
    },
    {
     "name": "stdout",
     "output_type": "stream",
     "text": [
      "TRAINING BATCH:\t(  350 /   625)\tLOSS:\t0.135\r"
     ]
    },
    {
     "name": "stdout",
     "output_type": "stream",
     "text": [
      "TRAINING BATCH:\t(  360 /   625)\tLOSS:\t0.216\r"
     ]
    },
    {
     "name": "stdout",
     "output_type": "stream",
     "text": [
      "TRAINING BATCH:\t(  370 /   625)\tLOSS:\t0.141\r"
     ]
    },
    {
     "name": "stdout",
     "output_type": "stream",
     "text": [
      "TRAINING BATCH:\t(  380 /   625)\tLOSS:\t0.100\r"
     ]
    },
    {
     "name": "stdout",
     "output_type": "stream",
     "text": [
      "TRAINING BATCH:\t(  390 /   625)\tLOSS:\t0.082\r"
     ]
    },
    {
     "name": "stdout",
     "output_type": "stream",
     "text": [
      "TRAINING BATCH:\t(  400 /   625)\tLOSS:\t0.074\r"
     ]
    },
    {
     "name": "stdout",
     "output_type": "stream",
     "text": [
      "TRAINING BATCH:\t(  410 /   625)\tLOSS:\t0.176\r"
     ]
    },
    {
     "name": "stdout",
     "output_type": "stream",
     "text": [
      "TRAINING BATCH:\t(  420 /   625)\tLOSS:\t0.097\r"
     ]
    },
    {
     "name": "stdout",
     "output_type": "stream",
     "text": [
      "TRAINING BATCH:\t(  430 /   625)\tLOSS:\t0.104\r"
     ]
    },
    {
     "name": "stdout",
     "output_type": "stream",
     "text": [
      "TRAINING BATCH:\t(  440 /   625)\tLOSS:\t0.082\r"
     ]
    },
    {
     "name": "stdout",
     "output_type": "stream",
     "text": [
      "TRAINING BATCH:\t(  450 /   625)\tLOSS:\t0.270\r"
     ]
    },
    {
     "name": "stdout",
     "output_type": "stream",
     "text": [
      "TRAINING BATCH:\t(  460 /   625)\tLOSS:\t0.146\r"
     ]
    },
    {
     "name": "stdout",
     "output_type": "stream",
     "text": [
      "TRAINING BATCH:\t(  470 /   625)\tLOSS:\t0.126\r"
     ]
    },
    {
     "name": "stdout",
     "output_type": "stream",
     "text": [
      "TRAINING BATCH:\t(  480 /   625)\tLOSS:\t0.078\r"
     ]
    },
    {
     "name": "stdout",
     "output_type": "stream",
     "text": [
      "TRAINING BATCH:\t(  490 /   625)\tLOSS:\t0.201\r"
     ]
    },
    {
     "name": "stdout",
     "output_type": "stream",
     "text": [
      "TRAINING BATCH:\t(  500 /   625)\tLOSS:\t0.116\r"
     ]
    },
    {
     "name": "stdout",
     "output_type": "stream",
     "text": [
      "TRAINING BATCH:\t(  510 /   625)\tLOSS:\t0.091\r"
     ]
    },
    {
     "name": "stdout",
     "output_type": "stream",
     "text": [
      "TRAINING BATCH:\t(  520 /   625)\tLOSS:\t0.147\r"
     ]
    },
    {
     "name": "stdout",
     "output_type": "stream",
     "text": [
      "TRAINING BATCH:\t(  530 /   625)\tLOSS:\t0.243\r"
     ]
    },
    {
     "name": "stdout",
     "output_type": "stream",
     "text": [
      "TRAINING BATCH:\t(  540 /   625)\tLOSS:\t0.115\r"
     ]
    },
    {
     "name": "stdout",
     "output_type": "stream",
     "text": [
      "TRAINING BATCH:\t(  550 /   625)\tLOSS:\t0.225\r"
     ]
    },
    {
     "name": "stdout",
     "output_type": "stream",
     "text": [
      "TRAINING BATCH:\t(  560 /   625)\tLOSS:\t0.112\r"
     ]
    },
    {
     "name": "stdout",
     "output_type": "stream",
     "text": [
      "TRAINING BATCH:\t(  570 /   625)\tLOSS:\t0.123\r"
     ]
    },
    {
     "name": "stdout",
     "output_type": "stream",
     "text": [
      "TRAINING BATCH:\t(  580 /   625)\tLOSS:\t0.064\r"
     ]
    },
    {
     "name": "stdout",
     "output_type": "stream",
     "text": [
      "TRAINING BATCH:\t(  590 /   625)\tLOSS:\t0.073\r"
     ]
    },
    {
     "name": "stdout",
     "output_type": "stream",
     "text": [
      "TRAINING BATCH:\t(  600 /   625)\tLOSS:\t0.077\r"
     ]
    },
    {
     "name": "stdout",
     "output_type": "stream",
     "text": [
      "TRAINING BATCH:\t(  610 /   625)\tLOSS:\t0.120\r"
     ]
    },
    {
     "name": "stdout",
     "output_type": "stream",
     "text": [
      "TRAINING BATCH:\t(  620 /   625)\tLOSS:\t0.139\r"
     ]
    },
    {
     "name": "stdout",
     "output_type": "stream",
     "text": [
      "TEST BATCH:\t(    0 /   157)\tLOSS:\t0.376\r"
     ]
    },
    {
     "name": "stdout",
     "output_type": "stream",
     "text": [
      "TEST BATCH:\t(   50 /   157)\tLOSS:\t0.300\r"
     ]
    },
    {
     "name": "stdout",
     "output_type": "stream",
     "text": [
      "TEST BATCH:\t(  100 /   157)\tLOSS:\t0.266\r"
     ]
    },
    {
     "name": "stdout",
     "output_type": "stream",
     "text": [
      "TEST BATCH:\t(  150 /   157)\tLOSS:\t0.170\r",
      "EPOCH:\t   14\tTRAIN LOSS:\t0.005\tTRAIN ACCURACY:\t0.892\tTEST LOSS:\t0.008\tTEST ACCURACY:\t0.837\n",
      "TRAINING BATCH:\t(    0 /   625)\tLOSS:\t0.114\r"
     ]
    },
    {
     "name": "stdout",
     "output_type": "stream",
     "text": [
      "TRAINING BATCH:\t(   10 /   625)\tLOSS:\t0.228\r"
     ]
    },
    {
     "name": "stdout",
     "output_type": "stream",
     "text": [
      "TRAINING BATCH:\t(   20 /   625)\tLOSS:\t0.144\r"
     ]
    },
    {
     "name": "stdout",
     "output_type": "stream",
     "text": [
      "TRAINING BATCH:\t(   30 /   625)\tLOSS:\t0.061\r"
     ]
    },
    {
     "name": "stdout",
     "output_type": "stream",
     "text": [
      "TRAINING BATCH:\t(   40 /   625)\tLOSS:\t0.077\r"
     ]
    },
    {
     "name": "stdout",
     "output_type": "stream",
     "text": [
      "TRAINING BATCH:\t(   50 /   625)\tLOSS:\t0.040\r"
     ]
    },
    {
     "name": "stdout",
     "output_type": "stream",
     "text": [
      "TRAINING BATCH:\t(   60 /   625)\tLOSS:\t0.067\r"
     ]
    },
    {
     "name": "stdout",
     "output_type": "stream",
     "text": [
      "TRAINING BATCH:\t(   70 /   625)\tLOSS:\t0.074\r"
     ]
    },
    {
     "name": "stdout",
     "output_type": "stream",
     "text": [
      "TRAINING BATCH:\t(   80 /   625)\tLOSS:\t0.092\r"
     ]
    },
    {
     "name": "stdout",
     "output_type": "stream",
     "text": [
      "TRAINING BATCH:\t(   90 /   625)\tLOSS:\t0.064\r"
     ]
    },
    {
     "name": "stdout",
     "output_type": "stream",
     "text": [
      "TRAINING BATCH:\t(  100 /   625)\tLOSS:\t0.141\r"
     ]
    },
    {
     "name": "stdout",
     "output_type": "stream",
     "text": [
      "TRAINING BATCH:\t(  110 /   625)\tLOSS:\t0.125\r"
     ]
    },
    {
     "name": "stdout",
     "output_type": "stream",
     "text": [
      "TRAINING BATCH:\t(  120 /   625)\tLOSS:\t0.175\r"
     ]
    },
    {
     "name": "stdout",
     "output_type": "stream",
     "text": [
      "TRAINING BATCH:\t(  130 /   625)\tLOSS:\t0.190\r"
     ]
    },
    {
     "name": "stdout",
     "output_type": "stream",
     "text": [
      "TRAINING BATCH:\t(  140 /   625)\tLOSS:\t0.315\r"
     ]
    },
    {
     "name": "stdout",
     "output_type": "stream",
     "text": [
      "TRAINING BATCH:\t(  150 /   625)\tLOSS:\t0.061\r"
     ]
    },
    {
     "name": "stdout",
     "output_type": "stream",
     "text": [
      "TRAINING BATCH:\t(  160 /   625)\tLOSS:\t0.090\r"
     ]
    },
    {
     "name": "stdout",
     "output_type": "stream",
     "text": [
      "TRAINING BATCH:\t(  170 /   625)\tLOSS:\t0.228\r"
     ]
    },
    {
     "name": "stdout",
     "output_type": "stream",
     "text": [
      "TRAINING BATCH:\t(  180 /   625)\tLOSS:\t0.156\r"
     ]
    },
    {
     "name": "stdout",
     "output_type": "stream",
     "text": [
      "TRAINING BATCH:\t(  190 /   625)\tLOSS:\t0.153\r"
     ]
    },
    {
     "name": "stdout",
     "output_type": "stream",
     "text": [
      "TRAINING BATCH:\t(  200 /   625)\tLOSS:\t0.153\r"
     ]
    },
    {
     "name": "stdout",
     "output_type": "stream",
     "text": [
      "TRAINING BATCH:\t(  210 /   625)\tLOSS:\t0.173\r"
     ]
    },
    {
     "name": "stdout",
     "output_type": "stream",
     "text": [
      "TRAINING BATCH:\t(  220 /   625)\tLOSS:\t0.153\r"
     ]
    },
    {
     "name": "stdout",
     "output_type": "stream",
     "text": [
      "TRAINING BATCH:\t(  230 /   625)\tLOSS:\t0.043\r"
     ]
    },
    {
     "name": "stdout",
     "output_type": "stream",
     "text": [
      "TRAINING BATCH:\t(  240 /   625)\tLOSS:\t0.122\r"
     ]
    },
    {
     "name": "stdout",
     "output_type": "stream",
     "text": [
      "TRAINING BATCH:\t(  250 /   625)\tLOSS:\t0.103\r"
     ]
    },
    {
     "name": "stdout",
     "output_type": "stream",
     "text": [
      "TRAINING BATCH:\t(  260 /   625)\tLOSS:\t0.041\r"
     ]
    },
    {
     "name": "stdout",
     "output_type": "stream",
     "text": [
      "TRAINING BATCH:\t(  270 /   625)\tLOSS:\t0.124\r"
     ]
    },
    {
     "name": "stdout",
     "output_type": "stream",
     "text": [
      "TRAINING BATCH:\t(  280 /   625)\tLOSS:\t0.109\r"
     ]
    },
    {
     "name": "stdout",
     "output_type": "stream",
     "text": [
      "TRAINING BATCH:\t(  290 /   625)\tLOSS:\t0.141\r"
     ]
    },
    {
     "name": "stdout",
     "output_type": "stream",
     "text": [
      "TRAINING BATCH:\t(  300 /   625)\tLOSS:\t0.101\r"
     ]
    },
    {
     "name": "stdout",
     "output_type": "stream",
     "text": [
      "TRAINING BATCH:\t(  310 /   625)\tLOSS:\t0.142\r"
     ]
    },
    {
     "name": "stdout",
     "output_type": "stream",
     "text": [
      "TRAINING BATCH:\t(  320 /   625)\tLOSS:\t0.157\r"
     ]
    },
    {
     "name": "stdout",
     "output_type": "stream",
     "text": [
      "TRAINING BATCH:\t(  330 /   625)\tLOSS:\t0.085\r"
     ]
    },
    {
     "name": "stdout",
     "output_type": "stream",
     "text": [
      "TRAINING BATCH:\t(  340 /   625)\tLOSS:\t0.104\r"
     ]
    },
    {
     "name": "stdout",
     "output_type": "stream",
     "text": [
      "TRAINING BATCH:\t(  350 /   625)\tLOSS:\t0.272\r"
     ]
    },
    {
     "name": "stdout",
     "output_type": "stream",
     "text": [
      "TRAINING BATCH:\t(  360 /   625)\tLOSS:\t0.128\r"
     ]
    },
    {
     "name": "stdout",
     "output_type": "stream",
     "text": [
      "TRAINING BATCH:\t(  370 /   625)\tLOSS:\t0.120\r"
     ]
    },
    {
     "name": "stdout",
     "output_type": "stream",
     "text": [
      "TRAINING BATCH:\t(  380 /   625)\tLOSS:\t0.185\r"
     ]
    },
    {
     "name": "stdout",
     "output_type": "stream",
     "text": [
      "TRAINING BATCH:\t(  390 /   625)\tLOSS:\t0.062\r"
     ]
    },
    {
     "name": "stdout",
     "output_type": "stream",
     "text": [
      "TRAINING BATCH:\t(  400 /   625)\tLOSS:\t0.202\r"
     ]
    },
    {
     "name": "stdout",
     "output_type": "stream",
     "text": [
      "TRAINING BATCH:\t(  410 /   625)\tLOSS:\t0.163\r"
     ]
    },
    {
     "name": "stdout",
     "output_type": "stream",
     "text": [
      "TRAINING BATCH:\t(  420 /   625)\tLOSS:\t0.096\r"
     ]
    },
    {
     "name": "stdout",
     "output_type": "stream",
     "text": [
      "TRAINING BATCH:\t(  430 /   625)\tLOSS:\t0.134\r"
     ]
    },
    {
     "name": "stdout",
     "output_type": "stream",
     "text": [
      "TRAINING BATCH:\t(  440 /   625)\tLOSS:\t0.094\r"
     ]
    },
    {
     "name": "stdout",
     "output_type": "stream",
     "text": [
      "TRAINING BATCH:\t(  450 /   625)\tLOSS:\t0.214\r"
     ]
    },
    {
     "name": "stdout",
     "output_type": "stream",
     "text": [
      "TRAINING BATCH:\t(  460 /   625)\tLOSS:\t0.121\r"
     ]
    },
    {
     "name": "stdout",
     "output_type": "stream",
     "text": [
      "TRAINING BATCH:\t(  470 /   625)\tLOSS:\t0.146\r"
     ]
    },
    {
     "name": "stdout",
     "output_type": "stream",
     "text": [
      "TRAINING BATCH:\t(  480 /   625)\tLOSS:\t0.143\r"
     ]
    },
    {
     "name": "stdout",
     "output_type": "stream",
     "text": [
      "TRAINING BATCH:\t(  490 /   625)\tLOSS:\t0.222\r"
     ]
    },
    {
     "name": "stdout",
     "output_type": "stream",
     "text": [
      "TRAINING BATCH:\t(  500 /   625)\tLOSS:\t0.149\r"
     ]
    },
    {
     "name": "stdout",
     "output_type": "stream",
     "text": [
      "TRAINING BATCH:\t(  510 /   625)\tLOSS:\t0.250\r"
     ]
    },
    {
     "name": "stdout",
     "output_type": "stream",
     "text": [
      "TRAINING BATCH:\t(  520 /   625)\tLOSS:\t0.089\r"
     ]
    },
    {
     "name": "stdout",
     "output_type": "stream",
     "text": [
      "TRAINING BATCH:\t(  530 /   625)\tLOSS:\t0.236\r"
     ]
    },
    {
     "name": "stdout",
     "output_type": "stream",
     "text": [
      "TRAINING BATCH:\t(  540 /   625)\tLOSS:\t0.102\r"
     ]
    },
    {
     "name": "stdout",
     "output_type": "stream",
     "text": [
      "TRAINING BATCH:\t(  550 /   625)\tLOSS:\t0.241\r"
     ]
    },
    {
     "name": "stdout",
     "output_type": "stream",
     "text": [
      "TRAINING BATCH:\t(  560 /   625)\tLOSS:\t0.219\r"
     ]
    },
    {
     "name": "stdout",
     "output_type": "stream",
     "text": [
      "TRAINING BATCH:\t(  570 /   625)\tLOSS:\t0.073\r"
     ]
    },
    {
     "name": "stdout",
     "output_type": "stream",
     "text": [
      "TRAINING BATCH:\t(  580 /   625)\tLOSS:\t0.140\r"
     ]
    },
    {
     "name": "stdout",
     "output_type": "stream",
     "text": [
      "TRAINING BATCH:\t(  590 /   625)\tLOSS:\t0.174\r"
     ]
    },
    {
     "name": "stdout",
     "output_type": "stream",
     "text": [
      "TRAINING BATCH:\t(  600 /   625)\tLOSS:\t0.062\r"
     ]
    },
    {
     "name": "stdout",
     "output_type": "stream",
     "text": [
      "TRAINING BATCH:\t(  610 /   625)\tLOSS:\t0.028\r"
     ]
    },
    {
     "name": "stdout",
     "output_type": "stream",
     "text": [
      "TRAINING BATCH:\t(  620 /   625)\tLOSS:\t0.253\r"
     ]
    },
    {
     "name": "stdout",
     "output_type": "stream",
     "text": [
      "TEST BATCH:\t(    0 /   157)\tLOSS:\t0.466\r"
     ]
    },
    {
     "name": "stdout",
     "output_type": "stream",
     "text": [
      "TEST BATCH:\t(   50 /   157)\tLOSS:\t0.214\r"
     ]
    },
    {
     "name": "stdout",
     "output_type": "stream",
     "text": [
      "TEST BATCH:\t(  100 /   157)\tLOSS:\t0.216\r"
     ]
    },
    {
     "name": "stdout",
     "output_type": "stream",
     "text": [
      "TEST BATCH:\t(  150 /   157)\tLOSS:\t0.112\r",
      "EPOCH:\t   15\tTRAIN LOSS:\t0.004\tTRAIN ACCURACY:\t0.897\tTEST LOSS:\t0.008\tTEST ACCURACY:\t0.838\n",
      "TRAINING BATCH:\t(    0 /   625)\tLOSS:\t0.136\r"
     ]
    },
    {
     "name": "stdout",
     "output_type": "stream",
     "text": [
      "TRAINING BATCH:\t(   10 /   625)\tLOSS:\t0.142\r"
     ]
    },
    {
     "name": "stdout",
     "output_type": "stream",
     "text": [
      "TRAINING BATCH:\t(   20 /   625)\tLOSS:\t0.102\r"
     ]
    },
    {
     "name": "stdout",
     "output_type": "stream",
     "text": [
      "TRAINING BATCH:\t(   30 /   625)\tLOSS:\t0.090\r"
     ]
    },
    {
     "name": "stdout",
     "output_type": "stream",
     "text": [
      "TRAINING BATCH:\t(   40 /   625)\tLOSS:\t0.072\r"
     ]
    },
    {
     "name": "stdout",
     "output_type": "stream",
     "text": [
      "TRAINING BATCH:\t(   50 /   625)\tLOSS:\t0.103\r"
     ]
    },
    {
     "name": "stdout",
     "output_type": "stream",
     "text": [
      "TRAINING BATCH:\t(   60 /   625)\tLOSS:\t0.146\r"
     ]
    },
    {
     "name": "stdout",
     "output_type": "stream",
     "text": [
      "TRAINING BATCH:\t(   70 /   625)\tLOSS:\t0.164\r"
     ]
    },
    {
     "name": "stdout",
     "output_type": "stream",
     "text": [
      "TRAINING BATCH:\t(   80 /   625)\tLOSS:\t0.159\r"
     ]
    },
    {
     "name": "stdout",
     "output_type": "stream",
     "text": [
      "TRAINING BATCH:\t(   90 /   625)\tLOSS:\t0.157\r"
     ]
    },
    {
     "name": "stdout",
     "output_type": "stream",
     "text": [
      "TRAINING BATCH:\t(  100 /   625)\tLOSS:\t0.221\r"
     ]
    },
    {
     "name": "stdout",
     "output_type": "stream",
     "text": [
      "TRAINING BATCH:\t(  110 /   625)\tLOSS:\t0.108\r"
     ]
    },
    {
     "name": "stdout",
     "output_type": "stream",
     "text": [
      "TRAINING BATCH:\t(  120 /   625)\tLOSS:\t0.258\r"
     ]
    },
    {
     "name": "stdout",
     "output_type": "stream",
     "text": [
      "TRAINING BATCH:\t(  130 /   625)\tLOSS:\t0.119\r"
     ]
    },
    {
     "name": "stdout",
     "output_type": "stream",
     "text": [
      "TRAINING BATCH:\t(  140 /   625)\tLOSS:\t0.206\r"
     ]
    },
    {
     "name": "stdout",
     "output_type": "stream",
     "text": [
      "TRAINING BATCH:\t(  150 /   625)\tLOSS:\t0.252\r"
     ]
    },
    {
     "name": "stdout",
     "output_type": "stream",
     "text": [
      "TRAINING BATCH:\t(  160 /   625)\tLOSS:\t0.168\r"
     ]
    },
    {
     "name": "stdout",
     "output_type": "stream",
     "text": [
      "TRAINING BATCH:\t(  170 /   625)\tLOSS:\t0.158\r"
     ]
    },
    {
     "name": "stdout",
     "output_type": "stream",
     "text": [
      "TRAINING BATCH:\t(  180 /   625)\tLOSS:\t0.104\r"
     ]
    },
    {
     "name": "stdout",
     "output_type": "stream",
     "text": [
      "TRAINING BATCH:\t(  190 /   625)\tLOSS:\t0.139\r"
     ]
    },
    {
     "name": "stdout",
     "output_type": "stream",
     "text": [
      "TRAINING BATCH:\t(  200 /   625)\tLOSS:\t0.165\r"
     ]
    },
    {
     "name": "stdout",
     "output_type": "stream",
     "text": [
      "TRAINING BATCH:\t(  210 /   625)\tLOSS:\t0.062\r"
     ]
    },
    {
     "name": "stdout",
     "output_type": "stream",
     "text": [
      "TRAINING BATCH:\t(  220 /   625)\tLOSS:\t0.097\r"
     ]
    },
    {
     "name": "stdout",
     "output_type": "stream",
     "text": [
      "TRAINING BATCH:\t(  230 /   625)\tLOSS:\t0.101\r"
     ]
    },
    {
     "name": "stdout",
     "output_type": "stream",
     "text": [
      "TRAINING BATCH:\t(  240 /   625)\tLOSS:\t0.172\r"
     ]
    },
    {
     "name": "stdout",
     "output_type": "stream",
     "text": [
      "TRAINING BATCH:\t(  250 /   625)\tLOSS:\t0.136\r"
     ]
    },
    {
     "name": "stdout",
     "output_type": "stream",
     "text": [
      "TRAINING BATCH:\t(  260 /   625)\tLOSS:\t0.086\r"
     ]
    },
    {
     "name": "stdout",
     "output_type": "stream",
     "text": [
      "TRAINING BATCH:\t(  270 /   625)\tLOSS:\t0.152\r"
     ]
    },
    {
     "name": "stdout",
     "output_type": "stream",
     "text": [
      "TRAINING BATCH:\t(  280 /   625)\tLOSS:\t0.104\r"
     ]
    },
    {
     "name": "stdout",
     "output_type": "stream",
     "text": [
      "TRAINING BATCH:\t(  290 /   625)\tLOSS:\t0.138\r"
     ]
    },
    {
     "name": "stdout",
     "output_type": "stream",
     "text": [
      "TRAINING BATCH:\t(  300 /   625)\tLOSS:\t0.264\r"
     ]
    },
    {
     "name": "stdout",
     "output_type": "stream",
     "text": [
      "TRAINING BATCH:\t(  310 /   625)\tLOSS:\t0.056\r"
     ]
    },
    {
     "name": "stdout",
     "output_type": "stream",
     "text": [
      "TRAINING BATCH:\t(  320 /   625)\tLOSS:\t0.151\r"
     ]
    },
    {
     "name": "stdout",
     "output_type": "stream",
     "text": [
      "TRAINING BATCH:\t(  330 /   625)\tLOSS:\t0.057\r"
     ]
    },
    {
     "name": "stdout",
     "output_type": "stream",
     "text": [
      "TRAINING BATCH:\t(  340 /   625)\tLOSS:\t0.105\r"
     ]
    },
    {
     "name": "stdout",
     "output_type": "stream",
     "text": [
      "TRAINING BATCH:\t(  350 /   625)\tLOSS:\t0.077\r"
     ]
    },
    {
     "name": "stdout",
     "output_type": "stream",
     "text": [
      "TRAINING BATCH:\t(  360 /   625)\tLOSS:\t0.087\r"
     ]
    },
    {
     "name": "stdout",
     "output_type": "stream",
     "text": [
      "TRAINING BATCH:\t(  370 /   625)\tLOSS:\t0.194\r"
     ]
    },
    {
     "name": "stdout",
     "output_type": "stream",
     "text": [
      "TRAINING BATCH:\t(  380 /   625)\tLOSS:\t0.099\r"
     ]
    },
    {
     "name": "stdout",
     "output_type": "stream",
     "text": [
      "TRAINING BATCH:\t(  390 /   625)\tLOSS:\t0.096\r"
     ]
    },
    {
     "name": "stdout",
     "output_type": "stream",
     "text": [
      "TRAINING BATCH:\t(  400 /   625)\tLOSS:\t0.059\r"
     ]
    },
    {
     "name": "stdout",
     "output_type": "stream",
     "text": [
      "TRAINING BATCH:\t(  410 /   625)\tLOSS:\t0.145\r"
     ]
    },
    {
     "name": "stdout",
     "output_type": "stream",
     "text": [
      "TRAINING BATCH:\t(  420 /   625)\tLOSS:\t0.066\r"
     ]
    },
    {
     "name": "stdout",
     "output_type": "stream",
     "text": [
      "TRAINING BATCH:\t(  430 /   625)\tLOSS:\t0.084\r"
     ]
    },
    {
     "name": "stdout",
     "output_type": "stream",
     "text": [
      "TRAINING BATCH:\t(  440 /   625)\tLOSS:\t0.168\r"
     ]
    },
    {
     "name": "stdout",
     "output_type": "stream",
     "text": [
      "TRAINING BATCH:\t(  450 /   625)\tLOSS:\t0.150\r"
     ]
    },
    {
     "name": "stdout",
     "output_type": "stream",
     "text": [
      "TRAINING BATCH:\t(  460 /   625)\tLOSS:\t0.108\r"
     ]
    },
    {
     "name": "stdout",
     "output_type": "stream",
     "text": [
      "TRAINING BATCH:\t(  470 /   625)\tLOSS:\t0.065\r"
     ]
    },
    {
     "name": "stdout",
     "output_type": "stream",
     "text": [
      "TRAINING BATCH:\t(  480 /   625)\tLOSS:\t0.091\r"
     ]
    },
    {
     "name": "stdout",
     "output_type": "stream",
     "text": [
      "TRAINING BATCH:\t(  490 /   625)\tLOSS:\t0.064\r"
     ]
    },
    {
     "name": "stdout",
     "output_type": "stream",
     "text": [
      "TRAINING BATCH:\t(  500 /   625)\tLOSS:\t0.137\r"
     ]
    },
    {
     "name": "stdout",
     "output_type": "stream",
     "text": [
      "TRAINING BATCH:\t(  510 /   625)\tLOSS:\t0.080\r"
     ]
    },
    {
     "name": "stdout",
     "output_type": "stream",
     "text": [
      "TRAINING BATCH:\t(  520 /   625)\tLOSS:\t0.086\r"
     ]
    },
    {
     "name": "stdout",
     "output_type": "stream",
     "text": [
      "TRAINING BATCH:\t(  530 /   625)\tLOSS:\t0.084\r"
     ]
    },
    {
     "name": "stdout",
     "output_type": "stream",
     "text": [
      "TRAINING BATCH:\t(  540 /   625)\tLOSS:\t0.160\r"
     ]
    },
    {
     "name": "stdout",
     "output_type": "stream",
     "text": [
      "TRAINING BATCH:\t(  550 /   625)\tLOSS:\t0.152\r"
     ]
    },
    {
     "name": "stdout",
     "output_type": "stream",
     "text": [
      "TRAINING BATCH:\t(  560 /   625)\tLOSS:\t0.076\r"
     ]
    },
    {
     "name": "stdout",
     "output_type": "stream",
     "text": [
      "TRAINING BATCH:\t(  570 /   625)\tLOSS:\t0.201\r"
     ]
    },
    {
     "name": "stdout",
     "output_type": "stream",
     "text": [
      "TRAINING BATCH:\t(  580 /   625)\tLOSS:\t0.093\r"
     ]
    },
    {
     "name": "stdout",
     "output_type": "stream",
     "text": [
      "TRAINING BATCH:\t(  590 /   625)\tLOSS:\t0.134\r"
     ]
    },
    {
     "name": "stdout",
     "output_type": "stream",
     "text": [
      "TRAINING BATCH:\t(  600 /   625)\tLOSS:\t0.147\r"
     ]
    },
    {
     "name": "stdout",
     "output_type": "stream",
     "text": [
      "TRAINING BATCH:\t(  610 /   625)\tLOSS:\t0.123\r"
     ]
    },
    {
     "name": "stdout",
     "output_type": "stream",
     "text": [
      "TRAINING BATCH:\t(  620 /   625)\tLOSS:\t0.102\r"
     ]
    },
    {
     "name": "stdout",
     "output_type": "stream",
     "text": [
      "TEST BATCH:\t(    0 /   157)\tLOSS:\t0.332\r"
     ]
    },
    {
     "name": "stdout",
     "output_type": "stream",
     "text": [
      "TEST BATCH:\t(   50 /   157)\tLOSS:\t0.090\r"
     ]
    },
    {
     "name": "stdout",
     "output_type": "stream",
     "text": [
      "TEST BATCH:\t(  100 /   157)\tLOSS:\t0.233\r"
     ]
    },
    {
     "name": "stdout",
     "output_type": "stream",
     "text": [
      "TEST BATCH:\t(  150 /   157)\tLOSS:\t0.058\r",
      "EPOCH:\t   16\tTRAIN LOSS:\t0.004\tTRAIN ACCURACY:\t0.903\tTEST LOSS:\t0.008\tTEST ACCURACY:\t0.842\n",
      "TRAINING BATCH:\t(    0 /   625)\tLOSS:\t0.063\r"
     ]
    },
    {
     "name": "stdout",
     "output_type": "stream",
     "text": [
      "TRAINING BATCH:\t(   10 /   625)\tLOSS:\t0.066\r"
     ]
    },
    {
     "name": "stdout",
     "output_type": "stream",
     "text": [
      "TRAINING BATCH:\t(   20 /   625)\tLOSS:\t0.084\r"
     ]
    },
    {
     "name": "stdout",
     "output_type": "stream",
     "text": [
      "TRAINING BATCH:\t(   30 /   625)\tLOSS:\t0.074\r"
     ]
    },
    {
     "name": "stdout",
     "output_type": "stream",
     "text": [
      "TRAINING BATCH:\t(   40 /   625)\tLOSS:\t0.168\r"
     ]
    },
    {
     "name": "stdout",
     "output_type": "stream",
     "text": [
      "TRAINING BATCH:\t(   50 /   625)\tLOSS:\t0.161\r"
     ]
    },
    {
     "name": "stdout",
     "output_type": "stream",
     "text": [
      "TRAINING BATCH:\t(   60 /   625)\tLOSS:\t0.115\r"
     ]
    },
    {
     "name": "stdout",
     "output_type": "stream",
     "text": [
      "TRAINING BATCH:\t(   70 /   625)\tLOSS:\t0.149\r"
     ]
    },
    {
     "name": "stdout",
     "output_type": "stream",
     "text": [
      "TRAINING BATCH:\t(   80 /   625)\tLOSS:\t0.063\r"
     ]
    },
    {
     "name": "stdout",
     "output_type": "stream",
     "text": [
      "TRAINING BATCH:\t(   90 /   625)\tLOSS:\t0.066\r"
     ]
    },
    {
     "name": "stdout",
     "output_type": "stream",
     "text": [
      "TRAINING BATCH:\t(  100 /   625)\tLOSS:\t0.069\r"
     ]
    },
    {
     "name": "stdout",
     "output_type": "stream",
     "text": [
      "TRAINING BATCH:\t(  110 /   625)\tLOSS:\t0.233\r"
     ]
    },
    {
     "name": "stdout",
     "output_type": "stream",
     "text": [
      "TRAINING BATCH:\t(  120 /   625)\tLOSS:\t0.162\r"
     ]
    },
    {
     "name": "stdout",
     "output_type": "stream",
     "text": [
      "TRAINING BATCH:\t(  130 /   625)\tLOSS:\t0.028\r"
     ]
    },
    {
     "name": "stdout",
     "output_type": "stream",
     "text": [
      "TRAINING BATCH:\t(  140 /   625)\tLOSS:\t0.131\r"
     ]
    },
    {
     "name": "stdout",
     "output_type": "stream",
     "text": [
      "TRAINING BATCH:\t(  150 /   625)\tLOSS:\t0.174\r"
     ]
    },
    {
     "name": "stdout",
     "output_type": "stream",
     "text": [
      "TRAINING BATCH:\t(  160 /   625)\tLOSS:\t0.156\r"
     ]
    },
    {
     "name": "stdout",
     "output_type": "stream",
     "text": [
      "TRAINING BATCH:\t(  170 /   625)\tLOSS:\t0.160\r"
     ]
    },
    {
     "name": "stdout",
     "output_type": "stream",
     "text": [
      "TRAINING BATCH:\t(  180 /   625)\tLOSS:\t0.159\r"
     ]
    },
    {
     "name": "stdout",
     "output_type": "stream",
     "text": [
      "TRAINING BATCH:\t(  190 /   625)\tLOSS:\t0.118\r"
     ]
    },
    {
     "name": "stdout",
     "output_type": "stream",
     "text": [
      "TRAINING BATCH:\t(  200 /   625)\tLOSS:\t0.165\r"
     ]
    },
    {
     "name": "stdout",
     "output_type": "stream",
     "text": [
      "TRAINING BATCH:\t(  210 /   625)\tLOSS:\t0.141\r"
     ]
    },
    {
     "name": "stdout",
     "output_type": "stream",
     "text": [
      "TRAINING BATCH:\t(  220 /   625)\tLOSS:\t0.170\r"
     ]
    },
    {
     "name": "stdout",
     "output_type": "stream",
     "text": [
      "TRAINING BATCH:\t(  230 /   625)\tLOSS:\t0.143\r"
     ]
    },
    {
     "name": "stdout",
     "output_type": "stream",
     "text": [
      "TRAINING BATCH:\t(  240 /   625)\tLOSS:\t0.111\r"
     ]
    },
    {
     "name": "stdout",
     "output_type": "stream",
     "text": [
      "TRAINING BATCH:\t(  250 /   625)\tLOSS:\t0.142\r"
     ]
    },
    {
     "name": "stdout",
     "output_type": "stream",
     "text": [
      "TRAINING BATCH:\t(  260 /   625)\tLOSS:\t0.054\r"
     ]
    },
    {
     "name": "stdout",
     "output_type": "stream",
     "text": [
      "TRAINING BATCH:\t(  270 /   625)\tLOSS:\t0.153\r"
     ]
    },
    {
     "name": "stdout",
     "output_type": "stream",
     "text": [
      "TRAINING BATCH:\t(  280 /   625)\tLOSS:\t0.108\r"
     ]
    },
    {
     "name": "stdout",
     "output_type": "stream",
     "text": [
      "TRAINING BATCH:\t(  290 /   625)\tLOSS:\t0.202\r"
     ]
    },
    {
     "name": "stdout",
     "output_type": "stream",
     "text": [
      "TRAINING BATCH:\t(  300 /   625)\tLOSS:\t0.210\r"
     ]
    },
    {
     "name": "stdout",
     "output_type": "stream",
     "text": [
      "TRAINING BATCH:\t(  310 /   625)\tLOSS:\t0.102\r"
     ]
    },
    {
     "name": "stdout",
     "output_type": "stream",
     "text": [
      "TRAINING BATCH:\t(  320 /   625)\tLOSS:\t0.106\r"
     ]
    },
    {
     "name": "stdout",
     "output_type": "stream",
     "text": [
      "TRAINING BATCH:\t(  330 /   625)\tLOSS:\t0.185\r"
     ]
    },
    {
     "name": "stdout",
     "output_type": "stream",
     "text": [
      "TRAINING BATCH:\t(  340 /   625)\tLOSS:\t0.157\r"
     ]
    },
    {
     "name": "stdout",
     "output_type": "stream",
     "text": [
      "TRAINING BATCH:\t(  350 /   625)\tLOSS:\t0.075\r"
     ]
    },
    {
     "name": "stdout",
     "output_type": "stream",
     "text": [
      "TRAINING BATCH:\t(  360 /   625)\tLOSS:\t0.093\r"
     ]
    },
    {
     "name": "stdout",
     "output_type": "stream",
     "text": [
      "TRAINING BATCH:\t(  370 /   625)\tLOSS:\t0.193\r"
     ]
    },
    {
     "name": "stdout",
     "output_type": "stream",
     "text": [
      "TRAINING BATCH:\t(  380 /   625)\tLOSS:\t0.130\r"
     ]
    },
    {
     "name": "stdout",
     "output_type": "stream",
     "text": [
      "TRAINING BATCH:\t(  390 /   625)\tLOSS:\t0.054\r"
     ]
    },
    {
     "name": "stdout",
     "output_type": "stream",
     "text": [
      "TRAINING BATCH:\t(  400 /   625)\tLOSS:\t0.187\r"
     ]
    },
    {
     "name": "stdout",
     "output_type": "stream",
     "text": [
      "TRAINING BATCH:\t(  410 /   625)\tLOSS:\t0.051\r"
     ]
    },
    {
     "name": "stdout",
     "output_type": "stream",
     "text": [
      "TRAINING BATCH:\t(  420 /   625)\tLOSS:\t0.166\r"
     ]
    },
    {
     "name": "stdout",
     "output_type": "stream",
     "text": [
      "TRAINING BATCH:\t(  430 /   625)\tLOSS:\t0.117\r"
     ]
    },
    {
     "name": "stdout",
     "output_type": "stream",
     "text": [
      "TRAINING BATCH:\t(  440 /   625)\tLOSS:\t0.097\r"
     ]
    },
    {
     "name": "stdout",
     "output_type": "stream",
     "text": [
      "TRAINING BATCH:\t(  450 /   625)\tLOSS:\t0.078\r"
     ]
    },
    {
     "name": "stdout",
     "output_type": "stream",
     "text": [
      "TRAINING BATCH:\t(  460 /   625)\tLOSS:\t0.094\r"
     ]
    },
    {
     "name": "stdout",
     "output_type": "stream",
     "text": [
      "TRAINING BATCH:\t(  470 /   625)\tLOSS:\t0.174\r"
     ]
    },
    {
     "name": "stdout",
     "output_type": "stream",
     "text": [
      "TRAINING BATCH:\t(  480 /   625)\tLOSS:\t0.436\r"
     ]
    },
    {
     "name": "stdout",
     "output_type": "stream",
     "text": [
      "TRAINING BATCH:\t(  490 /   625)\tLOSS:\t0.175\r"
     ]
    },
    {
     "name": "stdout",
     "output_type": "stream",
     "text": [
      "TRAINING BATCH:\t(  500 /   625)\tLOSS:\t0.127\r"
     ]
    },
    {
     "name": "stdout",
     "output_type": "stream",
     "text": [
      "TRAINING BATCH:\t(  510 /   625)\tLOSS:\t0.053\r"
     ]
    },
    {
     "name": "stdout",
     "output_type": "stream",
     "text": [
      "TRAINING BATCH:\t(  520 /   625)\tLOSS:\t0.164\r"
     ]
    },
    {
     "name": "stdout",
     "output_type": "stream",
     "text": [
      "TRAINING BATCH:\t(  530 /   625)\tLOSS:\t0.145\r"
     ]
    },
    {
     "name": "stdout",
     "output_type": "stream",
     "text": [
      "TRAINING BATCH:\t(  540 /   625)\tLOSS:\t0.126\r"
     ]
    },
    {
     "name": "stdout",
     "output_type": "stream",
     "text": [
      "TRAINING BATCH:\t(  550 /   625)\tLOSS:\t0.107\r"
     ]
    },
    {
     "name": "stdout",
     "output_type": "stream",
     "text": [
      "TRAINING BATCH:\t(  560 /   625)\tLOSS:\t0.130\r"
     ]
    },
    {
     "name": "stdout",
     "output_type": "stream",
     "text": [
      "TRAINING BATCH:\t(  570 /   625)\tLOSS:\t0.085\r"
     ]
    },
    {
     "name": "stdout",
     "output_type": "stream",
     "text": [
      "TRAINING BATCH:\t(  580 /   625)\tLOSS:\t0.112\r"
     ]
    },
    {
     "name": "stdout",
     "output_type": "stream",
     "text": [
      "TRAINING BATCH:\t(  590 /   625)\tLOSS:\t0.153\r"
     ]
    },
    {
     "name": "stdout",
     "output_type": "stream",
     "text": [
      "TRAINING BATCH:\t(  600 /   625)\tLOSS:\t0.181\r"
     ]
    },
    {
     "name": "stdout",
     "output_type": "stream",
     "text": [
      "TRAINING BATCH:\t(  610 /   625)\tLOSS:\t0.184\r"
     ]
    },
    {
     "name": "stdout",
     "output_type": "stream",
     "text": [
      "TRAINING BATCH:\t(  620 /   625)\tLOSS:\t0.094\r"
     ]
    },
    {
     "name": "stdout",
     "output_type": "stream",
     "text": [
      "TEST BATCH:\t(    0 /   157)\tLOSS:\t0.495\r"
     ]
    },
    {
     "name": "stdout",
     "output_type": "stream",
     "text": [
      "TEST BATCH:\t(   50 /   157)\tLOSS:\t0.106\r"
     ]
    },
    {
     "name": "stdout",
     "output_type": "stream",
     "text": [
      "TEST BATCH:\t(  100 /   157)\tLOSS:\t0.171\r"
     ]
    },
    {
     "name": "stdout",
     "output_type": "stream",
     "text": [
      "TEST BATCH:\t(  150 /   157)\tLOSS:\t0.087\r",
      "EPOCH:\t   17\tTRAIN LOSS:\t0.004\tTRAIN ACCURACY:\t0.909\tTEST LOSS:\t0.008\tTEST ACCURACY:\t0.842\n",
      "TRAINING BATCH:\t(    0 /   625)\tLOSS:\t0.078\r"
     ]
    },
    {
     "name": "stdout",
     "output_type": "stream",
     "text": [
      "TRAINING BATCH:\t(   10 /   625)\tLOSS:\t0.094\r"
     ]
    },
    {
     "name": "stdout",
     "output_type": "stream",
     "text": [
      "TRAINING BATCH:\t(   20 /   625)\tLOSS:\t0.107\r"
     ]
    },
    {
     "name": "stdout",
     "output_type": "stream",
     "text": [
      "TRAINING BATCH:\t(   30 /   625)\tLOSS:\t0.099\r"
     ]
    },
    {
     "name": "stdout",
     "output_type": "stream",
     "text": [
      "TRAINING BATCH:\t(   40 /   625)\tLOSS:\t0.139\r"
     ]
    },
    {
     "name": "stdout",
     "output_type": "stream",
     "text": [
      "TRAINING BATCH:\t(   50 /   625)\tLOSS:\t0.078\r"
     ]
    },
    {
     "name": "stdout",
     "output_type": "stream",
     "text": [
      "TRAINING BATCH:\t(   60 /   625)\tLOSS:\t0.135\r"
     ]
    },
    {
     "name": "stdout",
     "output_type": "stream",
     "text": [
      "TRAINING BATCH:\t(   70 /   625)\tLOSS:\t0.261\r"
     ]
    },
    {
     "name": "stdout",
     "output_type": "stream",
     "text": [
      "TRAINING BATCH:\t(   80 /   625)\tLOSS:\t0.044\r"
     ]
    },
    {
     "name": "stdout",
     "output_type": "stream",
     "text": [
      "TRAINING BATCH:\t(   90 /   625)\tLOSS:\t0.089\r"
     ]
    },
    {
     "name": "stdout",
     "output_type": "stream",
     "text": [
      "TRAINING BATCH:\t(  100 /   625)\tLOSS:\t0.116\r"
     ]
    },
    {
     "name": "stdout",
     "output_type": "stream",
     "text": [
      "TRAINING BATCH:\t(  110 /   625)\tLOSS:\t0.162\r"
     ]
    },
    {
     "name": "stdout",
     "output_type": "stream",
     "text": [
      "TRAINING BATCH:\t(  120 /   625)\tLOSS:\t0.255\r"
     ]
    },
    {
     "name": "stdout",
     "output_type": "stream",
     "text": [
      "TRAINING BATCH:\t(  130 /   625)\tLOSS:\t0.260\r"
     ]
    },
    {
     "name": "stdout",
     "output_type": "stream",
     "text": [
      "TRAINING BATCH:\t(  140 /   625)\tLOSS:\t0.076\r"
     ]
    },
    {
     "name": "stdout",
     "output_type": "stream",
     "text": [
      "TRAINING BATCH:\t(  150 /   625)\tLOSS:\t0.243\r"
     ]
    },
    {
     "name": "stdout",
     "output_type": "stream",
     "text": [
      "TRAINING BATCH:\t(  160 /   625)\tLOSS:\t0.099\r"
     ]
    },
    {
     "name": "stdout",
     "output_type": "stream",
     "text": [
      "TRAINING BATCH:\t(  170 /   625)\tLOSS:\t0.180\r"
     ]
    },
    {
     "name": "stdout",
     "output_type": "stream",
     "text": [
      "TRAINING BATCH:\t(  180 /   625)\tLOSS:\t0.161\r"
     ]
    },
    {
     "name": "stdout",
     "output_type": "stream",
     "text": [
      "TRAINING BATCH:\t(  190 /   625)\tLOSS:\t0.126\r"
     ]
    },
    {
     "name": "stdout",
     "output_type": "stream",
     "text": [
      "TRAINING BATCH:\t(  200 /   625)\tLOSS:\t0.164\r"
     ]
    },
    {
     "name": "stdout",
     "output_type": "stream",
     "text": [
      "TRAINING BATCH:\t(  210 /   625)\tLOSS:\t0.111\r"
     ]
    },
    {
     "name": "stdout",
     "output_type": "stream",
     "text": [
      "TRAINING BATCH:\t(  220 /   625)\tLOSS:\t0.086\r"
     ]
    },
    {
     "name": "stdout",
     "output_type": "stream",
     "text": [
      "TRAINING BATCH:\t(  230 /   625)\tLOSS:\t0.129\r"
     ]
    },
    {
     "name": "stdout",
     "output_type": "stream",
     "text": [
      "TRAINING BATCH:\t(  240 /   625)\tLOSS:\t0.166\r"
     ]
    },
    {
     "name": "stdout",
     "output_type": "stream",
     "text": [
      "TRAINING BATCH:\t(  250 /   625)\tLOSS:\t0.092\r"
     ]
    },
    {
     "name": "stdout",
     "output_type": "stream",
     "text": [
      "TRAINING BATCH:\t(  260 /   625)\tLOSS:\t0.119\r"
     ]
    },
    {
     "name": "stdout",
     "output_type": "stream",
     "text": [
      "TRAINING BATCH:\t(  270 /   625)\tLOSS:\t0.120\r"
     ]
    },
    {
     "name": "stdout",
     "output_type": "stream",
     "text": [
      "TRAINING BATCH:\t(  280 /   625)\tLOSS:\t0.077\r"
     ]
    },
    {
     "name": "stdout",
     "output_type": "stream",
     "text": [
      "TRAINING BATCH:\t(  290 /   625)\tLOSS:\t0.177\r"
     ]
    },
    {
     "name": "stdout",
     "output_type": "stream",
     "text": [
      "TRAINING BATCH:\t(  300 /   625)\tLOSS:\t0.093\r"
     ]
    },
    {
     "name": "stdout",
     "output_type": "stream",
     "text": [
      "TRAINING BATCH:\t(  310 /   625)\tLOSS:\t0.096\r"
     ]
    },
    {
     "name": "stdout",
     "output_type": "stream",
     "text": [
      "TRAINING BATCH:\t(  320 /   625)\tLOSS:\t0.209\r"
     ]
    },
    {
     "name": "stdout",
     "output_type": "stream",
     "text": [
      "TRAINING BATCH:\t(  330 /   625)\tLOSS:\t0.141\r"
     ]
    },
    {
     "name": "stdout",
     "output_type": "stream",
     "text": [
      "TRAINING BATCH:\t(  340 /   625)\tLOSS:\t0.059\r"
     ]
    },
    {
     "name": "stdout",
     "output_type": "stream",
     "text": [
      "TRAINING BATCH:\t(  350 /   625)\tLOSS:\t0.080\r"
     ]
    },
    {
     "name": "stdout",
     "output_type": "stream",
     "text": [
      "TRAINING BATCH:\t(  360 /   625)\tLOSS:\t0.091\r"
     ]
    },
    {
     "name": "stdout",
     "output_type": "stream",
     "text": [
      "TRAINING BATCH:\t(  370 /   625)\tLOSS:\t0.048\r"
     ]
    },
    {
     "name": "stdout",
     "output_type": "stream",
     "text": [
      "TRAINING BATCH:\t(  380 /   625)\tLOSS:\t0.258\r"
     ]
    },
    {
     "name": "stdout",
     "output_type": "stream",
     "text": [
      "TRAINING BATCH:\t(  390 /   625)\tLOSS:\t0.117\r"
     ]
    },
    {
     "name": "stdout",
     "output_type": "stream",
     "text": [
      "TRAINING BATCH:\t(  400 /   625)\tLOSS:\t0.090\r"
     ]
    },
    {
     "name": "stdout",
     "output_type": "stream",
     "text": [
      "TRAINING BATCH:\t(  410 /   625)\tLOSS:\t0.071\r"
     ]
    },
    {
     "name": "stdout",
     "output_type": "stream",
     "text": [
      "TRAINING BATCH:\t(  420 /   625)\tLOSS:\t0.077\r"
     ]
    },
    {
     "name": "stdout",
     "output_type": "stream",
     "text": [
      "TRAINING BATCH:\t(  430 /   625)\tLOSS:\t0.079\r"
     ]
    },
    {
     "name": "stdout",
     "output_type": "stream",
     "text": [
      "TRAINING BATCH:\t(  440 /   625)\tLOSS:\t0.126\r"
     ]
    },
    {
     "name": "stdout",
     "output_type": "stream",
     "text": [
      "TRAINING BATCH:\t(  450 /   625)\tLOSS:\t0.128\r"
     ]
    },
    {
     "name": "stdout",
     "output_type": "stream",
     "text": [
      "TRAINING BATCH:\t(  460 /   625)\tLOSS:\t0.236\r"
     ]
    },
    {
     "name": "stdout",
     "output_type": "stream",
     "text": [
      "TRAINING BATCH:\t(  470 /   625)\tLOSS:\t0.153\r"
     ]
    },
    {
     "name": "stdout",
     "output_type": "stream",
     "text": [
      "TRAINING BATCH:\t(  480 /   625)\tLOSS:\t0.158\r"
     ]
    },
    {
     "name": "stdout",
     "output_type": "stream",
     "text": [
      "TRAINING BATCH:\t(  490 /   625)\tLOSS:\t0.045\r"
     ]
    },
    {
     "name": "stdout",
     "output_type": "stream",
     "text": [
      "TRAINING BATCH:\t(  500 /   625)\tLOSS:\t0.071\r"
     ]
    },
    {
     "name": "stdout",
     "output_type": "stream",
     "text": [
      "TRAINING BATCH:\t(  510 /   625)\tLOSS:\t0.103\r"
     ]
    },
    {
     "name": "stdout",
     "output_type": "stream",
     "text": [
      "TRAINING BATCH:\t(  520 /   625)\tLOSS:\t0.112\r"
     ]
    },
    {
     "name": "stdout",
     "output_type": "stream",
     "text": [
      "TRAINING BATCH:\t(  530 /   625)\tLOSS:\t0.095\r"
     ]
    },
    {
     "name": "stdout",
     "output_type": "stream",
     "text": [
      "TRAINING BATCH:\t(  540 /   625)\tLOSS:\t0.091\r"
     ]
    },
    {
     "name": "stdout",
     "output_type": "stream",
     "text": [
      "TRAINING BATCH:\t(  550 /   625)\tLOSS:\t0.096\r"
     ]
    },
    {
     "name": "stdout",
     "output_type": "stream",
     "text": [
      "TRAINING BATCH:\t(  560 /   625)\tLOSS:\t0.102\r"
     ]
    },
    {
     "name": "stdout",
     "output_type": "stream",
     "text": [
      "TRAINING BATCH:\t(  570 /   625)\tLOSS:\t0.240\r"
     ]
    },
    {
     "name": "stdout",
     "output_type": "stream",
     "text": [
      "TRAINING BATCH:\t(  580 /   625)\tLOSS:\t0.154\r"
     ]
    },
    {
     "name": "stdout",
     "output_type": "stream",
     "text": [
      "TRAINING BATCH:\t(  590 /   625)\tLOSS:\t0.056\r"
     ]
    },
    {
     "name": "stdout",
     "output_type": "stream",
     "text": [
      "TRAINING BATCH:\t(  600 /   625)\tLOSS:\t0.056\r"
     ]
    },
    {
     "name": "stdout",
     "output_type": "stream",
     "text": [
      "TRAINING BATCH:\t(  610 /   625)\tLOSS:\t0.154\r"
     ]
    },
    {
     "name": "stdout",
     "output_type": "stream",
     "text": [
      "TRAINING BATCH:\t(  620 /   625)\tLOSS:\t0.205\r"
     ]
    },
    {
     "name": "stdout",
     "output_type": "stream",
     "text": [
      "TEST BATCH:\t(    0 /   157)\tLOSS:\t0.629\r"
     ]
    },
    {
     "name": "stdout",
     "output_type": "stream",
     "text": [
      "TEST BATCH:\t(   50 /   157)\tLOSS:\t0.208\r"
     ]
    },
    {
     "name": "stdout",
     "output_type": "stream",
     "text": [
      "TEST BATCH:\t(  100 /   157)\tLOSS:\t0.321\r"
     ]
    },
    {
     "name": "stdout",
     "output_type": "stream",
     "text": [
      "TEST BATCH:\t(  150 /   157)\tLOSS:\t0.121\r",
      "EPOCH:\t   18\tTRAIN LOSS:\t0.004\tTRAIN ACCURACY:\t0.906\tTEST LOSS:\t0.009\tTEST ACCURACY:\t0.837\n",
      "TRAINING BATCH:\t(    0 /   625)\tLOSS:\t0.075\r"
     ]
    },
    {
     "name": "stdout",
     "output_type": "stream",
     "text": [
      "TRAINING BATCH:\t(   10 /   625)\tLOSS:\t0.103\r"
     ]
    },
    {
     "name": "stdout",
     "output_type": "stream",
     "text": [
      "TRAINING BATCH:\t(   20 /   625)\tLOSS:\t0.145\r"
     ]
    },
    {
     "name": "stdout",
     "output_type": "stream",
     "text": [
      "TRAINING BATCH:\t(   30 /   625)\tLOSS:\t0.104\r"
     ]
    },
    {
     "name": "stdout",
     "output_type": "stream",
     "text": [
      "TRAINING BATCH:\t(   40 /   625)\tLOSS:\t0.125\r"
     ]
    },
    {
     "name": "stdout",
     "output_type": "stream",
     "text": [
      "TRAINING BATCH:\t(   50 /   625)\tLOSS:\t0.138\r"
     ]
    },
    {
     "name": "stdout",
     "output_type": "stream",
     "text": [
      "TRAINING BATCH:\t(   60 /   625)\tLOSS:\t0.102\r"
     ]
    },
    {
     "name": "stdout",
     "output_type": "stream",
     "text": [
      "TRAINING BATCH:\t(   70 /   625)\tLOSS:\t0.137\r"
     ]
    },
    {
     "name": "stdout",
     "output_type": "stream",
     "text": [
      "TRAINING BATCH:\t(   80 /   625)\tLOSS:\t0.114\r"
     ]
    },
    {
     "name": "stdout",
     "output_type": "stream",
     "text": [
      "TRAINING BATCH:\t(   90 /   625)\tLOSS:\t0.043\r"
     ]
    },
    {
     "name": "stdout",
     "output_type": "stream",
     "text": [
      "TRAINING BATCH:\t(  100 /   625)\tLOSS:\t0.135\r"
     ]
    },
    {
     "name": "stdout",
     "output_type": "stream",
     "text": [
      "TRAINING BATCH:\t(  110 /   625)\tLOSS:\t0.094\r"
     ]
    },
    {
     "name": "stdout",
     "output_type": "stream",
     "text": [
      "TRAINING BATCH:\t(  120 /   625)\tLOSS:\t0.093\r"
     ]
    },
    {
     "name": "stdout",
     "output_type": "stream",
     "text": [
      "TRAINING BATCH:\t(  130 /   625)\tLOSS:\t0.136\r"
     ]
    },
    {
     "name": "stdout",
     "output_type": "stream",
     "text": [
      "TRAINING BATCH:\t(  140 /   625)\tLOSS:\t0.068\r"
     ]
    },
    {
     "name": "stdout",
     "output_type": "stream",
     "text": [
      "TRAINING BATCH:\t(  150 /   625)\tLOSS:\t0.075\r"
     ]
    },
    {
     "name": "stdout",
     "output_type": "stream",
     "text": [
      "TRAINING BATCH:\t(  160 /   625)\tLOSS:\t0.083\r"
     ]
    },
    {
     "name": "stdout",
     "output_type": "stream",
     "text": [
      "TRAINING BATCH:\t(  170 /   625)\tLOSS:\t0.111\r"
     ]
    },
    {
     "name": "stdout",
     "output_type": "stream",
     "text": [
      "TRAINING BATCH:\t(  180 /   625)\tLOSS:\t0.215\r"
     ]
    },
    {
     "name": "stdout",
     "output_type": "stream",
     "text": [
      "TRAINING BATCH:\t(  190 /   625)\tLOSS:\t0.108\r"
     ]
    },
    {
     "name": "stdout",
     "output_type": "stream",
     "text": [
      "TRAINING BATCH:\t(  200 /   625)\tLOSS:\t0.069\r"
     ]
    },
    {
     "name": "stdout",
     "output_type": "stream",
     "text": [
      "TRAINING BATCH:\t(  210 /   625)\tLOSS:\t0.147\r"
     ]
    },
    {
     "name": "stdout",
     "output_type": "stream",
     "text": [
      "TRAINING BATCH:\t(  220 /   625)\tLOSS:\t0.140\r"
     ]
    },
    {
     "name": "stdout",
     "output_type": "stream",
     "text": [
      "TRAINING BATCH:\t(  230 /   625)\tLOSS:\t0.071\r"
     ]
    },
    {
     "name": "stdout",
     "output_type": "stream",
     "text": [
      "TRAINING BATCH:\t(  240 /   625)\tLOSS:\t0.157\r"
     ]
    },
    {
     "name": "stdout",
     "output_type": "stream",
     "text": [
      "TRAINING BATCH:\t(  250 /   625)\tLOSS:\t0.090\r"
     ]
    },
    {
     "name": "stdout",
     "output_type": "stream",
     "text": [
      "TRAINING BATCH:\t(  260 /   625)\tLOSS:\t0.160\r"
     ]
    },
    {
     "name": "stdout",
     "output_type": "stream",
     "text": [
      "TRAINING BATCH:\t(  270 /   625)\tLOSS:\t0.069\r"
     ]
    },
    {
     "name": "stdout",
     "output_type": "stream",
     "text": [
      "TRAINING BATCH:\t(  280 /   625)\tLOSS:\t0.172\r"
     ]
    },
    {
     "name": "stdout",
     "output_type": "stream",
     "text": [
      "TRAINING BATCH:\t(  290 /   625)\tLOSS:\t0.201\r"
     ]
    },
    {
     "name": "stdout",
     "output_type": "stream",
     "text": [
      "TRAINING BATCH:\t(  300 /   625)\tLOSS:\t0.085\r"
     ]
    },
    {
     "name": "stdout",
     "output_type": "stream",
     "text": [
      "TRAINING BATCH:\t(  310 /   625)\tLOSS:\t0.060\r"
     ]
    },
    {
     "name": "stdout",
     "output_type": "stream",
     "text": [
      "TRAINING BATCH:\t(  320 /   625)\tLOSS:\t0.123\r"
     ]
    },
    {
     "name": "stdout",
     "output_type": "stream",
     "text": [
      "TRAINING BATCH:\t(  330 /   625)\tLOSS:\t0.081\r"
     ]
    },
    {
     "name": "stdout",
     "output_type": "stream",
     "text": [
      "TRAINING BATCH:\t(  340 /   625)\tLOSS:\t0.178\r"
     ]
    },
    {
     "name": "stdout",
     "output_type": "stream",
     "text": [
      "TRAINING BATCH:\t(  350 /   625)\tLOSS:\t0.077\r"
     ]
    },
    {
     "name": "stdout",
     "output_type": "stream",
     "text": [
      "TRAINING BATCH:\t(  360 /   625)\tLOSS:\t0.099\r"
     ]
    },
    {
     "name": "stdout",
     "output_type": "stream",
     "text": [
      "TRAINING BATCH:\t(  370 /   625)\tLOSS:\t0.039\r"
     ]
    },
    {
     "name": "stdout",
     "output_type": "stream",
     "text": [
      "TRAINING BATCH:\t(  380 /   625)\tLOSS:\t0.137\r"
     ]
    },
    {
     "name": "stdout",
     "output_type": "stream",
     "text": [
      "TRAINING BATCH:\t(  390 /   625)\tLOSS:\t0.030\r"
     ]
    },
    {
     "name": "stdout",
     "output_type": "stream",
     "text": [
      "TRAINING BATCH:\t(  400 /   625)\tLOSS:\t0.134\r"
     ]
    },
    {
     "name": "stdout",
     "output_type": "stream",
     "text": [
      "TRAINING BATCH:\t(  410 /   625)\tLOSS:\t0.061\r"
     ]
    },
    {
     "name": "stdout",
     "output_type": "stream",
     "text": [
      "TRAINING BATCH:\t(  420 /   625)\tLOSS:\t0.060\r"
     ]
    },
    {
     "name": "stdout",
     "output_type": "stream",
     "text": [
      "TRAINING BATCH:\t(  430 /   625)\tLOSS:\t0.100\r"
     ]
    },
    {
     "name": "stdout",
     "output_type": "stream",
     "text": [
      "TRAINING BATCH:\t(  440 /   625)\tLOSS:\t0.125\r"
     ]
    },
    {
     "name": "stdout",
     "output_type": "stream",
     "text": [
      "TRAINING BATCH:\t(  450 /   625)\tLOSS:\t0.172\r"
     ]
    },
    {
     "name": "stdout",
     "output_type": "stream",
     "text": [
      "TRAINING BATCH:\t(  460 /   625)\tLOSS:\t0.069\r"
     ]
    },
    {
     "name": "stdout",
     "output_type": "stream",
     "text": [
      "TRAINING BATCH:\t(  470 /   625)\tLOSS:\t0.110\r"
     ]
    },
    {
     "name": "stdout",
     "output_type": "stream",
     "text": [
      "TRAINING BATCH:\t(  480 /   625)\tLOSS:\t0.096\r"
     ]
    },
    {
     "name": "stdout",
     "output_type": "stream",
     "text": [
      "TRAINING BATCH:\t(  490 /   625)\tLOSS:\t0.064\r"
     ]
    },
    {
     "name": "stdout",
     "output_type": "stream",
     "text": [
      "TRAINING BATCH:\t(  500 /   625)\tLOSS:\t0.088\r"
     ]
    },
    {
     "name": "stdout",
     "output_type": "stream",
     "text": [
      "TRAINING BATCH:\t(  510 /   625)\tLOSS:\t0.130\r"
     ]
    },
    {
     "name": "stdout",
     "output_type": "stream",
     "text": [
      "TRAINING BATCH:\t(  520 /   625)\tLOSS:\t0.109\r"
     ]
    },
    {
     "name": "stdout",
     "output_type": "stream",
     "text": [
      "TRAINING BATCH:\t(  530 /   625)\tLOSS:\t0.049\r"
     ]
    },
    {
     "name": "stdout",
     "output_type": "stream",
     "text": [
      "TRAINING BATCH:\t(  540 /   625)\tLOSS:\t0.081\r"
     ]
    },
    {
     "name": "stdout",
     "output_type": "stream",
     "text": [
      "TRAINING BATCH:\t(  550 /   625)\tLOSS:\t0.053\r"
     ]
    },
    {
     "name": "stdout",
     "output_type": "stream",
     "text": [
      "TRAINING BATCH:\t(  560 /   625)\tLOSS:\t0.053\r"
     ]
    },
    {
     "name": "stdout",
     "output_type": "stream",
     "text": [
      "TRAINING BATCH:\t(  570 /   625)\tLOSS:\t0.119\r"
     ]
    },
    {
     "name": "stdout",
     "output_type": "stream",
     "text": [
      "TRAINING BATCH:\t(  580 /   625)\tLOSS:\t0.085\r"
     ]
    },
    {
     "name": "stdout",
     "output_type": "stream",
     "text": [
      "TRAINING BATCH:\t(  590 /   625)\tLOSS:\t0.061\r"
     ]
    },
    {
     "name": "stdout",
     "output_type": "stream",
     "text": [
      "TRAINING BATCH:\t(  600 /   625)\tLOSS:\t0.223\r"
     ]
    },
    {
     "name": "stdout",
     "output_type": "stream",
     "text": [
      "TRAINING BATCH:\t(  610 /   625)\tLOSS:\t0.192\r"
     ]
    },
    {
     "name": "stdout",
     "output_type": "stream",
     "text": [
      "TRAINING BATCH:\t(  620 /   625)\tLOSS:\t0.064\r"
     ]
    },
    {
     "name": "stdout",
     "output_type": "stream",
     "text": [
      "TEST BATCH:\t(    0 /   157)\tLOSS:\t0.530\r"
     ]
    },
    {
     "name": "stdout",
     "output_type": "stream",
     "text": [
      "TEST BATCH:\t(   50 /   157)\tLOSS:\t0.225\r"
     ]
    },
    {
     "name": "stdout",
     "output_type": "stream",
     "text": [
      "TEST BATCH:\t(  100 /   157)\tLOSS:\t0.193\r"
     ]
    },
    {
     "name": "stdout",
     "output_type": "stream",
     "text": [
      "TEST BATCH:\t(  150 /   157)\tLOSS:\t0.082\r",
      "EPOCH:\t   19\tTRAIN LOSS:\t0.003\tTRAIN ACCURACY:\t0.914\tTEST LOSS:\t0.008\tTEST ACCURACY:\t0.847\n",
      "TRAINING BATCH:\t(    0 /   625)\tLOSS:\t0.168\r"
     ]
    },
    {
     "name": "stdout",
     "output_type": "stream",
     "text": [
      "TRAINING BATCH:\t(   10 /   625)\tLOSS:\t0.031\r"
     ]
    },
    {
     "name": "stdout",
     "output_type": "stream",
     "text": [
      "TRAINING BATCH:\t(   20 /   625)\tLOSS:\t0.052\r"
     ]
    },
    {
     "name": "stdout",
     "output_type": "stream",
     "text": [
      "TRAINING BATCH:\t(   30 /   625)\tLOSS:\t0.128\r"
     ]
    },
    {
     "name": "stdout",
     "output_type": "stream",
     "text": [
      "TRAINING BATCH:\t(   40 /   625)\tLOSS:\t0.168\r"
     ]
    },
    {
     "name": "stdout",
     "output_type": "stream",
     "text": [
      "TRAINING BATCH:\t(   50 /   625)\tLOSS:\t0.061\r"
     ]
    },
    {
     "name": "stdout",
     "output_type": "stream",
     "text": [
      "TRAINING BATCH:\t(   60 /   625)\tLOSS:\t0.190\r"
     ]
    },
    {
     "name": "stdout",
     "output_type": "stream",
     "text": [
      "TRAINING BATCH:\t(   70 /   625)\tLOSS:\t0.272\r"
     ]
    },
    {
     "name": "stdout",
     "output_type": "stream",
     "text": [
      "TRAINING BATCH:\t(   80 /   625)\tLOSS:\t0.131\r"
     ]
    },
    {
     "name": "stdout",
     "output_type": "stream",
     "text": [
      "TRAINING BATCH:\t(   90 /   625)\tLOSS:\t0.096\r"
     ]
    },
    {
     "name": "stdout",
     "output_type": "stream",
     "text": [
      "TRAINING BATCH:\t(  100 /   625)\tLOSS:\t0.122\r"
     ]
    },
    {
     "name": "stdout",
     "output_type": "stream",
     "text": [
      "TRAINING BATCH:\t(  110 /   625)\tLOSS:\t0.150\r"
     ]
    },
    {
     "name": "stdout",
     "output_type": "stream",
     "text": [
      "TRAINING BATCH:\t(  120 /   625)\tLOSS:\t0.077\r"
     ]
    },
    {
     "name": "stdout",
     "output_type": "stream",
     "text": [
      "TRAINING BATCH:\t(  130 /   625)\tLOSS:\t0.077\r"
     ]
    },
    {
     "name": "stdout",
     "output_type": "stream",
     "text": [
      "TRAINING BATCH:\t(  140 /   625)\tLOSS:\t0.152\r"
     ]
    },
    {
     "name": "stdout",
     "output_type": "stream",
     "text": [
      "TRAINING BATCH:\t(  150 /   625)\tLOSS:\t0.099\r"
     ]
    },
    {
     "name": "stdout",
     "output_type": "stream",
     "text": [
      "TRAINING BATCH:\t(  160 /   625)\tLOSS:\t0.251\r"
     ]
    },
    {
     "name": "stdout",
     "output_type": "stream",
     "text": [
      "TRAINING BATCH:\t(  170 /   625)\tLOSS:\t0.070\r"
     ]
    },
    {
     "name": "stdout",
     "output_type": "stream",
     "text": [
      "TRAINING BATCH:\t(  180 /   625)\tLOSS:\t0.146\r"
     ]
    },
    {
     "name": "stdout",
     "output_type": "stream",
     "text": [
      "TRAINING BATCH:\t(  190 /   625)\tLOSS:\t0.118\r"
     ]
    },
    {
     "name": "stdout",
     "output_type": "stream",
     "text": [
      "TRAINING BATCH:\t(  200 /   625)\tLOSS:\t0.120\r"
     ]
    },
    {
     "name": "stdout",
     "output_type": "stream",
     "text": [
      "TRAINING BATCH:\t(  210 /   625)\tLOSS:\t0.104\r"
     ]
    },
    {
     "name": "stdout",
     "output_type": "stream",
     "text": [
      "TRAINING BATCH:\t(  220 /   625)\tLOSS:\t0.112\r"
     ]
    },
    {
     "name": "stdout",
     "output_type": "stream",
     "text": [
      "TRAINING BATCH:\t(  230 /   625)\tLOSS:\t0.083\r"
     ]
    },
    {
     "name": "stdout",
     "output_type": "stream",
     "text": [
      "TRAINING BATCH:\t(  240 /   625)\tLOSS:\t0.172\r"
     ]
    },
    {
     "name": "stdout",
     "output_type": "stream",
     "text": [
      "TRAINING BATCH:\t(  250 /   625)\tLOSS:\t0.217\r"
     ]
    },
    {
     "name": "stdout",
     "output_type": "stream",
     "text": [
      "TRAINING BATCH:\t(  260 /   625)\tLOSS:\t0.166\r"
     ]
    },
    {
     "name": "stdout",
     "output_type": "stream",
     "text": [
      "TRAINING BATCH:\t(  270 /   625)\tLOSS:\t0.134\r"
     ]
    },
    {
     "name": "stdout",
     "output_type": "stream",
     "text": [
      "TRAINING BATCH:\t(  280 /   625)\tLOSS:\t0.127\r"
     ]
    },
    {
     "name": "stdout",
     "output_type": "stream",
     "text": [
      "TRAINING BATCH:\t(  290 /   625)\tLOSS:\t0.124\r"
     ]
    },
    {
     "name": "stdout",
     "output_type": "stream",
     "text": [
      "TRAINING BATCH:\t(  300 /   625)\tLOSS:\t0.102\r"
     ]
    },
    {
     "name": "stdout",
     "output_type": "stream",
     "text": [
      "TRAINING BATCH:\t(  310 /   625)\tLOSS:\t0.105\r"
     ]
    },
    {
     "name": "stdout",
     "output_type": "stream",
     "text": [
      "TRAINING BATCH:\t(  320 /   625)\tLOSS:\t0.074\r"
     ]
    },
    {
     "name": "stdout",
     "output_type": "stream",
     "text": [
      "TRAINING BATCH:\t(  330 /   625)\tLOSS:\t0.286\r"
     ]
    },
    {
     "name": "stdout",
     "output_type": "stream",
     "text": [
      "TRAINING BATCH:\t(  340 /   625)\tLOSS:\t0.082\r"
     ]
    },
    {
     "name": "stdout",
     "output_type": "stream",
     "text": [
      "TRAINING BATCH:\t(  350 /   625)\tLOSS:\t0.156\r"
     ]
    },
    {
     "name": "stdout",
     "output_type": "stream",
     "text": [
      "TRAINING BATCH:\t(  360 /   625)\tLOSS:\t0.073\r"
     ]
    },
    {
     "name": "stdout",
     "output_type": "stream",
     "text": [
      "TRAINING BATCH:\t(  370 /   625)\tLOSS:\t0.038\r"
     ]
    },
    {
     "name": "stdout",
     "output_type": "stream",
     "text": [
      "TRAINING BATCH:\t(  380 /   625)\tLOSS:\t0.045\r"
     ]
    },
    {
     "name": "stdout",
     "output_type": "stream",
     "text": [
      "TRAINING BATCH:\t(  390 /   625)\tLOSS:\t0.044\r"
     ]
    },
    {
     "name": "stdout",
     "output_type": "stream",
     "text": [
      "TRAINING BATCH:\t(  400 /   625)\tLOSS:\t0.080\r"
     ]
    },
    {
     "name": "stdout",
     "output_type": "stream",
     "text": [
      "TRAINING BATCH:\t(  410 /   625)\tLOSS:\t0.045\r"
     ]
    },
    {
     "name": "stdout",
     "output_type": "stream",
     "text": [
      "TRAINING BATCH:\t(  420 /   625)\tLOSS:\t0.046\r"
     ]
    },
    {
     "name": "stdout",
     "output_type": "stream",
     "text": [
      "TRAINING BATCH:\t(  430 /   625)\tLOSS:\t0.075\r"
     ]
    },
    {
     "name": "stdout",
     "output_type": "stream",
     "text": [
      "TRAINING BATCH:\t(  440 /   625)\tLOSS:\t0.054\r"
     ]
    },
    {
     "name": "stdout",
     "output_type": "stream",
     "text": [
      "TRAINING BATCH:\t(  450 /   625)\tLOSS:\t0.099\r"
     ]
    },
    {
     "name": "stdout",
     "output_type": "stream",
     "text": [
      "TRAINING BATCH:\t(  460 /   625)\tLOSS:\t0.087\r"
     ]
    },
    {
     "name": "stdout",
     "output_type": "stream",
     "text": [
      "TRAINING BATCH:\t(  470 /   625)\tLOSS:\t0.144\r"
     ]
    },
    {
     "name": "stdout",
     "output_type": "stream",
     "text": [
      "TRAINING BATCH:\t(  480 /   625)\tLOSS:\t0.267\r"
     ]
    },
    {
     "name": "stdout",
     "output_type": "stream",
     "text": [
      "TRAINING BATCH:\t(  490 /   625)\tLOSS:\t0.101\r"
     ]
    },
    {
     "name": "stdout",
     "output_type": "stream",
     "text": [
      "TRAINING BATCH:\t(  500 /   625)\tLOSS:\t0.273\r"
     ]
    },
    {
     "name": "stdout",
     "output_type": "stream",
     "text": [
      "TRAINING BATCH:\t(  510 /   625)\tLOSS:\t0.028\r"
     ]
    },
    {
     "name": "stdout",
     "output_type": "stream",
     "text": [
      "TRAINING BATCH:\t(  520 /   625)\tLOSS:\t0.119\r"
     ]
    },
    {
     "name": "stdout",
     "output_type": "stream",
     "text": [
      "TRAINING BATCH:\t(  530 /   625)\tLOSS:\t0.148\r"
     ]
    },
    {
     "name": "stdout",
     "output_type": "stream",
     "text": [
      "TRAINING BATCH:\t(  540 /   625)\tLOSS:\t0.080\r"
     ]
    },
    {
     "name": "stdout",
     "output_type": "stream",
     "text": [
      "TRAINING BATCH:\t(  550 /   625)\tLOSS:\t0.064\r"
     ]
    },
    {
     "name": "stdout",
     "output_type": "stream",
     "text": [
      "TRAINING BATCH:\t(  560 /   625)\tLOSS:\t0.135\r"
     ]
    },
    {
     "name": "stdout",
     "output_type": "stream",
     "text": [
      "TRAINING BATCH:\t(  570 /   625)\tLOSS:\t0.148\r"
     ]
    },
    {
     "name": "stdout",
     "output_type": "stream",
     "text": [
      "TRAINING BATCH:\t(  580 /   625)\tLOSS:\t0.040\r"
     ]
    },
    {
     "name": "stdout",
     "output_type": "stream",
     "text": [
      "TRAINING BATCH:\t(  590 /   625)\tLOSS:\t0.240\r"
     ]
    },
    {
     "name": "stdout",
     "output_type": "stream",
     "text": [
      "TRAINING BATCH:\t(  600 /   625)\tLOSS:\t0.119\r"
     ]
    },
    {
     "name": "stdout",
     "output_type": "stream",
     "text": [
      "TRAINING BATCH:\t(  610 /   625)\tLOSS:\t0.216\r"
     ]
    },
    {
     "name": "stdout",
     "output_type": "stream",
     "text": [
      "TRAINING BATCH:\t(  620 /   625)\tLOSS:\t0.068\r"
     ]
    },
    {
     "name": "stdout",
     "output_type": "stream",
     "text": [
      "TEST BATCH:\t(    0 /   157)\tLOSS:\t0.476\r"
     ]
    },
    {
     "name": "stdout",
     "output_type": "stream",
     "text": [
      "TEST BATCH:\t(   50 /   157)\tLOSS:\t0.280\r"
     ]
    },
    {
     "name": "stdout",
     "output_type": "stream",
     "text": [
      "TEST BATCH:\t(  100 /   157)\tLOSS:\t0.295\r"
     ]
    },
    {
     "name": "stdout",
     "output_type": "stream",
     "text": [
      "TEST BATCH:\t(  150 /   157)\tLOSS:\t0.116\r",
      "EPOCH:\t   20\tTRAIN LOSS:\t0.003\tTRAIN ACCURACY:\t0.915\tTEST LOSS:\t0.008\tTEST ACCURACY:\t0.839\n"
     ]
    }
   ],
   "source": [
    "epochs = 20\n",
    "batch_size = 32\n",
    "\n",
    "model = (\n",
    "    AdditionModel().to(device)\n",
    ")\n",
    "\n",
    "optimizer = (\n",
    "    Adam(model.parameters())\n",
    ")\n",
    "\n",
    "loss = (\n",
    "    nn.CrossEntropyLoss()\n",
    ")\n",
    "\n",
    "metrics = train(model, loss, optimizer, train_dataset, test_dataset, epochs, batch_size)"
   ]
  },
  {
   "cell_type": "code",
   "execution_count": 22,
   "id": "65c1973d",
   "metadata": {
    "execution": {
     "iopub.execute_input": "2024-06-11T12:15:41.004288Z",
     "iopub.status.busy": "2024-06-11T12:15:41.003856Z",
     "iopub.status.idle": "2024-06-11T12:15:41.406984Z",
     "shell.execute_reply": "2024-06-11T12:15:41.406423Z"
    },
    "pycharm": {
     "name": "#%%\n"
    }
   },
   "outputs": [
    {
     "data": {
      "application/pdf": "[encoded data removed]",
      "image/png": "[encoded data removed]",
      "text/plain": [
       "<Figure size 700x200 with 2 Axes>"
      ]
     },
     "metadata": {},
     "output_type": "display_data"
    }
   ],
   "source": [
    "get_training_progress_plot(\n",
    "    metrics['train_loss'],\n",
    "    metrics['train_acc'],\n",
    "    metrics['test_loss'],\n",
    "    metrics['test_acc'],\n",
    ")"
   ]
  },
  {
   "cell_type": "markdown",
   "id": "d2eabb8f",
   "metadata": {
    "pycharm": {
     "name": "#%% md\n"
    }
   },
   "source": [
    "It is amazing what we achieved with such a small (for the standard of deep learning) model and dataset! Lets indulge in some more examples on the test set!"
   ]
  },
  {
   "cell_type": "code",
   "execution_count": 23,
   "id": "0d13378d",
   "metadata": {
    "execution": {
     "iopub.execute_input": "2024-06-11T12:15:41.409296Z",
     "iopub.status.busy": "2024-06-11T12:15:41.409109Z",
     "iopub.status.idle": "2024-06-11T12:15:41.683556Z",
     "shell.execute_reply": "2024-06-11T12:15:41.682856Z"
    }
   },
   "outputs": [
    {
     "name": "stdout",
     "output_type": "stream",
     "text": [
      "Prediction: 509\n",
      "Label: 509\n"
     ]
    },
    {
     "data": {
      "application/pdf": "[encoded data removed]",
      "image/png": "[encoded data removed]",
      "text/plain": [
       "<Figure size 640x480 with 1 Axes>"
      ]
     },
     "metadata": {},
     "output_type": "display_data"
    },
    {
     "name": "stdout",
     "output_type": "stream",
     "text": [
      "Prediction: 386\n",
      "Label: 391\n"
     ]
    },
    {
     "data": {
      "application/pdf": "[encoded data removed]",
      "image/png": "[encoded data removed]",
      "text/plain": [
       "<Figure size 640x480 with 1 Axes>"
      ]
     },
     "metadata": {},
     "output_type": "display_data"
    }
   ],
   "source": [
    "\n",
    "# look at some predictions\n",
    "def plot_prediction(model: nn.Module, dataset: Dataset, idx: int) -> None:\n",
    "    sample = dataset[idx]\n",
    "    num_1 = sample['num_1'].unsqueeze(0).to(device)\n",
    "    num_2 = sample['num_2'].unsqueeze(0).to(device)\n",
    "    y = sample['label'].unsqueeze(0).to(device)\n",
    "\n",
    "    y_hat = model(num_1, num_2)\n",
    "    y_hat = torch.argmax(y_hat, dim=1).squeeze(0)\n",
    "\n",
    "    print('Prediction:', ''.join([str(int(i)) for i in y_hat]))\n",
    "    print('Label:', ''.join([str(int(i)) for i in y.squeeze(0)]))\n",
    "\n",
    "    plot_digits(num_1.squeeze(0), num_2.squeeze(0))\n",
    "\n",
    "plot_prediction(model, test_dataset, int(torch.randint(len(test_dataset), (1, ))))\n",
    "plot_prediction(model, test_dataset, int(torch.randint(len(test_dataset), (1, ))))"
   ]
  }
 ],
 "metadata": {
  "kernelspec": {
   "display_name": "Python 3",
   "language": "python",
   "name": "python3"
  },
  "language_info": {
   "codemirror_mode": {
    "name": "ipython",
    "version": 3
   },
   "file_extension": ".py",
   "mimetype": "text/x-python",
   "name": "python",
   "nbconvert_exporter": "python",
   "pygments_lexer": "ipython3",
   "version": "3.10.13"
  }
 },
 "nbformat": 4,
 "nbformat_minor": 5
}
